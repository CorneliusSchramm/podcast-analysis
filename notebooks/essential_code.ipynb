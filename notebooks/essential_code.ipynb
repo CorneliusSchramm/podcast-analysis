{
 "cells": [
  {
   "cell_type": "markdown",
   "metadata": {},
   "source": [
    "# AI Podcast Analysis\n",
    "\n",
    "This notebook analyzes 1.7MB of personal podcast listening data exported from Snipd, an app that generates AI notes for interesting podcast moments. The analysis explores:\n",
    "\n",
    "Listening patterns and metadata (timestamps, show distribution, snip metrics)\n",
    "Content themes using NLP (keyword extraction, topic modeling, similarity mapping)\n",
    "Political sentiment analysis using LLMs\n",
    "\n",
    "Data format: Markdown files containing episode metadata, AI-generated notes, and timestamped snippets with transcripts.\n",
    "Purpose: Understand podcast consumption habits, content preferences, and potential influence on political perspectives."
   ]
  },
  {
   "cell_type": "markdown",
   "metadata": {},
   "source": [
    "## 1) Data Ingestion and Parsing\n",
    "\n",
    "1. **File Parsing**: Read the `.md` file line by line or segment by segment, and extract:\n",
    "   - Episode title, show name, date\n",
    "   - Link(s)\n",
    "   - Timestamps for snips\n",
    "   - The actual text transcripts/notes\n",
    "2. **Data Structure**: Store everything in a structured format like a Pandas DataFrame:\n",
    "   ```python\n",
    "   df = pd.DataFrame(columns=[\n",
    "       'show_name', 'episode_title', 'snip_text', 'snip_timestamp', \n",
    "       'episode_date', 'other_metadata'\n",
    "   ])\n",
    "   ```"
   ]
  },
  {
   "cell_type": "code",
   "execution_count": 1,
   "metadata": {},
   "outputs": [],
   "source": [
    "\n",
    "file_path = '../data/snipd_export_2024-12-24_14-55.md'"
   ]
  },
  {
   "cell_type": "code",
   "execution_count": 2,
   "metadata": {},
   "outputs": [],
   "source": [
    "from pydantic import BaseModel\n",
    "from typing import Optional, List\n",
    "\n",
    "class Snip(BaseModel):\n",
    "    \"\"\"Represents a single snippet from a podcast episode.\"\"\"\n",
    "    timestamp: Optional[str] = None\n",
    "    snip_title: Optional[str] = None\n",
    "    play_link: Optional[str] = None\n",
    "    duration: Optional[str] = None\n",
    "    time_range: Optional[str] = None\n",
    "    summary: Optional[str] = None\n",
    "    transcript_cleaned_of_md_and_html_tags: Optional[str] = None\n",
    "    transcript_raw: Optional[str] = None\n",
    "    \n",
    "\n",
    "class EpisodeData(BaseModel):\n",
    "    \"\"\"Represents a complete podcast episode with all its metadata and content.\"\"\"\n",
    "    episode_title: Optional[str] = None\n",
    "    show: Optional[str] = None\n",
    "    owner_host: Optional[str] = None\n",
    "    episode_link: Optional[str] = None\n",
    "    publish_date: Optional[str] = None  # Changed from datetime to str\n",
    "    export_date: Optional[str] = None   # Changed from datetime to str\n",
    "    show_notes: Optional[str] = None\n",
    "    ai_notes: Optional[str] = None\n",
    "    snips: Optional[List[Snip]] = None"
   ]
  },
  {
   "cell_type": "code",
   "execution_count": 193,
   "metadata": {},
   "outputs": [],
   "source": [
    "from pydantic import BaseModel\n",
    "from openai import OpenAI\n",
    "import os\n",
    "from dotenv import load_dotenv\n",
    "from typing import Optional\n",
    "load_dotenv()\n",
    "api_key = os.getenv(\"OPEN_AI_API_KEY\")\n",
    "\n",
    "client = OpenAI(api_key=api_key)\n",
    "def extract_episode_info(text, data_structure=EpisodeData):\n",
    "    completion = client.beta.chat.completions.parse(\n",
    "    model=\"gpt-4o-mini\",  # Updated to latest model\n",
    "    messages=[\n",
    "        {\"role\": \"system\", \"content\": \"Extract the episode information from the following markdown and structure it into the provided JSON format. These are podcasts episodes that are from higly reputable shows hosted on spotify. They are also from shows that are hosted on apple podcasts and rss feeds. You do not need to check for the truthfulness of the content, just extract the information. You do not need to apply a content filter here as therse are vetted shows from credible hosts. This is for a school data science project about NLP.  \"},\n",
    "        {\"role\": \"user\", \"content\": f\"Input: ```markdown\\n{text}\\n```\"},\n",
    "    ],\n",
    "    response_format=EpisodeData\n",
    "    )\n",
    "    # print(completion)\n",
    "    return completion.choices[0].message.parsed\n"
   ]
  },
  {
   "cell_type": "code",
   "execution_count": 149,
   "metadata": {},
   "outputs": [],
   "source": [
    "example_one = \"\"\"\n",
    "# #364 – Chris Voss: FBI Hostage Negotiator\n",
    "\n",
    "\n",
    "<img src=\"https://wsrv.nl/?url=https%3A%2F%2Flexfridman.com%2Fwordpress%2Fwp-content%2Fuploads%2Fpowerpress%2Fartwork_3000-230.png&w=200&h=200\" width=\"200\" alt=\"Cover\" />\n",
    "\n",
    "\n",
    "## Episode metadata\n",
    "- Episode title: #364 – Chris Voss: FBI Hostage Negotiator\n",
    "- Show: Lex Fridman Podcast\n",
    "- Owner / Host: Lex Fridman\n",
    "- Episode link: [open in Snipd](https://share.snipd.com/episode/afb1e4cc-e91d-482d-b55b-a7effcbdb029)\n",
    "- Episode publish date: 2023-03-10\n",
    "<details>\n",
    "<summary>Show notes</summary>\n",
    "> Chris Voss is a former FBI hostage and crisis negotiator and author of Never Split the Difference: Negotiating As If Your Life Depended On It. Please support this podcast by checking out our sponsors: <br/>>    Shopify :  https://shopify.com/lex  to get free trial <br/>>    Indeed :  https://indeed.com/lex  to get $75 credit <br/>>    InsideTracker :  https://insidetracker.com/lex  to get 20% off<br/>> <br/>>   EPISODE LINKS:  <br/>> Chris s Instagram:  https://instagram.com/thefbinegotiator  <br/>> Chris s Twitter:  https://twitter.com/fbinegotiator  <br/>> Chris s Website:  https://blackswanltd.com  <br/>> Chris s Masterclass:  https://masterclass.com/classes/chris-voss-teaches-the-art-of-negotiation  <br/>> Never Split the Difference (book):  https://amzn.to/3J5scNC <br/>> <br/>>   PODCAST INFO:  <br/>> Podcast website:  https://lexfridman.com/podcast  <br/>> Apple Podcasts:  https://apple.co/2lwqZIr  <br/>> Spotify:  https://spoti.fi/2nEwCF8  <br/>> RSS:  https://lexfridman.com/feed/podcast/  <br/>> YouTube Full Episodes:  https://youtube.com/lexfridman  <br/>> YouTube Clips:  https://youtube.com/lexclips <br/>> <br/>>   SUPPORT   Check out the sponsors above, it s the best way to support this podcast <br/>>   Support on Patreon:  https://www.patreon.com/lexfridman  <br/>>   Twitter:  https://twitter.com/lexfridman  <br/>>   Instagram:  https://www.instagram.com/lexfridman  <br/>>   LinkedIn:  https://www.linkedin.com/in/lexfridman  <br/>>   Facebook:  https://www.facebook.com/lexfridman  <br/>>   Medium:  https://medium.com/@lexfridman <br/>> <br/>>   OUTLINE:  <br/>> Here s the timestamps for the episode. On some podcast players you should be able to click the timestamp to jump to that time. <br/>> (00:00)   Introduction <br/>> (06:31)   Negotiation <br/>> (12:21)   Reason vs Emotion <br/>> (27:17)   How to listen <br/>> (36:06)   Negotiation with terrorists <br/>> (38:14)   Brittney Griner <br/>> (39:53)   Putin and Zelenskyy <br/>> (47:13)   Donald Trump <br/>> (54:23)   When to walk away <br/>> (58:37)   Israel and Palestine <br/>> (1:06:16)   Al-Qaeda <br/>> (1:11:46)   Three voices of negotiation <br/>> (1:20:11)   Strategic umbrage <br/>> (1:23:18)   Mirroring <br/>> (1:26:29)   Labeling <br/>> (1:33:55)   Exhaustion <br/>> (1:36:09)   The word  fair  <br/>> (1:39:06)   Closing the deal <br/>> (1:41:03)   Manipulation and lying <br/>> (1:42:58)   Conversation vs Negotiation <br/>> (1:54:17)   The 7-38-55 Rule <br/>> (1:58:16)   Chatbots <br/>> (2:07:39)   War <br/>> (2:09:10)   Advice for young people\n",
    "</details>\n",
    "\n",
    "- Show notes link: [open website](https://lexfridman.com/chris-voss/?utm_source=rss&utm_medium=rss&utm_campaign=chris-voss)\n",
    "- Export date: 2024-12-24T14:55\n",
    "\n",
    "\n",
    "## Snips\n",
    "\n",
    "\n",
    "### [16:42] Articulate the Perspective of Others\n",
    "\n",
    "\n",
    "[🎧 Play snip - 3min️ (15:25 - 18:52)](https://share.snipd.com/snip/5a706cfd-8c9f-4dd9-ac73-a0880c9fdc1a)\n",
    "\n",
    "\n",
    "\n",
    "\n",
    "### ✨ Summary\n",
    "Empathy is the ability to understand and articulate the perspective of others without necessarily agreeing or liking them. It requires straight understanding of where they're coming from, without the need for agreement. Empathy can be a powerful tool as it allows you to connect with and understand anyone, even if you do not sympathize or agree with them. It is important to show that you understand someone's perspective, regardless of your own views, in order to have a meaningful conversation and potentially bridge gaps of understanding.\n",
    "\n",
    "\n",
    "---\n",
    "\n",
    "\n",
    "\n",
    "\n",
    "#### 📚 Transcript\n",
    "<details>\n",
    "<summary>Click to expand</summary>\n",
    "<blockquote><b>Speaker 1</b><br/><br/>So Bob's definition of empathy said not agreeing or even liking the other side. Don't even got to like them. Don't got to agree with them. Just straight understanding where they're coming from and articulating it, which requires no agreement whatsoever. That becomes a very powerful tool, like ridiculously powerful. And if sympathy or compassion or agreement are not included, you can be empathic with anybody. I was thinking about this when I was getting ready to sit down and talk to you because you use the word empathy a lot. Putin. I can be empathic with Putin. Easy. It's easy. I don't agree with where he's coming from. I don't agree with his methodology. Only on the Ukraine-Russian war, I saw an article that was very dismissive of Russia that said, Russia's basically Europe's gas station. And I thought, all right. So if you're in charge and the way you feed your people is via an industry that the entire world is trying to quit, the whole world is trying to get out of fossil fuels. But that's how you feed your people. If you don't come up with an answer to that, the people that you've taken a responsibility for are going to die alone in the cold and the dark. They're going to freeze and they're going to die. All right. So that doesn't mean that I agree with where he's coming from or any of his means. But where is, how does this guy see things? It is a distorted word. You're never going to get through to somebody like that in a conversation unless you can demonstrate to them you understand where they're coming from, whether or not you agree. In the early 90s, last century, I'm a last century guy. I'm an old dude. Refer to myself as a last century guy, also a deeply flawed human. So terrorist case, New York City, civilian court, terrorism does not have to be tried in military tribunals. That's a very bad idea. It was always bad. The FBI was always against it. I'm getting ready, we have Muslims testifying in open court against the legitimate Muslim cleric, the guy that was on trial had the credentials as a legitimate Muslim cleric. The people that were testifying against him didn't think he should be advocating murder of innocent people. We'd sit down with them, Arab Muslims, Egyptians, mostly. And I would say to them, you believe that there's been a succession of American governments for the last 200 years that are anti-Islamic and they shake their head and go, yeah. And that'd be the start of the conversation. That's empathy. You believe this to be the case. I never said I agreed. I never said I disagreed. But I showed them that I wasn't afraid of their beliefs. I was so unafraid of them that I was willing to just state them and not disagree or contradict because I would say that and then I'd shut up and let them react. And I never had to say, here's why you're wrong. I never gave my point of view. Every single one of them are testified. That's empathy, not agreeing where the other side is coming from.</blockquote>\n",
    "</details>\n",
    "\n",
    "\n",
    "\n",
    "---\n",
    "\n",
    "\"\"\"\n",
    "\n",
    "example_two = \"\"\"\n",
    "\n",
    "# New SEC Chair, Bitcoin, xAI Supercomputer, UnitedHealth CEO murder, with Gavin Baker & Joe Lonsdale\n",
    "\n",
    "\n",
    "<img src=\"https://wsrv.nl/?url=https%3A%2F%2Fstatic.libsyn.com%2Fp%2Fassets%2Fa%2F9%2Fc%2Fb%2Fa9cb4d1dadb1ea21%2Fall-in_logo.png&w=200&h=200\" width=\"200\" alt=\"Cover\" />\n",
    "\n",
    "\n",
    "## Episode metadata\n",
    "- Episode title: New SEC Chair, Bitcoin, xAI Supercomputer, UnitedHealth CEO murder, with Gavin Baker & Joe Lonsdale\n",
    "- Show: All-In with Chamath, Jason, Sacks & Friedberg\n",
    "- Owner / Host: All-In Podcast, LLC\n",
    "- Episode link: [open in Snipd](https://share.snipd.com/episode/fa104938-398c-4e37-92e7-a0d75de82124)\n",
    "- Episode publish date: 2024-12-07\n",
    "<details>\n",
    "<summary>Show notes</summary>\n",
    "> (0:00) Bestie announcement!<br/>>   (2:53) Gavin Baker and Joe Lonsdale join the show<br/>>   (4:14) State of the Trump Bump: Debt focus, Deregulation, America's lucky position<br/>>   (20:08) Trump nominates Paul Atkins as SEC Chair, replacing Gary Gensler: What this means for crypto and other markets<br/>>   (41:07) Thoughts on Michael Saylor's Bitcoin play, state of defense tech, and the US/China AI competition<br/>>   (49:25) xAI's massive GPU cluster, expanding to 1M GPUs, how Grok 3 will test AI scaling laws, and what's next<br/>>   (1:08:28) UnitedHealth CEO murdered, reactions<br/>>   Get virtual tickets for The All-In Holiday Spectacular!:<br/>>    https://allin.com/events <br/>>   Follow the besties:<br/>>    https://x.com/chamath <br/>>    https://x.com/Jason <br/>>    https://x.com/DavidSacks <br/>>    https://x.com/friedberg <br/>>   Follow Gavin Baker:<br/>>    https://x.com/GavinSBaker <br/>>   Follow Joe Lonsdale:<br/>>    https://x.com/JTLonsdale <br/>>   Follow on X:<br/>>    https://x.com/theallinpod <br/>>   Follow on Instagram:<br/>>    https://www.instagram.com/theallinpod <br/>>   Follow on TikTok:<br/>>    https://www.tiktok.com/@theallinpod <br/>>   Follow on LinkedIn:<br/>>    https://www.linkedin.com/company/allinpod <br/>>   Intro Music Credit:<br/>>    https://rb.gy/tppkzl <br/>>    https://x.com/yung_spielburg <br/>>   Intro Video Credit:<br/>>    https://x.com/TheZachEffect <br/>>   Referenced in the show:<br/>>     https://truthsocial.com/@realDonaldTrump/posts/113603133222686186 <br/>>     https://www.nytimes.com/2024/12/04/business/trump-sec-paul-atkins.html <br/>>    https://x.com/davidmarcus/status/1862654506774810641 <br/>>     https://www.bloomberg.com/news/articles/2024-12-05/convertible-bond-arbs-are-making-microstrategy-wall-street-s-hottest-trade <br/>>    https://www.ft.com/content/9c0516cf-dd12-4665-aa22-712de854fe2f <br/>>     https://www.nytimes.com/live/2024/12/04/nyregion/brian-thompson-uhc-ceo-shot <br/>>     https://abcnews.go.com/US/man-shot-chest-midtown-manhattan-masked-gunman-large/story?id=116446382&cid=social_twitter_abcn <br/>>     https://nypost.com/2024/12/06/media/taylor-lorenz-defends-unitedhealthcare-ceo-brian-thompson-jokes\n",
    "</details>\n",
    "\n",
    "- Show notes link: [open website](https://sites.libsyn.com/254861/new-sec-chair-bitcoin-xai-supercomputer-unitedhealth-ceo-murder-with-gavin-baker-joe-lonsdale)\n",
    "- Export date: 2024-12-24T14:55\n",
    "\n",
    "\n",
    "## Snips\n",
    "\n",
    "\n",
    "### [06:16] America's Untapped Potential\n",
    "\n",
    "\n",
    "[🎧 Play snip - 2min️ (04:43 - 06:15)](https://share.snipd.com/snip/fa8a6dd3-4d74-4136-b86f-c117301884e5)\n",
    "\n",
    "\n",
    "**America's Untapped Potential**\n",
    "\n",
    "- America, like Microsoft under Ballmer, has immense potential but has been mismanaged.\n",
    "- By simply stopping \"really, really dumb things\" like excessive regulations, America can unlock significant growth.\n",
    "- This is analogous to Satya Nadella's turnaround of Microsoft, which involved ceasing counterproductive practices.\n",
    "- A key area for improvement is reducing excessive regulations that hinder development.\n",
    "-  This has led to too many administrators and unnecessary complexities, exemplified by the inefficient allocation of funds for rural broadband and EV chargers under the Harris administration.\n",
    "\n",
    "\n",
    "#### 📚 Transcript\n",
    "<details>\n",
    "<summary>Click to expand</summary>\n",
    "<blockquote><b>Gavin Baker</b><br/><br/>So if they execute unstated plans and there are some of the world's greatest execution machines involved, Elon generally does what he says he's going to do. Like, this is going to be awesome for America, for markets, for the world. And the analogy I keep coming back to is Satya Nadella taking over as CEO of Microsoft. Microsoft was a monopoly, incredibly advantaged. It had just been horribly mismanaged for years. All he had to do to start winning was stop doing really, really dumb things. And that's an incredible place to be. You know, America, like we're the greatest country. You know, we've got, you know, oceans on two sides, peaceful neighbors, incredible natural resources, you know, completely, you know, can produce our own food and energy, like in Many ways, most privileged country on earth. But sometimes with great privilege comes great, like stupidity. And California, to me, would be a leading example of that. Most, in many ways, most privileged state in America, and has printed it away with bad policies. And I do think one thing that everyone of all political stripes agrees on is there are too many regulations that result in far too many administrators, far too much complexity, and an Inability to build things in America. So, you know, it was used very effectively,</blockquote>\n",
    "</details>\n",
    "\n",
    "\n",
    "\n",
    "---\n",
    "\n",
    "\n",
    "### [17:16] Nuclear Energy Advocacy\n",
    "\n",
    "\n",
    "[🎧 Play snip - 21sec️ (16:59 - 17:20)](https://share.snipd.com/snip/94767878-507a-46ae-a506-a51672e4c441)\n",
    "\n",
    "\n",
    "**Nuclear Energy Advocacy**\n",
    "\n",
    "- Advocate for increased nuclear energy development.\n",
    "- It's the most environmentally friendly energy source, even better than solar.\n",
    "- While solar will likely be widely adopted in the future, it's decades away and not as cheap as nuclear.\n",
    "- Nuclear energy offers an immediate and sustainable energy solution.\n",
    "\n",
    "\n",
    "#### 📚 Transcript\n",
    "<details>\n",
    "<summary>Click to expand</summary>\n",
    "<blockquote><b>Gavin Baker</b><br/><br/>Nuclear is arguably just as environmentally friendly, done right and carefully. And it is here now. And so I just, yeah, I mean, that's, yeah.</blockquote><br/><blockquote><b>Jason Calacanis</b><br/><br/>It is unbelievable to watch, not exactly Moore's law, but this precipitous drop in the cost of just solar panels.</blockquote>\n",
    "</details>\n",
    "\n",
    "\n",
    "\n",
    "---\n",
    "\n",
    "\n",
    "### [26:34] US Capital Markets\n",
    "\n",
    "\n",
    "[🎧 Play snip - 1min️ (25:57 - 26:33)](https://share.snipd.com/snip/cb75233a-0d33-4b39-a92f-bd6ac5191f76)\n",
    "\n",
    "\n",
    "**US Capital Markets**\n",
    "\n",
    "- The U.S. has the best capital markets in the world, offering the most trusted equity and fixed income markets globally.\n",
    "- These markets are vital for America's success, fostering trust and confidence among investors and businesses.\n",
    "- Maintaining fairness and preventing insider information are crucial for preserving the integrity and strength of these markets.\n",
    "\n",
    "\n",
    "#### 📚 Transcript\n",
    "<details>\n",
    "<summary>Click to expand</summary>\n",
    "<blockquote><b>Gavin Baker</b><br/><br/>It is important to remember, we have the best capital markets in the world. You know, the U.S. Equity and fixed income markets are the most trusted places on earth. And we can always make them better. But just it is very, you know, you want to be very vigilant about keeping them fair and keeping out things like inside information, which makes people feel comfortable doing business Here, having investors have confidence in a company's financial statements. And those financial markets are one reason America is such a great country.</blockquote><br/><blockquote><b>Jason Calacanis</b><br/><br/>And Gavin, to put this in context, this</blockquote>\n",
    "</details>\n",
    "\n",
    "\n",
    "\n",
    "---\n",
    "\n",
    "\n",
    "### [29:47] Bitcoin vs. USD\n",
    "\n",
    "\n",
    "[🎧 Play snip - 1min️ (28:41 - 29:47)](https://share.snipd.com/snip/65852c59-5d4b-4a83-a8ad-87fa209d3cd2)\n",
    "\n",
    "\n",
    "**Bitcoin vs. USD**\n",
    "\n",
    "- David Friedberg agrees with Gavin Baker that Bitcoin is a potential threat to the US dollar.\n",
    "- He points out the irony of Trump supporting Bitcoin while simultaneously opposing other alternative currencies.\n",
    "- Friedberg believes that eventually, the US government will recognize Bitcoin as a threat.\n",
    "\n",
    "\n",
    "#### 📚 Transcript\n",
    "<details>\n",
    "<summary>Click to expand</summary>\n",
    "<blockquote><b>David Friedberg</b><br/><br/>Well, I definitely concur with Gavin. I think Bitcoin fundamentally is meant to be, supposed to be, ultimately will become a real threat to the US dollar. And it's kind of ironic that Trump had this declaration this week that he's going to put 100% tariff on all these BRICS nations that try to participate in an alternative currency to the US dollar, the greatest currency on earth, when he literally turns around and then says, we're going to support Bitcoin. It felt like the biggest irony of the week to me, because I do think Bitcoin is the big threat to the US dollar. And I do think that at some point, whether it's this administration or the next, they're going to wake up to that fact. And maybe the Bitcoin does, you know, the network state concept does emerge. And that's where we end up. But I do think we want to have and are going to have a strong federal government in the United States for quite some time, that's going to play an important role in everyone's lives here. And I don't know if you can really just say, let the dollar, you know, be supplanted by Bitcoin. Bitcoin seems to be a more of a safe haven asset and that seems to be the trade that it's store it should be kind of sort of value and alternative it's just going to take over gold what do you Think you think um the</blockquote>\n",
    "</details>\n",
    "\n",
    "\n",
    "\n",
    "---\n",
    "\n",
    "\n",
    "### [38:25] Regulating Private Investments\n",
    "\n",
    "\n",
    "[🎧 Play snip - 15sec️ (38:17 - 38:33)](https://share.snipd.com/snip/106ab833-c51e-43f2-926b-5d365e913153)\n",
    "\n",
    "\n",
    "**Regulating Private Investments**\n",
    "\n",
    "- If private companies were made available to ordinary investors like public companies, regulatory changes would be required.\n",
    "- Private companies currently adhere to lower disclosure and reporting standards compared to their public counterparts.\n",
    "- Public companies are subject to stricter standards for a reason, concerning financial transparency and data integrity.\n",
    "\n",
    "\n",
    "#### 📚 Transcript\n",
    "<details>\n",
    "<summary>Click to expand</summary>\n",
    "<blockquote><b>Gavin Baker</b><br/><br/>Generally pretty centrist in most things. So I agree with what a lot of David said. And I do think if you were to allow ordinary Americans to buy private companies that are held to a lower standard of disclosure and reporting the public companies, like somebody would Have to change.</blockquote>\n",
    "</details>\n",
    "\n",
    "\n",
    "\n",
    "---\n",
    "\n",
    "\n",
    "### [48:23] Restricting China's Access to Advanced Compute\n",
    "\n",
    "\n",
    "[🎧 Play snip - 1min️ (47:07 - 48:22)](https://share.snipd.com/snip/a243b418-31d6-40bc-befe-3fb96ab14062)\n",
    "\n",
    "\n",
    "**Restricting China's Access to Advanced Compute**\n",
    "\n",
    "- The US is restricting China's access to advanced computing and networking technology, like a \"sophons\" from the sci-fi novel *The Three-Body Problem*.\n",
    "- Despite this, China remains close behind the US in AI development.\n",
    "- New chips from NVIDIA, AMD, and Broadcom in the coming year might make it impossible for China to keep up.\n",
    "\n",
    "\n",
    "#### 📚 Transcript\n",
    "<details>\n",
    "<summary>Click to expand</summary>\n",
    "<blockquote><b>David Friedberg</b><br/><br/>How do you look at that market? You agree? I agree with everything Joe said.</blockquote><br/><blockquote><b>Gavin Baker</b><br/><br/>The only thing I would just add on China, what we are doing by restricting their access to advanced compute and advanced networking, if you have read or watched the three-body problem, America is unfolding a so-fond over China. Yeah.</blockquote><br/><blockquote><b>Joe Lonsdale</b><br/><br/>That's a great way to say it.</blockquote><br/><blockquote><b>Gavin Baker</b><br/><br/>I have been really impressed with, um, some of the Chinese models that have come out. And I think the risk to this strategy is necessity is the mother of invention. And despite this handicap, they're managing to stay just behind the leading edge of America, which is amazing. But, you know, NVIDIA's Blackwell chip comes out next year. You're going to have new chips from AMD, new A6 from Broadcom. And I think at that point, it is not going to be possible for them to keep up anymore.</blockquote><br/><blockquote><b>Jason Calacanis</b><br/><br/>So that's actually positive regulation and great, in your mind, foreign policy.</blockquote><br/><blockquote><b>Gavin Baker</b><br/><br/>It is very aggressive foreign policy yeah clearly you know that could have lots of unforeseen consequences yeah what do you think about the the rare earth trade restrictions</blockquote>\n",
    "</details>\n",
    "\n",
    "\n",
    "\n",
    "---\n",
    "\n",
    "\n",
    "### [58:42] New Scaling Laws in AI\n",
    "\n",
    "\n",
    "[🎧 Play snip - 1min️ (57:44 - 58:45)](https://share.snipd.com/snip/b768f335-42ae-403a-bc63-84c2916e55ac)\n",
    "\n",
    "\n",
    "**New Scaling Laws in AI**\n",
    "\n",
    "- Grok 3's large GPU cluster will provide data on whether scaling laws are breaking down or holding as models grow.\n",
    "- There's a new scaling axis called 'test time compute' or 'inference scaling'.\n",
    "-  Giving models more time to think about complex questions dramatically improves performance, similar to how humans tackle problems.\n",
    "\n",
    "\n",
    "#### 📚 Transcript\n",
    "<details>\n",
    "<summary>Click to expand</summary>\n",
    "<blockquote><b>Gavin Baker</b><br/><br/>The other question you raise, David, is very interesting. And by the way, we should note there is now a new axis of scaling. Some people call it test time compute. Some people call it inference scaling. And basically the way this works, you just think of these models as human. The more you speak to one of these models, the way you'd speak to your 17-year going off to take the SAT, the better it will do for you. As a human, if I ask you, David, what's two plus two, four flashes in your mind right away. If I ask you to, you know, unify a grand unified theory of physics that accounts for both quantum mechanics and relativistic physics, you will think for a lot longer. We have been, yeah, nobody knows. We have been giving these models the same amount of time to think no matter how complicated the question was. What we've now learned is if you let them think for longer about more complex questions, test time compute, you can dramatically improve their IQ. So we're just at the beginning of this new scaling law. But I think the question you raise on ROI is very good.</blockquote>\n",
    "</details>\n",
    "\n",
    "\n",
    "\n",
    "---\n",
    "\n",
    "\n",
    "### [01:16:04] Health Insurance Business\n",
    "\n",
    "\n",
    "[🎧 Play snip - 1min️ (01:15:22 - 01:16:11)](https://share.snipd.com/snip/a305583d-f49e-429e-8ec8-3652a91e6a55)\n",
    "\n",
    "\n",
    "**Health Insurance Business**\n",
    "\n",
    "- United Healthcare's medical loss ratio is ~85%, meaning they pay out 85 cents of every dollar collected in insurance premiums for claims.\n",
    "- Health insurance, alongside auto insurance, is one of the most challenging businesses due to constant payouts and difficulty managing losses.\n",
    "- There's a delicate balance between keeping health insurance affordable and managing the cost of medical claims. If all claims were paid, premiums would rise, making insurance unaffordable.\n",
    "\n",
    "\n",
    "#### 📚 Transcript\n",
    "<details>\n",
    "<summary>Click to expand</summary>\n",
    "<blockquote><b>David Friedberg</b><br/><br/>Yeah. United Healthcare's medical loss ratio is about 85%. So 85 cents of it. So 85 cents of every dollar they collect an insurance premium, they're paying out in claims. If you guys want to look at what the most egregious insurance industry in the world is, it's title insurance. And I'll give you the list of the rest. Travel insurance is pretty bad. They pay out like nothing. You were in the insurance business for a bit there. Yeah. Like, I mean, you know, health insurance is the hardest, one of the hardest besides auto insurance businesses to be in. You're paying out constantly. And there is a very difficult kind of process of managing losses, because the number of claims that comes in, it's very easy to suddenly pay everything out. And then your premium goes up, and then people can't afford the health insurance. So you're striking this balance of making health insurance affordable against the cost of medical claims.</blockquote>\n",
    "</details>\n",
    "\n",
    "\n",
    "\n",
    "---\n",
    "\n",
    "\n",
    "\n",
    "\"\"\""
   ]
  },
  {
   "cell_type": "code",
   "execution_count": null,
   "metadata": {},
   "outputs": [],
   "source": [
    "example_one_parsed = extract_episode_info(example_one)\n",
    "example_one_parsed.model_dump()"
   ]
  },
  {
   "cell_type": "code",
   "execution_count": null,
   "metadata": {},
   "outputs": [],
   "source": [
    "import pandas as pd\n",
    "responses = []\n",
    "rejected_episodes = []\n",
    "\n",
    "with open(file_path, 'r', encoding='utf-8') as f:\n",
    "    content = f.read()\n",
    "\n",
    "# Split content into episodes based on top-level headings (# )\n",
    "episode_blocks = re.split(r'(?m)^# ', content)\n",
    "episode_blocks = [block.strip() for block in episode_blocks if block.strip()]\n",
    "\n",
    "all_snips = []\n",
    "\n",
    "for idx, block in enumerate(episode_blocks):\n",
    "    print(f\"Processing Episode {idx + 1}\")\n",
    "    block = '# ' + block\n",
    "    print(block[:50])\n",
    "    try:\n",
    "        extracted = extract_episode_info(block)\n",
    "        responses.append(extracted)\n",
    "    except Exception as e:\n",
    "        print(e)\n",
    "        rejected_episodes.append({\"id\": idx, \"episode_md\": block})\n",
    "        continue\n",
    "\n",
    "# make dataframe from responses and save to csv\n",
    "df = pd.DataFrame(responses)\n",
    "df.to_csv('responses_parsed_final.csv', index=False)\n",
    "df_rejected = pd.DataFrame(rejected_episodes)\n",
    "df_rejected.to_csv('rejected_episodes.csv', index=False)\n"
   ]
  },
  {
   "cell_type": "code",
   "execution_count": null,
   "metadata": {},
   "outputs": [],
   "source": [
    "results_destructured = []\n",
    "\n",
    "for response in responses:\n",
    "    for snip in response.snips:\n",
    "        snip_data = snip.model_dump()\n",
    "        # episode data excluding snips\n",
    "        episode_data = response.model_dump()\n",
    "        episode_data.pop('snips', None)\n",
    "        # merge episode data and snip data\n",
    "        merged_data = {**episode_data, **snip_data}\n",
    "        results_destructured.append(merged_data)\n",
    "\n",
    "results_parsed_df = pd.DataFrame(results_destructured)\n",
    "results_parsed_df.to_csv('results_parsed_data.csv', index=False)\n",
    "print(\"Unique episodes in results_parsed_df:\")\n",
    "print(len(results_parsed_df['episode_title'].unique()))\n",
    "results_parsed_df\n"
   ]
  },
  {
   "cell_type": "markdown",
   "metadata": {},
   "source": [
    "### Reprocess rejected episodes"
   ]
  },
  {
   "cell_type": "code",
   "execution_count": null,
   "metadata": {},
   "outputs": [],
   "source": [
    "print(\"Attempting to reprocess rejected episodes...\")\n",
    "reprocessed_responses = []\n",
    "\n",
    "for rejected in rejected_episodes:\n",
    "    try:\n",
    "        print(f\"Reprocessing episode {rejected['id']}\")\n",
    "        extracted = extract_episode_info(rejected['episode_md'])\n",
    "        reprocessed_responses.append(extracted)\n",
    "        rejected_episodes.remove(rejected)\n",
    "    except Exception as e:\n",
    "        print(f\"Failed to process episode {rejected['id']}: {str(e)}\")\n",
    "        continue\n",
    "\n",
    "if reprocessed_responses:\n",
    "    print(f\"Successfully reprocessed {len(reprocessed_responses)} episodes\")\n",
    "    # Add reprocessed responses to main results\n",
    "    responses.extend(reprocessed_responses)\n",
    "else:\n",
    "    print(\"No episodes were successfully reprocessed\")\n"
   ]
  },
  {
   "cell_type": "code",
   "execution_count": null,
   "metadata": {},
   "outputs": [],
   "source": [
    "rejected_episodes"
   ]
  },
  {
   "cell_type": "code",
   "execution_count": null,
   "metadata": {},
   "outputs": [],
   "source": [
    "reprocessed_results_destructured = []\n",
    "\n",
    "for response in reprocessed_responses:\n",
    "    for snip in response.snips:\n",
    "        snip_data = snip.model_dump()\n",
    "        # episode data excluding snips\n",
    "        episode_data = response.model_dump()\n",
    "        episode_data.pop('snips', None)\n",
    "        # merge episode data and snip data\n",
    "        merged_data = {**episode_data, **snip_data}\n",
    "        reprocessed_results_destructured.append(merged_data)\n",
    "\n",
    "reprocessed_results_parsed_df = pd.DataFrame(reprocessed_results_destructured)\n",
    "reprocessed_results_parsed_df.to_csv('reprocessed_results_parsed_data5.csv', index=False)\n",
    "print(\"Unique episodes in reprocessed_results_parsed_df:\")\n",
    "print(len(reprocessed_results_parsed_df['episode_title'].unique()))\n",
    "reprocessed_results_parsed_df"
   ]
  },
  {
   "cell_type": "code",
   "execution_count": 208,
   "metadata": {},
   "outputs": [],
   "source": [
    "# load reprocessed_results_parsed_data5.csv\n",
    "results_parsed_df = pd.read_csv('results_parsed_data.csv')\n",
    "reprocessed_results_parsed_df = pd.read_csv('reprocessed_results_parsed_data.csv')\n",
    "reprocessed_results_parsed_df2 = pd.read_csv('reprocessed_results_parsed_data2.csv')\n",
    "reprocessed_results_parsed_df3 = pd.read_csv('reprocessed_results_parsed_data3.csv')\n",
    "reprocessed_results_parsed_df4 = pd.read_csv('reprocessed_results_parsed_data4.csv')\n",
    "reprocessed_results_parsed_df5 = pd.read_csv('reprocessed_results_parsed_data5.csv')\n",
    "\n",
    "# join them together verticalls\n",
    "full_df = pd.concat([results_parsed_df, reprocessed_results_parsed_df, reprocessed_results_parsed_df2, reprocessed_results_parsed_df3, reprocessed_results_parsed_df4, reprocessed_results_parsed_df5], ignore_index=True)\n",
    "full_df.describe()\n",
    "full_df.to_csv('full_df.csv', index=False)"
   ]
  },
  {
   "cell_type": "markdown",
   "metadata": {},
   "source": [
    "## Analysis"
   ]
  },
  {
   "cell_type": "markdown",
   "metadata": {},
   "source": [
    "### 2.1) Metadata Analysis\n",
    "\n",
    "1. **Time Series**:\n",
    "   - Convert episode or snip creation date to a date/time type (e.g., `datetime`).\n",
    "   - Generate a time series of how many episodes or snips were created each day/week/month.\n",
    "   - Plot using libraries like `matplotlib`, `seaborn`, or `plotly`.\n",
    "\n",
    "2. **Listen Count by Show**:\n",
    "   - Count how many snips or episodes come from each show or host.\n",
    "   - E.g., a bar chart of snips per show, or a cumulative time series of snips per show.\n",
    "\n",
    "3. **Snip Frequency / Length**:\n",
    "   - Calculate average length of snips per show.\n",
    "   - Find the most frequently “snipped” show or episode.\n",
    "\n",
    "4. **Most Active Periods**:\n",
    "   - Identify days/times you tend to create the most snips (day of week, hour of day).\n",
    "   - Visualize this as a heatmap to show listening habits over time.\n",
    "\n",
    "---"
   ]
  },
  {
   "cell_type": "code",
   "execution_count": 1,
   "metadata": {},
   "outputs": [
    {
     "data": {
      "text/html": [
       "<div>\n",
       "<style scoped>\n",
       "    .dataframe tbody tr th:only-of-type {\n",
       "        vertical-align: middle;\n",
       "    }\n",
       "\n",
       "    .dataframe tbody tr th {\n",
       "        vertical-align: top;\n",
       "    }\n",
       "\n",
       "    .dataframe thead th {\n",
       "        text-align: right;\n",
       "    }\n",
       "</style>\n",
       "<table border=\"1\" class=\"dataframe\">\n",
       "  <thead>\n",
       "    <tr style=\"text-align: right;\">\n",
       "      <th></th>\n",
       "      <th>episode_title</th>\n",
       "      <th>show</th>\n",
       "      <th>owner_host</th>\n",
       "      <th>episode_link</th>\n",
       "      <th>publish_date</th>\n",
       "      <th>export_date</th>\n",
       "      <th>show_notes</th>\n",
       "      <th>ai_notes</th>\n",
       "      <th>timestamp</th>\n",
       "      <th>snip_title</th>\n",
       "      <th>play_link</th>\n",
       "      <th>duration</th>\n",
       "      <th>time_range</th>\n",
       "      <th>summary</th>\n",
       "      <th>transcript_cleaned_of_md_and_html_tags</th>\n",
       "      <th>transcript_raw</th>\n",
       "    </tr>\n",
       "  </thead>\n",
       "  <tbody>\n",
       "    <tr>\n",
       "      <th>0</th>\n",
       "      <td>#393 - Is History Repeating Itself?</td>\n",
       "      <td>Making Sense with Sam Harris - Subscriber Content</td>\n",
       "      <td>Making Sense with Sam Harris</td>\n",
       "      <td>https://share.snipd.com/episode/ba69c343-dda0-...</td>\n",
       "      <td>2024-11-26</td>\n",
       "      <td>2024-12-24T14:55</td>\n",
       "      <td>Sam Harris speaks with Simon Sebag Montefiore ...</td>\n",
       "      <td>NaN</td>\n",
       "      <td>08:00</td>\n",
       "      <td>Exceptional Period of Stability Ending</td>\n",
       "      <td>https://share.snipd.com/snip/fe100138-429c-4fe...</td>\n",
       "      <td>2min</td>\n",
       "      <td>05:46 - 08:05</td>\n",
       "      <td>The post-WWII era until recent times was excep...</td>\n",
       "      <td>Simon Seabag Montefiore: But I think the thing...</td>\n",
       "      <td>&lt;blockquote&gt;&lt;b&gt;Simon Seabag Montefiore&lt;/b&gt;&lt;br/...</td>\n",
       "    </tr>\n",
       "    <tr>\n",
       "      <th>1</th>\n",
       "      <td>#393 - Is History Repeating Itself?</td>\n",
       "      <td>Making Sense with Sam Harris - Subscriber Content</td>\n",
       "      <td>Making Sense with Sam Harris</td>\n",
       "      <td>https://share.snipd.com/episode/ba69c343-dda0-...</td>\n",
       "      <td>2024-11-26</td>\n",
       "      <td>2024-12-24T14:55</td>\n",
       "      <td>Sam Harris speaks with Simon Sebag Montefiore ...</td>\n",
       "      <td>NaN</td>\n",
       "      <td>41:21</td>\n",
       "      <td>Origin of Antisemitism</td>\n",
       "      <td>https://share.snipd.com/snip/54a1ffb1-1231-462...</td>\n",
       "      <td>2min</td>\n",
       "      <td>39:50 - 41:21</td>\n",
       "      <td>Antisemitism emerged when Christianity became ...</td>\n",
       "      <td>Simon Seabag Montefiore: But you're right, fro...</td>\n",
       "      <td>&lt;blockquote&gt;&lt;b&gt;Simon Seabag Montefiore&lt;/b&gt;&lt;br/...</td>\n",
       "    </tr>\n",
       "    <tr>\n",
       "      <th>2</th>\n",
       "      <td>#393 - Is History Repeating Itself?</td>\n",
       "      <td>Making Sense with Sam Harris - Subscriber Content</td>\n",
       "      <td>Making Sense with Sam Harris</td>\n",
       "      <td>https://share.snipd.com/episode/ba69c343-dda0-...</td>\n",
       "      <td>2024-11-26</td>\n",
       "      <td>2024-12-24T14:55</td>\n",
       "      <td>Sam Harris speaks with Simon Sebag Montefiore ...</td>\n",
       "      <td>NaN</td>\n",
       "      <td>44:50</td>\n",
       "      <td>Jewish Otherness</td>\n",
       "      <td>https://share.snipd.com/snip/2b917d9c-dd6f-459...</td>\n",
       "      <td>1min</td>\n",
       "      <td>43:34 - 44:48</td>\n",
       "      <td>This distinct identity defined Jews, making th...</td>\n",
       "      <td>Simon Seabag Montefiore: And I think it was be...</td>\n",
       "      <td>&lt;blockquote&gt;&lt;b&gt;Simon Seabag Montefiore&lt;/b&gt;&lt;br/...</td>\n",
       "    </tr>\n",
       "    <tr>\n",
       "      <th>3</th>\n",
       "      <td>#393 - Is History Repeating Itself?</td>\n",
       "      <td>Making Sense with Sam Harris - Subscriber Content</td>\n",
       "      <td>Making Sense with Sam Harris</td>\n",
       "      <td>https://share.snipd.com/episode/ba69c343-dda0-...</td>\n",
       "      <td>2024-11-26</td>\n",
       "      <td>2024-12-24T14:55</td>\n",
       "      <td>Sam Harris speaks with Simon Sebag Montefiore ...</td>\n",
       "      <td>NaN</td>\n",
       "      <td>49:42</td>\n",
       "      <td>Crusader Massacre in Jerusalem</td>\n",
       "      <td>https://share.snipd.com/snip/319c8640-bdaf-436...</td>\n",
       "      <td>1min</td>\n",
       "      <td>48:17 - 49:42</td>\n",
       "      <td>During the First Crusade, a small group of cru...</td>\n",
       "      <td>Simon Seabag Montefiore: And then they fought ...</td>\n",
       "      <td>&lt;blockquote&gt;&lt;b&gt;Simon Seabag Montefiore&lt;/b&gt;&lt;br/...</td>\n",
       "    </tr>\n",
       "    <tr>\n",
       "      <th>4</th>\n",
       "      <td>#393 - Is History Repeating Itself?</td>\n",
       "      <td>Making Sense with Sam Harris - Subscriber Content</td>\n",
       "      <td>Making Sense with Sam Harris</td>\n",
       "      <td>https://share.snipd.com/episode/ba69c343-dda0-...</td>\n",
       "      <td>2024-11-26</td>\n",
       "      <td>2024-12-24T14:55</td>\n",
       "      <td>Sam Harris speaks with Simon Sebag Montefiore ...</td>\n",
       "      <td>NaN</td>\n",
       "      <td>51:15</td>\n",
       "      <td>The Crusades and October 7th</td>\n",
       "      <td>https://share.snipd.com/snip/30d1e5d0-b9ae-44d...</td>\n",
       "      <td>1min</td>\n",
       "      <td>49:47 - 51:14</td>\n",
       "      <td>The brutality of the 1099 Crusader massacre ec...</td>\n",
       "      <td>Simon Seabag Montefiore: So a chilling moment....</td>\n",
       "      <td>&lt;blockquote&gt;&lt;b&gt;Simon Seabag Montefiore&lt;/b&gt;&lt;br/...</td>\n",
       "    </tr>\n",
       "    <tr>\n",
       "      <th>...</th>\n",
       "      <td>...</td>\n",
       "      <td>...</td>\n",
       "      <td>...</td>\n",
       "      <td>...</td>\n",
       "      <td>...</td>\n",
       "      <td>...</td>\n",
       "      <td>...</td>\n",
       "      <td>...</td>\n",
       "      <td>...</td>\n",
       "      <td>...</td>\n",
       "      <td>...</td>\n",
       "      <td>...</td>\n",
       "      <td>...</td>\n",
       "      <td>...</td>\n",
       "      <td>...</td>\n",
       "      <td>...</td>\n",
       "    </tr>\n",
       "    <tr>\n",
       "      <th>487</th>\n",
       "      <td>The Book That Predicted the 2024 Election</td>\n",
       "      <td>The Ezra Klein Show</td>\n",
       "      <td>New York Times Opinion</td>\n",
       "      <td>https://share.snipd.com/episode/3328d3cc-b280-...</td>\n",
       "      <td>2024-11-09</td>\n",
       "      <td>2024-12-24T14:55</td>\n",
       "      <td>To understand the 2024 election results, it he...</td>\n",
       "      <td>Unlock full access to New York Times podcasts ...</td>\n",
       "      <td>[27:30]</td>\n",
       "      <td>Social Pressure &amp; Political Shifts</td>\n",
       "      <td>https://share.snipd.com/snip/a228795b-eb0b-49e...</td>\n",
       "      <td>2min (25:20 - 27:30)</td>\n",
       "      <td>25:20 - 27:30</td>\n",
       "      <td>Shifts in group identity can be influenced by ...</td>\n",
       "      <td>Sort of rhetoric? There is not necessarily a s...</td>\n",
       "      <td>Sort of rhetoric? There is not necessarily a s...</td>\n",
       "    </tr>\n",
       "    <tr>\n",
       "      <th>488</th>\n",
       "      <td>The Book That Predicted the 2024 Election</td>\n",
       "      <td>The Ezra Klein Show</td>\n",
       "      <td>New York Times Opinion</td>\n",
       "      <td>https://share.snipd.com/episode/3328d3cc-b280-...</td>\n",
       "      <td>2024-11-09</td>\n",
       "      <td>2024-12-24T14:55</td>\n",
       "      <td>To understand the 2024 election results, it he...</td>\n",
       "      <td>Unlock full access to New York Times podcasts ...</td>\n",
       "      <td>[32:25]</td>\n",
       "      <td>Cosmopolitan Trap</td>\n",
       "      <td>https://share.snipd.com/snip/31daac1c-65f8-472...</td>\n",
       "      <td>1min (31:25 - 32:25)</td>\n",
       "      <td>31:25 - 32:25</td>\n",
       "      <td>Democrats fell into the 'cosmopolitan trap' by...</td>\n",
       "      <td>And I think that was the version of the cosmop...</td>\n",
       "      <td>And I think that was the version of the cosmop...</td>\n",
       "    </tr>\n",
       "    <tr>\n",
       "      <th>489</th>\n",
       "      <td>The Book That Predicted the 2024 Election</td>\n",
       "      <td>The Ezra Klein Show</td>\n",
       "      <td>New York Times Opinion</td>\n",
       "      <td>https://share.snipd.com/episode/3328d3cc-b280-...</td>\n",
       "      <td>2024-11-09</td>\n",
       "      <td>2024-12-24T14:55</td>\n",
       "      <td>To understand the 2024 election results, it he...</td>\n",
       "      <td>Unlock full access to New York Times podcasts ...</td>\n",
       "      <td>[51:45]</td>\n",
       "      <td>Democrats' Misguided Outreach</td>\n",
       "      <td>https://share.snipd.com/snip/0838cf8c-5cc1-479...</td>\n",
       "      <td>2min (50:10 - 51:44)</td>\n",
       "      <td>50:10 - 51:44</td>\n",
       "      <td>The Democrats' focus on endorsements from figu...</td>\n",
       "      <td>It just speaks to a lack of accountability in ...</td>\n",
       "      <td>It just speaks to a lack of accountability in ...</td>\n",
       "    </tr>\n",
       "    <tr>\n",
       "      <th>490</th>\n",
       "      <td>The State of AI with Marc &amp; Ben</td>\n",
       "      <td>a16z Podcast</td>\n",
       "      <td>a16z</td>\n",
       "      <td>https://share.snipd.com/episode/8ef10934-c249-...</td>\n",
       "      <td>2024-06-14</td>\n",
       "      <td>2024-12-24T14:55</td>\n",
       "      <td>In this latest episode on the State of AI, Ben...</td>\n",
       "      <td>NaN</td>\n",
       "      <td>[11:45]</td>\n",
       "      <td>Crafting Prompts for AI to Access Super Genius...</td>\n",
       "      <td>https://share.snipd.com/snip/e09a163c-3182-434...</td>\n",
       "      <td>2min</td>\n",
       "      <td>(10:12 - 11:48)</td>\n",
       "      <td>Training AI models on average internet data re...</td>\n",
       "      <td>NaN</td>\n",
       "      <td>&lt;details&gt;\\n&lt;summary&gt;Click to expand&lt;/summary&gt;\\...</td>\n",
       "    </tr>\n",
       "    <tr>\n",
       "      <th>491</th>\n",
       "      <td>The State of AI with Marc &amp; Ben</td>\n",
       "      <td>a16z Podcast</td>\n",
       "      <td>a16z</td>\n",
       "      <td>https://share.snipd.com/episode/8ef10934-c249-...</td>\n",
       "      <td>2024-06-14</td>\n",
       "      <td>2024-12-24T14:55</td>\n",
       "      <td>In this latest episode on the State of AI, Ben...</td>\n",
       "      <td>NaN</td>\n",
       "      <td>[31:40]</td>\n",
       "      <td>The Jevons Paradox in Software Development</td>\n",
       "      <td>https://share.snipd.com/snip/0238c7eb-dfa2-4a2...</td>\n",
       "      <td>1min</td>\n",
       "      <td>(30:24 - 31:42)</td>\n",
       "      <td>The Jevons Paradox is evident in software deve...</td>\n",
       "      <td>NaN</td>\n",
       "      <td>&lt;details&gt;\\n&lt;summary&gt;Click to expand&lt;/summary&gt;\\...</td>\n",
       "    </tr>\n",
       "  </tbody>\n",
       "</table>\n",
       "<p>492 rows × 16 columns</p>\n",
       "</div>"
      ],
      "text/plain": [
       "                                 episode_title  \\\n",
       "0          #393 - Is History Repeating Itself?   \n",
       "1          #393 - Is History Repeating Itself?   \n",
       "2          #393 - Is History Repeating Itself?   \n",
       "3          #393 - Is History Repeating Itself?   \n",
       "4          #393 - Is History Repeating Itself?   \n",
       "..                                         ...   \n",
       "487  The Book That Predicted the 2024 Election   \n",
       "488  The Book That Predicted the 2024 Election   \n",
       "489  The Book That Predicted the 2024 Election   \n",
       "490            The State of AI with Marc & Ben   \n",
       "491            The State of AI with Marc & Ben   \n",
       "\n",
       "                                                  show  \\\n",
       "0    Making Sense with Sam Harris - Subscriber Content   \n",
       "1    Making Sense with Sam Harris - Subscriber Content   \n",
       "2    Making Sense with Sam Harris - Subscriber Content   \n",
       "3    Making Sense with Sam Harris - Subscriber Content   \n",
       "4    Making Sense with Sam Harris - Subscriber Content   \n",
       "..                                                 ...   \n",
       "487                                The Ezra Klein Show   \n",
       "488                                The Ezra Klein Show   \n",
       "489                                The Ezra Klein Show   \n",
       "490                                       a16z Podcast   \n",
       "491                                       a16z Podcast   \n",
       "\n",
       "                       owner_host  \\\n",
       "0    Making Sense with Sam Harris   \n",
       "1    Making Sense with Sam Harris   \n",
       "2    Making Sense with Sam Harris   \n",
       "3    Making Sense with Sam Harris   \n",
       "4    Making Sense with Sam Harris   \n",
       "..                            ...   \n",
       "487        New York Times Opinion   \n",
       "488        New York Times Opinion   \n",
       "489        New York Times Opinion   \n",
       "490                          a16z   \n",
       "491                          a16z   \n",
       "\n",
       "                                          episode_link publish_date  \\\n",
       "0    https://share.snipd.com/episode/ba69c343-dda0-...   2024-11-26   \n",
       "1    https://share.snipd.com/episode/ba69c343-dda0-...   2024-11-26   \n",
       "2    https://share.snipd.com/episode/ba69c343-dda0-...   2024-11-26   \n",
       "3    https://share.snipd.com/episode/ba69c343-dda0-...   2024-11-26   \n",
       "4    https://share.snipd.com/episode/ba69c343-dda0-...   2024-11-26   \n",
       "..                                                 ...          ...   \n",
       "487  https://share.snipd.com/episode/3328d3cc-b280-...   2024-11-09   \n",
       "488  https://share.snipd.com/episode/3328d3cc-b280-...   2024-11-09   \n",
       "489  https://share.snipd.com/episode/3328d3cc-b280-...   2024-11-09   \n",
       "490  https://share.snipd.com/episode/8ef10934-c249-...   2024-06-14   \n",
       "491  https://share.snipd.com/episode/8ef10934-c249-...   2024-06-14   \n",
       "\n",
       "          export_date                                         show_notes  \\\n",
       "0    2024-12-24T14:55  Sam Harris speaks with Simon Sebag Montefiore ...   \n",
       "1    2024-12-24T14:55  Sam Harris speaks with Simon Sebag Montefiore ...   \n",
       "2    2024-12-24T14:55  Sam Harris speaks with Simon Sebag Montefiore ...   \n",
       "3    2024-12-24T14:55  Sam Harris speaks with Simon Sebag Montefiore ...   \n",
       "4    2024-12-24T14:55  Sam Harris speaks with Simon Sebag Montefiore ...   \n",
       "..                ...                                                ...   \n",
       "487  2024-12-24T14:55  To understand the 2024 election results, it he...   \n",
       "488  2024-12-24T14:55  To understand the 2024 election results, it he...   \n",
       "489  2024-12-24T14:55  To understand the 2024 election results, it he...   \n",
       "490  2024-12-24T14:55  In this latest episode on the State of AI, Ben...   \n",
       "491  2024-12-24T14:55  In this latest episode on the State of AI, Ben...   \n",
       "\n",
       "                                              ai_notes timestamp  \\\n",
       "0                                                  NaN     08:00   \n",
       "1                                                  NaN     41:21   \n",
       "2                                                  NaN     44:50   \n",
       "3                                                  NaN     49:42   \n",
       "4                                                  NaN     51:15   \n",
       "..                                                 ...       ...   \n",
       "487  Unlock full access to New York Times podcasts ...   [27:30]   \n",
       "488  Unlock full access to New York Times podcasts ...   [32:25]   \n",
       "489  Unlock full access to New York Times podcasts ...   [51:45]   \n",
       "490                                                NaN   [11:45]   \n",
       "491                                                NaN   [31:40]   \n",
       "\n",
       "                                            snip_title  \\\n",
       "0               Exceptional Period of Stability Ending   \n",
       "1                               Origin of Antisemitism   \n",
       "2                                     Jewish Otherness   \n",
       "3                       Crusader Massacre in Jerusalem   \n",
       "4                         The Crusades and October 7th   \n",
       "..                                                 ...   \n",
       "487                 Social Pressure & Political Shifts   \n",
       "488                                  Cosmopolitan Trap   \n",
       "489                      Democrats' Misguided Outreach   \n",
       "490  Crafting Prompts for AI to Access Super Genius...   \n",
       "491         The Jevons Paradox in Software Development   \n",
       "\n",
       "                                             play_link              duration  \\\n",
       "0    https://share.snipd.com/snip/fe100138-429c-4fe...                  2min   \n",
       "1    https://share.snipd.com/snip/54a1ffb1-1231-462...                  2min   \n",
       "2    https://share.snipd.com/snip/2b917d9c-dd6f-459...                  1min   \n",
       "3    https://share.snipd.com/snip/319c8640-bdaf-436...                  1min   \n",
       "4    https://share.snipd.com/snip/30d1e5d0-b9ae-44d...                  1min   \n",
       "..                                                 ...                   ...   \n",
       "487  https://share.snipd.com/snip/a228795b-eb0b-49e...  2min (25:20 - 27:30)   \n",
       "488  https://share.snipd.com/snip/31daac1c-65f8-472...  1min (31:25 - 32:25)   \n",
       "489  https://share.snipd.com/snip/0838cf8c-5cc1-479...  2min (50:10 - 51:44)   \n",
       "490  https://share.snipd.com/snip/e09a163c-3182-434...                  2min   \n",
       "491  https://share.snipd.com/snip/0238c7eb-dfa2-4a2...                  1min   \n",
       "\n",
       "          time_range                                            summary  \\\n",
       "0      05:46 - 08:05  The post-WWII era until recent times was excep...   \n",
       "1      39:50 - 41:21  Antisemitism emerged when Christianity became ...   \n",
       "2      43:34 - 44:48  This distinct identity defined Jews, making th...   \n",
       "3      48:17 - 49:42  During the First Crusade, a small group of cru...   \n",
       "4      49:47 - 51:14  The brutality of the 1099 Crusader massacre ec...   \n",
       "..               ...                                                ...   \n",
       "487    25:20 - 27:30  Shifts in group identity can be influenced by ...   \n",
       "488    31:25 - 32:25  Democrats fell into the 'cosmopolitan trap' by...   \n",
       "489    50:10 - 51:44  The Democrats' focus on endorsements from figu...   \n",
       "490  (10:12 - 11:48)  Training AI models on average internet data re...   \n",
       "491  (30:24 - 31:42)  The Jevons Paradox is evident in software deve...   \n",
       "\n",
       "                transcript_cleaned_of_md_and_html_tags  \\\n",
       "0    Simon Seabag Montefiore: But I think the thing...   \n",
       "1    Simon Seabag Montefiore: But you're right, fro...   \n",
       "2    Simon Seabag Montefiore: And I think it was be...   \n",
       "3    Simon Seabag Montefiore: And then they fought ...   \n",
       "4    Simon Seabag Montefiore: So a chilling moment....   \n",
       "..                                                 ...   \n",
       "487  Sort of rhetoric? There is not necessarily a s...   \n",
       "488  And I think that was the version of the cosmop...   \n",
       "489  It just speaks to a lack of accountability in ...   \n",
       "490                                                NaN   \n",
       "491                                                NaN   \n",
       "\n",
       "                                        transcript_raw  \n",
       "0    <blockquote><b>Simon Seabag Montefiore</b><br/...  \n",
       "1    <blockquote><b>Simon Seabag Montefiore</b><br/...  \n",
       "2    <blockquote><b>Simon Seabag Montefiore</b><br/...  \n",
       "3    <blockquote><b>Simon Seabag Montefiore</b><br/...  \n",
       "4    <blockquote><b>Simon Seabag Montefiore</b><br/...  \n",
       "..                                                 ...  \n",
       "487  Sort of rhetoric? There is not necessarily a s...  \n",
       "488  And I think that was the version of the cosmop...  \n",
       "489  It just speaks to a lack of accountability in ...  \n",
       "490  <details>\\n<summary>Click to expand</summary>\\...  \n",
       "491  <details>\\n<summary>Click to expand</summary>\\...  \n",
       "\n",
       "[492 rows x 16 columns]"
      ]
     },
     "execution_count": 1,
     "metadata": {},
     "output_type": "execute_result"
    }
   ],
   "source": [
    "# load full_df.csv\n",
    "import pandas as pd\n",
    "import plotly.express as px\n",
    "# load full_df.csv\n",
    "df = pd.read_csv('../data/full_df.csv')\n",
    "df"
   ]
  },
  {
   "cell_type": "code",
   "execution_count": 3,
   "metadata": {},
   "outputs": [
    {
     "name": "stdout",
     "output_type": "stream",
     "text": [
      "\n",
      "Summary Statistics:\n",
      "Total number of shows: 29\n",
      "Total number of episodes: 192\n",
      "Total number of snips: 492\n",
      "Average snips per episode: 2.56\n",
      "Date range: 2018-03-26 to 2024-12-20\n"
     ]
    }
   ],
   "source": [
    "\n",
    "# 8. Summary Statistics\n",
    "print(\"\\nSummary Statistics:\")\n",
    "print(f\"Total number of shows: {df['show'].nunique()}\")\n",
    "print(f\"Total number of episodes: {df['episode_title'].nunique()}\")\n",
    "print(f\"Total number of snips: {len(df)}\")\n",
    "print(f\"Average snips per episode: {len(df)/df['episode_title'].nunique():.2f}\")\n",
    "print(f\"Date range: {df['publish_date'].min()} to {df['publish_date'].max()}\")"
   ]
  },
  {
   "cell_type": "code",
   "execution_count": 4,
   "metadata": {},
   "outputs": [
    {
     "data": {
      "application/vnd.plotly.v1+json": {
       "config": {
        "plotlyServerURL": "https://plot.ly"
       },
       "data": [
        {
         "alignmentgroup": "True",
         "hovertemplate": "variable=0<br>Average Snips per Episode=%{x}<br>Show Name=%{y}<extra></extra>",
         "legendgroup": "0",
         "marker": {
          "color": "#636efa",
          "pattern": {
           "shape": ""
          }
         },
         "name": "0",
         "offsetgroup": "0",
         "orientation": "h",
         "showlegend": false,
         "textposition": "auto",
         "type": "bar",
         "x": [
          1,
          1,
          1,
          1,
          1.25,
          1.3333333333333333,
          1.368421052631579,
          1.5,
          1.7142857142857142,
          1.7727272727272727,
          2,
          2,
          2,
          2,
          2.3333333333333335,
          2.3333333333333335,
          2.5,
          2.5,
          2.6666666666666665,
          2.7714285714285714,
          2.8461538461538463,
          3,
          3,
          4,
          4.2,
          4.3,
          4.5,
          4.615384615384615,
          4.666666666666667
         ],
         "xaxis": "x",
         "y": [
          "Discover Daily by Perplexity",
          "Economist Podcasts",
          "Great Mysteries of Physics",
          "Making Sense with Sam Harris",
          "The Daily",
          "The Peter Zeihan Podcast Series",
          "The Pioneer Briefing",
          "Prof G Markets",
          "Pivot",
          "The Prof G Pod with Scott Galloway",
          "The Langley Files: CIA's Podcast",
          "The Joe Rogan Experience",
          "The Ben & Marc Show",
          "Within Reason",
          "The Ezra Klein Show",
          "a16z Podcast",
          "Search Engine",
          "Lightcone Podcast",
          "Truth with Vivek Ramaswamy",
          "All-In with Chamath, Jason, Sacks & Friedberg",
          "Making Sense with Sam Harris - Subscriber Content",
          "Honestly with Bari Weiss",
          "NZZ Akzent",
          "Acquired",
          "Freakonomics Radio",
          "Dwarkesh Podcast",
          "The Knowledge Project with Shane Parrish",
          "Lex Fridman Podcast",
          "Huberman Lab"
         ],
         "yaxis": "y"
        }
       ],
       "layout": {
        "barmode": "relative",
        "height": 600,
        "legend": {
         "title": {
          "text": "variable"
         },
         "tracegroupgap": 0
        },
        "template": {
         "data": {
          "bar": [
           {
            "error_x": {
             "color": "#f2f5fa"
            },
            "error_y": {
             "color": "#f2f5fa"
            },
            "marker": {
             "line": {
              "color": "rgb(17,17,17)",
              "width": 0.5
             },
             "pattern": {
              "fillmode": "overlay",
              "size": 10,
              "solidity": 0.2
             }
            },
            "type": "bar"
           }
          ],
          "barpolar": [
           {
            "marker": {
             "line": {
              "color": "rgb(17,17,17)",
              "width": 0.5
             },
             "pattern": {
              "fillmode": "overlay",
              "size": 10,
              "solidity": 0.2
             }
            },
            "type": "barpolar"
           }
          ],
          "carpet": [
           {
            "aaxis": {
             "endlinecolor": "#A2B1C6",
             "gridcolor": "#506784",
             "linecolor": "#506784",
             "minorgridcolor": "#506784",
             "startlinecolor": "#A2B1C6"
            },
            "baxis": {
             "endlinecolor": "#A2B1C6",
             "gridcolor": "#506784",
             "linecolor": "#506784",
             "minorgridcolor": "#506784",
             "startlinecolor": "#A2B1C6"
            },
            "type": "carpet"
           }
          ],
          "choropleth": [
           {
            "colorbar": {
             "outlinewidth": 0,
             "ticks": ""
            },
            "type": "choropleth"
           }
          ],
          "contour": [
           {
            "colorbar": {
             "outlinewidth": 0,
             "ticks": ""
            },
            "colorscale": [
             [
              0,
              "#0d0887"
             ],
             [
              0.1111111111111111,
              "#46039f"
             ],
             [
              0.2222222222222222,
              "#7201a8"
             ],
             [
              0.3333333333333333,
              "#9c179e"
             ],
             [
              0.4444444444444444,
              "#bd3786"
             ],
             [
              0.5555555555555556,
              "#d8576b"
             ],
             [
              0.6666666666666666,
              "#ed7953"
             ],
             [
              0.7777777777777778,
              "#fb9f3a"
             ],
             [
              0.8888888888888888,
              "#fdca26"
             ],
             [
              1,
              "#f0f921"
             ]
            ],
            "type": "contour"
           }
          ],
          "contourcarpet": [
           {
            "colorbar": {
             "outlinewidth": 0,
             "ticks": ""
            },
            "type": "contourcarpet"
           }
          ],
          "heatmap": [
           {
            "colorbar": {
             "outlinewidth": 0,
             "ticks": ""
            },
            "colorscale": [
             [
              0,
              "#0d0887"
             ],
             [
              0.1111111111111111,
              "#46039f"
             ],
             [
              0.2222222222222222,
              "#7201a8"
             ],
             [
              0.3333333333333333,
              "#9c179e"
             ],
             [
              0.4444444444444444,
              "#bd3786"
             ],
             [
              0.5555555555555556,
              "#d8576b"
             ],
             [
              0.6666666666666666,
              "#ed7953"
             ],
             [
              0.7777777777777778,
              "#fb9f3a"
             ],
             [
              0.8888888888888888,
              "#fdca26"
             ],
             [
              1,
              "#f0f921"
             ]
            ],
            "type": "heatmap"
           }
          ],
          "heatmapgl": [
           {
            "colorbar": {
             "outlinewidth": 0,
             "ticks": ""
            },
            "colorscale": [
             [
              0,
              "#0d0887"
             ],
             [
              0.1111111111111111,
              "#46039f"
             ],
             [
              0.2222222222222222,
              "#7201a8"
             ],
             [
              0.3333333333333333,
              "#9c179e"
             ],
             [
              0.4444444444444444,
              "#bd3786"
             ],
             [
              0.5555555555555556,
              "#d8576b"
             ],
             [
              0.6666666666666666,
              "#ed7953"
             ],
             [
              0.7777777777777778,
              "#fb9f3a"
             ],
             [
              0.8888888888888888,
              "#fdca26"
             ],
             [
              1,
              "#f0f921"
             ]
            ],
            "type": "heatmapgl"
           }
          ],
          "histogram": [
           {
            "marker": {
             "pattern": {
              "fillmode": "overlay",
              "size": 10,
              "solidity": 0.2
             }
            },
            "type": "histogram"
           }
          ],
          "histogram2d": [
           {
            "colorbar": {
             "outlinewidth": 0,
             "ticks": ""
            },
            "colorscale": [
             [
              0,
              "#0d0887"
             ],
             [
              0.1111111111111111,
              "#46039f"
             ],
             [
              0.2222222222222222,
              "#7201a8"
             ],
             [
              0.3333333333333333,
              "#9c179e"
             ],
             [
              0.4444444444444444,
              "#bd3786"
             ],
             [
              0.5555555555555556,
              "#d8576b"
             ],
             [
              0.6666666666666666,
              "#ed7953"
             ],
             [
              0.7777777777777778,
              "#fb9f3a"
             ],
             [
              0.8888888888888888,
              "#fdca26"
             ],
             [
              1,
              "#f0f921"
             ]
            ],
            "type": "histogram2d"
           }
          ],
          "histogram2dcontour": [
           {
            "colorbar": {
             "outlinewidth": 0,
             "ticks": ""
            },
            "colorscale": [
             [
              0,
              "#0d0887"
             ],
             [
              0.1111111111111111,
              "#46039f"
             ],
             [
              0.2222222222222222,
              "#7201a8"
             ],
             [
              0.3333333333333333,
              "#9c179e"
             ],
             [
              0.4444444444444444,
              "#bd3786"
             ],
             [
              0.5555555555555556,
              "#d8576b"
             ],
             [
              0.6666666666666666,
              "#ed7953"
             ],
             [
              0.7777777777777778,
              "#fb9f3a"
             ],
             [
              0.8888888888888888,
              "#fdca26"
             ],
             [
              1,
              "#f0f921"
             ]
            ],
            "type": "histogram2dcontour"
           }
          ],
          "mesh3d": [
           {
            "colorbar": {
             "outlinewidth": 0,
             "ticks": ""
            },
            "type": "mesh3d"
           }
          ],
          "parcoords": [
           {
            "line": {
             "colorbar": {
              "outlinewidth": 0,
              "ticks": ""
             }
            },
            "type": "parcoords"
           }
          ],
          "pie": [
           {
            "automargin": true,
            "type": "pie"
           }
          ],
          "scatter": [
           {
            "marker": {
             "line": {
              "color": "#283442"
             }
            },
            "type": "scatter"
           }
          ],
          "scatter3d": [
           {
            "line": {
             "colorbar": {
              "outlinewidth": 0,
              "ticks": ""
             }
            },
            "marker": {
             "colorbar": {
              "outlinewidth": 0,
              "ticks": ""
             }
            },
            "type": "scatter3d"
           }
          ],
          "scattercarpet": [
           {
            "marker": {
             "colorbar": {
              "outlinewidth": 0,
              "ticks": ""
             }
            },
            "type": "scattercarpet"
           }
          ],
          "scattergeo": [
           {
            "marker": {
             "colorbar": {
              "outlinewidth": 0,
              "ticks": ""
             }
            },
            "type": "scattergeo"
           }
          ],
          "scattergl": [
           {
            "marker": {
             "line": {
              "color": "#283442"
             }
            },
            "type": "scattergl"
           }
          ],
          "scattermapbox": [
           {
            "marker": {
             "colorbar": {
              "outlinewidth": 0,
              "ticks": ""
             }
            },
            "type": "scattermapbox"
           }
          ],
          "scatterpolar": [
           {
            "marker": {
             "colorbar": {
              "outlinewidth": 0,
              "ticks": ""
             }
            },
            "type": "scatterpolar"
           }
          ],
          "scatterpolargl": [
           {
            "marker": {
             "colorbar": {
              "outlinewidth": 0,
              "ticks": ""
             }
            },
            "type": "scatterpolargl"
           }
          ],
          "scatterternary": [
           {
            "marker": {
             "colorbar": {
              "outlinewidth": 0,
              "ticks": ""
             }
            },
            "type": "scatterternary"
           }
          ],
          "surface": [
           {
            "colorbar": {
             "outlinewidth": 0,
             "ticks": ""
            },
            "colorscale": [
             [
              0,
              "#0d0887"
             ],
             [
              0.1111111111111111,
              "#46039f"
             ],
             [
              0.2222222222222222,
              "#7201a8"
             ],
             [
              0.3333333333333333,
              "#9c179e"
             ],
             [
              0.4444444444444444,
              "#bd3786"
             ],
             [
              0.5555555555555556,
              "#d8576b"
             ],
             [
              0.6666666666666666,
              "#ed7953"
             ],
             [
              0.7777777777777778,
              "#fb9f3a"
             ],
             [
              0.8888888888888888,
              "#fdca26"
             ],
             [
              1,
              "#f0f921"
             ]
            ],
            "type": "surface"
           }
          ],
          "table": [
           {
            "cells": {
             "fill": {
              "color": "#506784"
             },
             "line": {
              "color": "rgb(17,17,17)"
             }
            },
            "header": {
             "fill": {
              "color": "#2a3f5f"
             },
             "line": {
              "color": "rgb(17,17,17)"
             }
            },
            "type": "table"
           }
          ]
         },
         "layout": {
          "annotationdefaults": {
           "arrowcolor": "#f2f5fa",
           "arrowhead": 0,
           "arrowwidth": 1
          },
          "autotypenumbers": "strict",
          "coloraxis": {
           "colorbar": {
            "outlinewidth": 0,
            "ticks": ""
           }
          },
          "colorscale": {
           "diverging": [
            [
             0,
             "#8e0152"
            ],
            [
             0.1,
             "#c51b7d"
            ],
            [
             0.2,
             "#de77ae"
            ],
            [
             0.3,
             "#f1b6da"
            ],
            [
             0.4,
             "#fde0ef"
            ],
            [
             0.5,
             "#f7f7f7"
            ],
            [
             0.6,
             "#e6f5d0"
            ],
            [
             0.7,
             "#b8e186"
            ],
            [
             0.8,
             "#7fbc41"
            ],
            [
             0.9,
             "#4d9221"
            ],
            [
             1,
             "#276419"
            ]
           ],
           "sequential": [
            [
             0,
             "#0d0887"
            ],
            [
             0.1111111111111111,
             "#46039f"
            ],
            [
             0.2222222222222222,
             "#7201a8"
            ],
            [
             0.3333333333333333,
             "#9c179e"
            ],
            [
             0.4444444444444444,
             "#bd3786"
            ],
            [
             0.5555555555555556,
             "#d8576b"
            ],
            [
             0.6666666666666666,
             "#ed7953"
            ],
            [
             0.7777777777777778,
             "#fb9f3a"
            ],
            [
             0.8888888888888888,
             "#fdca26"
            ],
            [
             1,
             "#f0f921"
            ]
           ],
           "sequentialminus": [
            [
             0,
             "#0d0887"
            ],
            [
             0.1111111111111111,
             "#46039f"
            ],
            [
             0.2222222222222222,
             "#7201a8"
            ],
            [
             0.3333333333333333,
             "#9c179e"
            ],
            [
             0.4444444444444444,
             "#bd3786"
            ],
            [
             0.5555555555555556,
             "#d8576b"
            ],
            [
             0.6666666666666666,
             "#ed7953"
            ],
            [
             0.7777777777777778,
             "#fb9f3a"
            ],
            [
             0.8888888888888888,
             "#fdca26"
            ],
            [
             1,
             "#f0f921"
            ]
           ]
          },
          "colorway": [
           "#636efa",
           "#EF553B",
           "#00cc96",
           "#ab63fa",
           "#FFA15A",
           "#19d3f3",
           "#FF6692",
           "#B6E880",
           "#FF97FF",
           "#FECB52"
          ],
          "font": {
           "color": "#f2f5fa"
          },
          "geo": {
           "bgcolor": "rgb(17,17,17)",
           "lakecolor": "rgb(17,17,17)",
           "landcolor": "rgb(17,17,17)",
           "showlakes": true,
           "showland": true,
           "subunitcolor": "#506784"
          },
          "hoverlabel": {
           "align": "left"
          },
          "hovermode": "closest",
          "mapbox": {
           "style": "dark"
          },
          "paper_bgcolor": "rgb(17,17,17)",
          "plot_bgcolor": "rgb(17,17,17)",
          "polar": {
           "angularaxis": {
            "gridcolor": "#506784",
            "linecolor": "#506784",
            "ticks": ""
           },
           "bgcolor": "rgb(17,17,17)",
           "radialaxis": {
            "gridcolor": "#506784",
            "linecolor": "#506784",
            "ticks": ""
           }
          },
          "scene": {
           "xaxis": {
            "backgroundcolor": "rgb(17,17,17)",
            "gridcolor": "#506784",
            "gridwidth": 2,
            "linecolor": "#506784",
            "showbackground": true,
            "ticks": "",
            "zerolinecolor": "#C8D4E3"
           },
           "yaxis": {
            "backgroundcolor": "rgb(17,17,17)",
            "gridcolor": "#506784",
            "gridwidth": 2,
            "linecolor": "#506784",
            "showbackground": true,
            "ticks": "",
            "zerolinecolor": "#C8D4E3"
           },
           "zaxis": {
            "backgroundcolor": "rgb(17,17,17)",
            "gridcolor": "#506784",
            "gridwidth": 2,
            "linecolor": "#506784",
            "showbackground": true,
            "ticks": "",
            "zerolinecolor": "#C8D4E3"
           }
          },
          "shapedefaults": {
           "line": {
            "color": "#f2f5fa"
           }
          },
          "sliderdefaults": {
           "bgcolor": "#C8D4E3",
           "bordercolor": "rgb(17,17,17)",
           "borderwidth": 1,
           "tickwidth": 0
          },
          "ternary": {
           "aaxis": {
            "gridcolor": "#506784",
            "linecolor": "#506784",
            "ticks": ""
           },
           "baxis": {
            "gridcolor": "#506784",
            "linecolor": "#506784",
            "ticks": ""
           },
           "bgcolor": "rgb(17,17,17)",
           "caxis": {
            "gridcolor": "#506784",
            "linecolor": "#506784",
            "ticks": ""
           }
          },
          "title": {
           "x": 0.05
          },
          "updatemenudefaults": {
           "bgcolor": "#506784",
           "borderwidth": 0
          },
          "xaxis": {
           "automargin": true,
           "gridcolor": "#283442",
           "linecolor": "#506784",
           "ticks": "",
           "title": {
            "standoff": 15
           },
           "zerolinecolor": "#283442",
           "zerolinewidth": 2
          },
          "yaxis": {
           "automargin": true,
           "gridcolor": "#283442",
           "linecolor": "#506784",
           "ticks": "",
           "title": {
            "standoff": 15
           },
           "zerolinecolor": "#283442",
           "zerolinewidth": 2
          }
         }
        },
        "title": {
         "text": "Average Number of Snips per Episode by Show"
        },
        "xaxis": {
         "anchor": "y",
         "domain": [
          0,
          1
         ],
         "title": {
          "text": "Average Snips per Episode"
         }
        },
        "yaxis": {
         "anchor": "x",
         "domain": [
          0,
          1
         ],
         "title": {
          "text": "Show Name"
         }
        }
       }
      }
     },
     "metadata": {},
     "output_type": "display_data"
    }
   ],
   "source": [
    " # 4. Average Snips per Episode by Show\n",
    "avg_snips = (df.groupby('show').size() / \n",
    "                df.groupby('show')['episode_title'].nunique()).sort_values(ascending=True)\n",
    "fig4 = px.bar(avg_snips,\n",
    "                title='Average Number of Snips per Episode by Show',\n",
    "                orientation='h',\n",
    "                labels={'value': 'Average Snips per Episode', 'show': 'Show Name'},\n",
    "                template='plotly_dark')\n",
    "fig4.update_layout(height=600)\n",
    "fig4.update_traces(showlegend=False)\n",
    "fig4.show()"
   ]
  },
  {
   "cell_type": "code",
   "execution_count": 7,
   "metadata": {},
   "outputs": [
    {
     "name": "stdout",
     "output_type": "stream",
     "text": [
      "60.1\n",
      "58.7\n",
      "0.2833333333333333\n"
     ]
    }
   ],
   "source": [
    "def convert_to_minutes(timestamp: str) -> float:\n",
    "    \"\"\"Converts a timestamp string (HH:MM:SS or MM:SS) to minutes as a float.\n",
    "\n",
    "    Args:\n",
    "    ----\n",
    "        timestamp: String in format 'HH:MM:SS' or 'MM:SS' or 'MM:SS'\n",
    "        Examples: '00:00:17', '01:00:06', '58:42'\n",
    "\n",
    "    Returns:\n",
    "    -------\n",
    "        float: Total minutes (including fractional minutes from seconds)\n",
    "    \"\"\"\n",
    "    try:\n",
    "        # Split the timestamp into parts\n",
    "        parts = timestamp.split(':')\n",
    "        \n",
    "        if len(parts) == 3:  # HH:MM:SS format (e.g. 01:00:06)\n",
    "            hours, minutes, seconds = map(int, parts)\n",
    "            return (hours * 60) + minutes + (seconds / 60)\n",
    "        elif len(parts) == 2:  # MM:SS format (e.g. 58:42)\n",
    "            minutes, seconds = map(int, parts)\n",
    "            # Handle case where first number could be hours\n",
    "            if int(minutes) >= 60:  # If minutes >= 60, treat as hours\n",
    "                hours = int(minutes) // 60\n",
    "                remaining_minutes = int(minutes) % 60\n",
    "                return (hours * 60) + remaining_minutes + (seconds / 60)\n",
    "            return minutes + (seconds / 60)\n",
    "        else:\n",
    "            return None\n",
    "    except (ValueError, AttributeError):\n",
    "        return None\n",
    "# test function\n",
    "print(convert_to_minutes('01:00:06'))\n",
    "print(convert_to_minutes('58:42'))\n",
    "print(convert_to_minutes('00:00:17'))\n"
   ]
  },
  {
   "cell_type": "code",
   "execution_count": 8,
   "metadata": {},
   "outputs": [
    {
     "data": {
      "text/html": [
       "<div>\n",
       "<style scoped>\n",
       "    .dataframe tbody tr th:only-of-type {\n",
       "        vertical-align: middle;\n",
       "    }\n",
       "\n",
       "    .dataframe tbody tr th {\n",
       "        vertical-align: top;\n",
       "    }\n",
       "\n",
       "    .dataframe thead th {\n",
       "        text-align: right;\n",
       "    }\n",
       "</style>\n",
       "<table border=\"1\" class=\"dataframe\">\n",
       "  <thead>\n",
       "    <tr style=\"text-align: right;\">\n",
       "      <th></th>\n",
       "      <th>episode_title</th>\n",
       "      <th>show</th>\n",
       "      <th>owner_host</th>\n",
       "      <th>episode_link</th>\n",
       "      <th>publish_date</th>\n",
       "      <th>export_date</th>\n",
       "      <th>show_notes</th>\n",
       "      <th>ai_notes</th>\n",
       "      <th>timestamp</th>\n",
       "      <th>snip_title</th>\n",
       "      <th>...</th>\n",
       "      <th>duration</th>\n",
       "      <th>time_range</th>\n",
       "      <th>summary</th>\n",
       "      <th>transcript_cleaned_of_md_and_html_tags</th>\n",
       "      <th>transcript_raw</th>\n",
       "      <th>start_time</th>\n",
       "      <th>end_time</th>\n",
       "      <th>start_minutes</th>\n",
       "      <th>end_minutes</th>\n",
       "      <th>duration_minutes</th>\n",
       "    </tr>\n",
       "  </thead>\n",
       "  <tbody>\n",
       "    <tr>\n",
       "      <th>0</th>\n",
       "      <td>#393 - Is History Repeating Itself?</td>\n",
       "      <td>Making Sense with Sam Harris - Subscriber Content</td>\n",
       "      <td>Making Sense with Sam Harris</td>\n",
       "      <td>https://share.snipd.com/episode/ba69c343-dda0-...</td>\n",
       "      <td>2024-11-26</td>\n",
       "      <td>2024-12-24T14:55</td>\n",
       "      <td>Sam Harris speaks with Simon Sebag Montefiore ...</td>\n",
       "      <td>NaN</td>\n",
       "      <td>08:00</td>\n",
       "      <td>Exceptional Period of Stability Ending</td>\n",
       "      <td>...</td>\n",
       "      <td>2min</td>\n",
       "      <td>05:46 - 08:05</td>\n",
       "      <td>The post-WWII era until recent times was excep...</td>\n",
       "      <td>Simon Seabag Montefiore: But I think the thing...</td>\n",
       "      <td>&lt;blockquote&gt;&lt;b&gt;Simon Seabag Montefiore&lt;/b&gt;&lt;br/...</td>\n",
       "      <td>05:46</td>\n",
       "      <td>08:05</td>\n",
       "      <td>5.766667</td>\n",
       "      <td>8.083333</td>\n",
       "      <td>2.316667</td>\n",
       "    </tr>\n",
       "    <tr>\n",
       "      <th>1</th>\n",
       "      <td>#393 - Is History Repeating Itself?</td>\n",
       "      <td>Making Sense with Sam Harris - Subscriber Content</td>\n",
       "      <td>Making Sense with Sam Harris</td>\n",
       "      <td>https://share.snipd.com/episode/ba69c343-dda0-...</td>\n",
       "      <td>2024-11-26</td>\n",
       "      <td>2024-12-24T14:55</td>\n",
       "      <td>Sam Harris speaks with Simon Sebag Montefiore ...</td>\n",
       "      <td>NaN</td>\n",
       "      <td>41:21</td>\n",
       "      <td>Origin of Antisemitism</td>\n",
       "      <td>...</td>\n",
       "      <td>2min</td>\n",
       "      <td>39:50 - 41:21</td>\n",
       "      <td>Antisemitism emerged when Christianity became ...</td>\n",
       "      <td>Simon Seabag Montefiore: But you're right, fro...</td>\n",
       "      <td>&lt;blockquote&gt;&lt;b&gt;Simon Seabag Montefiore&lt;/b&gt;&lt;br/...</td>\n",
       "      <td>39:50</td>\n",
       "      <td>41:21</td>\n",
       "      <td>39.833333</td>\n",
       "      <td>41.350000</td>\n",
       "      <td>1.516667</td>\n",
       "    </tr>\n",
       "    <tr>\n",
       "      <th>2</th>\n",
       "      <td>#393 - Is History Repeating Itself?</td>\n",
       "      <td>Making Sense with Sam Harris - Subscriber Content</td>\n",
       "      <td>Making Sense with Sam Harris</td>\n",
       "      <td>https://share.snipd.com/episode/ba69c343-dda0-...</td>\n",
       "      <td>2024-11-26</td>\n",
       "      <td>2024-12-24T14:55</td>\n",
       "      <td>Sam Harris speaks with Simon Sebag Montefiore ...</td>\n",
       "      <td>NaN</td>\n",
       "      <td>44:50</td>\n",
       "      <td>Jewish Otherness</td>\n",
       "      <td>...</td>\n",
       "      <td>1min</td>\n",
       "      <td>43:34 - 44:48</td>\n",
       "      <td>This distinct identity defined Jews, making th...</td>\n",
       "      <td>Simon Seabag Montefiore: And I think it was be...</td>\n",
       "      <td>&lt;blockquote&gt;&lt;b&gt;Simon Seabag Montefiore&lt;/b&gt;&lt;br/...</td>\n",
       "      <td>43:34</td>\n",
       "      <td>44:48</td>\n",
       "      <td>43.566667</td>\n",
       "      <td>44.800000</td>\n",
       "      <td>1.233333</td>\n",
       "    </tr>\n",
       "    <tr>\n",
       "      <th>3</th>\n",
       "      <td>#393 - Is History Repeating Itself?</td>\n",
       "      <td>Making Sense with Sam Harris - Subscriber Content</td>\n",
       "      <td>Making Sense with Sam Harris</td>\n",
       "      <td>https://share.snipd.com/episode/ba69c343-dda0-...</td>\n",
       "      <td>2024-11-26</td>\n",
       "      <td>2024-12-24T14:55</td>\n",
       "      <td>Sam Harris speaks with Simon Sebag Montefiore ...</td>\n",
       "      <td>NaN</td>\n",
       "      <td>49:42</td>\n",
       "      <td>Crusader Massacre in Jerusalem</td>\n",
       "      <td>...</td>\n",
       "      <td>1min</td>\n",
       "      <td>48:17 - 49:42</td>\n",
       "      <td>During the First Crusade, a small group of cru...</td>\n",
       "      <td>Simon Seabag Montefiore: And then they fought ...</td>\n",
       "      <td>&lt;blockquote&gt;&lt;b&gt;Simon Seabag Montefiore&lt;/b&gt;&lt;br/...</td>\n",
       "      <td>48:17</td>\n",
       "      <td>49:42</td>\n",
       "      <td>48.283333</td>\n",
       "      <td>49.700000</td>\n",
       "      <td>1.416667</td>\n",
       "    </tr>\n",
       "    <tr>\n",
       "      <th>4</th>\n",
       "      <td>#393 - Is History Repeating Itself?</td>\n",
       "      <td>Making Sense with Sam Harris - Subscriber Content</td>\n",
       "      <td>Making Sense with Sam Harris</td>\n",
       "      <td>https://share.snipd.com/episode/ba69c343-dda0-...</td>\n",
       "      <td>2024-11-26</td>\n",
       "      <td>2024-12-24T14:55</td>\n",
       "      <td>Sam Harris speaks with Simon Sebag Montefiore ...</td>\n",
       "      <td>NaN</td>\n",
       "      <td>51:15</td>\n",
       "      <td>The Crusades and October 7th</td>\n",
       "      <td>...</td>\n",
       "      <td>1min</td>\n",
       "      <td>49:47 - 51:14</td>\n",
       "      <td>The brutality of the 1099 Crusader massacre ec...</td>\n",
       "      <td>Simon Seabag Montefiore: So a chilling moment....</td>\n",
       "      <td>&lt;blockquote&gt;&lt;b&gt;Simon Seabag Montefiore&lt;/b&gt;&lt;br/...</td>\n",
       "      <td>49:47</td>\n",
       "      <td>51:14</td>\n",
       "      <td>49.783333</td>\n",
       "      <td>51.233333</td>\n",
       "      <td>1.450000</td>\n",
       "    </tr>\n",
       "    <tr>\n",
       "      <th>...</th>\n",
       "      <td>...</td>\n",
       "      <td>...</td>\n",
       "      <td>...</td>\n",
       "      <td>...</td>\n",
       "      <td>...</td>\n",
       "      <td>...</td>\n",
       "      <td>...</td>\n",
       "      <td>...</td>\n",
       "      <td>...</td>\n",
       "      <td>...</td>\n",
       "      <td>...</td>\n",
       "      <td>...</td>\n",
       "      <td>...</td>\n",
       "      <td>...</td>\n",
       "      <td>...</td>\n",
       "      <td>...</td>\n",
       "      <td>...</td>\n",
       "      <td>...</td>\n",
       "      <td>...</td>\n",
       "      <td>...</td>\n",
       "      <td>...</td>\n",
       "    </tr>\n",
       "    <tr>\n",
       "      <th>487</th>\n",
       "      <td>The Book That Predicted the 2024 Election</td>\n",
       "      <td>The Ezra Klein Show</td>\n",
       "      <td>New York Times Opinion</td>\n",
       "      <td>https://share.snipd.com/episode/3328d3cc-b280-...</td>\n",
       "      <td>2024-11-09</td>\n",
       "      <td>2024-12-24T14:55</td>\n",
       "      <td>To understand the 2024 election results, it he...</td>\n",
       "      <td>Unlock full access to New York Times podcasts ...</td>\n",
       "      <td>[27:30]</td>\n",
       "      <td>Social Pressure &amp; Political Shifts</td>\n",
       "      <td>...</td>\n",
       "      <td>2min (25:20 - 27:30)</td>\n",
       "      <td>25:20 - 27:30</td>\n",
       "      <td>Shifts in group identity can be influenced by ...</td>\n",
       "      <td>Sort of rhetoric? There is not necessarily a s...</td>\n",
       "      <td>Sort of rhetoric? There is not necessarily a s...</td>\n",
       "      <td>25:20</td>\n",
       "      <td>27:30</td>\n",
       "      <td>25.333333</td>\n",
       "      <td>27.500000</td>\n",
       "      <td>2.166667</td>\n",
       "    </tr>\n",
       "    <tr>\n",
       "      <th>488</th>\n",
       "      <td>The Book That Predicted the 2024 Election</td>\n",
       "      <td>The Ezra Klein Show</td>\n",
       "      <td>New York Times Opinion</td>\n",
       "      <td>https://share.snipd.com/episode/3328d3cc-b280-...</td>\n",
       "      <td>2024-11-09</td>\n",
       "      <td>2024-12-24T14:55</td>\n",
       "      <td>To understand the 2024 election results, it he...</td>\n",
       "      <td>Unlock full access to New York Times podcasts ...</td>\n",
       "      <td>[32:25]</td>\n",
       "      <td>Cosmopolitan Trap</td>\n",
       "      <td>...</td>\n",
       "      <td>1min (31:25 - 32:25)</td>\n",
       "      <td>31:25 - 32:25</td>\n",
       "      <td>Democrats fell into the 'cosmopolitan trap' by...</td>\n",
       "      <td>And I think that was the version of the cosmop...</td>\n",
       "      <td>And I think that was the version of the cosmop...</td>\n",
       "      <td>31:25</td>\n",
       "      <td>32:25</td>\n",
       "      <td>31.416667</td>\n",
       "      <td>32.416667</td>\n",
       "      <td>1.000000</td>\n",
       "    </tr>\n",
       "    <tr>\n",
       "      <th>489</th>\n",
       "      <td>The Book That Predicted the 2024 Election</td>\n",
       "      <td>The Ezra Klein Show</td>\n",
       "      <td>New York Times Opinion</td>\n",
       "      <td>https://share.snipd.com/episode/3328d3cc-b280-...</td>\n",
       "      <td>2024-11-09</td>\n",
       "      <td>2024-12-24T14:55</td>\n",
       "      <td>To understand the 2024 election results, it he...</td>\n",
       "      <td>Unlock full access to New York Times podcasts ...</td>\n",
       "      <td>[51:45]</td>\n",
       "      <td>Democrats' Misguided Outreach</td>\n",
       "      <td>...</td>\n",
       "      <td>2min (50:10 - 51:44)</td>\n",
       "      <td>50:10 - 51:44</td>\n",
       "      <td>The Democrats' focus on endorsements from figu...</td>\n",
       "      <td>It just speaks to a lack of accountability in ...</td>\n",
       "      <td>It just speaks to a lack of accountability in ...</td>\n",
       "      <td>50:10</td>\n",
       "      <td>51:44</td>\n",
       "      <td>50.166667</td>\n",
       "      <td>51.733333</td>\n",
       "      <td>1.566667</td>\n",
       "    </tr>\n",
       "    <tr>\n",
       "      <th>490</th>\n",
       "      <td>The State of AI with Marc &amp; Ben</td>\n",
       "      <td>a16z Podcast</td>\n",
       "      <td>a16z</td>\n",
       "      <td>https://share.snipd.com/episode/8ef10934-c249-...</td>\n",
       "      <td>2024-06-14</td>\n",
       "      <td>2024-12-24T14:55</td>\n",
       "      <td>In this latest episode on the State of AI, Ben...</td>\n",
       "      <td>NaN</td>\n",
       "      <td>[11:45]</td>\n",
       "      <td>Crafting Prompts for AI to Access Super Genius...</td>\n",
       "      <td>...</td>\n",
       "      <td>2min</td>\n",
       "      <td>(10:12 - 11:48)</td>\n",
       "      <td>Training AI models on average internet data re...</td>\n",
       "      <td>NaN</td>\n",
       "      <td>&lt;details&gt;\\n&lt;summary&gt;Click to expand&lt;/summary&gt;\\...</td>\n",
       "      <td>10:12</td>\n",
       "      <td>11:48</td>\n",
       "      <td>10.200000</td>\n",
       "      <td>11.800000</td>\n",
       "      <td>1.600000</td>\n",
       "    </tr>\n",
       "    <tr>\n",
       "      <th>491</th>\n",
       "      <td>The State of AI with Marc &amp; Ben</td>\n",
       "      <td>a16z Podcast</td>\n",
       "      <td>a16z</td>\n",
       "      <td>https://share.snipd.com/episode/8ef10934-c249-...</td>\n",
       "      <td>2024-06-14</td>\n",
       "      <td>2024-12-24T14:55</td>\n",
       "      <td>In this latest episode on the State of AI, Ben...</td>\n",
       "      <td>NaN</td>\n",
       "      <td>[31:40]</td>\n",
       "      <td>The Jevons Paradox in Software Development</td>\n",
       "      <td>...</td>\n",
       "      <td>1min</td>\n",
       "      <td>(30:24 - 31:42)</td>\n",
       "      <td>The Jevons Paradox is evident in software deve...</td>\n",
       "      <td>NaN</td>\n",
       "      <td>&lt;details&gt;\\n&lt;summary&gt;Click to expand&lt;/summary&gt;\\...</td>\n",
       "      <td>30:24</td>\n",
       "      <td>31:42</td>\n",
       "      <td>30.400000</td>\n",
       "      <td>31.700000</td>\n",
       "      <td>1.300000</td>\n",
       "    </tr>\n",
       "  </tbody>\n",
       "</table>\n",
       "<p>492 rows × 21 columns</p>\n",
       "</div>"
      ],
      "text/plain": [
       "                                 episode_title  \\\n",
       "0          #393 - Is History Repeating Itself?   \n",
       "1          #393 - Is History Repeating Itself?   \n",
       "2          #393 - Is History Repeating Itself?   \n",
       "3          #393 - Is History Repeating Itself?   \n",
       "4          #393 - Is History Repeating Itself?   \n",
       "..                                         ...   \n",
       "487  The Book That Predicted the 2024 Election   \n",
       "488  The Book That Predicted the 2024 Election   \n",
       "489  The Book That Predicted the 2024 Election   \n",
       "490            The State of AI with Marc & Ben   \n",
       "491            The State of AI with Marc & Ben   \n",
       "\n",
       "                                                  show  \\\n",
       "0    Making Sense with Sam Harris - Subscriber Content   \n",
       "1    Making Sense with Sam Harris - Subscriber Content   \n",
       "2    Making Sense with Sam Harris - Subscriber Content   \n",
       "3    Making Sense with Sam Harris - Subscriber Content   \n",
       "4    Making Sense with Sam Harris - Subscriber Content   \n",
       "..                                                 ...   \n",
       "487                                The Ezra Klein Show   \n",
       "488                                The Ezra Klein Show   \n",
       "489                                The Ezra Klein Show   \n",
       "490                                       a16z Podcast   \n",
       "491                                       a16z Podcast   \n",
       "\n",
       "                       owner_host  \\\n",
       "0    Making Sense with Sam Harris   \n",
       "1    Making Sense with Sam Harris   \n",
       "2    Making Sense with Sam Harris   \n",
       "3    Making Sense with Sam Harris   \n",
       "4    Making Sense with Sam Harris   \n",
       "..                            ...   \n",
       "487        New York Times Opinion   \n",
       "488        New York Times Opinion   \n",
       "489        New York Times Opinion   \n",
       "490                          a16z   \n",
       "491                          a16z   \n",
       "\n",
       "                                          episode_link publish_date  \\\n",
       "0    https://share.snipd.com/episode/ba69c343-dda0-...   2024-11-26   \n",
       "1    https://share.snipd.com/episode/ba69c343-dda0-...   2024-11-26   \n",
       "2    https://share.snipd.com/episode/ba69c343-dda0-...   2024-11-26   \n",
       "3    https://share.snipd.com/episode/ba69c343-dda0-...   2024-11-26   \n",
       "4    https://share.snipd.com/episode/ba69c343-dda0-...   2024-11-26   \n",
       "..                                                 ...          ...   \n",
       "487  https://share.snipd.com/episode/3328d3cc-b280-...   2024-11-09   \n",
       "488  https://share.snipd.com/episode/3328d3cc-b280-...   2024-11-09   \n",
       "489  https://share.snipd.com/episode/3328d3cc-b280-...   2024-11-09   \n",
       "490  https://share.snipd.com/episode/8ef10934-c249-...   2024-06-14   \n",
       "491  https://share.snipd.com/episode/8ef10934-c249-...   2024-06-14   \n",
       "\n",
       "          export_date                                         show_notes  \\\n",
       "0    2024-12-24T14:55  Sam Harris speaks with Simon Sebag Montefiore ...   \n",
       "1    2024-12-24T14:55  Sam Harris speaks with Simon Sebag Montefiore ...   \n",
       "2    2024-12-24T14:55  Sam Harris speaks with Simon Sebag Montefiore ...   \n",
       "3    2024-12-24T14:55  Sam Harris speaks with Simon Sebag Montefiore ...   \n",
       "4    2024-12-24T14:55  Sam Harris speaks with Simon Sebag Montefiore ...   \n",
       "..                ...                                                ...   \n",
       "487  2024-12-24T14:55  To understand the 2024 election results, it he...   \n",
       "488  2024-12-24T14:55  To understand the 2024 election results, it he...   \n",
       "489  2024-12-24T14:55  To understand the 2024 election results, it he...   \n",
       "490  2024-12-24T14:55  In this latest episode on the State of AI, Ben...   \n",
       "491  2024-12-24T14:55  In this latest episode on the State of AI, Ben...   \n",
       "\n",
       "                                              ai_notes timestamp  \\\n",
       "0                                                  NaN     08:00   \n",
       "1                                                  NaN     41:21   \n",
       "2                                                  NaN     44:50   \n",
       "3                                                  NaN     49:42   \n",
       "4                                                  NaN     51:15   \n",
       "..                                                 ...       ...   \n",
       "487  Unlock full access to New York Times podcasts ...   [27:30]   \n",
       "488  Unlock full access to New York Times podcasts ...   [32:25]   \n",
       "489  Unlock full access to New York Times podcasts ...   [51:45]   \n",
       "490                                                NaN   [11:45]   \n",
       "491                                                NaN   [31:40]   \n",
       "\n",
       "                                            snip_title  ...  \\\n",
       "0               Exceptional Period of Stability Ending  ...   \n",
       "1                               Origin of Antisemitism  ...   \n",
       "2                                     Jewish Otherness  ...   \n",
       "3                       Crusader Massacre in Jerusalem  ...   \n",
       "4                         The Crusades and October 7th  ...   \n",
       "..                                                 ...  ...   \n",
       "487                 Social Pressure & Political Shifts  ...   \n",
       "488                                  Cosmopolitan Trap  ...   \n",
       "489                      Democrats' Misguided Outreach  ...   \n",
       "490  Crafting Prompts for AI to Access Super Genius...  ...   \n",
       "491         The Jevons Paradox in Software Development  ...   \n",
       "\n",
       "                 duration       time_range  \\\n",
       "0                    2min    05:46 - 08:05   \n",
       "1                    2min    39:50 - 41:21   \n",
       "2                    1min    43:34 - 44:48   \n",
       "3                    1min    48:17 - 49:42   \n",
       "4                    1min    49:47 - 51:14   \n",
       "..                    ...              ...   \n",
       "487  2min (25:20 - 27:30)    25:20 - 27:30   \n",
       "488  1min (31:25 - 32:25)    31:25 - 32:25   \n",
       "489  2min (50:10 - 51:44)    50:10 - 51:44   \n",
       "490                  2min  (10:12 - 11:48)   \n",
       "491                  1min  (30:24 - 31:42)   \n",
       "\n",
       "                                               summary  \\\n",
       "0    The post-WWII era until recent times was excep...   \n",
       "1    Antisemitism emerged when Christianity became ...   \n",
       "2    This distinct identity defined Jews, making th...   \n",
       "3    During the First Crusade, a small group of cru...   \n",
       "4    The brutality of the 1099 Crusader massacre ec...   \n",
       "..                                                 ...   \n",
       "487  Shifts in group identity can be influenced by ...   \n",
       "488  Democrats fell into the 'cosmopolitan trap' by...   \n",
       "489  The Democrats' focus on endorsements from figu...   \n",
       "490  Training AI models on average internet data re...   \n",
       "491  The Jevons Paradox is evident in software deve...   \n",
       "\n",
       "                transcript_cleaned_of_md_and_html_tags  \\\n",
       "0    Simon Seabag Montefiore: But I think the thing...   \n",
       "1    Simon Seabag Montefiore: But you're right, fro...   \n",
       "2    Simon Seabag Montefiore: And I think it was be...   \n",
       "3    Simon Seabag Montefiore: And then they fought ...   \n",
       "4    Simon Seabag Montefiore: So a chilling moment....   \n",
       "..                                                 ...   \n",
       "487  Sort of rhetoric? There is not necessarily a s...   \n",
       "488  And I think that was the version of the cosmop...   \n",
       "489  It just speaks to a lack of accountability in ...   \n",
       "490                                                NaN   \n",
       "491                                                NaN   \n",
       "\n",
       "                                        transcript_raw start_time end_time  \\\n",
       "0    <blockquote><b>Simon Seabag Montefiore</b><br/...      05:46    08:05   \n",
       "1    <blockquote><b>Simon Seabag Montefiore</b><br/...      39:50    41:21   \n",
       "2    <blockquote><b>Simon Seabag Montefiore</b><br/...      43:34    44:48   \n",
       "3    <blockquote><b>Simon Seabag Montefiore</b><br/...      48:17    49:42   \n",
       "4    <blockquote><b>Simon Seabag Montefiore</b><br/...      49:47    51:14   \n",
       "..                                                 ...        ...      ...   \n",
       "487  Sort of rhetoric? There is not necessarily a s...      25:20    27:30   \n",
       "488  And I think that was the version of the cosmop...      31:25    32:25   \n",
       "489  It just speaks to a lack of accountability in ...      50:10    51:44   \n",
       "490  <details>\\n<summary>Click to expand</summary>\\...      10:12    11:48   \n",
       "491  <details>\\n<summary>Click to expand</summary>\\...      30:24    31:42   \n",
       "\n",
       "    start_minutes  end_minutes  duration_minutes  \n",
       "0        5.766667     8.083333          2.316667  \n",
       "1       39.833333    41.350000          1.516667  \n",
       "2       43.566667    44.800000          1.233333  \n",
       "3       48.283333    49.700000          1.416667  \n",
       "4       49.783333    51.233333          1.450000  \n",
       "..            ...          ...               ...  \n",
       "487     25.333333    27.500000          2.166667  \n",
       "488     31.416667    32.416667          1.000000  \n",
       "489     50.166667    51.733333          1.566667  \n",
       "490     10.200000    11.800000          1.600000  \n",
       "491     30.400000    31.700000          1.300000  \n",
       "\n",
       "[492 rows x 21 columns]"
      ]
     },
     "execution_count": 8,
     "metadata": {},
     "output_type": "execute_result"
    }
   ],
   "source": [
    "# Extract start and end times from time_range and convert to minutes\n",
    "df[['start_time', 'end_time']] = df['time_range'].str.extract(r'(\\d+:\\d+(?::\\d+)?) - (\\d+:\\d+(?::\\d+)?)')\n",
    "df['start_minutes'] = df['start_time'].apply(convert_to_minutes)\n",
    "df['end_minutes'] = df['end_time'].apply(convert_to_minutes)\n",
    "df['duration_minutes'] = df['end_minutes'] - df['start_minutes']\n",
    "\n",
    "df"
   ]
  },
  {
   "cell_type": "code",
   "execution_count": 12,
   "metadata": {},
   "outputs": [
    {
     "ename": "KeyError",
     "evalue": "'timestamp_minutes'",
     "output_type": "error",
     "traceback": [
      "\u001b[0;31m---------------------------------------------------------------------------\u001b[0m",
      "\u001b[0;31mKeyError\u001b[0m                                  Traceback (most recent call last)",
      "File \u001b[0;32m/opt/anaconda3/envs/aml3.12/lib/python3.12/site-packages/pandas/core/indexes/base.py:3805\u001b[0m, in \u001b[0;36mIndex.get_loc\u001b[0;34m(self, key)\u001b[0m\n\u001b[1;32m   3804\u001b[0m \u001b[38;5;28;01mtry\u001b[39;00m:\n\u001b[0;32m-> 3805\u001b[0m     \u001b[38;5;28;01mreturn\u001b[39;00m \u001b[38;5;28mself\u001b[39m\u001b[38;5;241m.\u001b[39m_engine\u001b[38;5;241m.\u001b[39mget_loc(casted_key)\n\u001b[1;32m   3806\u001b[0m \u001b[38;5;28;01mexcept\u001b[39;00m \u001b[38;5;167;01mKeyError\u001b[39;00m \u001b[38;5;28;01mas\u001b[39;00m err:\n",
      "File \u001b[0;32mindex.pyx:167\u001b[0m, in \u001b[0;36mpandas._libs.index.IndexEngine.get_loc\u001b[0;34m()\u001b[0m\n",
      "File \u001b[0;32mindex.pyx:196\u001b[0m, in \u001b[0;36mpandas._libs.index.IndexEngine.get_loc\u001b[0;34m()\u001b[0m\n",
      "File \u001b[0;32mpandas/_libs/hashtable_class_helper.pxi:7081\u001b[0m, in \u001b[0;36mpandas._libs.hashtable.PyObjectHashTable.get_item\u001b[0;34m()\u001b[0m\n",
      "File \u001b[0;32mpandas/_libs/hashtable_class_helper.pxi:7089\u001b[0m, in \u001b[0;36mpandas._libs.hashtable.PyObjectHashTable.get_item\u001b[0;34m()\u001b[0m\n",
      "\u001b[0;31mKeyError\u001b[0m: 'timestamp_minutes'",
      "\nThe above exception was the direct cause of the following exception:\n",
      "\u001b[0;31mKeyError\u001b[0m                                  Traceback (most recent call last)",
      "Cell \u001b[0;32mIn[12], line 3\u001b[0m\n\u001b[1;32m      1\u001b[0m \u001b[38;5;66;03m# 6. Heatmap of Snipping Position in Episodes\u001b[39;00m\n\u001b[1;32m      2\u001b[0m \u001b[38;5;66;03m# Create fixed-width bins (e.g., 5-minute intervals)\u001b[39;00m\n\u001b[0;32m----> 3\u001b[0m bins \u001b[38;5;241m=\u001b[39m \u001b[38;5;28mlist\u001b[39m(\u001b[38;5;28mrange\u001b[39m(\u001b[38;5;241m0\u001b[39m, \u001b[38;5;28mint\u001b[39m(df[\u001b[38;5;124m'\u001b[39m\u001b[38;5;124mtimestamp_minutes\u001b[39m\u001b[38;5;124m'\u001b[39m]\u001b[38;5;241m.\u001b[39mmax()) \u001b[38;5;241m+\u001b[39m \u001b[38;5;241m5\u001b[39m, \u001b[38;5;241m5\u001b[39m))  \u001b[38;5;66;03m# 5-minute bins\u001b[39;00m\n\u001b[1;32m      4\u001b[0m labels \u001b[38;5;241m=\u001b[39m [\u001b[38;5;124mf\u001b[39m\u001b[38;5;124m'\u001b[39m\u001b[38;5;132;01m{\u001b[39;00mi\u001b[38;5;132;01m}\u001b[39;00m\u001b[38;5;124m-\u001b[39m\u001b[38;5;132;01m{\u001b[39;00mi\u001b[38;5;241m+\u001b[39m\u001b[38;5;241m5\u001b[39m\u001b[38;5;132;01m}\u001b[39;00m\u001b[38;5;124mmin\u001b[39m\u001b[38;5;124m'\u001b[39m \u001b[38;5;28;01mfor\u001b[39;00m i \u001b[38;5;129;01min\u001b[39;00m bins[:\u001b[38;5;241m-\u001b[39m\u001b[38;5;241m1\u001b[39m]]\n\u001b[1;32m      6\u001b[0m df[\u001b[38;5;124m'\u001b[39m\u001b[38;5;124mtimestamp_bin\u001b[39m\u001b[38;5;124m'\u001b[39m] \u001b[38;5;241m=\u001b[39m pd\u001b[38;5;241m.\u001b[39mcut(df[\u001b[38;5;124m'\u001b[39m\u001b[38;5;124mtimestamp_minutes\u001b[39m\u001b[38;5;124m'\u001b[39m], \n\u001b[1;32m      7\u001b[0m                            bins\u001b[38;5;241m=\u001b[39mbins,\n\u001b[1;32m      8\u001b[0m                            labels\u001b[38;5;241m=\u001b[39mlabels,\n\u001b[1;32m      9\u001b[0m                            include_lowest\u001b[38;5;241m=\u001b[39m\u001b[38;5;28;01mTrue\u001b[39;00m)\n",
      "File \u001b[0;32m/opt/anaconda3/envs/aml3.12/lib/python3.12/site-packages/pandas/core/frame.py:4102\u001b[0m, in \u001b[0;36mDataFrame.__getitem__\u001b[0;34m(self, key)\u001b[0m\n\u001b[1;32m   4100\u001b[0m \u001b[38;5;28;01mif\u001b[39;00m \u001b[38;5;28mself\u001b[39m\u001b[38;5;241m.\u001b[39mcolumns\u001b[38;5;241m.\u001b[39mnlevels \u001b[38;5;241m>\u001b[39m \u001b[38;5;241m1\u001b[39m:\n\u001b[1;32m   4101\u001b[0m     \u001b[38;5;28;01mreturn\u001b[39;00m \u001b[38;5;28mself\u001b[39m\u001b[38;5;241m.\u001b[39m_getitem_multilevel(key)\n\u001b[0;32m-> 4102\u001b[0m indexer \u001b[38;5;241m=\u001b[39m \u001b[38;5;28mself\u001b[39m\u001b[38;5;241m.\u001b[39mcolumns\u001b[38;5;241m.\u001b[39mget_loc(key)\n\u001b[1;32m   4103\u001b[0m \u001b[38;5;28;01mif\u001b[39;00m is_integer(indexer):\n\u001b[1;32m   4104\u001b[0m     indexer \u001b[38;5;241m=\u001b[39m [indexer]\n",
      "File \u001b[0;32m/opt/anaconda3/envs/aml3.12/lib/python3.12/site-packages/pandas/core/indexes/base.py:3812\u001b[0m, in \u001b[0;36mIndex.get_loc\u001b[0;34m(self, key)\u001b[0m\n\u001b[1;32m   3807\u001b[0m     \u001b[38;5;28;01mif\u001b[39;00m \u001b[38;5;28misinstance\u001b[39m(casted_key, \u001b[38;5;28mslice\u001b[39m) \u001b[38;5;129;01mor\u001b[39;00m (\n\u001b[1;32m   3808\u001b[0m         \u001b[38;5;28misinstance\u001b[39m(casted_key, abc\u001b[38;5;241m.\u001b[39mIterable)\n\u001b[1;32m   3809\u001b[0m         \u001b[38;5;129;01mand\u001b[39;00m \u001b[38;5;28many\u001b[39m(\u001b[38;5;28misinstance\u001b[39m(x, \u001b[38;5;28mslice\u001b[39m) \u001b[38;5;28;01mfor\u001b[39;00m x \u001b[38;5;129;01min\u001b[39;00m casted_key)\n\u001b[1;32m   3810\u001b[0m     ):\n\u001b[1;32m   3811\u001b[0m         \u001b[38;5;28;01mraise\u001b[39;00m InvalidIndexError(key)\n\u001b[0;32m-> 3812\u001b[0m     \u001b[38;5;28;01mraise\u001b[39;00m \u001b[38;5;167;01mKeyError\u001b[39;00m(key) \u001b[38;5;28;01mfrom\u001b[39;00m \u001b[38;5;21;01merr\u001b[39;00m\n\u001b[1;32m   3813\u001b[0m \u001b[38;5;28;01mexcept\u001b[39;00m \u001b[38;5;167;01mTypeError\u001b[39;00m:\n\u001b[1;32m   3814\u001b[0m     \u001b[38;5;66;03m# If we have a listlike key, _check_indexing_error will raise\u001b[39;00m\n\u001b[1;32m   3815\u001b[0m     \u001b[38;5;66;03m#  InvalidIndexError. Otherwise we fall through and re-raise\u001b[39;00m\n\u001b[1;32m   3816\u001b[0m     \u001b[38;5;66;03m#  the TypeError.\u001b[39;00m\n\u001b[1;32m   3817\u001b[0m     \u001b[38;5;28mself\u001b[39m\u001b[38;5;241m.\u001b[39m_check_indexing_error(key)\n",
      "\u001b[0;31mKeyError\u001b[0m: 'timestamp_minutes'"
     ]
    }
   ],
   "source": [
    "# 6. Heatmap of Snipping Position in Episodes\n",
    "# Create fixed-width bins (e.g., 5-minute intervals)\n",
    "bins = list(range(0, int(df['timestamp_minutes'].max()) + 5, 5))  # 5-minute bins\n",
    "labels = [f'{i}-{i+5}min' for i in bins[:-1]]\n",
    "\n",
    "df['timestamp_bin'] = pd.cut(df['timestamp_minutes'], \n",
    "                           bins=bins,\n",
    "                           labels=labels,\n",
    "                           include_lowest=True)\n",
    "\n",
    "activity_heatmap = pd.crosstab(df['show'], df['timestamp_bin'])\n",
    "fig6 = px.imshow(activity_heatmap,\n",
    "                 title='Heatmap of Snipping Activity by Minute',\n",
    "                 labels={'x': 'Time in Episode (5-min bins)', \n",
    "                        'y': 'Show Name', \n",
    "                        'color': 'Number of Snips'},\n",
    "                 template='plotly_dark',\n",
    "                 height=700,  # Increased height to show all show titles\n",
    "                 aspect='auto')  # This ensures consistent cell sizes\n",
    "\n",
    "# Optional: Add custom color scale\n",
    "fig6.update_traces(colorscale='Viridis')\n",
    "\n",
    "fig6.show()"
   ]
  },
  {
   "cell_type": "code",
   "execution_count": 13,
   "metadata": {},
   "outputs": [
    {
     "data": {
      "application/vnd.plotly.v1+json": {
       "config": {
        "plotlyServerURL": "https://plot.ly"
       },
       "data": [
        {
         "customdata": [
          [
           "Demis Hassabis - Scaling, Superhuman AIs, AlphaZero atop LLMs, Rogue Nations Threat",
           1
          ],
          [
           "Mark Zuckerberg - Llama 3, Open Sourcing $10b Models, & Caesar Augustus",
           5
          ],
          [
           "John Schulman (OpenAI Cofounder) - Reasoning, RLHF, & Plan for 2027 AGI",
           3
          ],
          [
           "Leopold Aschenbrenner - China/US Super Intelligence Race, 2027 AGI, & The Return of History",
           5
          ],
          [
           "Francois Chollet, Mike Knoop - LLMs won’t lead to AGI - $1,000,000 Prize to find true solution",
           2
          ],
          [
           "Tony Blair - Life of a PM, The Deep State, Lee Kuan Yew, & AI's 1914 Moment",
           5
          ],
          [
           "Gwern Branwen - How an Anonymous Researcher Predicted AI's Trajectory",
           4
          ]
         ],
         "hovertemplate": "show=%{y}<br>publish_date=%{x}<br>snip_count=%{customdata[1]}<br>episode_title=%{customdata[0]}<extra></extra>",
         "legendgroup": "Dwarkesh Podcast",
         "marker": {
          "color": "#636efa",
          "size": [
           1,
           5,
           3,
           5,
           2,
           5,
           4
          ],
          "sizemode": "area",
          "sizeref": 0.05,
          "symbol": "circle"
         },
         "mode": "markers",
         "name": "Dwarkesh Podcast",
         "orientation": "v",
         "showlegend": false,
         "type": "scatter",
         "x": [
          "2024-02-28T00:00:00",
          "2024-04-18T00:00:00",
          "2024-05-15T00:00:00",
          "2024-06-04T00:00:00",
          "2024-06-11T00:00:00",
          "2024-06-26T00:00:00",
          "2024-11-13T00:00:00"
         ],
         "xaxis": "x",
         "y": [
          "Dwarkesh Podcast",
          "Dwarkesh Podcast",
          "Dwarkesh Podcast",
          "Dwarkesh Podcast",
          "Dwarkesh Podcast",
          "Dwarkesh Podcast",
          "Dwarkesh Podcast"
         ],
         "yaxis": "y"
        },
        {
         "customdata": [
          [
           "FILE 014 - A Conversation with CIA's Spymaster in Chief",
           2
          ]
         ],
         "hovertemplate": "show=%{y}<br>publish_date=%{x}<br>snip_count=%{customdata[1]}<br>episode_title=%{customdata[0]}<extra></extra>",
         "legendgroup": "The Langley Files: CIA's Podcast",
         "marker": {
          "color": "#EF553B",
          "size": [
           2
          ],
          "sizemode": "area",
          "sizeref": 0.05,
          "symbol": "circle"
         },
         "mode": "markers",
         "name": "The Langley Files: CIA's Podcast",
         "orientation": "v",
         "showlegend": false,
         "type": "scatter",
         "x": [
          "2024-02-28T00:00:00"
         ],
         "xaxis": "x",
         "y": [
          "The Langley Files: CIA's Podcast"
         ],
         "yaxis": "y"
        },
        {
         "customdata": [
          [
           "#57 David Deutsch - The Multiverse is Real",
           2
          ],
          [
           "#61 Sam Harris - Can Science Determine Moral Values?",
           2
          ]
         ],
         "hovertemplate": "show=%{y}<br>publish_date=%{x}<br>snip_count=%{customdata[1]}<br>episode_title=%{customdata[0]}<extra></extra>",
         "legendgroup": "Within Reason",
         "marker": {
          "color": "#00cc96",
          "size": [
           2,
           2
          ],
          "sizemode": "area",
          "sizeref": 0.05,
          "symbol": "circle"
         },
         "mode": "markers",
         "name": "Within Reason",
         "orientation": "v",
         "showlegend": false,
         "type": "scatter",
         "x": [
          "2024-03-05T00:00:00",
          "2024-03-31T00:00:00"
         ],
         "xaxis": "x",
         "y": [
          "Within Reason",
          "Within Reason"
         ],
         "yaxis": "y"
        },
        {
         "customdata": [
          [
           "#419 – Sam Altman: OpenAI, GPT-5, Sora, Board Saga, Elon Musk, Ilya, Power & AGI",
           4
          ],
          [
           "#424 – Bassem Youssef: Israel-Palestine, Gaza, Hamas, Middle East, Satire & Fame",
           3
          ],
          [
           "#425 – Andrew Callaghan: Channel 5, Gonzo, QAnon, O-Block, Politics & Alex Jones",
           6
          ],
          [
           "#431 – Roman Yampolskiy: Dangers of Superintelligent AI",
           2
          ],
          [
           "#434 – Aravind Srinivas: Perplexity CEO on Future of AI, Search & the Internet",
           5
          ],
          [
           "#438 – Elon Musk: Neuralink and the Future of Humanity",
           3
          ],
          [
           "#447 – Cursor Team: Future of Programming with AI",
           2
          ],
          [
           "#452 – Dario Amodei: Anthropic CEO on Claude, AGI & the Future of AI & Humanity",
           20
          ],
          [
           "#453 – Javier Milei: President of Argentina – Freedom, Economics, and Corruption",
           1
          ]
         ],
         "hovertemplate": "show=%{y}<br>publish_date=%{x}<br>snip_count=%{customdata[1]}<br>episode_title=%{customdata[0]}<extra></extra>",
         "legendgroup": "Lex Fridman Podcast",
         "marker": {
          "color": "#ab63fa",
          "size": [
           4,
           3,
           6,
           2,
           5,
           3,
           2,
           20,
           1
          ],
          "sizemode": "area",
          "sizeref": 0.05,
          "symbol": "circle"
         },
         "mode": "markers",
         "name": "Lex Fridman Podcast",
         "orientation": "v",
         "showlegend": false,
         "type": "scatter",
         "x": [
          "2024-03-18T00:00:00",
          "2024-04-05T00:00:00",
          "2024-04-13T00:00:00",
          "2024-06-02T00:00:00",
          "2024-06-19T00:00:00",
          "2024-08-02T00:00:00",
          "2024-10-06T00:00:00",
          "2024-11-11T00:00:00",
          "2024-11-20T00:00:00"
         ],
         "xaxis": "x",
         "y": [
          "Lex Fridman Podcast",
          "Lex Fridman Podcast",
          "Lex Fridman Podcast",
          "Lex Fridman Podcast",
          "Lex Fridman Podcast",
          "Lex Fridman Podcast",
          "Lex Fridman Podcast",
          "Lex Fridman Podcast",
          "Lex Fridman Podcast"
         ],
         "yaxis": "y"
        },
        {
         "customdata": [
          [
           "GPT-5's Potential Unveiled, Neuralink's Brain Interface Breakthrough, Saudi Arabia's AI Investment Leap",
           1
          ],
          [
           "Sutskever's SSI Raises $1B, Volkswagen Integrates ChatGPT, and a Biohybrid Mushroom Robot",
           1
          ],
          [
           "The Largest Organism on Earth",
           1
          ]
         ],
         "hovertemplate": "show=%{y}<br>publish_date=%{x}<br>snip_count=%{customdata[1]}<br>episode_title=%{customdata[0]}<extra></extra>",
         "legendgroup": "Discover Daily by Perplexity",
         "marker": {
          "color": "#FFA15A",
          "size": [
           1,
           1,
           1
          ],
          "sizemode": "area",
          "sizeref": 0.05,
          "symbol": "circle"
         },
         "mode": "markers",
         "name": "Discover Daily by Perplexity",
         "orientation": "v",
         "showlegend": false,
         "type": "scatter",
         "x": [
          "2024-03-21T00:00:00",
          "2024-09-06T00:00:00",
          "2024-11-09T00:00:00"
         ],
         "xaxis": "x",
         "y": [
          "Discover Daily by Perplexity",
          "Discover Daily by Perplexity",
          "Discover Daily by Perplexity"
         ],
         "yaxis": "y"
        },
        {
         "customdata": [
          [
           "581. What Both Parties Get Wrong About Immigration",
           8
          ],
          [
           "582. Why Is Everyone Moving to Canada?",
           4
          ],
          [
           "583. Are We Living Through the Most Revolutionary Period in History?",
           5
          ],
          [
           "EXTRA: The Fascinatingly Mundane Secrets of the World’s Most Exclusive Nightclub",
           1
          ],
          [
           "615. Is Ozempic as Magical as It Sounds?",
           3
          ]
         ],
         "hovertemplate": "show=%{y}<br>publish_date=%{x}<br>snip_count=%{customdata[1]}<br>episode_title=%{customdata[0]}<extra></extra>",
         "legendgroup": "Freakonomics Radio",
         "marker": {
          "color": "#19d3f3",
          "size": [
           8,
           4,
           5,
           1,
           3
          ],
          "sizemode": "area",
          "sizeref": 0.05,
          "symbol": "circle"
         },
         "mode": "markers",
         "name": "Freakonomics Radio",
         "orientation": "v",
         "showlegend": false,
         "type": "scatter",
         "x": [
          "2024-03-21T00:00:00",
          "2024-03-28T00:00:00",
          "2024-04-04T00:00:00",
          "2024-06-17T00:00:00",
          "2024-12-12T00:00:00"
         ],
         "xaxis": "x",
         "y": [
          "Freakonomics Radio",
          "Freakonomics Radio",
          "Freakonomics Radio",
          "Freakonomics Radio",
          "Freakonomics Radio"
         ],
         "yaxis": "y"
        },
        {
         "customdata": [
          [
           "Warum gibt die EU so ein schwaches Bild ab, Manfred Weber?",
           1
          ],
          [
           "Kann Präsident Javier Milei Argentinien retten, Ulrich Sante?",
           2
          ],
          [
           "Die EU: Schönheitsstreben statt Wettbewerbsgeist (Express)",
           1
          ],
          [
           "Linnemann, Wagenknecht, Reintke: Die Lehren aus der Europawahl!",
           1
          ],
          [
           "Wir brauchen eine Staatsreform, um wieder wettbewerbsfähig zu werden. (Express)",
           1
          ],
          [
           "Warum steckt die SPD so in der Krise, Sigmar Gabriel?",
           2
          ],
          [
           "Warum tickt der Osten anders als der Westen, Thomas Brussig?",
           1
          ],
          [
           "Warum hoffen Sie auf einen Sieg von Donald Trump, Viktor Orbán?",
           1
          ],
          [
           "Ist Christian Lindner Schuld am Ampel-Aus, Sigmar Gabriel?",
           1
          ],
          [
           "Ampel-Aus: Wer ist Gewinner und wer ist Verlierer, Albrecht von Lucke?",
           1
          ],
          [
           "Warum ist Europa ein Kontinent ohne Eigenschaften, Peter Sloterdijk?",
           1
          ],
          [
           "Wahlkampf: Kann Habecks Gefühligkeit verfangen, Frank Stauss?",
           2
          ],
          [
           "Warum weht der Wind heute so eisig, Klaus Meine?",
           4
          ],
          [
           "Welche Chancen sehen Sie in einem ethischen Kapitalismus, Markus Gabriel?",
           1
          ],
          [
           "Was ist der FDP-Plan für diesen kurzen Wahlkampf, Marco Buschmann?",
           1
          ],
          [
           "Wird sich unter Trump die Marktwirtschaft verformen, Joe Kaeser?",
           2
          ],
          [
           "Temu und Shein: Was sind die Risiken der Billigware aus China, Patrick Zahn?",
           1
          ],
          [
           "Wieso wandern so viele Wähler von der Linkspartei zum BSW, Dietmar Bartsch?",
           1
          ],
          [
           "Wirtschaftspolitik: Welche Partei verfolgt welche Ziele, Prof. Lars Feld und Prof. Justus Haucap?",
           1
          ]
         ],
         "hovertemplate": "show=%{y}<br>publish_date=%{x}<br>snip_count=%{customdata[1]}<br>episode_title=%{customdata[0]}<extra></extra>",
         "legendgroup": "The Pioneer Briefing",
         "marker": {
          "color": "#FF6692",
          "size": [
           1,
           2,
           1,
           1,
           1,
           2,
           1,
           1,
           1,
           1,
           1,
           2,
           4,
           1,
           1,
           2,
           1,
           1,
           1
          ],
          "sizemode": "area",
          "sizeref": 0.05,
          "symbol": "circle"
         },
         "mode": "markers",
         "name": "The Pioneer Briefing",
         "orientation": "v",
         "showlegend": false,
         "type": "scatter",
         "x": [
          "2024-03-21T00:00:00",
          "2024-04-03T00:00:00",
          "2024-05-25T00:00:00",
          "2024-06-10T00:00:00",
          "2024-06-15T00:00:00",
          "2024-06-27T00:00:00",
          "2024-09-16T00:00:00",
          "2024-10-17T00:00:00",
          "2024-11-08T00:00:00",
          "2024-11-11T00:00:00",
          "2024-11-21T00:00:00",
          "2024-11-27T00:00:00",
          "2024-11-28T00:00:00",
          "2024-11-29T00:00:00",
          "2024-12-04T00:00:00",
          "2024-12-05T00:00:00",
          "2024-12-09T00:00:00",
          "2024-12-11T00:00:00",
          "2024-12-13T00:00:00"
         ],
         "xaxis": "x",
         "y": [
          "The Pioneer Briefing",
          "The Pioneer Briefing",
          "The Pioneer Briefing",
          "The Pioneer Briefing",
          "The Pioneer Briefing",
          "The Pioneer Briefing",
          "The Pioneer Briefing",
          "The Pioneer Briefing",
          "The Pioneer Briefing",
          "The Pioneer Briefing",
          "The Pioneer Briefing",
          "The Pioneer Briefing",
          "The Pioneer Briefing",
          "The Pioneer Briefing",
          "The Pioneer Briefing",
          "The Pioneer Briefing",
          "The Pioneer Briefing",
          "The Pioneer Briefing",
          "The Pioneer Briefing"
         ],
         "yaxis": "y"
        },
        {
         "customdata": [
          [
           "E171: DOJ sues Apple, AI arms race, Reddit IPO, Realtor settlement & more",
           1
          ],
          [
           "E172: SBF gets 25 years, Trump's meme stock, RFK Jr picks VP, Biden's 2025 budget & more",
           5
          ],
          [
           "E173: Google buying HubSpot? FTX depositors not made whole, AI job fears, Ukraine joining NATO",
           5
          ],
          [
           "E174: Inflation stays hot, AI disclosure bill, Drone warfare, defense startups & more",
           4
          ],
          [
           "Google fires protestors, NPR chaos, Humane's AI Pin, Startup tax crisis, sports betting scandal",
           1
          ],
          [
           "Meta's scorched earth approach to AI, Tesla's future, TikTok bill, FTC bans noncompetes, wealth tax",
           4
          ],
          [
           "In conversation with Sheryl Sandberg, plus open-source AI gene editing explained",
           2
          ],
          [
           "In conversation with Sam Altman",
           2
          ],
          [
           "GPT-4o launches, Glue demo, Ohalo breakthrough, Druck's Argentina bet, did Google kill Perplexity?",
           2
          ],
          [
           "Scarlett Johansson vs OpenAI, Nvidia's trillion-dollar problem, the \"vibecession,\" plastic in our balls",
           1
          ],
          [
           "Trump verdict, COVID Cover-up, Crypto Corner, Salesforce drops 20%, AI correction?",
           1
          ],
          [
           "Elon gets paid, Apple's AI pop, OpenAI revenue rip, Macro debate & Inside Trump Fundraiser",
           1
          ],
          [
           "Presidential Debate Reaction, Biden Hot Swap?, Tech unemployment, OpenAI considers for-profit & more",
           3
          ],
          [
           "Hot Swap growing, donors revolt, President Kamala? SCOTUS breakdown: Immunity, Chevron, Censorship",
           1
          ],
          [
           "Jonathan Haidt | The All-In Interview",
           6
          ],
          [
           "Biden chaos, Soft landing secured? AI sentiment turns bearish, French elections",
           1
          ],
          [
           "Trump assassination attempt, Secret Service failure, Inside the RNC, VC liquidity problem",
           2
          ],
          [
           "Mag 7 sell-off, Wiz rejects Google, UBI, Kamala in, China's nuclear buildout, Sacks responds to PG",
           2
          ],
          [
           "Yen Carry Trade, Recession odds grow, Buffett cash pile, Google ruled monopoly, Kamala picks Walz",
           1
          ],
          [
           "Break up Google, Starbucks CEO out, Kamala’s price controls, Boeing disaster, Kursk offensive",
           2
          ],
          [
           "Massive jobs revision, Kamala's wealth tax, polls vs prediction markets, end of race-based admissions",
           2
          ],
          [
           "In conversation with Reid Hoffman & Robert F. Kennedy Jr.",
           2
          ],
          [
           "\"Founder Mode,\" DOJ alleges Russian podcast op, Kamala flips proposals, Tech loses Section 230?",
           7
          ],
          [
           "Big Fed rate cuts, AI killing call centers, $50B govt boondoggle, VC's rough years, Trump/Kamala",
           2
          ],
          [
           "OpenAI's $150B conversion, Meta's AR glasses, Blue-collar boom, Risk of nuclear war",
           2
          ],
          [
           "Hurricane fallout, AlphaFold, Google breakup, Trump surge, VC giveback, TikTok survey",
           2
          ],
          [
           "Dueling Presidential interviews, SpaceX’s big catch, Robotaxis, Uber buying Expedia?, Nuclear NIMBY",
           3
          ],
          [
           "Markets turn Trump, Long rates spike, Election home stretch, Influencer mania, Saving Starbucks",
           3
          ],
          [
           "Inflated GDP?, Google earnings, How the media lost trust, Rogan/Trump search controversy, Election!",
           5
          ],
          [
           "Trump wins! How it happened and what's next",
           2
          ],
          [
           "Trump's market impact: Bitcoin, M&A, IPOs + transition picks; Polymarket CEO raided by FBI",
           5
          ],
          [
           "DOGE unveils a roadmap, Unlocking GDP Growth, WW3 escalation, Fat cell memory",
           2
          ],
          [
           "New SEC Chair, Bitcoin, xAI Supercomputer, UnitedHealth CEO murder, with Gavin Baker & Joe Lonsdale",
           8
          ],
          [
           "Trump's Cabinet, Google's Quantum Chip, Apple's iOS Flop, TikTok Ban, State of VC with Keith Rabois",
           3
          ],
          [
           "DOGE kills its first bill, Zuck vs OpenAI, Google's AI comeback with bestie Aaron Levie",
           2
          ]
         ],
         "hovertemplate": "show=%{y}<br>publish_date=%{x}<br>snip_count=%{customdata[1]}<br>episode_title=%{customdata[0]}<extra></extra>",
         "legendgroup": "All-In with Chamath, Jason, Sacks & Friedberg",
         "marker": {
          "color": "#B6E880",
          "size": [
           1,
           5,
           5,
           4,
           1,
           4,
           2,
           2,
           2,
           1,
           1,
           1,
           3,
           1,
           6,
           1,
           2,
           2,
           1,
           2,
           2,
           2,
           7,
           2,
           2,
           2,
           3,
           3,
           5,
           2,
           5,
           2,
           8,
           3,
           2
          ],
          "sizemode": "area",
          "sizeref": 0.05,
          "symbol": "circle"
         },
         "mode": "markers",
         "name": "All-In with Chamath, Jason, Sacks & Friedberg",
         "orientation": "v",
         "showlegend": false,
         "type": "scatter",
         "x": [
          "2024-03-22T00:00:00",
          "2024-03-29T00:00:00",
          "2024-04-05T00:00:00",
          "2024-04-12T00:00:00",
          "2024-04-19T00:00:00",
          "2024-04-26T00:00:00",
          "2024-05-03T00:00:00",
          "2024-05-10T00:00:00",
          "2024-05-17T00:00:00",
          "2024-05-24T00:00:00",
          "2024-05-31T00:00:00",
          "2024-06-14T00:00:00",
          "2024-06-29T00:00:00",
          "2024-07-04T00:00:00",
          "2024-07-10T00:00:00",
          "2024-07-12T00:00:00",
          "2024-07-19T00:00:00",
          "2024-07-26T00:00:00",
          "2024-08-09T00:00:00",
          "2024-08-16T00:00:00",
          "2024-08-23T00:00:00",
          "2024-08-30T00:00:00",
          "2024-09-06T00:00:00",
          "2024-09-20T00:00:00",
          "2024-09-27T00:00:00",
          "2024-10-11T00:00:00",
          "2024-10-18T00:00:00",
          "2024-10-25T00:00:00",
          "2024-11-01T00:00:00",
          "2024-11-08T00:00:00",
          "2024-11-16T00:00:00",
          "2024-11-23T00:00:00",
          "2024-12-07T00:00:00",
          "2024-12-13T00:00:00",
          "2024-12-20T00:00:00"
         ],
         "xaxis": "x",
         "y": [
          "All-In with Chamath, Jason, Sacks & Friedberg",
          "All-In with Chamath, Jason, Sacks & Friedberg",
          "All-In with Chamath, Jason, Sacks & Friedberg",
          "All-In with Chamath, Jason, Sacks & Friedberg",
          "All-In with Chamath, Jason, Sacks & Friedberg",
          "All-In with Chamath, Jason, Sacks & Friedberg",
          "All-In with Chamath, Jason, Sacks & Friedberg",
          "All-In with Chamath, Jason, Sacks & Friedberg",
          "All-In with Chamath, Jason, Sacks & Friedberg",
          "All-In with Chamath, Jason, Sacks & Friedberg",
          "All-In with Chamath, Jason, Sacks & Friedberg",
          "All-In with Chamath, Jason, Sacks & Friedberg",
          "All-In with Chamath, Jason, Sacks & Friedberg",
          "All-In with Chamath, Jason, Sacks & Friedberg",
          "All-In with Chamath, Jason, Sacks & Friedberg",
          "All-In with Chamath, Jason, Sacks & Friedberg",
          "All-In with Chamath, Jason, Sacks & Friedberg",
          "All-In with Chamath, Jason, Sacks & Friedberg",
          "All-In with Chamath, Jason, Sacks & Friedberg",
          "All-In with Chamath, Jason, Sacks & Friedberg",
          "All-In with Chamath, Jason, Sacks & Friedberg",
          "All-In with Chamath, Jason, Sacks & Friedberg",
          "All-In with Chamath, Jason, Sacks & Friedberg",
          "All-In with Chamath, Jason, Sacks & Friedberg",
          "All-In with Chamath, Jason, Sacks & Friedberg",
          "All-In with Chamath, Jason, Sacks & Friedberg",
          "All-In with Chamath, Jason, Sacks & Friedberg",
          "All-In with Chamath, Jason, Sacks & Friedberg",
          "All-In with Chamath, Jason, Sacks & Friedberg",
          "All-In with Chamath, Jason, Sacks & Friedberg",
          "All-In with Chamath, Jason, Sacks & Friedberg",
          "All-In with Chamath, Jason, Sacks & Friedberg",
          "All-In with Chamath, Jason, Sacks & Friedberg",
          "All-In with Chamath, Jason, Sacks & Friedberg",
          "All-In with Chamath, Jason, Sacks & Friedberg"
         ],
         "yaxis": "y"
        },
        {
         "customdata": [
          [
           "Prof G Markets: Reddit Reignites the IPO Market, Microsoft’s AI All-Stars, and Private Equity Perks",
           2
          ],
          [
           "Prof G Markets: Trump’s Memestock Goes Public, the Problem with DEI, and Daniel Kahneman’s Legacy",
           3
          ],
          [
           "Office Hours Special: The Future of Work Part 1",
           2
          ],
          [
           "Reaching $1M in ARR, Rising Above the Competition, and Knowing Your Purpose — ft. Tyler Denk of Beehiiv",
           3
          ],
          [
           "No Mercy / No Malice: Big Energy",
           1
          ],
          [
           "Prof G Markets: Bob Iger’s Bad Day, Trump Media’s Fraudulent Auditor, and Uber’s Venture Investments",
           2
          ],
          [
           "No Mercy / No Malice: Earners vs Owners",
           2
          ],
          [
           "The Road to Healthier & Longer Lives — with Andrew Scott",
           1
          ],
          [
           "No Mercy / No Malice: Agency",
           2
          ],
          [
           "No Mercy / No Malice: Second Mouse.AI",
           1
          ],
          [
           "What Went Wrong with Capitalism? — with Ruchir Sharma",
           6
          ],
          [
           "Elon Musk’s Pay Package, Scott’s Early Career Advice, and How Do I Find a Mentor?",
           1
          ],
          [
           "Prof G Markets: Rivian and Volkswagen’s New Partnership + Scott’s Tax Strategy",
           1
          ],
          [
           "The Defense Industry, Greatness Is in the Agency of Others, and What to Do When Your Partner Makes More Money Than You",
           1
          ],
          [
           "No Mercy / No Malice: Time to Leave",
           2
          ],
          [
           "Global Elections, Foreign Affairs, and National Security — with Admiral James Stavridis",
           1
          ],
          [
           "Cold War II + An Update on Global Conflicts — with Niall Ferguson",
           2
          ],
          [
           "No Mercy / No Malice: Optimism as a Default Setting",
           1
          ],
          [
           "Is Waymo Winning the Self-Driving Race? Nike’s 'Winning Isn't for Everyone' Campaign, and What if My Talents and Skills Don’t Align With a High-Paying Job?",
           1
          ],
          [
           "No Mercy / No Malice: Unserious People",
           1
          ],
          [
           "The State of the World — with Ian Bremmer",
           2
          ],
          [
           "Prof G Markets: Meta’s AI Promise, Microsoft’s Disappointing Beat & Why Google Should Spin Youtube",
           1
          ]
         ],
         "hovertemplate": "show=%{y}<br>publish_date=%{x}<br>snip_count=%{customdata[1]}<br>episode_title=%{customdata[0]}<extra></extra>",
         "legendgroup": "The Prof G Pod with Scott Galloway",
         "marker": {
          "color": "#FF97FF",
          "size": [
           2,
           3,
           2,
           3,
           1,
           2,
           2,
           1,
           2,
           1,
           6,
           1,
           1,
           1,
           2,
           1,
           2,
           1,
           1,
           1,
           2,
           1
          ],
          "sizemode": "area",
          "sizeref": 0.05,
          "symbol": "circle"
         },
         "mode": "markers",
         "name": "The Prof G Pod with Scott Galloway",
         "orientation": "v",
         "showlegend": false,
         "type": "scatter",
         "x": [
          "2024-03-25T00:00:00",
          "2024-04-01T00:00:00",
          "2024-04-10T00:00:00",
          "2024-05-08T00:00:00",
          "2024-05-11T00:00:00",
          "2024-05-13T00:00:00",
          "2024-05-18T00:00:00",
          "2024-05-30T00:00:00",
          "2024-06-01T00:00:00",
          "2024-06-15T00:00:00",
          "2024-06-20T00:00:00",
          "2024-06-26T00:00:00",
          "2024-07-01T00:00:00",
          "2024-07-03T00:00:00",
          "2024-07-09T00:00:00",
          "2024-07-11T00:00:00",
          "2024-08-08T00:00:00",
          "2024-08-24T00:00:00",
          "2024-09-04T00:00:00",
          "2024-09-28T00:00:00",
          "2024-10-31T00:00:00",
          "2024-11-04T00:00:00"
         ],
         "xaxis": "x",
         "y": [
          "The Prof G Pod with Scott Galloway",
          "The Prof G Pod with Scott Galloway",
          "The Prof G Pod with Scott Galloway",
          "The Prof G Pod with Scott Galloway",
          "The Prof G Pod with Scott Galloway",
          "The Prof G Pod with Scott Galloway",
          "The Prof G Pod with Scott Galloway",
          "The Prof G Pod with Scott Galloway",
          "The Prof G Pod with Scott Galloway",
          "The Prof G Pod with Scott Galloway",
          "The Prof G Pod with Scott Galloway",
          "The Prof G Pod with Scott Galloway",
          "The Prof G Pod with Scott Galloway",
          "The Prof G Pod with Scott Galloway",
          "The Prof G Pod with Scott Galloway",
          "The Prof G Pod with Scott Galloway",
          "The Prof G Pod with Scott Galloway",
          "The Prof G Pod with Scott Galloway",
          "The Prof G Pod with Scott Galloway",
          "The Prof G Pod with Scott Galloway",
          "The Prof G Pod with Scott Galloway",
          "The Prof G Pod with Scott Galloway"
         ],
         "yaxis": "y"
        },
        {
         "customdata": [
          [
           "#360 - We Really Don’t Have Free Will?",
           4
          ],
          [
           "#361 - Sam Bankman-Fried & Effective Altruism",
           2
          ],
          [
           "#362 - Six Months of War",
           3
          ],
          [
           "#363 - Knowledge Work",
           4
          ],
          [
           "#365 - Reality Check",
           4
          ],
          [
           "#366 - Urban Warfare 2.0",
           2
          ],
          [
           "#367 - Campus Protests, Antisemitism, and Western Values",
           2
          ],
          [
           "#368 - Freedom & Censorship",
           2
          ],
          [
           "#369 - Escaping Death",
           2
          ],
          [
           "#370 - Gender Apartheid and the Future of Iran",
           1
          ],
          [
           "#371 - What the Hell Is Happening?",
           1
          ],
          [
           "#372 - Life & Work",
           1
          ],
          [
           "#374 - Consciousness and the Physical World",
           5
          ],
          [
           "#376 - How Democracies Fail",
           1
          ],
          [
           "#379 - Regulating Artificial Intelligence",
           1
          ],
          [
           "#381 - Delusions, Right and Left",
           2
          ],
          [
           "#382 - The Eye of Nature",
           3
          ],
          [
           "#384 - Stress Testing Our Democracy",
           1
          ],
          [
           "#385 - AI Utopia",
           6
          ],
          [
           "#386 - Information & Social Order",
           4
          ],
          [
           "#387 - Politics & Power",
           2
          ],
          [
           "#388 - What Is Life?",
           2
          ],
          [
           "#391 - The Reckoning",
           3
          ],
          [
           "#392 - Technology & Culture",
           3
          ],
          [
           "#393 - Is History Repeating Itself?",
           11
          ],
          [
           "#394 - Bringing Back the Mammoth",
           2
          ]
         ],
         "hovertemplate": "show=%{y}<br>publish_date=%{x}<br>snip_count=%{customdata[1]}<br>episode_title=%{customdata[0]}<extra></extra>",
         "legendgroup": "Making Sense with Sam Harris - Subscriber Content",
         "marker": {
          "color": "#FECB52",
          "size": [
           4,
           2,
           3,
           4,
           4,
           2,
           2,
           2,
           2,
           1,
           1,
           1,
           5,
           1,
           1,
           2,
           3,
           1,
           6,
           4,
           2,
           2,
           3,
           3,
           11,
           2
          ],
          "sizemode": "area",
          "sizeref": 0.05,
          "symbol": "circle"
         },
         "mode": "markers",
         "name": "Making Sense with Sam Harris - Subscriber Content",
         "orientation": "v",
         "showlegend": false,
         "type": "scatter",
         "x": [
          "2024-03-27T00:00:00",
          "2024-04-01T00:00:00",
          "2024-04-09T00:00:00",
          "2024-04-15T00:00:00",
          "2024-05-01T00:00:00",
          "2024-05-07T00:00:00",
          "2024-05-13T00:00:00",
          "2024-05-21T00:00:00",
          "2024-05-30T00:00:00",
          "2024-06-06T00:00:00",
          "2024-06-14T00:00:00",
          "2024-06-24T00:00:00",
          "2024-07-09T00:00:00",
          "2024-07-19T00:00:00",
          "2024-08-12T00:00:00",
          "2024-08-26T00:00:00",
          "2024-09-06T00:00:00",
          "2024-09-23T00:00:00",
          "2024-09-30T00:00:00",
          "2024-10-07T00:00:00",
          "2024-10-15T00:00:00",
          "2024-10-21T00:00:00",
          "2024-11-11T00:00:00",
          "2024-11-19T00:00:00",
          "2024-11-26T00:00:00",
          "2024-12-03T00:00:00"
         ],
         "xaxis": "x",
         "y": [
          "Making Sense with Sam Harris - Subscriber Content",
          "Making Sense with Sam Harris - Subscriber Content",
          "Making Sense with Sam Harris - Subscriber Content",
          "Making Sense with Sam Harris - Subscriber Content",
          "Making Sense with Sam Harris - Subscriber Content",
          "Making Sense with Sam Harris - Subscriber Content",
          "Making Sense with Sam Harris - Subscriber Content",
          "Making Sense with Sam Harris - Subscriber Content",
          "Making Sense with Sam Harris - Subscriber Content",
          "Making Sense with Sam Harris - Subscriber Content",
          "Making Sense with Sam Harris - Subscriber Content",
          "Making Sense with Sam Harris - Subscriber Content",
          "Making Sense with Sam Harris - Subscriber Content",
          "Making Sense with Sam Harris - Subscriber Content",
          "Making Sense with Sam Harris - Subscriber Content",
          "Making Sense with Sam Harris - Subscriber Content",
          "Making Sense with Sam Harris - Subscriber Content",
          "Making Sense with Sam Harris - Subscriber Content",
          "Making Sense with Sam Harris - Subscriber Content",
          "Making Sense with Sam Harris - Subscriber Content",
          "Making Sense with Sam Harris - Subscriber Content",
          "Making Sense with Sam Harris - Subscriber Content",
          "Making Sense with Sam Harris - Subscriber Content",
          "Making Sense with Sam Harris - Subscriber Content",
          "Making Sense with Sam Harris - Subscriber Content",
          "Making Sense with Sam Harris - Subscriber Content"
         ],
         "yaxis": "y"
        },
        {
         "customdata": [
          [
           "Future of Work: AI",
           3
          ],
          [
           "TikTok Ban Fast-Tracked, Elon Pay Package Revived, and NPR Bias Accusations",
           3
          ],
          [
           "OpenAI's New Model, Presidential Debates, and EV Tariffs",
           1
          ],
          [
           "AI Antitrust Investigations, Nvidia Stock Split, and OpenAI Whistleblowers",
           1
          ],
          [
           "OpenAI CTO Mira Murati on ScarJo Controversy, Sam Altman & Disinfo Fears | On With Kara Swisher",
           1
          ],
          [
           "X Blocked in Brazil, Nvidia Wipeout, and the Fuss Over Founder Mode",
           1
          ],
          [
           "CEO Shooting, Bitcoin Surge, and Bezos’s Trump Optimism",
           2
          ]
         ],
         "hovertemplate": "show=%{y}<br>publish_date=%{x}<br>snip_count=%{customdata[1]}<br>episode_title=%{customdata[0]}<extra></extra>",
         "legendgroup": "Pivot",
         "marker": {
          "color": "#636efa",
          "size": [
           3,
           3,
           1,
           1,
           1,
           1,
           2
          ],
          "sizemode": "area",
          "sizeref": 0.05,
          "symbol": "circle"
         },
         "mode": "markers",
         "name": "Pivot",
         "orientation": "v",
         "showlegend": false,
         "type": "scatter",
         "x": [
          "2024-04-03T00:00:00",
          "2024-04-19T00:00:00",
          "2024-05-17T00:00:00",
          "2024-06-07T00:00:00",
          "2024-07-05T00:00:00",
          "2024-09-06T00:00:00",
          "2024-12-06T00:00:00"
         ],
         "xaxis": "x",
         "y": [
          "Pivot",
          "Pivot",
          "Pivot",
          "Pivot",
          "Pivot",
          "Pivot",
          "Pivot"
         ],
         "yaxis": "y"
        },
        {
         "customdata": [
          [
           "Dr. Casey Means: Transform Your Health by Improving Metabolism, Hormone & Blood Sugar Regulation",
           4
          ],
          [
           "Dr. Jonathan Haidt: How Smartphones & Social Media Impact Mental Health & the Realistic Solutions",
           5
          ],
          [
           "Dr. Gabrielle Lyon: How to Exercise & Eat for Optimal Health & Longevity",
           5
          ]
         ],
         "hovertemplate": "show=%{y}<br>publish_date=%{x}<br>snip_count=%{customdata[1]}<br>episode_title=%{customdata[0]}<extra></extra>",
         "legendgroup": "Huberman Lab",
         "marker": {
          "color": "#EF553B",
          "size": [
           4,
           5,
           5
          ],
          "sizemode": "area",
          "sizeref": 0.05,
          "symbol": "circle"
         },
         "mode": "markers",
         "name": "Huberman Lab",
         "orientation": "v",
         "showlegend": false,
         "type": "scatter",
         "x": [
          "2024-05-06T00:00:00",
          "2024-06-10T00:00:00",
          "2024-06-24T00:00:00"
         ],
         "xaxis": "x",
         "y": [
          "Huberman Lab",
          "Huberman Lab",
          "Huberman Lab"
         ],
         "yaxis": "y"
        },
        {
         "customdata": [
          [
           "AI, Robotics & the Future of Manufacturing",
           3
          ],
          [
           "The Little Tech Agenda: Biden vs. Trump",
           2
          ],
          [
           "Las Vegas is Becoming America's Safest City",
           1
          ]
         ],
         "hovertemplate": "show=%{y}<br>publish_date=%{x}<br>snip_count=%{customdata[1]}<br>episode_title=%{customdata[0]}<extra></extra>",
         "legendgroup": "The Ben & Marc Show",
         "marker": {
          "color": "#00cc96",
          "size": [
           3,
           2,
           1
          ],
          "sizemode": "area",
          "sizeref": 0.05,
          "symbol": "circle"
         },
         "mode": "markers",
         "name": "The Ben & Marc Show",
         "orientation": "v",
         "showlegend": false,
         "type": "scatter",
         "x": [
          "2024-05-16T00:00:00",
          "2024-07-16T00:00:00",
          "2024-11-18T00:00:00"
         ],
         "xaxis": "x",
         "y": [
          "The Ben & Marc Show",
          "The Ben & Marc Show",
          "The Ben & Marc Show"
         ],
         "yaxis": "y"
        },
        {
         "customdata": [
          [
           "A Conversation With President Zelensky",
           2
          ],
          [
           "Trump Wins Broad Immunity",
           1
          ],
          [
           "A Controversial Crackdown on Homeless Encampments",
           1
          ],
          [
           "Two Billionaires’ Big Plan to Shrink Government",
           1
          ]
         ],
         "hovertemplate": "show=%{y}<br>publish_date=%{x}<br>snip_count=%{customdata[1]}<br>episode_title=%{customdata[0]}<extra></extra>",
         "legendgroup": "The Daily",
         "marker": {
          "color": "#ab63fa",
          "size": [
           2,
           1,
           1,
           1
          ],
          "sizemode": "area",
          "sizeref": 0.05,
          "symbol": "circle"
         },
         "mode": "markers",
         "name": "The Daily",
         "orientation": "v",
         "showlegend": false,
         "type": "scatter",
         "x": [
          "2024-06-04T00:00:00",
          "2024-07-02T00:00:00",
          "2024-08-15T00:00:00",
          "2024-12-04T00:00:00"
         ],
         "xaxis": "x",
         "y": [
          "The Daily",
          "The Daily",
          "The Daily",
          "The Daily"
         ],
         "yaxis": "y"
        },
        {
         "customdata": [
          [
           "The State of AI with Marc & Ben",
           2
          ],
          [
           "Building Innovation Hubs: The UK & Beyond",
           1
          ],
          [
           "Grand Challenges in Healthcare AI",
           3
          ],
          [
           "Tesla's Road Ahead: The Bitter Lesson in Robotics",
           2
          ],
          [
           "Rebuilding America's Industrial Backbone",
           2
          ],
          [
           "How AI is Transforming Labor Markets",
           4
          ]
         ],
         "hovertemplate": "show=%{y}<br>publish_date=%{x}<br>snip_count=%{customdata[1]}<br>episode_title=%{customdata[0]}<extra></extra>",
         "legendgroup": "a16z Podcast",
         "marker": {
          "color": "#FFA15A",
          "size": [
           2,
           1,
           3,
           2,
           2,
           4
          ],
          "sizemode": "area",
          "sizeref": 0.05,
          "symbol": "circle"
         },
         "mode": "markers",
         "name": "a16z Podcast",
         "orientation": "v",
         "showlegend": false,
         "type": "scatter",
         "x": [
          "2024-06-14T00:00:00",
          "2024-08-14T00:00:00",
          "2024-09-07T00:00:00",
          "2024-10-24T00:00:00",
          "2024-11-11T00:00:00",
          "2024-12-11T00:00:00"
         ],
         "xaxis": "x",
         "y": [
          "a16z Podcast",
          "a16z Podcast",
          "a16z Podcast",
          "a16z Podcast",
          "a16z Podcast",
          "a16z Podcast"
         ],
         "yaxis": "y"
        },
        {
         "customdata": [
          [
           "Strong American Growth (and Something to Worry About) || Peter Zeihan",
           1
          ],
          [
           "The Federal Reserve and Its Inflation Target || Peter Zeihan",
           1
          ],
          [
           "What Happens to China After Xi Jinping Dies? || Peter Zeihan",
           2
          ],
          [
           "UK Elections: Starting Over || Peter Zeihan",
           1
          ],
          [
           "Can the French Lead the EU into the Future? || Peter Zeihan",
           1
          ],
          [
           "America After the Election: Foreign Policy || Peter Zeihan",
           2
          ],
          [
           "Can Immigration Solve China's People Problem? || Peter Zeihan",
           1
          ],
          [
           "Election Postmortem... || Peter Zeihan",
           1
          ],
          [
           "Can Mar-a-Lago Solve the Leadership Vacuum in Europe || Peter Zeihan",
           2
          ]
         ],
         "hovertemplate": "show=%{y}<br>publish_date=%{x}<br>snip_count=%{customdata[1]}<br>episode_title=%{customdata[0]}<extra></extra>",
         "legendgroup": "The Peter Zeihan Podcast Series",
         "marker": {
          "color": "#19d3f3",
          "size": [
           1,
           1,
           2,
           1,
           1,
           2,
           1,
           1,
           2
          ],
          "sizemode": "area",
          "sizeref": 0.05,
          "symbol": "circle"
         },
         "mode": "markers",
         "name": "The Peter Zeihan Podcast Series",
         "orientation": "v",
         "showlegend": false,
         "type": "scatter",
         "x": [
          "2024-06-19T00:00:00",
          "2024-07-05T00:00:00",
          "2024-07-09T00:00:00",
          "2024-07-10T00:00:00",
          "2024-07-16T00:00:00",
          "2024-11-05T00:00:00",
          "2024-11-18T00:00:00",
          "2024-11-19T00:00:00",
          "2024-12-13T00:00:00"
         ],
         "xaxis": "x",
         "y": [
          "The Peter Zeihan Podcast Series",
          "The Peter Zeihan Podcast Series",
          "The Peter Zeihan Podcast Series",
          "The Peter Zeihan Podcast Series",
          "The Peter Zeihan Podcast Series",
          "The Peter Zeihan Podcast Series",
          "The Peter Zeihan Podcast Series",
          "The Peter Zeihan Podcast Series",
          "The Peter Zeihan Podcast Series"
         ],
         "yaxis": "y"
        },
        {
         "customdata": [
          [
           "Rocketing science: China’s newest superpower",
           1
          ]
         ],
         "hovertemplate": "show=%{y}<br>publish_date=%{x}<br>snip_count=%{customdata[1]}<br>episode_title=%{customdata[0]}<extra></extra>",
         "legendgroup": "Economist Podcasts",
         "marker": {
          "color": "#FF6692",
          "size": [
           1
          ],
          "sizemode": "area",
          "sizeref": 0.05,
          "symbol": "circle"
         },
         "mode": "markers",
         "name": "Economist Podcasts",
         "orientation": "v",
         "showlegend": false,
         "type": "scatter",
         "x": [
          "2024-06-24T00:00:00"
         ],
         "xaxis": "x",
         "y": [
          "Economist Podcasts"
         ],
         "yaxis": "y"
        },
        {
         "customdata": [
          [
           "Why didn’t Chris and Dan get into Berghain? (Part 2)",
           4
          ],
          [
           "Why is it so hard to tax billionaires? (Part 1)",
           1
          ]
         ],
         "hovertemplate": "show=%{y}<br>publish_date=%{x}<br>snip_count=%{customdata[1]}<br>episode_title=%{customdata[0]}<extra></extra>",
         "legendgroup": "Search Engine",
         "marker": {
          "color": "#B6E880",
          "size": [
           4,
           1
          ],
          "sizemode": "area",
          "sizeref": 0.05,
          "symbol": "circle"
         },
         "mode": "markers",
         "name": "Search Engine",
         "orientation": "v",
         "showlegend": false,
         "type": "scatter",
         "x": [
          "2024-06-26T00:00:00",
          "2024-10-18T00:00:00"
         ],
         "xaxis": "x",
         "y": [
          "Search Engine",
          "Search Engine"
         ],
         "yaxis": "y"
        },
        {
         "customdata": [
          [
           "Lyman Stone on Demographic Decline",
           4
          ],
          [
           "Vivek Levels with Mark Cuban on ESG, DEI, and Kamala",
           1
          ],
          [
           "FDR’s New Deal: Good or Bad?",
           3
          ]
         ],
         "hovertemplate": "show=%{y}<br>publish_date=%{x}<br>snip_count=%{customdata[1]}<br>episode_title=%{customdata[0]}<extra></extra>",
         "legendgroup": "Truth with Vivek Ramaswamy",
         "marker": {
          "color": "#FF97FF",
          "size": [
           4,
           1,
           3
          ],
          "sizemode": "area",
          "sizeref": 0.05,
          "symbol": "circle"
         },
         "mode": "markers",
         "name": "Truth with Vivek Ramaswamy",
         "orientation": "v",
         "showlegend": false,
         "type": "scatter",
         "x": [
          "2024-07-10T00:00:00",
          "2024-08-07T00:00:00",
          "2024-10-23T00:00:00"
         ],
         "xaxis": "x",
         "y": [
          "Truth with Vivek Ramaswamy",
          "Truth with Vivek Ramaswamy",
          "Truth with Vivek Ramaswamy"
         ],
         "yaxis": "y"
        },
        {
         "customdata": [
          [
           "#2190 - Peter Thiel",
           2
          ]
         ],
         "hovertemplate": "show=%{y}<br>publish_date=%{x}<br>snip_count=%{customdata[1]}<br>episode_title=%{customdata[0]}<extra></extra>",
         "legendgroup": "The Joe Rogan Experience",
         "marker": {
          "color": "#FECB52",
          "size": [
           2
          ],
          "sizemode": "area",
          "sizeref": 0.05,
          "symbol": "circle"
         },
         "mode": "markers",
         "name": "The Joe Rogan Experience",
         "orientation": "v",
         "showlegend": false,
         "type": "scatter",
         "x": [
          "2024-08-16T00:00:00"
         ],
         "xaxis": "x",
         "y": [
          "The Joe Rogan Experience"
         ],
         "yaxis": "y"
        },
        {
         "customdata": [
          [
           "#389 — The Politics of Risk",
           1
          ]
         ],
         "hovertemplate": "show=%{y}<br>publish_date=%{x}<br>snip_count=%{customdata[1]}<br>episode_title=%{customdata[0]}<extra></extra>",
         "legendgroup": "Making Sense with Sam Harris",
         "marker": {
          "color": "#636efa",
          "size": [
           1
          ],
          "sizemode": "area",
          "sizeref": 0.05,
          "symbol": "circle"
         },
         "mode": "markers",
         "name": "Making Sense with Sam Harris",
         "orientation": "v",
         "showlegend": false,
         "type": "scatter",
         "x": [
          "2024-10-25T00:00:00"
         ],
         "xaxis": "x",
         "y": [
          "Making Sense with Sam Harris"
         ],
         "yaxis": "y"
        },
        {
         "customdata": [
          [
           "Trump or Kamala? Ben Shapiro and Sam Harris Debate.",
           2
          ],
          [
           "Marc Andreessen on AI, Tech, Censorship, and Dining with Trump",
           4
          ]
         ],
         "hovertemplate": "show=%{y}<br>publish_date=%{x}<br>snip_count=%{customdata[1]}<br>episode_title=%{customdata[0]}<extra></extra>",
         "legendgroup": "Honestly with Bari Weiss",
         "marker": {
          "color": "#EF553B",
          "size": [
           2,
           4
          ],
          "sizemode": "area",
          "sizeref": 0.05,
          "symbol": "circle"
         },
         "mode": "markers",
         "name": "Honestly with Bari Weiss",
         "orientation": "v",
         "showlegend": false,
         "type": "scatter",
         "x": [
          "2024-10-29T00:00:00",
          "2024-12-10T00:00:00"
         ],
         "xaxis": "x",
         "y": [
          "Honestly with Bari Weiss",
          "Honestly with Bari Weiss"
         ],
         "yaxis": "y"
        },
        {
         "customdata": [
          [
           "Vivek Ramaswamy Has a Different Vision for Trumpism From JD Vance",
           1
          ],
          [
           "The Book That Predicted the 2024 Election",
           3
          ],
          [
           "Best Of: Why the Far Right Is Thriving Across the Globe",
           3
          ]
         ],
         "hovertemplate": "show=%{y}<br>publish_date=%{x}<br>snip_count=%{customdata[1]}<br>episode_title=%{customdata[0]}<extra></extra>",
         "legendgroup": "The Ezra Klein Show",
         "marker": {
          "color": "#00cc96",
          "size": [
           1,
           3,
           3
          ],
          "sizemode": "area",
          "sizeref": 0.05,
          "symbol": "circle"
         },
         "mode": "markers",
         "name": "The Ezra Klein Show",
         "orientation": "v",
         "showlegend": false,
         "type": "scatter",
         "x": [
          "2024-10-29T00:00:00",
          "2024-11-09T00:00:00",
          "2024-12-06T00:00:00"
         ],
         "xaxis": "x",
         "y": [
          "The Ezra Klein Show",
          "The Ezra Klein Show",
          "The Ezra Klein Show"
         ],
         "yaxis": "y"
        },
        {
         "customdata": [
          [
           "#206 John Mackey: Building Whole Foods",
           4
          ]
         ],
         "hovertemplate": "show=%{y}<br>publish_date=%{x}<br>snip_count=%{customdata[1]}<br>episode_title=%{customdata[0]}<extra></extra>",
         "legendgroup": "The Knowledge Project with Shane Parrish",
         "marker": {
          "color": "#ab63fa",
          "size": [
           4
          ],
          "sizemode": "area",
          "sizeref": 0.05,
          "symbol": "circle"
         },
         "mode": "markers",
         "name": "The Knowledge Project with Shane Parrish",
         "orientation": "v",
         "showlegend": false,
         "type": "scatter",
         "x": [
          "2024-10-29T00:00:00"
         ],
         "xaxis": "x",
         "y": [
          "The Knowledge Project with Shane Parrish"
         ],
         "yaxis": "y"
        },
        {
         "customdata": [
          [
           "ChatGPT’s First Victim + The Department of Government Efficiency (DOGE)",
           1
          ],
          [
           "The Art of Spending Money",
           2
          ]
         ],
         "hovertemplate": "show=%{y}<br>publish_date=%{x}<br>snip_count=%{customdata[1]}<br>episode_title=%{customdata[0]}<extra></extra>",
         "legendgroup": "Prof G Markets",
         "marker": {
          "color": "#FFA15A",
          "size": [
           1,
           2
          ],
          "sizemode": "area",
          "sizeref": 0.05,
          "symbol": "circle"
         },
         "mode": "markers",
         "name": "Prof G Markets",
         "orientation": "v",
         "showlegend": false,
         "type": "scatter",
         "x": [
          "2024-11-18T00:00:00",
          "2024-12-02T00:00:00"
         ],
         "xaxis": "x",
         "y": [
          "Prof G Markets",
          "Prof G Markets"
         ],
         "yaxis": "y"
        },
        {
         "customdata": [
          [
           "Vertical AI Agents Could Be 10X Bigger Than SaaS",
           4
          ],
          [
           "2024’s Biggest Startup Trends",
           1
          ]
         ],
         "hovertemplate": "show=%{y}<br>publish_date=%{x}<br>snip_count=%{customdata[1]}<br>episode_title=%{customdata[0]}<extra></extra>",
         "legendgroup": "Lightcone Podcast",
         "marker": {
          "color": "#19d3f3",
          "size": [
           4,
           1
          ],
          "sizemode": "area",
          "sizeref": 0.05,
          "symbol": "circle"
         },
         "mode": "markers",
         "name": "Lightcone Podcast",
         "orientation": "v",
         "showlegend": false,
         "type": "scatter",
         "x": [
          "2024-11-22T00:00:00",
          "2024-12-13T00:00:00"
         ],
         "xaxis": "x",
         "y": [
          "Lightcone Podcast",
          "Lightcone Podcast"
         ],
         "yaxis": "y"
        },
        {
         "customdata": [
          [
           "Amokläufe in China: ein Erklärungsversuch",
           3
          ]
         ],
         "hovertemplate": "show=%{y}<br>publish_date=%{x}<br>snip_count=%{customdata[1]}<br>episode_title=%{customdata[0]}<extra></extra>",
         "legendgroup": "NZZ Akzent",
         "marker": {
          "color": "#FF6692",
          "size": [
           3
          ],
          "sizemode": "area",
          "sizeref": 0.05,
          "symbol": "circle"
         },
         "mode": "markers",
         "name": "NZZ Akzent",
         "orientation": "v",
         "showlegend": false,
         "type": "scatter",
         "x": [
          "2024-12-12T00:00:00"
         ],
         "xaxis": "x",
         "y": [
          "NZZ Akzent"
         ],
         "yaxis": "y"
        }
       ],
       "layout": {
        "height": 800,
        "legend": {
         "itemsizing": "constant",
         "title": {
          "text": "show"
         },
         "tracegroupgap": 0
        },
        "template": {
         "data": {
          "bar": [
           {
            "error_x": {
             "color": "#f2f5fa"
            },
            "error_y": {
             "color": "#f2f5fa"
            },
            "marker": {
             "line": {
              "color": "rgb(17,17,17)",
              "width": 0.5
             },
             "pattern": {
              "fillmode": "overlay",
              "size": 10,
              "solidity": 0.2
             }
            },
            "type": "bar"
           }
          ],
          "barpolar": [
           {
            "marker": {
             "line": {
              "color": "rgb(17,17,17)",
              "width": 0.5
             },
             "pattern": {
              "fillmode": "overlay",
              "size": 10,
              "solidity": 0.2
             }
            },
            "type": "barpolar"
           }
          ],
          "carpet": [
           {
            "aaxis": {
             "endlinecolor": "#A2B1C6",
             "gridcolor": "#506784",
             "linecolor": "#506784",
             "minorgridcolor": "#506784",
             "startlinecolor": "#A2B1C6"
            },
            "baxis": {
             "endlinecolor": "#A2B1C6",
             "gridcolor": "#506784",
             "linecolor": "#506784",
             "minorgridcolor": "#506784",
             "startlinecolor": "#A2B1C6"
            },
            "type": "carpet"
           }
          ],
          "choropleth": [
           {
            "colorbar": {
             "outlinewidth": 0,
             "ticks": ""
            },
            "type": "choropleth"
           }
          ],
          "contour": [
           {
            "colorbar": {
             "outlinewidth": 0,
             "ticks": ""
            },
            "colorscale": [
             [
              0,
              "#0d0887"
             ],
             [
              0.1111111111111111,
              "#46039f"
             ],
             [
              0.2222222222222222,
              "#7201a8"
             ],
             [
              0.3333333333333333,
              "#9c179e"
             ],
             [
              0.4444444444444444,
              "#bd3786"
             ],
             [
              0.5555555555555556,
              "#d8576b"
             ],
             [
              0.6666666666666666,
              "#ed7953"
             ],
             [
              0.7777777777777778,
              "#fb9f3a"
             ],
             [
              0.8888888888888888,
              "#fdca26"
             ],
             [
              1,
              "#f0f921"
             ]
            ],
            "type": "contour"
           }
          ],
          "contourcarpet": [
           {
            "colorbar": {
             "outlinewidth": 0,
             "ticks": ""
            },
            "type": "contourcarpet"
           }
          ],
          "heatmap": [
           {
            "colorbar": {
             "outlinewidth": 0,
             "ticks": ""
            },
            "colorscale": [
             [
              0,
              "#0d0887"
             ],
             [
              0.1111111111111111,
              "#46039f"
             ],
             [
              0.2222222222222222,
              "#7201a8"
             ],
             [
              0.3333333333333333,
              "#9c179e"
             ],
             [
              0.4444444444444444,
              "#bd3786"
             ],
             [
              0.5555555555555556,
              "#d8576b"
             ],
             [
              0.6666666666666666,
              "#ed7953"
             ],
             [
              0.7777777777777778,
              "#fb9f3a"
             ],
             [
              0.8888888888888888,
              "#fdca26"
             ],
             [
              1,
              "#f0f921"
             ]
            ],
            "type": "heatmap"
           }
          ],
          "heatmapgl": [
           {
            "colorbar": {
             "outlinewidth": 0,
             "ticks": ""
            },
            "colorscale": [
             [
              0,
              "#0d0887"
             ],
             [
              0.1111111111111111,
              "#46039f"
             ],
             [
              0.2222222222222222,
              "#7201a8"
             ],
             [
              0.3333333333333333,
              "#9c179e"
             ],
             [
              0.4444444444444444,
              "#bd3786"
             ],
             [
              0.5555555555555556,
              "#d8576b"
             ],
             [
              0.6666666666666666,
              "#ed7953"
             ],
             [
              0.7777777777777778,
              "#fb9f3a"
             ],
             [
              0.8888888888888888,
              "#fdca26"
             ],
             [
              1,
              "#f0f921"
             ]
            ],
            "type": "heatmapgl"
           }
          ],
          "histogram": [
           {
            "marker": {
             "pattern": {
              "fillmode": "overlay",
              "size": 10,
              "solidity": 0.2
             }
            },
            "type": "histogram"
           }
          ],
          "histogram2d": [
           {
            "colorbar": {
             "outlinewidth": 0,
             "ticks": ""
            },
            "colorscale": [
             [
              0,
              "#0d0887"
             ],
             [
              0.1111111111111111,
              "#46039f"
             ],
             [
              0.2222222222222222,
              "#7201a8"
             ],
             [
              0.3333333333333333,
              "#9c179e"
             ],
             [
              0.4444444444444444,
              "#bd3786"
             ],
             [
              0.5555555555555556,
              "#d8576b"
             ],
             [
              0.6666666666666666,
              "#ed7953"
             ],
             [
              0.7777777777777778,
              "#fb9f3a"
             ],
             [
              0.8888888888888888,
              "#fdca26"
             ],
             [
              1,
              "#f0f921"
             ]
            ],
            "type": "histogram2d"
           }
          ],
          "histogram2dcontour": [
           {
            "colorbar": {
             "outlinewidth": 0,
             "ticks": ""
            },
            "colorscale": [
             [
              0,
              "#0d0887"
             ],
             [
              0.1111111111111111,
              "#46039f"
             ],
             [
              0.2222222222222222,
              "#7201a8"
             ],
             [
              0.3333333333333333,
              "#9c179e"
             ],
             [
              0.4444444444444444,
              "#bd3786"
             ],
             [
              0.5555555555555556,
              "#d8576b"
             ],
             [
              0.6666666666666666,
              "#ed7953"
             ],
             [
              0.7777777777777778,
              "#fb9f3a"
             ],
             [
              0.8888888888888888,
              "#fdca26"
             ],
             [
              1,
              "#f0f921"
             ]
            ],
            "type": "histogram2dcontour"
           }
          ],
          "mesh3d": [
           {
            "colorbar": {
             "outlinewidth": 0,
             "ticks": ""
            },
            "type": "mesh3d"
           }
          ],
          "parcoords": [
           {
            "line": {
             "colorbar": {
              "outlinewidth": 0,
              "ticks": ""
             }
            },
            "type": "parcoords"
           }
          ],
          "pie": [
           {
            "automargin": true,
            "type": "pie"
           }
          ],
          "scatter": [
           {
            "marker": {
             "line": {
              "color": "#283442"
             }
            },
            "type": "scatter"
           }
          ],
          "scatter3d": [
           {
            "line": {
             "colorbar": {
              "outlinewidth": 0,
              "ticks": ""
             }
            },
            "marker": {
             "colorbar": {
              "outlinewidth": 0,
              "ticks": ""
             }
            },
            "type": "scatter3d"
           }
          ],
          "scattercarpet": [
           {
            "marker": {
             "colorbar": {
              "outlinewidth": 0,
              "ticks": ""
             }
            },
            "type": "scattercarpet"
           }
          ],
          "scattergeo": [
           {
            "marker": {
             "colorbar": {
              "outlinewidth": 0,
              "ticks": ""
             }
            },
            "type": "scattergeo"
           }
          ],
          "scattergl": [
           {
            "marker": {
             "line": {
              "color": "#283442"
             }
            },
            "type": "scattergl"
           }
          ],
          "scattermapbox": [
           {
            "marker": {
             "colorbar": {
              "outlinewidth": 0,
              "ticks": ""
             }
            },
            "type": "scattermapbox"
           }
          ],
          "scatterpolar": [
           {
            "marker": {
             "colorbar": {
              "outlinewidth": 0,
              "ticks": ""
             }
            },
            "type": "scatterpolar"
           }
          ],
          "scatterpolargl": [
           {
            "marker": {
             "colorbar": {
              "outlinewidth": 0,
              "ticks": ""
             }
            },
            "type": "scatterpolargl"
           }
          ],
          "scatterternary": [
           {
            "marker": {
             "colorbar": {
              "outlinewidth": 0,
              "ticks": ""
             }
            },
            "type": "scatterternary"
           }
          ],
          "surface": [
           {
            "colorbar": {
             "outlinewidth": 0,
             "ticks": ""
            },
            "colorscale": [
             [
              0,
              "#0d0887"
             ],
             [
              0.1111111111111111,
              "#46039f"
             ],
             [
              0.2222222222222222,
              "#7201a8"
             ],
             [
              0.3333333333333333,
              "#9c179e"
             ],
             [
              0.4444444444444444,
              "#bd3786"
             ],
             [
              0.5555555555555556,
              "#d8576b"
             ],
             [
              0.6666666666666666,
              "#ed7953"
             ],
             [
              0.7777777777777778,
              "#fb9f3a"
             ],
             [
              0.8888888888888888,
              "#fdca26"
             ],
             [
              1,
              "#f0f921"
             ]
            ],
            "type": "surface"
           }
          ],
          "table": [
           {
            "cells": {
             "fill": {
              "color": "#506784"
             },
             "line": {
              "color": "rgb(17,17,17)"
             }
            },
            "header": {
             "fill": {
              "color": "#2a3f5f"
             },
             "line": {
              "color": "rgb(17,17,17)"
             }
            },
            "type": "table"
           }
          ]
         },
         "layout": {
          "annotationdefaults": {
           "arrowcolor": "#f2f5fa",
           "arrowhead": 0,
           "arrowwidth": 1
          },
          "autotypenumbers": "strict",
          "coloraxis": {
           "colorbar": {
            "outlinewidth": 0,
            "ticks": ""
           }
          },
          "colorscale": {
           "diverging": [
            [
             0,
             "#8e0152"
            ],
            [
             0.1,
             "#c51b7d"
            ],
            [
             0.2,
             "#de77ae"
            ],
            [
             0.3,
             "#f1b6da"
            ],
            [
             0.4,
             "#fde0ef"
            ],
            [
             0.5,
             "#f7f7f7"
            ],
            [
             0.6,
             "#e6f5d0"
            ],
            [
             0.7,
             "#b8e186"
            ],
            [
             0.8,
             "#7fbc41"
            ],
            [
             0.9,
             "#4d9221"
            ],
            [
             1,
             "#276419"
            ]
           ],
           "sequential": [
            [
             0,
             "#0d0887"
            ],
            [
             0.1111111111111111,
             "#46039f"
            ],
            [
             0.2222222222222222,
             "#7201a8"
            ],
            [
             0.3333333333333333,
             "#9c179e"
            ],
            [
             0.4444444444444444,
             "#bd3786"
            ],
            [
             0.5555555555555556,
             "#d8576b"
            ],
            [
             0.6666666666666666,
             "#ed7953"
            ],
            [
             0.7777777777777778,
             "#fb9f3a"
            ],
            [
             0.8888888888888888,
             "#fdca26"
            ],
            [
             1,
             "#f0f921"
            ]
           ],
           "sequentialminus": [
            [
             0,
             "#0d0887"
            ],
            [
             0.1111111111111111,
             "#46039f"
            ],
            [
             0.2222222222222222,
             "#7201a8"
            ],
            [
             0.3333333333333333,
             "#9c179e"
            ],
            [
             0.4444444444444444,
             "#bd3786"
            ],
            [
             0.5555555555555556,
             "#d8576b"
            ],
            [
             0.6666666666666666,
             "#ed7953"
            ],
            [
             0.7777777777777778,
             "#fb9f3a"
            ],
            [
             0.8888888888888888,
             "#fdca26"
            ],
            [
             1,
             "#f0f921"
            ]
           ]
          },
          "colorway": [
           "#636efa",
           "#EF553B",
           "#00cc96",
           "#ab63fa",
           "#FFA15A",
           "#19d3f3",
           "#FF6692",
           "#B6E880",
           "#FF97FF",
           "#FECB52"
          ],
          "font": {
           "color": "#f2f5fa"
          },
          "geo": {
           "bgcolor": "rgb(17,17,17)",
           "lakecolor": "rgb(17,17,17)",
           "landcolor": "rgb(17,17,17)",
           "showlakes": true,
           "showland": true,
           "subunitcolor": "#506784"
          },
          "hoverlabel": {
           "align": "left"
          },
          "hovermode": "closest",
          "mapbox": {
           "style": "dark"
          },
          "paper_bgcolor": "rgb(17,17,17)",
          "plot_bgcolor": "rgb(17,17,17)",
          "polar": {
           "angularaxis": {
            "gridcolor": "#506784",
            "linecolor": "#506784",
            "ticks": ""
           },
           "bgcolor": "rgb(17,17,17)",
           "radialaxis": {
            "gridcolor": "#506784",
            "linecolor": "#506784",
            "ticks": ""
           }
          },
          "scene": {
           "xaxis": {
            "backgroundcolor": "rgb(17,17,17)",
            "gridcolor": "#506784",
            "gridwidth": 2,
            "linecolor": "#506784",
            "showbackground": true,
            "ticks": "",
            "zerolinecolor": "#C8D4E3"
           },
           "yaxis": {
            "backgroundcolor": "rgb(17,17,17)",
            "gridcolor": "#506784",
            "gridwidth": 2,
            "linecolor": "#506784",
            "showbackground": true,
            "ticks": "",
            "zerolinecolor": "#C8D4E3"
           },
           "zaxis": {
            "backgroundcolor": "rgb(17,17,17)",
            "gridcolor": "#506784",
            "gridwidth": 2,
            "linecolor": "#506784",
            "showbackground": true,
            "ticks": "",
            "zerolinecolor": "#C8D4E3"
           }
          },
          "shapedefaults": {
           "line": {
            "color": "#f2f5fa"
           }
          },
          "sliderdefaults": {
           "bgcolor": "#C8D4E3",
           "bordercolor": "rgb(17,17,17)",
           "borderwidth": 1,
           "tickwidth": 0
          },
          "ternary": {
           "aaxis": {
            "gridcolor": "#506784",
            "linecolor": "#506784",
            "ticks": ""
           },
           "baxis": {
            "gridcolor": "#506784",
            "linecolor": "#506784",
            "ticks": ""
           },
           "bgcolor": "rgb(17,17,17)",
           "caxis": {
            "gridcolor": "#506784",
            "linecolor": "#506784",
            "ticks": ""
           }
          },
          "title": {
           "x": 0.05
          },
          "updatemenudefaults": {
           "bgcolor": "#506784",
           "borderwidth": 0
          },
          "xaxis": {
           "automargin": true,
           "gridcolor": "#283442",
           "linecolor": "#506784",
           "ticks": "",
           "title": {
            "standoff": 15
           },
           "zerolinecolor": "#283442",
           "zerolinewidth": 2
          },
          "yaxis": {
           "automargin": true,
           "gridcolor": "#283442",
           "linecolor": "#506784",
           "ticks": "",
           "title": {
            "standoff": 15
           },
           "zerolinecolor": "#283442",
           "zerolinewidth": 2
          }
         }
        },
        "title": {
         "text": "Timeline of Snips by Show (2024)"
        },
        "xaxis": {
         "anchor": "y",
         "domain": [
          0,
          1
         ],
         "title": {
          "text": "publish_date"
         }
        },
        "yaxis": {
         "anchor": "x",
         "categoryarray": [
          "NZZ Akzent",
          "Lightcone Podcast",
          "Prof G Markets",
          "The Knowledge Project with Shane Parrish",
          "The Ezra Klein Show",
          "Honestly with Bari Weiss",
          "Making Sense with Sam Harris",
          "The Joe Rogan Experience",
          "Truth with Vivek Ramaswamy",
          "Search Engine",
          "Economist Podcasts",
          "The Peter Zeihan Podcast Series",
          "a16z Podcast",
          "The Daily",
          "The Ben & Marc Show",
          "Huberman Lab",
          "Pivot",
          "Making Sense with Sam Harris - Subscriber Content",
          "The Prof G Pod with Scott Galloway",
          "All-In with Chamath, Jason, Sacks & Friedberg",
          "The Pioneer Briefing",
          "Freakonomics Radio",
          "Discover Daily by Perplexity",
          "Lex Fridman Podcast",
          "Within Reason",
          "The Langley Files: CIA's Podcast",
          "Dwarkesh Podcast"
         ],
         "categoryorder": "array",
         "domain": [
          0,
          1
         ],
         "title": {
          "text": "show"
         }
        }
       }
      }
     },
     "metadata": {},
     "output_type": "display_data"
    }
   ],
   "source": [
    "# 7. Interactive Timeline with Show Breakdown (2024 only)\n",
    "df['publish_date'] = pd.to_datetime(df['publish_date'])\n",
    "df_2024 = df[df['publish_date'].dt.year == 2024]\n",
    "\n",
    "# Count snips per episode\n",
    "snips_per_episode = df_2024.groupby(['publish_date', 'show', 'episode_title']).size().reset_index(name='snip_count')\n",
    "\n",
    "fig7 = px.scatter(snips_per_episode,\n",
    "                    x='publish_date', \n",
    "                    y='show',\n",
    "                    color='show',\n",
    "                    size='snip_count',\n",
    "                    hover_data=['episode_title', 'snip_count'],\n",
    "                    title='Timeline of Snips by Show (2024)',\n",
    "                    template='plotly_dark')\n",
    "fig7.update_layout(height=800)\n",
    "fig7.update_traces(showlegend=False)\n",
    "fig7.show()\n"
   ]
  },
  {
   "cell_type": "markdown",
   "metadata": {},
   "source": [
    "### Content Analysis\n",
    "\n",
    "1. **Keyword Extraction & Frequency**:\n",
    "   - Tokenize snip text (e.g., using `nltk`, `spaCy`).\n",
    "   - Remove stopwords and perform lemmatization if needed.\n",
    "   - Count term frequencies and highlight the most frequently occurring terms overall or by show.\n",
    "   - Visualize with word clouds or bar charts.\n",
    "\n",
    "2. **Topic Modeling**:\n",
    "   - Use LDA or BERTopic (leveraging transformer embeddings) on the snip transcripts.\n",
    "   - Identify underlying topics (e.g. “healthcare AI,” “politics,” “startups,” etc.).\n",
    "   - Track how these topics fluctuate over time or which shows contribute most to which topic.\n",
    "\n",
    "3. **Keyword Similarity & Clustering**:\n",
    "   - Generate embeddings for each snip using a transformer model (e.g., `sentence-transformers`).\n",
    "   - Cluster snips with methods like k-means or UMAP + HDBSCAN.\n",
    "   - Plot clusters in 2D or 3D space to get a “topography” of your listening content.\n",
    "\n",
    "4. **Sentiment & Emotional Tone** (optional extension):\n",
    "   - Apply a sentiment analysis tool or a more nuanced emotion classifier.\n",
    "   - Visualize overall positivity/negativity or emotion distribution across snips, across time or show.\n"
   ]
  },
  {
   "cell_type": "markdown",
   "metadata": {},
   "source": [
    "#### Keyword Analysis Transcripts"
   ]
  },
  {
   "cell_type": "code",
   "execution_count": 10,
   "metadata": {},
   "outputs": [
    {
     "data": {
      "application/vnd.plotly.v1+json": {
       "config": {
        "plotlyServerURL": "https://plot.ly"
       },
       "data": [
        {
         "hoverinfo": "text",
         "hovertext": [
          "<b>dropbox</b><br>Acquired: 7",
          "<b>memory</b><br>Acquired: 6<br>Making Sense with Sam Harris - Subscriber Content: 1<br>Search Engine: 1<br>The Prof G Pod with Scott Galloway: 1",
          "<b>revenue</b><br>Acquired: 2<br>All-In with Chamath, Jason, Sacks & Friedberg: 2<br>Pivot: 2<br>Lightcone Podcast: 1",
          "<b>size</b><br>Acquired: 2<br>Dwarkesh Podcast: 2<br>Lex Fridman Podcast: 1<br>Pivot: 1<br>The Peter Zeihan Podcast Series: 1<br>Truth with Vivek Ramaswamy: 1",
          "<b>user</b><br>Acquired: 11<br>All-In with Chamath, Jason, Sacks & Friedberg: 9<br>Lex Fridman Podcast: 3<br>a16z Podcast: 2<br>Lightcone Podcast: 1<br>The Prof G Pod with Scott Galloway: 1"
         ],
         "marker": {
          "color": "rgb(141,211,199)",
          "size": 4
         },
         "mode": "markers+text",
         "name": "Acquired",
         "text": [
          "dropbox",
          "memory",
          "revenue",
          "size",
          "user"
         ],
         "textfont": {
          "color": "rgb(141,211,199)",
          "size": [
           7.5,
           8.304820237218406,
           7.5,
           7.92481250360578,
           12.01838730514401
          ]
         },
         "textposition": "top center",
         "type": "scatter3d",
         "x": [
          -0.21623860296577713,
          0.058477313519770875,
          -0.5624978387584711,
          -0.07495053415860921,
          -0.513190847973858
         ],
         "y": [
          -0.2869253315228941,
          -0.1415092861943393,
          0.06039546867910695,
          -0.5501927891811926,
          0.030825468932293515
         ],
         "z": [
          0.7526574288065061,
          0.7111487642701491,
          -0.23624409121243062,
          0.28717695993380077,
          -0.14046732542190185
         ]
        },
        {
         "hoverinfo": "text",
         "hovertext": [
          "<b>ability</b><br>All-In with Chamath, Jason, Sacks & Friedberg: 6<br>Dwarkesh Podcast: 3<br>Lex Fridman Podcast: 3<br>Making Sense with Sam Harris - Subscriber Content: 2<br>Discover Daily by Perplexity: 1<br>Huberman Lab: 1<br>Pivot: 1<br>The Ben & Marc Show: 1<br>The Langley Files: CIA's Podcast: 1<br>The Prof G Pod with Scott Galloway: 1<br>Truth with Vivek Ramaswamy: 1",
          "<b>agency</b><br>All-In with Chamath, Jason, Sacks & Friedberg: 2<br>The Daily: 2<br>Dwarkesh Podcast: 1<br>Lex Fridman Podcast: 1<br>The Prof G Pod with Scott Galloway: 1",
          "<b>agent</b><br>All-In with Chamath, Jason, Sacks & Friedberg: 4<br>The Prof G Pod with Scott Galloway: 2<br>Lex Fridman Podcast: 1",
          "<b>apple</b><br>All-In with Chamath, Jason, Sacks & Friedberg: 4<br>The Prof G Pod with Scott Galloway: 2<br>Freakonomics Radio: 1",
          "<b>area</b><br>All-In with Chamath, Jason, Sacks & Friedberg: 3<br>Pivot: 3<br>Making Sense with Sam Harris - Subscriber Content: 2<br>Dwarkesh Podcast: 1<br>Honestly with Bari Weiss: 1<br>Lex Fridman Podcast: 1<br>Prof G Markets: 1<br>The Peter Zeihan Podcast Series: 1<br>The Prof G Pod with Scott Galloway: 1<br>Truth with Vivek Ramaswamy: 1<br>a16z Podcast: 1",
          "<b>asset</b><br>All-In with Chamath, Jason, Sacks & Friedberg: 6<br>Pivot: 1<br>The Prof G Pod with Scott Galloway: 1",
          "<b>background</b><br>All-In with Chamath, Jason, Sacks & Friedberg: 2<br>Making Sense with Sam Harris - Subscriber Content: 2<br>Truth with Vivek Ramaswamy: 2<br>Dwarkesh Podcast: 1<br>The Langley Files: CIA's Podcast: 1",
          "<b>balance</b><br>All-In with Chamath, Jason, Sacks & Friedberg: 3<br>Making Sense with Sam Harris - Subscriber Content: 2<br>Dwarkesh Podcast: 1<br>Lex Fridman Podcast: 1",
          "<b>business</b><br>All-In with Chamath, Jason, Sacks & Friedberg: 9<br>The Prof G Pod with Scott Galloway: 6<br>Dwarkesh Podcast: 2<br>Freakonomics Radio: 2<br>Pivot: 2<br>Acquired: 1<br>Making Sense with Sam Harris - Subscriber Content: 1<br>The Ben & Marc Show: 1<br>Truth with Vivek Ramaswamy: 1<br>a16z Podcast: 1",
          "<b>capital</b><br>All-In with Chamath, Jason, Sacks & Friedberg: 3<br>The Prof G Pod with Scott Galloway: 3<br>Dwarkesh Podcast: 2<br>Acquired: 1<br>Discover Daily by Perplexity: 1<br>Lex Fridman Podcast: 1",
          "<b>car</b><br>All-In with Chamath, Jason, Sacks & Friedberg: 2<br>The Prof G Pod with Scott Galloway: 2<br>Dwarkesh Podcast: 1<br>Lex Fridman Podcast: 1<br>Prof G Markets: 1<br>The Joe Rogan Experience: 1<br>The Knowledge Project with Shane Parrish: 1",
          "<b>change</b><br>All-In with Chamath, Jason, Sacks & Friedberg: 8<br>Making Sense with Sam Harris - Subscriber Content: 7<br>Dwarkesh Podcast: 5<br>Lex Fridman Podcast: 3<br>The Prof G Pod with Scott Galloway: 3<br>Acquired: 2<br>Discover Daily by Perplexity: 1<br>Search Engine: 1<br>The Ezra Klein Show: 1<br>The Joe Rogan Experience: 1<br>Truth with Vivek Ramaswamy: 1",
          "<b>china</b><br>All-In with Chamath, Jason, Sacks & Friedberg: 6<br>The Peter Zeihan Podcast Series: 4<br>Making Sense with Sam Harris - Subscriber Content: 2<br>NZZ Akzent: 2<br>Dwarkesh Podcast: 1<br>Freakonomics Radio: 1<br>The Prof G Pod with Scott Galloway: 1",
          "<b>company</b><br>All-In with Chamath, Jason, Sacks & Friedberg: 19<br>The Prof G Pod with Scott Galloway: 11<br>Acquired: 5<br>Dwarkesh Podcast: 5<br>Lightcone Podcast: 3<br>The Ben & Marc Show: 3<br>The Joe Rogan Experience: 3<br>Freakonomics Radio: 2<br>Pivot: 2<br>a16z Podcast: 2<br>Making Sense with Sam Harris - Subscriber Content: 1",
          "<b>computer</b><br>All-In with Chamath, Jason, Sacks & Friedberg: 5<br>Discover Daily by Perplexity: 2<br>Lex Fridman Podcast: 1<br>Making Sense with Sam Harris - Subscriber Content: 1",
          "<b>conflict</b><br>All-In with Chamath, Jason, Sacks & Friedberg: 7<br>Making Sense with Sam Harris - Subscriber Content: 4<br>The Peter Zeihan Podcast Series: 2<br>Dwarkesh Podcast: 1<br>Freakonomics Radio: 1",
          "<b>consumer</b><br>All-In with Chamath, Jason, Sacks & Friedberg: 5<br>Lightcone Podcast: 1<br>The Prof G Pod with Scott Galloway: 1",
          "<b>content</b><br>All-In with Chamath, Jason, Sacks & Friedberg: 11<br>Huberman Lab: 3<br>Dwarkesh Podcast: 2<br>Acquired: 1<br>Lex Fridman Podcast: 1<br>Making Sense with Sam Harris: 1<br>Pivot: 1<br>The Ben & Marc Show: 1",
          "<b>contrast</b><br>All-In with Chamath, Jason, Sacks & Friedberg: 3<br>Huberman Lab: 3<br>Lex Fridman Podcast: 1<br>The Prof G Pod with Scott Galloway: 1",
          "<b>cost</b><br>All-In with Chamath, Jason, Sacks & Friedberg: 8<br>Freakonomics Radio: 5<br>Dwarkesh Podcast: 2<br>The Prof G Pod with Scott Galloway: 2<br>a16z Podcast: 2<br>Acquired: 1<br>Prof G Markets: 1<br>The Ben & Marc Show: 1<br>The Daily: 1<br>The Peter Zeihan Podcast Series: 1<br>Truth with Vivek Ramaswamy: 1",
          "<b>crisis</b><br>All-In with Chamath, Jason, Sacks & Friedberg: 4<br>The Prof G Pod with Scott Galloway: 2<br>Dwarkesh Podcast: 1<br>Freakonomics Radio: 1<br>Making Sense with Sam Harris - Subscriber Content: 1<br>The Peter Zeihan Podcast Series: 1",
          "<b>customer</b><br>All-In with Chamath, Jason, Sacks & Friedberg: 9<br>Acquired: 2<br>a16z Podcast: 2<br>Lex Fridman Podcast: 1<br>The Prof G Pod with Scott Galloway: 1",
          "<b>cycle</b><br>All-In with Chamath, Jason, Sacks & Friedberg: 3<br>The Prof G Pod with Scott Galloway: 2<br>Lex Fridman Podcast: 1<br>a16z Podcast: 1",
          "<b>datum</b><br>All-In with Chamath, Jason, Sacks & Friedberg: 5<br>Lex Fridman Podcast: 4<br>Acquired: 2<br>The Ben & Marc Show: 2<br>a16z Podcast: 2<br>Discover Daily by Perplexity: 1<br>Dwarkesh Podcast: 1<br>Freakonomics Radio: 1<br>The Prof G Pod with Scott Galloway: 1",
          "<b>death</b><br>All-In with Chamath, Jason, Sacks & Friedberg: 3<br>Making Sense with Sam Harris - Subscriber Content: 2<br>The Prof G Pod with Scott Galloway: 2<br>Search Engine: 1",
          "<b>debt</b><br>All-In with Chamath, Jason, Sacks & Friedberg: 16<br>The Prof G Pod with Scott Galloway: 2",
          "<b>desire</b><br>All-In with Chamath, Jason, Sacks & Friedberg: 5<br>Truth with Vivek Ramaswamy: 2",
          "<b>discussion</b><br>All-In with Chamath, Jason, Sacks & Friedberg: 3<br>Freakonomics Radio: 2<br>Discover Daily by Perplexity: 1<br>Dwarkesh Podcast: 1<br>Lex Fridman Podcast: 1<br>Making Sense with Sam Harris: 1<br>Making Sense with Sam Harris - Subscriber Content: 1",
          "<b>economy</b><br>All-In with Chamath, Jason, Sacks & Friedberg: 12<br>Dwarkesh Podcast: 6<br>Truth with Vivek Ramaswamy: 2<br>Discover Daily by Perplexity: 1<br>Freakonomics Radio: 1<br>The Peter Zeihan Podcast Series: 1<br>The Prof G Pod with Scott Galloway: 1",
          "<b>effect</b><br>All-In with Chamath, Jason, Sacks & Friedberg: 3<br>Making Sense with Sam Harris - Subscriber Content: 2<br>Pivot: 2<br>Truth with Vivek Ramaswamy: 2<br>Dwarkesh Podcast: 1<br>Freakonomics Radio: 1<br>The Ezra Klein Show: 1<br>a16z Podcast: 1",
          "<b>efficiency</b><br>All-In with Chamath, Jason, Sacks & Friedberg: 4<br>Lex Fridman Podcast: 2<br>Acquired: 1<br>Dwarkesh Podcast: 1<br>Huberman Lab: 1<br>Making Sense with Sam Harris - Subscriber Content: 1<br>The Joe Rogan Experience: 1<br>The Prof G Pod with Scott Galloway: 1",
          "<b>energy</b><br>All-In with Chamath, Jason, Sacks & Friedberg: 6<br>Huberman Lab: 4<br>Dwarkesh Podcast: 2<br>Making Sense with Sam Harris - Subscriber Content: 2<br>The Prof G Pod with Scott Galloway: 2",
          "<b>engagement</b><br>All-In with Chamath, Jason, Sacks & Friedberg: 4<br>Acquired: 2<br>Huberman Lab: 2<br>Lex Fridman Podcast: 1<br>a16z Podcast: 1",
          "<b>environment</b><br>All-In with Chamath, Jason, Sacks & Friedberg: 4<br>Dwarkesh Podcast: 3<br>Lex Fridman Podcast: 2<br>The Langley Files: CIA's Podcast: 2<br>Acquired: 1<br>Making Sense with Sam Harris - Subscriber Content: 1<br>Pivot: 1<br>The Joe Rogan Experience: 1<br>The Peter Zeihan Podcast Series: 1<br>The Prof G Pod with Scott Galloway: 1",
          "<b>event</b><br>All-In with Chamath, Jason, Sacks & Friedberg: 3<br>Making Sense with Sam Harris - Subscriber Content: 2<br>Dwarkesh Podcast: 1<br>The Prof G Pod with Scott Galloway: 1",
          "<b>evolution</b><br>All-In with Chamath, Jason, Sacks & Friedberg: 5<br>Dwarkesh Podcast: 2<br>Making Sense with Sam Harris - Subscriber Content: 1<br>The Langley Files: CIA's Podcast: 1",
          "<b>experience</b><br>All-In with Chamath, Jason, Sacks & Friedberg: 6<br>Making Sense with Sam Harris - Subscriber Content: 5<br>Acquired: 2<br>Freakonomics Radio: 2<br>Lex Fridman Podcast: 2<br>Search Engine: 2<br>The Prof G Pod with Scott Galloway: 2<br>Lightcone Podcast: 1<br>The Knowledge Project with Shane Parrish: 1<br>Truth with Vivek Ramaswamy: 1",
          "<b>fear</b><br>All-In with Chamath, Jason, Sacks & Friedberg: 2<br>Making Sense with Sam Harris - Subscriber Content: 2<br>Honestly with Bari Weiss: 1<br>The Daily: 1<br>The Knowledge Project with Shane Parrish: 1<br>The Prof G Pod with Scott Galloway: 1",
          "<b>feature</b><br>All-In with Chamath, Jason, Sacks & Friedberg: 2<br>Acquired: 1<br>Dwarkesh Podcast: 1<br>Great Mysteries of Physics: 1<br>The Prof G Pod with Scott Galloway: 1<br>a16z Podcast: 1",
          "<b>founder</b><br>All-In with Chamath, Jason, Sacks & Friedberg: 4<br>Lex Fridman Podcast: 4<br>Pivot: 3<br>Dwarkesh Podcast: 1<br>a16z Podcast: 1",
          "<b>gdp</b><br>All-In with Chamath, Jason, Sacks & Friedberg: 13<br>Dwarkesh Podcast: 1",
          "<b>google</b><br>All-In with Chamath, Jason, Sacks & Friedberg: 9<br>The Prof G Pod with Scott Galloway: 3<br>Acquired: 2<br>Dwarkesh Podcast: 1<br>The Ben & Marc Show: 1",
          "<b>government</b><br>All-In with Chamath, Jason, Sacks & Friedberg: 22<br>Making Sense with Sam Harris - Subscriber Content: 6<br>The Peter Zeihan Podcast Series: 4<br>The Prof G Pod with Scott Galloway: 3<br>Dwarkesh Podcast: 2<br>Freakonomics Radio: 2<br>Pivot: 2<br>Prof G Markets: 2<br>The Ezra Klein Show: 2<br>Honestly with Bari Weiss: 1<br>Lex Fridman Podcast: 1<br>The Daily: 1",
          "<b>growth</b><br>All-In with Chamath, Jason, Sacks & Friedberg: 11<br>The Prof G Pod with Scott Galloway: 8<br>Dwarkesh Podcast: 7<br>Truth with Vivek Ramaswamy: 4<br>Making Sense with Sam Harris - Subscriber Content: 3<br>The Peter Zeihan Podcast Series: 2<br>Acquired: 1<br>Freakonomics Radio: 1<br>Lightcone Podcast: 1<br>Pivot: 1<br>Prof G Markets: 1",
          "<b>history</b><br>All-In with Chamath, Jason, Sacks & Friedberg: 2<br>Making Sense with Sam Harris - Subscriber Content: 2<br>Freakonomics Radio: 1<br>Search Engine: 1<br>The Peter Zeihan Podcast Series: 1<br>The Prof G Pod with Scott Galloway: 1",
          "<b>implication</b><br>All-In with Chamath, Jason, Sacks & Friedberg: 2<br>Dwarkesh Podcast: 2<br>Lex Fridman Podcast: 1<br>Making Sense with Sam Harris - Subscriber Content: 1<br>The Prof G Pod with Scott Galloway: 1",
          "<b>importance</b><br>All-In with Chamath, Jason, Sacks & Friedberg: 5<br>Dwarkesh Podcast: 3<br>Making Sense with Sam Harris - Subscriber Content: 3<br>Acquired: 2<br>Lex Fridman Podcast: 2<br>The Langley Files: CIA's Podcast: 1<br>The Peter Zeihan Podcast Series: 1<br>The Prof G Pod with Scott Galloway: 1",
          "<b>income</b><br>All-In with Chamath, Jason, Sacks & Friedberg: 5<br>The Prof G Pod with Scott Galloway: 4<br>Making Sense with Sam Harris - Subscriber Content: 2<br>The Daily: 1<br>The Ezra Klein Show: 1<br>The Knowledge Project with Shane Parrish: 1",
          "<b>industry</b><br>All-In with Chamath, Jason, Sacks & Friedberg: 9<br>The Prof G Pod with Scott Galloway: 6<br>a16z Podcast: 3<br>Dwarkesh Podcast: 2<br>Pivot: 2<br>The Ben & Marc Show: 2<br>The Joe Rogan Experience: 2<br>Acquired: 1<br>Freakonomics Radio: 1<br>Making Sense with Sam Harris - Subscriber Content: 1<br>The Ezra Klein Show: 1<br>Truth with Vivek Ramaswamy: 1",
          "<b>inflation</b><br>All-In with Chamath, Jason, Sacks & Friedberg: 16<br>The Prof G Pod with Scott Galloway: 2<br>The Peter Zeihan Podcast Series: 1",
          "<b>influence</b><br>All-In with Chamath, Jason, Sacks & Friedberg: 4<br>Lex Fridman Podcast: 3<br>Making Sense with Sam Harris - Subscriber Content: 3<br>Making Sense with Sam Harris: 2<br>Dwarkesh Podcast: 1<br>The Peter Zeihan Podcast Series: 1",
          "<b>information</b><br>All-In with Chamath, Jason, Sacks & Friedberg: 4<br>The Langley Files: CIA's Podcast: 3<br>Making Sense with Sam Harris - Subscriber Content: 2<br>The Ben & Marc Show: 2<br>Lex Fridman Podcast: 1<br>Lightcone Podcast: 1<br>a16z Podcast: 1",
          "<b>innovation</b><br>All-In with Chamath, Jason, Sacks & Friedberg: 8<br>Pivot: 2<br>The Prof G Pod with Scott Galloway: 2<br>Dwarkesh Podcast: 1<br>Honestly with Bari Weiss: 1<br>Making Sense with Sam Harris - Subscriber Content: 1<br>Truth with Vivek Ramaswamy: 1<br>a16z Podcast: 1",
          "<b>institution</b><br>All-In with Chamath, Jason, Sacks & Friedberg: 2<br>Lex Fridman Podcast: 2<br>Making Sense with Sam Harris - Subscriber Content: 2<br>Dwarkesh Podcast: 1<br>Freakonomics Radio: 1",
          "<b>integration</b><br>All-In with Chamath, Jason, Sacks & Friedberg: 4<br>Discover Daily by Perplexity: 1<br>Lex Fridman Podcast: 1<br>The Prof G Pod with Scott Galloway: 1<br>a16z Podcast: 1",
          "<b>interaction</b><br>All-In with Chamath, Jason, Sacks & Friedberg: 5<br>Making Sense with Sam Harris - Subscriber Content: 5<br>Dwarkesh Podcast: 2<br>The Prof G Pod with Scott Galloway: 2<br>Truth with Vivek Ramaswamy: 1",
          "<b>interest</b><br>All-In with Chamath, Jason, Sacks & Friedberg: 17<br>The Prof G Pod with Scott Galloway: 3<br>Dwarkesh Podcast: 2<br>Acquired: 1<br>Freakonomics Radio: 1",
          "<b>internet</b><br>All-In with Chamath, Jason, Sacks & Friedberg: 1<br>Dwarkesh Podcast: 1<br>Honestly with Bari Weiss: 1<br>Lex Fridman Podcast: 1<br>The Ben & Marc Show: 1<br>The Joe Rogan Experience: 1<br>a16z Podcast: 1",
          "<b>intervention</b><br>All-In with Chamath, Jason, Sacks & Friedberg: 2<br>Pivot: 2<br>The Ezra Klein Show: 2<br>Huberman Lab: 1<br>Making Sense with Sam Harris - Subscriber Content: 1",
          "<b>knowledge</b><br>All-In with Chamath, Jason, Sacks & Friedberg: 3<br>Dwarkesh Podcast: 2<br>Lex Fridman Podcast: 2<br>Making Sense with Sam Harris - Subscriber Content: 2",
          "<b>landscape</b><br>All-In with Chamath, Jason, Sacks & Friedberg: 3<br>Acquired: 2<br>Dwarkesh Podcast: 2<br>Freakonomics Radio: 1<br>Lightcone Podcast: 1<br>Making Sense with Sam Harris - Subscriber Content: 1",
          "<b>level</b><br>All-In with Chamath, Jason, Sacks & Friedberg: 6<br>Making Sense with Sam Harris - Subscriber Content: 6<br>Huberman Lab: 2<br>Acquired: 1<br>Dwarkesh Podcast: 1<br>Pivot: 1<br>The Knowledge Project with Shane Parrish: 1<br>The Peter Zeihan Podcast Series: 1<br>The Prof G Pod with Scott Galloway: 1",
          "<b>loss</b><br>All-In with Chamath, Jason, Sacks & Friedberg: 4<br>Dwarkesh Podcast: 1<br>Freakonomics Radio: 1<br>Making Sense with Sam Harris - Subscriber Content: 1<br>Pivot: 1<br>Prof G Markets: 1<br>The Peter Zeihan Podcast Series: 1",
          "<b>market</b><br>All-In with Chamath, Jason, Sacks & Friedberg: 13<br>a16z Podcast: 5<br>Acquired: 4<br>Dwarkesh Podcast: 4<br>Making Sense with Sam Harris - Subscriber Content: 3<br>The Prof G Pod with Scott Galloway: 3<br>Freakonomics Radio: 1<br>Honestly with Bari Weiss: 1<br>Lex Fridman Podcast: 1<br>Pivot: 1<br>The Joe Rogan Experience: 1<br>Truth with Vivek Ramaswamy: 1",
          "<b>medium</b><br>All-In with Chamath, Jason, Sacks & Friedberg: 8<br>Dwarkesh Podcast: 5<br>Lex Fridman Podcast: 4<br>Huberman Lab: 3<br>Making Sense with Sam Harris - Subscriber Content: 2<br>Pivot: 2<br>Making Sense with Sam Harris: 1<br>The Daily: 1<br>The Prof G Pod with Scott Galloway: 1",
          "<b>model</b><br>All-In with Chamath, Jason, Sacks & Friedberg: 14<br>Dwarkesh Podcast: 13<br>Lex Fridman Podcast: 11<br>Acquired: 8<br>Making Sense with Sam Harris - Subscriber Content: 6<br>a16z Podcast: 5<br>The Peter Zeihan Podcast Series: 1<br>The Prof G Pod with Scott Galloway: 1",
          "<b>money</b><br>All-In with Chamath, Jason, Sacks & Friedberg: 3<br>Dwarkesh Podcast: 2<br>The Prof G Pod with Scott Galloway: 2<br>The Knowledge Project with Shane Parrish: 1<br>The Peter Zeihan Podcast Series: 1",
          "<b>nature</b><br>All-In with Chamath, Jason, Sacks & Friedberg: 2<br>Making Sense with Sam Harris - Subscriber Content: 2<br>The Prof G Pod with Scott Galloway: 2<br>Discover Daily by Perplexity: 1<br>Economist Podcasts: 1<br>Lightcone Podcast: 1",
          "<b>need</b><br>All-In with Chamath, Jason, Sacks & Friedberg: 5<br>a16z Podcast: 5<br>Dwarkesh Podcast: 3<br>Acquired: 2<br>Freakonomics Radio: 2<br>Lex Fridman Podcast: 2<br>Making Sense with Sam Harris - Subscriber Content: 2<br>The Daily: 1<br>The Peter Zeihan Podcast Series: 1<br>The Prof G Pod with Scott Galloway: 1",
          "<b>party</b><br>All-In with Chamath, Jason, Sacks & Friedberg: 7<br>The Peter Zeihan Podcast Series: 6<br>Acquired: 1<br>Making Sense with Sam Harris - Subscriber Content: 1<br>The Ezra Klein Show: 1<br>The Prof G Pod with Scott Galloway: 1<br>Truth with Vivek Ramaswamy: 1",
          "<b>people</b><br>All-In with Chamath, Jason, Sacks & Friedberg: 2<br>Dwarkesh Podcast: 1<br>Honestly with Bari Weiss: 1<br>Lex Fridman Podcast: 1<br>The Prof G Pod with Scott Galloway: 1<br>Truth with Vivek Ramaswamy: 1",
          "<b>perception</b><br>All-In with Chamath, Jason, Sacks & Friedberg: 3<br>Lex Fridman Podcast: 3<br>Dwarkesh Podcast: 2<br>Making Sense with Sam Harris - Subscriber Content: 2<br>The Prof G Pod with Scott Galloway: 2<br>Truth with Vivek Ramaswamy: 1",
          "<b>performance</b><br>All-In with Chamath, Jason, Sacks & Friedberg: 3<br>The Prof G Pod with Scott Galloway: 2<br>Acquired: 1<br>Dwarkesh Podcast: 1<br>Making Sense with Sam Harris: 1",
          "<b>period</b><br>All-In with Chamath, Jason, Sacks & Friedberg: 2<br>Huberman Lab: 2<br>Acquired: 1<br>Dwarkesh Podcast: 1<br>Making Sense with Sam Harris - Subscriber Content: 1<br>The Prof G Pod with Scott Galloway: 1",
          "<b>platform</b><br>All-In with Chamath, Jason, Sacks & Friedberg: 7<br>Acquired: 4<br>Huberman Lab: 2<br>a16z Podcast: 1",
          "<b>potential</b><br>All-In with Chamath, Jason, Sacks & Friedberg: 4<br>Dwarkesh Podcast: 3<br>Making Sense with Sam Harris - Subscriber Content: 3<br>Pivot: 2<br>a16z Podcast: 2<br>Lex Fridman Podcast: 1<br>Making Sense with Sam Harris: 1",
          "<b>power</b><br>All-In with Chamath, Jason, Sacks & Friedberg: 5<br>Making Sense with Sam Harris - Subscriber Content: 5<br>Lex Fridman Podcast: 3<br>The Ben & Marc Show: 3<br>Honestly with Bari Weiss: 2<br>The Daily: 2<br>Truth with Vivek Ramaswamy: 2<br>Making Sense with Sam Harris: 1<br>The Peter Zeihan Podcast Series: 1<br>The Prof G Pod with Scott Galloway: 1",
          "<b>price</b><br>All-In with Chamath, Jason, Sacks & Friedberg: 10<br>Dwarkesh Podcast: 1<br>Truth with Vivek Ramaswamy: 1<br>a16z Podcast: 1",
          "<b>principle</b><br>All-In with Chamath, Jason, Sacks & Friedberg: 3<br>Making Sense with Sam Harris - Subscriber Content: 2<br>Discover Daily by Perplexity: 1<br>Pivot: 1",
          "<b>product</b><br>All-In with Chamath, Jason, Sacks & Friedberg: 10<br>Acquired: 7<br>The Prof G Pod with Scott Galloway: 3<br>Lex Fridman Podcast: 2<br>a16z Podcast: 2<br>Dwarkesh Podcast: 1<br>Lightcone Podcast: 1<br>The Ben & Marc Show: 1<br>Truth with Vivek Ramaswamy: 1",
          "<b>production</b><br>All-In with Chamath, Jason, Sacks & Friedberg: 6<br>Huberman Lab: 1",
          "<b>productivity</b><br>All-In with Chamath, Jason, Sacks & Friedberg: 3<br>Pivot: 3<br>Dwarkesh Podcast: 2<br>Truth with Vivek Ramaswamy: 2<br>Lex Fridman Podcast: 1<br>a16z Podcast: 1",
          "<b>program</b><br>All-In with Chamath, Jason, Sacks & Friedberg: 5<br>The Prof G Pod with Scott Galloway: 4<br>Dwarkesh Podcast: 3<br>Freakonomics Radio: 1<br>Lightcone Podcast: 1<br>Truth with Vivek Ramaswamy: 1",
          "<b>progress</b><br>All-In with Chamath, Jason, Sacks & Friedberg: 4<br>Making Sense with Sam Harris - Subscriber Content: 3<br>Dwarkesh Podcast: 2<br>Freakonomics Radio: 1<br>Lex Fridman Podcast: 1<br>The Joe Rogan Experience: 1<br>The Knowledge Project with Shane Parrish: 1<br>The Prof G Pod with Scott Galloway: 1",
          "<b>prosperity</b><br>All-In with Chamath, Jason, Sacks & Friedberg: 4<br>The Prof G Pod with Scott Galloway: 4<br>Dwarkesh Podcast: 3<br>The Ben & Marc Show: 1<br>The Ezra Klein Show: 1",
          "<b>question</b><br>All-In with Chamath, Jason, Sacks & Friedberg: 4<br>Dwarkesh Podcast: 3<br>Lex Fridman Podcast: 3<br>Making Sense with Sam Harris - Subscriber Content: 2<br>Freakonomics Radio: 1<br>Pivot: 1<br>The Peter Zeihan Podcast Series: 1<br>The Prof G Pod with Scott Galloway: 1",
          "<b>rate</b><br>All-In with Chamath, Jason, Sacks & Friedberg: 24<br>The Prof G Pod with Scott Galloway: 4<br>Truth with Vivek Ramaswamy: 3<br>Lex Fridman Podcast: 2<br>Dwarkesh Podcast: 1<br>The Peter Zeihan Podcast Series: 1<br>a16z Podcast: 1",
          "<b>response</b><br>All-In with Chamath, Jason, Sacks & Friedberg: 3<br>Lex Fridman Podcast: 2<br>a16z Podcast: 2<br>Dwarkesh Podcast: 1<br>Huberman Lab: 1<br>Making Sense with Sam Harris - Subscriber Content: 1<br>The Prof G Pod with Scott Galloway: 1",
          "<b>return</b><br>All-In with Chamath, Jason, Sacks & Friedberg: 2<br>Making Sense with Sam Harris - Subscriber Content: 2<br>The Prof G Pod with Scott Galloway: 2<br>The Daily: 1<br>The Peter Zeihan Podcast Series: 1",
          "<b>risk</b><br>All-In with Chamath, Jason, Sacks & Friedberg: 3<br>Dwarkesh Podcast: 3<br>Making Sense with Sam Harris - Subscriber Content: 3<br>a16z Podcast: 3<br>Huberman Lab: 2<br>Lex Fridman Podcast: 2<br>The Prof G Pod with Scott Galloway: 2<br>Freakonomics Radio: 1<br>Making Sense with Sam Harris: 1<br>Pivot: 1",
          "<b>role</b><br>All-In with Chamath, Jason, Sacks & Friedberg: 5<br>Dwarkesh Podcast: 5<br>Freakonomics Radio: 3<br>Making Sense with Sam Harris - Subscriber Content: 3<br>The Prof G Pod with Scott Galloway: 3<br>Pivot: 2<br>Lex Fridman Podcast: 1<br>The Ben & Marc Show: 1<br>The Langley Files: CIA's Podcast: 1<br>The Peter Zeihan Podcast Series: 1",
          "<b>scale</b><br>All-In with Chamath, Jason, Sacks & Friedberg: 3<br>Dwarkesh Podcast: 2<br>Discover Daily by Perplexity: 1<br>Lex Fridman Podcast: 1<br>Making Sense with Sam Harris - Subscriber Content: 1<br>Pivot: 1",
          "<b>sector</b><br>All-In with Chamath, Jason, Sacks & Friedberg: 5<br>The Prof G Pod with Scott Galloway: 3<br>Dwarkesh Podcast: 2<br>Truth with Vivek Ramaswamy: 2<br>Discover Daily by Perplexity: 1<br>Making Sense with Sam Harris - Subscriber Content: 1<br>The Ben & Marc Show: 1",
          "<b>security</b><br>All-In with Chamath, Jason, Sacks & Friedberg: 3<br>Dwarkesh Podcast: 3<br>The Joe Rogan Experience: 2<br>Freakonomics Radio: 1<br>Making Sense with Sam Harris: 1<br>Pivot: 1<br>The Knowledge Project with Shane Parrish: 1<br>The Langley Files: CIA's Podcast: 1<br>Truth with Vivek Ramaswamy: 1",
          "<b>situation</b><br>All-In with Chamath, Jason, Sacks & Friedberg: 5<br>Dwarkesh Podcast: 3<br>Acquired: 1<br>Making Sense with Sam Harris - Subscriber Content: 1<br>The Daily: 1<br>Truth with Vivek Ramaswamy: 1",
          "<b>solution</b><br>All-In with Chamath, Jason, Sacks & Friedberg: 5<br>Acquired: 2<br>Dwarkesh Podcast: 2<br>Freakonomics Radio: 1<br>The Ben & Marc Show: 1<br>The Daily: 1<br>a16z Podcast: 1",
          "<b>spending</b><br>All-In with Chamath, Jason, Sacks & Friedberg: 9<br>The Peter Zeihan Podcast Series: 2<br>Acquired: 1<br>The Prof G Pod with Scott Galloway: 1",
          "<b>stability</b><br>All-In with Chamath, Jason, Sacks & Friedberg: 2<br>Dwarkesh Podcast: 1<br>Honestly with Bari Weiss: 1<br>Making Sense with Sam Harris - Subscriber Content: 1<br>Prof G Markets: 1<br>Truth with Vivek Ramaswamy: 1",
          "<b>standard</b><br>All-In with Chamath, Jason, Sacks & Friedberg: 4<br>Dwarkesh Podcast: 2<br>Making Sense with Sam Harris - Subscriber Content: 2<br>Huberman Lab: 1<br>The Knowledge Project with Shane Parrish: 1",
          "<b>startup</b><br>All-In with Chamath, Jason, Sacks & Friedberg: 4<br>a16z Podcast: 4<br>Dwarkesh Podcast: 2<br>Acquired: 1<br>Discover Daily by Perplexity: 1<br>Lex Fridman Podcast: 1<br>Lightcone Podcast: 1",
          "<b>state</b><br>All-In with Chamath, Jason, Sacks & Friedberg: 4<br>Freakonomics Radio: 3<br>Making Sense with Sam Harris - Subscriber Content: 3<br>The Prof G Pod with Scott Galloway: 3<br>Dwarkesh Podcast: 1<br>Lex Fridman Podcast: 1<br>The Ben & Marc Show: 1<br>The Daily: 1<br>The Knowledge Project with Shane Parrish: 1",
          "<b>status</b><br>All-In with Chamath, Jason, Sacks & Friedberg: 1<br>Huberman Lab: 1<br>Making Sense with Sam Harris: 1<br>Making Sense with Sam Harris - Subscriber Content: 1<br>The Ezra Klein Show: 1<br>The Knowledge Project with Shane Parrish: 1<br>The Peter Zeihan Podcast Series: 1<br>The Prof G Pod with Scott Galloway: 1",
          "<b>strategy</b><br>All-In with Chamath, Jason, Sacks & Friedberg: 6<br>Acquired: 4<br>The Prof G Pod with Scott Galloway: 2<br>Discover Daily by Perplexity: 1<br>Dwarkesh Podcast: 1",
          "<b>student</b><br>All-In with Chamath, Jason, Sacks & Friedberg: 3<br>The Prof G Pod with Scott Galloway: 2<br>Freakonomics Radio: 1<br>Lex Fridman Podcast: 1",
          "<b>support</b><br>All-In with Chamath, Jason, Sacks & Friedberg: 10<br>Making Sense with Sam Harris - Subscriber Content: 2<br>Lex Fridman Podcast: 1<br>The Ezra Klein Show: 1<br>The Prof G Pod with Scott Galloway: 1<br>Truth with Vivek Ramaswamy: 1<br>a16z Podcast: 1",
          "<b>system</b><br>All-In with Chamath, Jason, Sacks & Friedberg: 10<br>Dwarkesh Podcast: 10<br>Lex Fridman Podcast: 9<br>Making Sense with Sam Harris - Subscriber Content: 9<br>Freakonomics Radio: 8<br>The Peter Zeihan Podcast Series: 8<br>Honestly with Bari Weiss: 2<br>NZZ Akzent: 2<br>The Prof G Pod with Scott Galloway: 2<br>a16z Podcast: 2<br>Discover Daily by Perplexity: 1<br>Great Mysteries of Physics: 1<br>Huberman Lab: 1<br>Making Sense with Sam Harris: 1<br>The Knowledge Project with Shane Parrish: 1",
          "<b>task</b><br>All-In with Chamath, Jason, Sacks & Friedberg: 3<br>Dwarkesh Podcast: 3<br>Lex Fridman Podcast: 3<br>Pivot: 3<br>a16z Podcast: 3<br>The Ben & Marc Show: 2<br>Freakonomics Radio: 1<br>The Prof G Pod with Scott Galloway: 1",
          "<b>team</b><br>All-In with Chamath, Jason, Sacks & Friedberg: 3<br>Dwarkesh Podcast: 3<br>Lightcone Podcast: 1<br>Making Sense with Sam Harris - Subscriber Content: 1<br>The Prof G Pod with Scott Galloway: 1<br>a16z Podcast: 1",
          "<b>threat</b><br>All-In with Chamath, Jason, Sacks & Friedberg: 3<br>Dwarkesh Podcast: 3<br>Freakonomics Radio: 1<br>Making Sense with Sam Harris - Subscriber Content: 1<br>Pivot: 1<br>The Prof G Pod with Scott Galloway: 1<br>a16z Podcast: 1",
          "<b>tool</b><br>All-In with Chamath, Jason, Sacks & Friedberg: 3<br>Acquired: 2<br>Dwarkesh Podcast: 2<br>Lex Fridman Podcast: 2<br>Making Sense with Sam Harris - Subscriber Content: 2<br>Making Sense with Sam Harris: 1<br>Pivot: 1<br>The Ben & Marc Show: 1<br>The Peter Zeihan Podcast Series: 1<br>a16z Podcast: 1",
          "<b>trend</b><br>All-In with Chamath, Jason, Sacks & Friedberg: 3<br>The Prof G Pod with Scott Galloway: 2<br>Dwarkesh Podcast: 1<br>Making Sense with Sam Harris - Subscriber Content: 1<br>The Peter Zeihan Podcast Series: 1<br>Truth with Vivek Ramaswamy: 1",
          "<b>use</b><br>All-In with Chamath, Jason, Sacks & Friedberg: 5<br>Lex Fridman Podcast: 4<br>Huberman Lab: 2<br>Acquired: 1<br>Making Sense with Sam Harris: 1<br>Making Sense with Sam Harris - Subscriber Content: 1<br>The Prof G Pod with Scott Galloway: 1<br>Truth with Vivek Ramaswamy: 1",
          "<b>voter</b><br>All-In with Chamath, Jason, Sacks & Friedberg: 3<br>The Prof G Pod with Scott Galloway: 3<br>The Ezra Klein Show: 2<br>Making Sense with Sam Harris: 1",
          "<b>year</b><br>All-In with Chamath, Jason, Sacks & Friedberg: 4<br>Making Sense with Sam Harris - Subscriber Content: 3<br>The Prof G Pod with Scott Galloway: 3<br>Lex Fridman Podcast: 2<br>Acquired: 1<br>Freakonomics Radio: 1<br>The Ben & Marc Show: 1<br>The Knowledge Project with Shane Parrish: 1"
         ],
         "marker": {
          "color": "rgb(255,255,179)",
          "size": 4
         },
         "mode": "markers+text",
         "name": "All-In with Chamath, Jason, Sacks & Friedberg",
         "text": [
          "ability",
          "agency",
          "agent",
          "apple",
          "area",
          "asset",
          "background",
          "balance",
          "business",
          "capital",
          "car",
          "change",
          "china",
          "company",
          "computer",
          "conflict",
          "consumer",
          "content",
          "contrast",
          "cost",
          "crisis",
          "customer",
          "cycle",
          "datum",
          "death",
          "debt",
          "desire",
          "discussion",
          "economy",
          "effect",
          "efficiency",
          "energy",
          "engagement",
          "environment",
          "event",
          "evolution",
          "experience",
          "fear",
          "feature",
          "founder",
          "gdp",
          "google",
          "government",
          "growth",
          "history",
          "implication",
          "importance",
          "income",
          "industry",
          "inflation",
          "influence",
          "information",
          "innovation",
          "institution",
          "integration",
          "interaction",
          "interest",
          "internet",
          "intervention",
          "knowledge",
          "landscape",
          "level",
          "loss",
          "market",
          "medium",
          "model",
          "money",
          "nature",
          "need",
          "party",
          "people",
          "perception",
          "performance",
          "period",
          "platform",
          "potential",
          "power",
          "price",
          "principle",
          "product",
          "production",
          "productivity",
          "program",
          "progress",
          "prosperity",
          "question",
          "rate",
          "response",
          "return",
          "risk",
          "role",
          "scale",
          "sector",
          "security",
          "situation",
          "solution",
          "spending",
          "stability",
          "standard",
          "startup",
          "state",
          "status",
          "strategy",
          "student",
          "support",
          "system",
          "task",
          "team",
          "threat",
          "tool",
          "trend",
          "use",
          "voter",
          "year"
         ],
         "textfont": {
          "color": "rgb(255,255,179)",
          "size": [
           11.148579046593243,
           7.5,
           7.5,
           7.5,
           10.218657103125848,
           7.92481250360578,
           7.92481250360578,
           7.5,
           11.887218755408671,
           8.96240625180289,
           8.304820237218406,
           12.718657103125848,
           10.42481250360578,
           14.582225035411852,
           8.304820237218406,
           10,
           7.5,
           11.148579046593243,
           7.92481250360578,
           11.751099295352729,
           8.648579046593243,
           10,
           7.5,
           10.804820237218406,
           7.92481250360578,
           10.619818783608963,
           7.5,
           8.648579046593243,
           11.60964047443681,
           9.51838730514401,
           9.25109929535273,
           10.218657103125848,
           8.648579046593243,
           10.42481250360578,
           7.5,
           8.304820237218406,
           11.60964047443681,
           7.92481250360578,
           7.5,
           9.51838730514401,
           9.767226489021297,
           10.218657103125848,
           14.03677461028802,
           13.39388001154521,
           7.92481250360578,
           7.5,
           10.619818783608963,
           9.767226489021297,
           12.5,
           10.804820237218406,
           9.767226489021297,
           9.767226489021297,
           10.42481250360578,
           7.92481250360578,
           7.92481250360578,
           10,
           11.60964047443681,
           7.5,
           7.92481250360578,
           8.304820237218406,
           8.648579046593243,
           10.980793556946901,
           8.648579046593243,
           13.213505547155622,
           12.01838730514401,
           14.767226489021297,
           8.304820237218406,
           8.304820237218406,
           11.60964047443681,
           10.619818783608963,
           7.5,
           9.51838730514401,
           7.92481250360578,
           7.92481250360578,
           9.767226489021297,
           10.218657103125848,
           11.751099295352729,
           9.51838730514401,
           7.5,
           12.14495248781893,
           7.5,
           9.25109929535273,
           10,
           9.767226489021297,
           9.51838730514401,
           10.218657103125848,
           13.023633414072375,
           8.96240625180289,
           7.92481250360578,
           11.148579046593243,
           11.751099295352729,
           8.304820237218406,
           10,
           9.767226489021297,
           9.25109929535273,
           9.51838730514401,
           9.51838730514401,
           7.5,
           8.648579046593243,
           9.767226489021297,
           10.619818783608963,
           7.92481250360578,
           9.767226489021297,
           7.5,
           10.42481250360578,
           15.218657103125848,
           10.804820237218406,
           8.648579046593243,
           8.96240625180289,
           10.218657103125848,
           8.304820237218406,
           10.218657103125848,
           8.304820237218406,
           10.218657103125848
          ]
         },
         "textposition": "top center",
         "type": "scatter3d",
         "x": [
          -0.1478762571997133,
          -0.30145927501001674,
          -0.26815752398324644,
          -0.2595229477699555,
          -0.05191639338171809,
          -0.3268870371472715,
          0.025555485237463323,
          -0.049853837537648396,
          -0.19673157081541295,
          -0.20077143833227135,
          -0.2053520802807248,
          -0.01204177026115067,
          -0.15907441086005106,
          -0.23430238223045996,
          -0.2713883461004743,
          -0.10844636183787111,
          -0.33117139280313546,
          -0.34008960586735354,
          -0.21529657505731004,
          -0.2555408386205938,
          -0.15157600266859536,
          -0.3653121644952288,
          -0.20808446244679696,
          -0.30934196856318885,
          -0.016967909618909982,
          -0.35299792894313664,
          -0.3490699673092758,
          -0.16465170099712528,
          -0.3110874166703857,
          -0.03767186555145242,
          -0.15338361709090415,
          -0.1399981958460002,
          -0.3600395550741645,
          -0.18373608939745728,
          -0.04136009990199932,
          -0.2867317696134445,
          0.028579809105542288,
          0.06019411527298446,
          -0.3563521142363003,
          -0.31261637699903755,
          -0.34133488051298233,
          -0.3194904487484652,
          -0.2177347569689547,
          -0.15800500800277298,
          0.109094177369952,
          -0.11257279865187522,
          -0.06891513720539465,
          -0.11290769604630022,
          -0.2153447042037636,
          -0.3446125133961926,
          -0.006716514689410015,
          -0.1979596492079481,
          -0.23256237883329128,
          0.05315054196900941,
          -0.3341440721158536,
          0.043470460346372995,
          -0.3326194695242569,
          -0.30369577426294464,
          -0.06374345066946789,
          -0.009298604730389522,
          -0.25255036302540795,
          0.01874806341250123,
          -0.20684573631241499,
          -0.19432449189791265,
          -0.14285388612620636,
          -0.1431718287865515,
          -0.23861530197718958,
          0.040178577200011466,
          -0.18156859374256687,
          -0.2774808115959547,
          -0.26997841495603486,
          -0.016862912503403965,
          -0.2268687930379144,
          -0.01310212511725346,
          -0.42528109775973905,
          -0.03356971947273101,
          0.05480659258859105,
          -0.38566623729766647,
          -0.10966144139067151,
          -0.36901866399973243,
          -0.34693349432659104,
          -0.317314845707323,
          -0.2029660467569828,
          -0.012674463181405905,
          -0.1871537153760137,
          -0.06459853471320257,
          -0.350223151683137,
          -0.1358146366301424,
          0.03260212862203701,
          0.08336472280897918,
          -0.019627071487172534,
          -0.18474566774318354,
          -0.19377428680530553,
          -0.33489683159577244,
          -0.26470933948682657,
          -0.3542819802547165,
          -0.3695878864509477,
          -0.1307631629385404,
          -0.12576410650722525,
          -0.3670136317561908,
          0.07393434885491437,
          0.2330990244571521,
          -0.3910035703888899,
          -0.21454369132914647,
          -0.2191139859761856,
          0.09324103041491175,
          -0.24563315966964752,
          -0.18157541823751558,
          -0.13354588942232026,
          -0.1046382789302816,
          -0.1352811706257075,
          -0.18107288488427814,
          -0.23426829938620916,
          0.011223979184662433
         ],
         "y": [
          -0.032675202759471215,
          -0.00031639060190342977,
          0.15587772878602252,
          0.22358870243081153,
          -0.060426349581567756,
          0.18660864254215226,
          -0.0664652577609037,
          -0.04846891071418168,
          0.1666689655128534,
          0.020464953154603994,
          0.07120493939067095,
          -0.06840894345487157,
          0.17799973770965327,
          0.09610745844178739,
          0.12380439768368676,
          0.0809019585150308,
          0.17083022379671745,
          0.09645916230726494,
          0.35154936899980127,
          0.1673555682697199,
          0.12316423254108598,
          0.16503262115745965,
          0.186593241565476,
          -0.09052179716555897,
          0.18753751772738558,
          0.22430431204337717,
          0.2034451614262565,
          -0.015508276498209517,
          0.007929930344838944,
          0.0559728885350868,
          -0.035996487911305226,
          0.14849366757516957,
          0.044347190957058955,
          -0.13082405325979746,
          0.07711667907034628,
          0.004498259051354993,
          0.1139555865157633,
          0.18279257715858607,
          0.0234816754932785,
          -0.2082197762895633,
          0.14143640009919342,
          0.1418091486791136,
          0.11988935968568629,
          -0.002176122548446055,
          0.16450160729607888,
          -0.08791966364906677,
          -0.07491740701406634,
          0.24545790508510928,
          0.16255936268875407,
          0.19944310752754593,
          -0.09516568588452522,
          0.03242248775104212,
          0.12085597956970574,
          -0.12637024869249938,
          0.1426599962968241,
          -0.0014154688390000877,
          0.16012644203220075,
          -0.4158833998721068,
          0.2631951770793786,
          -0.13436022593131194,
          -0.10354633889287461,
          0.04059767407804579,
          0.06615295375363973,
          0.06337200658651827,
          -0.11633995260496,
          -0.20022892678722126,
          0.053508709975049945,
          0.2523558598349863,
          -0.16138790822094,
          0.29973902995325913,
          -0.025938077630642094,
          -0.08205706155216791,
          0.11065528554872406,
          0.10054249486706551,
          0.13789942377734382,
          -0.14172643719396277,
          0.08311192801098666,
          0.12268957827798463,
          0.12162483191217906,
          0.10617194786888653,
          0.16159086942766815,
          -0.2085421172322679,
          0.06970482608122147,
          -0.021313113039374287,
          0.09379711007310504,
          -0.11813611439882427,
          0.16074065648369756,
          -0.039311215839328145,
          0.23524430259053436,
          -0.13085283560380287,
          -0.06352246927279659,
          -0.11755634620967705,
          0.10829608948393368,
          -0.20550424019582053,
          -0.06254051171885275,
          -0.004780810531717349,
          0.16008607172428932,
          -0.10098338923589227,
          -0.01634171358478438,
          -0.16610643832051777,
          0.07102061444672356,
          0.36980232663064494,
          0.1248500303611147,
          0.19322318334624883,
          0.15126583135845975,
          -0.21483481633108947,
          -0.27946373327491614,
          -0.08323530979338502,
          -0.049939993405317004,
          -0.19802454401474057,
          0.13029127697062975,
          -0.02003586731070296,
          0.3410082434469107,
          0.11460599428115828
         ],
         "z": [
          -0.08342921750662619,
          0.16813960661725824,
          -0.027934466162655144,
          -0.013229687211629043,
          -0.244766668842762,
          -0.0996395162415286,
          -0.3164210976188128,
          -0.19403990078675443,
          0.01965984408183243,
          0.1737686593503725,
          0.21685847128564154,
          -0.07779555838795867,
          -0.2536417235925717,
          0.05140362102570618,
          -0.2528502140641406,
          -0.2299839104759019,
          -0.09237182857849054,
          -0.17406869902219635,
          -0.16640626835186906,
          0.012685661833115619,
          -0.021743234995958486,
          -0.15733291920055625,
          0.038219319152575155,
          -0.0881748129365186,
          -0.08665130559017033,
          -0.17103384863884455,
          -0.15831468799938722,
          -0.28865582202433554,
          -0.09049186859713654,
          -0.3264198679045364,
          -0.11732925183157719,
          -0.09580351630519585,
          -0.23508799491862103,
          -0.03164322491469276,
          -0.12247479777817682,
          -0.1745835918601933,
          -0.18718196512816773,
          -0.17266051920780132,
          0.12046963546351908,
          -0.25289363158467804,
          -0.17896541159501292,
          -0.06071125191246704,
          -0.16336457901207574,
          0.022852182808699974,
          -0.1265123851380347,
          0.02474330919730705,
          -0.09666764733013493,
          -0.02876469536386605,
          0.0387107541477365,
          -0.16351444946836904,
          -0.2692425219199073,
          -0.4073240795954031,
          -0.08523059015998355,
          -0.20108016019119984,
          -0.07356055969003514,
          -0.11725896346510807,
          -0.12137000649577007,
          -0.08160030033633936,
          -0.47021331360440527,
          -0.16912648081808226,
          -0.08703521344502457,
          -0.21331485320096968,
          -0.1877150984999018,
          -0.06294149832524955,
          -0.09701993317091165,
          -0.08899845605587797,
          0.16465776766913703,
          -0.09159282387305395,
          -0.06112711669956983,
          -0.2398619748248188,
          0.06015338186701598,
          0.0061397184662777445,
          0.07291866307158555,
          -0.04698482513750789,
          -0.2020735376552905,
          -0.17869837346744283,
          -0.32216928628230335,
          -0.13280357323784292,
          -0.31328130042831265,
          -0.054794592469123174,
          -0.19736456470869693,
          -0.0934532493234743,
          0.14072611911179683,
          -0.1291466149419357,
          0.15993639406860094,
          -0.06815342926120654,
          -0.12309744692753165,
          -0.07279211573981038,
          -0.0891098413837498,
          -0.009446407043334262,
          0.06574235050827514,
          -0.16138964878528309,
          0.06383701169689887,
          0.05901665946725684,
          -0.06994902338473973,
          -0.10555419517536689,
          -0.14458060334227446,
          -0.25784983401729106,
          -0.1879038135629966,
          -0.0636458737690895,
          -0.03233617610891791,
          -0.15306700872590584,
          -0.04247393317086943,
          0.010389411977500363,
          -0.19747181952233273,
          -0.06210485905043238,
          0.027632481899555285,
          0.05091973042412762,
          0.05297413341491202,
          -0.13971132644860854,
          -0.012584181414394224,
          -0.23322235901282484,
          0.06949589086579452,
          -0.05199368576266974
         ]
        },
        {
         "hoverinfo": "text",
         "hovertext": [
          "<b>advancement</b><br>Dwarkesh Podcast: 3<br>Lex Fridman Podcast: 3<br>Making Sense with Sam Harris - Subscriber Content: 3<br>All-In with Chamath, Jason, Sacks & Friedberg: 2<br>Discover Daily by Perplexity: 1<br>Making Sense with Sam Harris: 1<br>Pivot: 1<br>The Ben & Marc Show: 1<br>The Joe Rogan Experience: 1<br>The Knowledge Project with Shane Parrish: 1<br>a16z Podcast: 1",
          "<b>agi</b><br>Dwarkesh Podcast: 6<br>Lex Fridman Podcast: 4",
          "<b>capability</b><br>Dwarkesh Podcast: 3<br>Lex Fridman Podcast: 3<br>All-In with Chamath, Jason, Sacks & Friedberg: 2<br>Making Sense with Sam Harris - Subscriber Content: 2<br>a16z Podcast: 2<br>Making Sense with Sam Harris: 1",
          "<b>ceo</b><br>Dwarkesh Podcast: 3<br>All-In with Chamath, Jason, Sacks & Friedberg: 2<br>Lightcone Podcast: 1<br>Pivot: 1<br>The Ben & Marc Show: 1<br>The Prof G Pod with Scott Galloway: 1",
          "<b>concept</b><br>Dwarkesh Podcast: 5<br>Making Sense with Sam Harris - Subscriber Content: 4<br>All-In with Chamath, Jason, Sacks & Friedberg: 1<br>Lex Fridman Podcast: 1<br>The Prof G Pod with Scott Galloway: 1",
          "<b>country</b><br>Dwarkesh Podcast: 17<br>All-In with Chamath, Jason, Sacks & Friedberg: 8<br>The Prof G Pod with Scott Galloway: 8<br>The Peter Zeihan Podcast Series: 5<br>Making Sense with Sam Harris - Subscriber Content: 4<br>Freakonomics Radio: 3<br>Pivot: 1<br>The Langley Files: CIA's Podcast: 1<br>Truth with Vivek Ramaswamy: 1",
          "<b>decade</b><br>Dwarkesh Podcast: 2<br>The Prof G Pod with Scott Galloway: 2<br>All-In with Chamath, Jason, Sacks & Friedberg: 1<br>Making Sense with Sam Harris: 1<br>Making Sense with Sam Harris - Subscriber Content: 1<br>The Joe Rogan Experience: 1",
          "<b>example</b><br>Dwarkesh Podcast: 3<br>All-In with Chamath, Jason, Sacks & Friedberg: 1<br>Huberman Lab: 1<br>Making Sense with Sam Harris - Subscriber Content: 1<br>The Prof G Pod with Scott Galloway: 1",
          "<b>factor</b><br>Dwarkesh Podcast: 3<br>All-In with Chamath, Jason, Sacks & Friedberg: 2<br>Making Sense with Sam Harris - Subscriber Content: 2<br>The Knowledge Project with Shane Parrish: 2<br>The Prof G Pod with Scott Galloway: 2<br>Discover Daily by Perplexity: 1<br>Freakonomics Radio: 1<br>Lex Fridman Podcast: 1<br>Truth with Vivek Ramaswamy: 1",
          "<b>focus</b><br>Dwarkesh Podcast: 5<br>Making Sense with Sam Harris - Subscriber Content: 4<br>All-In with Chamath, Jason, Sacks & Friedberg: 2<br>Freakonomics Radio: 2<br>Making Sense with Sam Harris: 2<br>Honestly with Bari Weiss: 1<br>Huberman Lab: 1<br>Lex Fridman Podcast: 1<br>Pivot: 1<br>The Ezra Klein Show: 1<br>The Prof G Pod with Scott Galloway: 1",
          "<b>funding</b><br>Dwarkesh Podcast: 3<br>All-In with Chamath, Jason, Sacks & Friedberg: 2<br>Acquired: 1<br>Lex Fridman Podcast: 1<br>The Peter Zeihan Podcast Series: 1",
          "<b>humanity</b><br>Dwarkesh Podcast: 2<br>Lex Fridman Podcast: 2<br>Honestly with Bari Weiss: 1<br>Making Sense with Sam Harris - Subscriber Content: 1<br>The Prof G Pod with Scott Galloway: 1",
          "<b>idea</b><br>Dwarkesh Podcast: 7<br>Making Sense with Sam Harris - Subscriber Content: 4<br>All-In with Chamath, Jason, Sacks & Friedberg: 3<br>Lex Fridman Podcast: 2<br>The Prof G Pod with Scott Galloway: 2<br>Freakonomics Radio: 1<br>Great Mysteries of Physics: 1<br>The Ben & Marc Show: 1",
          "<b>impact</b><br>Dwarkesh Podcast: 4<br>Freakonomics Radio: 4<br>Huberman Lab: 3<br>Pivot: 3<br>The Prof G Pod with Scott Galloway: 2<br>All-In with Chamath, Jason, Sacks & Friedberg: 1<br>Discover Daily by Perplexity: 1<br>Honestly with Bari Weiss: 1<br>Making Sense with Sam Harris: 1<br>Making Sense with Sam Harris - Subscriber Content: 1<br>Search Engine: 1<br>Within Reason: 1",
          "<b>improvement</b><br>Dwarkesh Podcast: 3<br>All-In with Chamath, Jason, Sacks & Friedberg: 2<br>a16z Podcast: 2<br>Huberman Lab: 1<br>Lightcone Podcast: 1<br>The Prof G Pod with Scott Galloway: 1<br>Truth with Vivek Ramaswamy: 1",
          "<b>insight</b><br>Dwarkesh Podcast: 3<br>The Prof G Pod with Scott Galloway: 2<br>Acquired: 1<br>Huberman Lab: 1<br>Lex Fridman Podcast: 1<br>The Knowledge Project with Shane Parrish: 1<br>a16z Podcast: 1",
          "<b>lack</b><br>Dwarkesh Podcast: 5<br>Making Sense with Sam Harris - Subscriber Content: 5<br>All-In with Chamath, Jason, Sacks & Friedberg: 3<br>The Knowledge Project with Shane Parrish: 2<br>Acquired: 1<br>Lex Fridman Podcast: 1<br>Pivot: 1<br>The Ben & Marc Show: 1<br>The Daily: 1<br>The Joe Rogan Experience: 1<br>The Peter Zeihan Podcast Series: 1",
          "<b>leader</b><br>Dwarkesh Podcast: 4<br>All-In with Chamath, Jason, Sacks & Friedberg: 3<br>Making Sense with Sam Harris - Subscriber Content: 3<br>Acquired: 1<br>Lex Fridman Podcast: 1<br>Pivot: 1<br>The Prof G Pod with Scott Galloway: 1",
          "<b>leadership</b><br>Dwarkesh Podcast: 6<br>All-In with Chamath, Jason, Sacks & Friedberg: 4<br>The Peter Zeihan Podcast Series: 2<br>Making Sense with Sam Harris - Subscriber Content: 1<br>Pivot: 1",
          "<b>machine</b><br>Dwarkesh Podcast: 4<br>Making Sense with Sam Harris - Subscriber Content: 3<br>All-In with Chamath, Jason, Sacks & Friedberg: 2<br>Discover Daily by Perplexity: 1",
          "<b>nation</b><br>Dwarkesh Podcast: 5<br>The Prof G Pod with Scott Galloway: 3<br>Freakonomics Radio: 1<br>Making Sense with Sam Harris - Subscriber Content: 1",
          "<b>order</b><br>Dwarkesh Podcast: 3<br>Lex Fridman Podcast: 1<br>Making Sense with Sam Harris - Subscriber Content: 1<br>Pivot: 1<br>The Daily: 1",
          "<b>perspective</b><br>Dwarkesh Podcast: 3<br>Lex Fridman Podcast: 2<br>All-In with Chamath, Jason, Sacks & Friedberg: 1<br>Freakonomics Radio: 1<br>Making Sense with Sam Harris - Subscriber Content: 1<br>The Prof G Pod with Scott Galloway: 1",
          "<b>policy</b><br>Dwarkesh Podcast: 5<br>All-In with Chamath, Jason, Sacks & Friedberg: 3<br>Freakonomics Radio: 3<br>The Peter Zeihan Podcast Series: 3<br>The Prof G Pod with Scott Galloway: 3<br>Making Sense with Sam Harris - Subscriber Content: 2<br>Truth with Vivek Ramaswamy: 2<br>Pivot: 1<br>The Ezra Klein Show: 1",
          "<b>presence</b><br>Dwarkesh Podcast: 2<br>Making Sense with Sam Harris - Subscriber Content: 2<br>The Prof G Pod with Scott Galloway: 2<br>All-In with Chamath, Jason, Sacks & Friedberg: 1<br>Lex Fridman Podcast: 1",
          "<b>problem</b><br>Dwarkesh Podcast: 4<br>The Prof G Pod with Scott Galloway: 3<br>All-In with Chamath, Jason, Sacks & Friedberg: 2<br>Lex Fridman Podcast: 1<br>The Pioneer Briefing: 1<br>a16z Podcast: 1",
          "<b>process</b><br>Dwarkesh Podcast: 4<br>Lex Fridman Podcast: 4<br>All-In with Chamath, Jason, Sacks & Friedberg: 3<br>Huberman Lab: 1<br>Making Sense with Sam Harris - Subscriber Content: 1<br>a16z Podcast: 1",
          "<b>quality</b><br>Dwarkesh Podcast: 3<br>Making Sense with Sam Harris - Subscriber Content: 2<br>All-In with Chamath, Jason, Sacks & Friedberg: 1<br>Discover Daily by Perplexity: 1<br>Freakonomics Radio: 1<br>Huberman Lab: 1<br>Lex Fridman Podcast: 1<br>The Ben & Marc Show: 1<br>The Prof G Pod with Scott Galloway: 1",
          "<b>resource</b><br>Dwarkesh Podcast: 3<br>Acquired: 2<br>Making Sense with Sam Harris - Subscriber Content: 2<br>All-In with Chamath, Jason, Sacks & Friedberg: 1<br>Lex Fridman Podcast: 1<br>Pivot: 1<br>The Prof G Pod with Scott Galloway: 1",
          "<b>revolution</b><br>Dwarkesh Podcast: 3<br>All-In with Chamath, Jason, Sacks & Friedberg: 1<br>Freakonomics Radio: 1<br>Lex Fridman Podcast: 1<br>Truth with Vivek Ramaswamy: 1",
          "<b>russia</b><br>Dwarkesh Podcast: 2<br>The Daily: 2<br>All-In with Chamath, Jason, Sacks & Friedberg: 1<br>Freakonomics Radio: 1<br>The Peter Zeihan Podcast Series: 1",
          "<b>scenario</b><br>Dwarkesh Podcast: 5<br>All-In with Chamath, Jason, Sacks & Friedberg: 1<br>Lex Fridman Podcast: 1<br>Making Sense with Sam Harris - Subscriber Content: 1",
          "<b>skill</b><br>Dwarkesh Podcast: 5<br>Freakonomics Radio: 2<br>Making Sense with Sam Harris - Subscriber Content: 2<br>Truth with Vivek Ramaswamy: 2<br>a16z Podcast: 2<br>Lex Fridman Podcast: 1<br>The Langley Files: CIA's Podcast: 1<br>The Prof G Pod with Scott Galloway: 1",
          "<b>source</b><br>Dwarkesh Podcast: 6<br>All-In with Chamath, Jason, Sacks & Friedberg: 3<br>Lex Fridman Podcast: 1<br>Making Sense with Sam Harris - Subscriber Content: 1",
          "<b>statement</b><br>Dwarkesh Podcast: 3<br>Within Reason: 3<br>Making Sense with Sam Harris - Subscriber Content: 1",
          "<b>success</b><br>Dwarkesh Podcast: 10<br>The Prof G Pod with Scott Galloway: 6<br>Acquired: 5<br>Pivot: 4<br>a16z Podcast: 2<br>All-In with Chamath, Jason, Sacks & Friedberg: 1<br>Honestly with Bari Weiss: 1<br>The Knowledge Project with Shane Parrish: 1<br>The Langley Files: CIA's Podcast: 1",
          "<b>thing</b><br>Dwarkesh Podcast: 3<br>All-In with Chamath, Jason, Sacks & Friedberg: 2<br>The Knowledge Project with Shane Parrish: 2<br>The Prof G Pod with Scott Galloway: 2<br>Lex Fridman Podcast: 1<br>Pivot: 1",
          "<b>thinking</b><br>Dwarkesh Podcast: 3<br>All-In with Chamath, Jason, Sacks & Friedberg: 2<br>Pivot: 2<br>The Langley Files: CIA's Podcast: 1",
          "<b>understanding</b><br>Dwarkesh Podcast: 3<br>Lex Fridman Podcast: 3<br>The Prof G Pod with Scott Galloway: 2<br>All-In with Chamath, Jason, Sacks & Friedberg: 1<br>Freakonomics Radio: 1<br>Making Sense with Sam Harris: 1<br>Making Sense with Sam Harris - Subscriber Content: 1<br>a16z Podcast: 1",
          "<b>war</b><br>Dwarkesh Podcast: 4<br>All-In with Chamath, Jason, Sacks & Friedberg: 2<br>Search Engine: 1<br>The Peter Zeihan Podcast Series: 1",
          "<b>world</b><br>Dwarkesh Podcast: 8<br>Making Sense with Sam Harris - Subscriber Content: 7<br>All-In with Chamath, Jason, Sacks & Friedberg: 4<br>Lex Fridman Podcast: 4<br>The Joe Rogan Experience: 3<br>Freakonomics Radio: 2<br>Huberman Lab: 2<br>The Prof G Pod with Scott Galloway: 2<br>a16z Podcast: 2<br>Discover Daily by Perplexity: 1<br>Great Mysteries of Physics: 1<br>Pivot: 1<br>The Ben & Marc Show: 1<br>Within Reason: 1"
         ],
         "marker": {
          "color": "rgb(251,128,114)",
          "size": 4
         },
         "mode": "markers+text",
         "name": "Dwarkesh Podcast",
         "text": [
          "advancement",
          "agi",
          "capability",
          "ceo",
          "concept",
          "country",
          "decade",
          "example",
          "factor",
          "focus",
          "funding",
          "humanity",
          "idea",
          "impact",
          "improvement",
          "insight",
          "lack",
          "leader",
          "leadership",
          "machine",
          "nation",
          "order",
          "perspective",
          "policy",
          "presence",
          "problem",
          "process",
          "quality",
          "resource",
          "revolution",
          "russia",
          "scenario",
          "skill",
          "source",
          "statement",
          "success",
          "thing",
          "thinking",
          "understanding",
          "war",
          "world"
         ],
         "textfont": {
          "color": "rgb(251,128,114)",
          "size": [
           10.619818783608963,
           8.648579046593243,
           9.51838730514401,
           8.304820237218406,
           9.25109929535273,
           14.03677461028802,
           7.92481250360578,
           7.5,
           10,
           11.148579046593243,
           7.92481250360578,
           7.5,
           11.148579046593243,
           11.46240625180289,
           8.96240625180289,
           8.648579046593243,
           11.308904890142532,
           9.767226489021297,
           9.767226489021297,
           8.648579046593243,
           8.648579046593243,
           7.5,
           8.304820237218406,
           11.46240625180289,
           7.92481250360578,
           9.25109929535273,
           9.767226489021297,
           9.25109929535273,
           8.96240625180289,
           7.5,
           7.5,
           7.92481250360578,
           10.218657103125848,
           8.96240625180289,
           7.5,
           12.5,
           8.96240625180289,
           7.92481250360578,
           9.51838730514401,
           7.92481250360578,
           13.304820237218406
          ]
         },
         "textposition": "top center",
         "type": "scatter3d",
         "x": [
          0.054012863000917316,
          -0.014723768229979025,
          0.0499039435549031,
          -0.27138390809218343,
          0.1529823445581635,
          -0.06190775095236781,
          0.014263402795610166,
          0.022258687616909172,
          0.062988293698492,
          0.14623755748176528,
          -0.21434071846414313,
          0.15797371486438877,
          0.054531126788593835,
          0.24254589005454086,
          -0.20570857150364658,
          0.05961412465983974,
          0.10834544146364758,
          -0.03586841335328566,
          -0.1909267978172408,
          0.040093849634297615,
          0.11468905571403189,
          0.08487922461677597,
          0.043167198709733255,
          0.02770529606910061,
          0.1305210848960039,
          -0.10776825226500956,
          -0.09220794776729724,
          0.1528942358850837,
          0.06426522335890292,
          -0.08169883566890473,
          -0.23404858389439578,
          -0.02899946269637149,
          0.19023408538619263,
          -0.15198288213335698,
          0.19887270227185466,
          -0.08370276960684875,
          -0.12669079814612844,
          -0.31899541192814485,
          0.04282642197953409,
          -0.2718024660123031,
          0.12080417303691306
         ],
         "y": [
          -0.29968080483862736,
          -0.549632830372268,
          -0.30903151865866385,
          -0.17271838680256402,
          -0.30469081248795354,
          -0.15904706534548171,
          -0.07983762727804071,
          -0.24276689468501295,
          -0.11271504700266037,
          -0.20245818742306837,
          -0.336579109096097,
          -0.40650401107889705,
          -0.21968029407636674,
          -0.14070850524194856,
          -0.17806121956544818,
          -0.22760272521816438,
          -0.24623455170544578,
          -0.17189713466476178,
          -0.2832267227607776,
          -0.3019525965187088,
          -0.22636336240482793,
          -0.4763953895275739,
          -0.3213381784395541,
          -0.09199432717369073,
          -0.11843993545806962,
          -0.14299757511812378,
          -0.35035846624248856,
          -0.25991721735658085,
          -0.2599328284212276,
          -0.42278993904021744,
          -0.32462860094230866,
          -0.4357695607287128,
          -0.3639536065599714,
          -0.3138101230383669,
          -0.588162587299977,
          -0.27755954684366585,
          -0.12513513694510534,
          -0.3282716526058229,
          -0.2660256289706038,
          -0.3179320302049158,
          -0.21515052141712063
         ],
         "z": [
          -0.1271782673713088,
          0.19805978919677497,
          -0.11339175793906663,
          0.1618605142485884,
          0.026436995848486928,
          0.19515323499860274,
          0.2446610038085138,
          0.17770489575556084,
          0.10795938669735852,
          -0.03586484186012625,
          0.06014963321626349,
          0.10152502949833526,
          0.033279044907356385,
          0.2930340828818445,
          0.19370657712984946,
          0.4410683629605908,
          -0.09969175215520998,
          -0.019549822367442637,
          0.08506570710712535,
          -0.07869174541524138,
          0.3968759916781108,
          0.13763239114352877,
          0.11489799629631639,
          0.20083750953956978,
          0.11039903899793084,
          0.21682939983025054,
          -0.06369859172898812,
          0.06076511789049277,
          0.059456759036273316,
          0.17092550513894994,
          0.355433511847259,
          0.16070934795393585,
          0.2389994517954435,
          0.04678400848058596,
          0.29929610536811163,
          0.43181856494905263,
          0.22532286513574545,
          0.06645371979307907,
          0.1849106426362503,
          0.13262975582441833,
          -0.010664610298083495
         ]
        },
        {
         "hoverinfo": "text",
         "hovertext": [
          "<b>benefit</b><br>Freakonomics Radio: 5<br>The Prof G Pod with Scott Galloway: 2<br>a16z Podcast: 2<br>Dwarkesh Podcast: 1<br>Lex Fridman Podcast: 1<br>Making Sense with Sam Harris - Subscriber Content: 1<br>Pivot: 1",
          "<b>culture</b><br>Freakonomics Radio: 2<br>Making Sense with Sam Harris - Subscriber Content: 2<br>The Prof G Pod with Scott Galloway: 2<br>Truth with Vivek Ramaswamy: 2<br>Acquired: 1<br>Dwarkesh Podcast: 1<br>Lex Fridman Podcast: 1",
          "<b>decline</b><br>Freakonomics Radio: 3<br>All-In with Chamath, Jason, Sacks & Friedberg: 2<br>Honestly with Bari Weiss: 1<br>Making Sense with Sam Harris - Subscriber Content: 1<br>The Prof G Pod with Scott Galloway: 1",
          "<b>education</b><br>Freakonomics Radio: 3<br>Dwarkesh Podcast: 2<br>Making Sense with Sam Harris - Subscriber Content: 1<br>Truth with Vivek Ramaswamy: 1",
          "<b>immigrant</b><br>Freakonomics Radio: 20<br>The Prof G Pod with Scott Galloway: 2",
          "<b>immigration</b><br>Freakonomics Radio: 14<br>The Prof G Pod with Scott Galloway: 3<br>Making Sense with Sam Harris - Subscriber Content: 2",
          "<b>purpose</b><br>Freakonomics Radio: 3<br>Lex Fridman Podcast: 2<br>Making Sense with Sam Harris - Subscriber Content: 2<br>All-In with Chamath, Jason, Sacks & Friedberg: 1<br>The Prof G Pod with Scott Galloway: 1<br>a16z Podcast: 1",
          "<b>rule</b><br>Freakonomics Radio: 2<br>Making Sense with Sam Harris - Subscriber Content: 2<br>a16z Podcast: 2<br>Dwarkesh Podcast: 1<br>Lex Fridman Podcast: 1<br>The Peter Zeihan Podcast Series: 1<br>Truth with Vivek Ramaswamy: 1",
          "<b>study</b><br>Freakonomics Radio: 2<br>Huberman Lab: 2<br>All-In with Chamath, Jason, Sacks & Friedberg: 1<br>Lex Fridman Podcast: 1<br>The Knowledge Project with Shane Parrish: 1",
          "<b>talent</b><br>Freakonomics Radio: 5<br>The Prof G Pod with Scott Galloway: 2<br>All-In with Chamath, Jason, Sacks & Friedberg: 1<br>Making Sense with Sam Harris - Subscriber Content: 1<br>Prof G Markets: 1",
          "<b>wage</b><br>Freakonomics Radio: 4<br>Truth with Vivek Ramaswamy: 3<br>All-In with Chamath, Jason, Sacks & Friedberg: 1"
         ],
         "marker": {
          "color": "rgb(253,180,98)",
          "size": 4
         },
         "mode": "markers+text",
         "name": "Freakonomics Radio",
         "text": [
          "benefit",
          "culture",
          "decline",
          "education",
          "immigrant",
          "immigration",
          "purpose",
          "rule",
          "study",
          "talent",
          "wage"
         ],
         "textfont": {
          "color": "rgb(253,180,98)",
          "size": [
           9.51838730514401,
           8.96240625180289,
           7.92481250360578,
           7.5,
           11.308904890142532,
           10.804820237218406,
           8.648579046593243,
           8.648579046593243,
           7.5,
           8.648579046593243,
           7.92481250360578
          ]
         },
         "textposition": "top center",
         "type": "scatter3d",
         "x": [
          0.44772753449848773,
          0.35092258744150756,
          0.12541317822266826,
          0.46543857840173253,
          0.6267690342641641,
          0.5602878000284481,
          0.4150683486145819,
          0.46034945437315794,
          0.5473558632218427,
          0.40122046274929485,
          0.48608122501956763
         ],
         "y": [
          0.05275421226158451,
          -0.029128162626769948,
          0.36992841433691004,
          -0.2953333784752714,
          0.3307596626463448,
          0.2951902565195919,
          0.05186642901538727,
          -0.2553752210217084,
          0.2251946935531953,
          0.385603068622297,
          0.3459145741243448
         ],
         "z": [
          0.3395507912332943,
          0.17638429526958543,
          -0.04966598680037705,
          0.2421325408378741,
          0.3616410753315359,
          0.29736904961041727,
          -0.037875884484507176,
          -0.05996181756547109,
          0.09431793025255547,
          0.22485088077142734,
          0.3319831523668439
         ]
        },
        {
         "hoverinfo": "text",
         "hovertext": [
          "<b>entropy</b><br>Great Mysteries of Physics: 10",
          "<b>space</b><br>Great Mysteries of Physics: 3<br>Freakonomics Radio: 2<br>Making Sense with Sam Harris - Subscriber Content: 1<br>Pivot: 1<br>Search Engine: 1<br>The Prof G Pod with Scott Galloway: 1<br>a16z Podcast: 1"
         ],
         "marker": {
          "color": "rgb(179,222,105)",
          "size": 4
         },
         "mode": "markers+text",
         "name": "Great Mysteries of Physics",
         "text": [
          "entropy",
          "space"
         ],
         "textfont": {
          "color": "rgb(179,222,105)",
          "size": [
           8.648579046593243,
           8.648579046593243
          ]
         },
         "textposition": "top center",
         "type": "scatter3d",
         "x": [
          0.5556999538172857,
          0.5796028058888794
         ],
         "y": [
          0.7206891605740644,
          0.3596281089674996
         ],
         "z": [
          0.06216587739314377,
          0.13249655785951744
         ]
        },
        {
         "hoverinfo": "text",
         "hovertext": [
          "<b>activity</b><br>Huberman Lab: 5<br>All-In with Chamath, Jason, Sacks & Friedberg: 2<br>The Peter Zeihan Podcast Series: 2<br>Making Sense with Sam Harris - Subscriber Content: 1<br>The Knowledge Project with Shane Parrish: 1<br>The Prof G Pod with Scott Galloway: 1",
          "<b>brain</b><br>Huberman Lab: 5<br>Making Sense with Sam Harris - Subscriber Content: 3<br>Discover Daily by Perplexity: 1<br>Dwarkesh Podcast: 1<br>Lex Fridman Podcast: 1<br>The Prof G Pod with Scott Galloway: 1",
          "<b>cell</b><br>Huberman Lab: 3<br>Making Sense with Sam Harris - Subscriber Content: 3<br>Freakonomics Radio: 1<br>Search Engine: 1",
          "<b>day</b><br>Huberman Lab: 4<br>Dwarkesh Podcast: 2<br>Making Sense with Sam Harris - Subscriber Content: 1<br>The Daily: 1<br>The Prof G Pod with Scott Galloway: 1<br>a16z Podcast: 1",
          "<b>exercise</b><br>Huberman Lab: 6<br>Dwarkesh Podcast: 1",
          "<b>health</b><br>Huberman Lab: 9<br>All-In with Chamath, Jason, Sacks & Friedberg: 4<br>The Prof G Pod with Scott Galloway: 2<br>a16z Podcast: 2<br>Freakonomics Radio: 1<br>The Daily: 1",
          "<b>hour</b><br>Huberman Lab: 2<br>a16z Podcast: 2<br>All-In with Chamath, Jason, Sacks & Friedberg: 1<br>Lex Fridman Podcast: 1<br>Making Sense with Sam Harris - Subscriber Content: 1",
          "<b>movement</b><br>Huberman Lab: 3<br>Making Sense with Sam Harris - Subscriber Content: 2<br>All-In with Chamath, Jason, Sacks & Friedberg: 1<br>Lex Fridman Podcast: 1<br>The Daily: 1<br>The Joe Rogan Experience: 1",
          "<b>muscle</b><br>Huberman Lab: 11<br>Making Sense with Sam Harris - Subscriber Content: 1",
          "<b>plant</b><br>Huberman Lab: 4<br>Making Sense with Sam Harris - Subscriber Content: 2<br>The Peter Zeihan Podcast Series: 1",
          "<b>protein</b><br>Huberman Lab: 11",
          "<b>resistance</b><br>Huberman Lab: 4<br>Dwarkesh Podcast: 3<br>All-In with Chamath, Jason, Sacks & Friedberg: 2<br>Lightcone Podcast: 1<br>Making Sense with Sam Harris - Subscriber Content: 1<br>The Prof G Pod with Scott Galloway: 1",
          "<b>training</b><br>Huberman Lab: 7<br>Dwarkesh Podcast: 4<br>Acquired: 3<br>a16z Podcast: 2<br>All-In with Chamath, Jason, Sacks & Friedberg: 1<br>Lex Fridman Podcast: 1<br>The Prof G Pod with Scott Galloway: 1"
         ],
         "marker": {
          "color": "rgb(217,217,217)",
          "size": 4
         },
         "mode": "markers+text",
         "name": "Huberman Lab",
         "text": [
          "activity",
          "brain",
          "cell",
          "day",
          "exercise",
          "health",
          "hour",
          "movement",
          "muscle",
          "plant",
          "protein",
          "resistance",
          "training"
         ],
         "textfont": {
          "color": "rgb(217,217,217)",
          "size": [
           9.25109929535273,
           9.25109929535273,
           7.92481250360578,
           8.648579046593243,
           7.5,
           10.804820237218406,
           7.5,
           8.304820237218406,
           9.25109929535273,
           7.5,
           8.96240625180289,
           9.25109929535273,
           10.804820237218406
          ]
         },
         "textposition": "top center",
         "type": "scatter3d",
         "x": [
          0.321563797478227,
          0.5772594601178865,
          0.5849684855665538,
          0.39982348350377106,
          0.6438342505239766,
          0.08064859938277202,
          0.10526180164335971,
          0.3940709162743064,
          0.803919252141891,
          0.6642433906762071,
          0.8508770834691701,
          0.1076097306714631,
          0.20088784573473908
         ],
         "y": [
          0.43699652316067805,
          -0.07486292749538061,
          0.012273499159567238,
          -0.18173580925255203,
          -0.16107372693369215,
          0.608610893660915,
          -0.1334849666770286,
          0.14380203592267446,
          0.0026951631809004964,
          0.06417034891800892,
          0.08796242457448926,
          -0.17247844259838963,
          -0.344404416650384
         ],
         "z": [
          -0.17448331503898165,
          -0.021491358238218898,
          -0.22475281901523872,
          0.3262367763450376,
          0.3770771560165178,
          -0.05406198187837303,
          -0.5288745004822488,
          -0.3528153573321993,
          0.14120358038917952,
          -0.1772455644664437,
          0.00018717153209285922,
          0.2838779551911876,
          0.4708579184625058
         ]
        },
        {
         "hoverinfo": "text",
         "hovertext": [
          "<b>aspect</b><br>Lex Fridman Podcast: 2<br>Making Sense with Sam Harris - Subscriber Content: 2<br>Freakonomics Radio: 1<br>Honestly with Bari Weiss: 1<br>The Knowledge Project with Shane Parrish: 1",
          "<b>code</b><br>Lex Fridman Podcast: 4<br>All-In with Chamath, Jason, Sacks & Friedberg: 3<br>a16z Podcast: 2<br>The Prof G Pod with Scott Galloway: 1",
          "<b>consequence</b><br>Lex Fridman Podcast: 2<br>Making Sense with Sam Harris - Subscriber Content: 2<br>All-In with Chamath, Jason, Sacks & Friedberg: 1<br>Great Mysteries of Physics: 1<br>Honestly with Bari Weiss: 1<br>Pivot: 1<br>The Prof G Pod with Scott Galloway: 1<br>Truth with Vivek Ramaswamy: 1<br>a16z Podcast: 1",
          "<b>decision</b><br>Lex Fridman Podcast: 8<br>All-In with Chamath, Jason, Sacks & Friedberg: 6<br>The Peter Zeihan Podcast Series: 4<br>Dwarkesh Podcast: 3<br>Freakonomics Radio: 1<br>Lightcone Podcast: 1<br>Making Sense with Sam Harris: 1<br>The Langley Files: CIA's Podcast: 1<br>The Prof G Pod with Scott Galloway: 1",
          "<b>design</b><br>Lex Fridman Podcast: 4<br>Acquired: 1<br>Dwarkesh Podcast: 1<br>Making Sense with Sam Harris: 1",
          "<b>failure</b><br>Lex Fridman Podcast: 3<br>The Knowledge Project with Shane Parrish: 3<br>Dwarkesh Podcast: 2<br>Making Sense with Sam Harris - Subscriber Content: 2",
          "<b>feedback</b><br>Lex Fridman Podcast: 4<br>The Prof G Pod with Scott Galloway: 4<br>All-In with Chamath, Jason, Sacks & Friedberg: 2",
          "<b>human</b><br>Lex Fridman Podcast: 5<br>Making Sense with Sam Harris - Subscriber Content: 5<br>Making Sense with Sam Harris: 3<br>Pivot: 3<br>All-In with Chamath, Jason, Sacks & Friedberg: 2<br>Dwarkesh Podcast: 2<br>a16z Podcast: 2",
          "<b>intelligence</b><br>Lex Fridman Podcast: 9<br>Dwarkesh Podcast: 5<br>Making Sense with Sam Harris - Subscriber Content: 2<br>Discover Daily by Perplexity: 1<br>Making Sense with Sam Harris: 1<br>The Daily: 1<br>a16z Podcast: 1",
          "<b>making</b><br>Lex Fridman Podcast: 5<br>Dwarkesh Podcast: 3<br>The Prof G Pod with Scott Galloway: 1",
          "<b>outcome</b><br>Lex Fridman Podcast: 3<br>Making Sense with Sam Harris - Subscriber Content: 3<br>The Prof G Pod with Scott Galloway: 3<br>Dwarkesh Podcast: 2<br>Pivot: 2<br>Acquired: 1<br>All-In with Chamath, Jason, Sacks & Friedberg: 1<br>Freakonomics Radio: 1",
          "<b>truth</b><br>Lex Fridman Podcast: 9<br>Making Sense with Sam Harris - Subscriber Content: 2<br>Dwarkesh Podcast: 1",
          "<b>view</b><br>Lex Fridman Podcast: 2<br>The Prof G Pod with Scott Galloway: 2<br>All-In with Chamath, Jason, Sacks & Friedberg: 1<br>Dwarkesh Podcast: 1<br>Making Sense with Sam Harris - Subscriber Content: 1",
          "<b>wolfram</b><br>Lex Fridman Podcast: 7"
         ],
         "marker": {
          "color": "rgb(188,128,189)",
          "size": 4
         },
         "mode": "markers+text",
         "name": "Lex Fridman Podcast",
         "text": [
          "aspect",
          "code",
          "consequence",
          "decision",
          "design",
          "failure",
          "feedback",
          "human",
          "intelligence",
          "making",
          "outcome",
          "truth",
          "view",
          "wolfram"
         ],
         "textfont": {
          "color": "rgb(188,128,189)",
          "size": [
           7.5,
           8.648579046593243,
           8.96240625180289,
           11.887218755408671,
           7.5,
           8.648579046593243,
           8.648579046593243,
           11.308904890142532,
           10.980793556946901,
           8.304820237218406,
           10.218657103125848,
           9.25109929535273,
           7.5,
           7.5
          ]
         },
         "textposition": "top center",
         "type": "scatter3d",
         "x": [
          0.4478125360053133,
          -0.3200800314517732,
          0.24033301605774107,
          -0.2146734055812234,
          0.07319946910367876,
          0.3225008645371956,
          -0.124216766016987,
          0.18930973119152741,
          0.14099528684077794,
          0.05705308350176629,
          0.23647578397802893,
          0.24239586473485,
          0.10590521278919326,
          0.14316213753193063
         ],
         "y": [
          -0.2629889140845586,
          -0.16454809315581878,
          -0.1283059933635955,
          -0.30130554446126817,
          -0.7081683775405483,
          -0.470267606425804,
          0.15891160895597164,
          -0.2919573344983052,
          -0.5360604977536159,
          -0.5907967766040662,
          -0.1275336656547269,
          -0.5949457172794251,
          -0.05559952999745022,
          -0.7339270404593929
         ],
         "z": [
          -0.2629597138376488,
          -0.2620708756193783,
          -0.23413108563971544,
          -0.14417976592305137,
          -0.07945331737478514,
          -0.07240887109545847,
          0.3870137076200006,
          -0.2602184200685059,
          -0.022046845059020527,
          0.16211425813510238,
          0.07047418523060914,
          -0.23513638625611055,
          0.13399415230928102,
          -0.22867556104130363
         ]
        },
        {
         "hoverinfo": "text",
         "hovertext": [
          "<b>wealth</b><br>Making Sense with Sam Harris: 2<br>The Prof G Pod with Scott Galloway: 2<br>All-In with Chamath, Jason, Sacks & Friedberg: 1<br>Dwarkesh Podcast: 1<br>Search Engine: 1<br>a16z Podcast: 1"
         ],
         "marker": {
          "color": "rgb(255,237,111)",
          "size": 4
         },
         "mode": "markers+text",
         "name": "Making Sense with Sam Harris",
         "text": [
          "wealth"
         ],
         "textfont": {
          "color": "rgb(255,237,111)",
          "size": [
           7.92481250360578
          ]
         },
         "textposition": "top center",
         "type": "scatter3d",
         "x": [
          -0.1638368336858922
         ],
         "y": [
          0.10430344152099427
         ],
         "z": [
          0.43550939080321016
         ]
        },
        {
         "hoverinfo": "text",
         "hovertext": [
          "<b>action</b><br>Making Sense with Sam Harris - Subscriber Content: 12<br>All-In with Chamath, Jason, Sacks & Friedberg: 3<br>Dwarkesh Podcast: 1<br>Lex Fridman Podcast: 1<br>Pivot: 1<br>Within Reason: 1",
          "<b>animal</b><br>Making Sense with Sam Harris - Subscriber Content: 6<br>Huberman Lab: 2",
          "<b>approach</b><br>Making Sense with Sam Harris - Subscriber Content: 4<br>All-In with Chamath, Jason, Sacks & Friedberg: 3<br>Lex Fridman Podcast: 3<br>Dwarkesh Podcast: 2<br>Pivot: 2<br>Acquired: 1<br>Freakonomics Radio: 1<br>Truth with Vivek Ramaswamy: 1<br>Within Reason: 1",
          "<b>behavior</b><br>Making Sense with Sam Harris - Subscriber Content: 3<br>All-In with Chamath, Jason, Sacks & Friedberg: 2<br>Dwarkesh Podcast: 2<br>Pivot: 1<br>The Langley Files: CIA's Podcast: 1<br>Within Reason: 1",
          "<b>belief</b><br>Making Sense with Sam Harris - Subscriber Content: 6<br>All-In with Chamath, Jason, Sacks & Friedberg: 2<br>Honestly with Bari Weiss: 1",
          "<b>bias</b><br>Making Sense with Sam Harris - Subscriber Content: 4<br>All-In with Chamath, Jason, Sacks & Friedberg: 1<br>Freakonomics Radio: 1<br>The Knowledge Project with Shane Parrish: 1",
          "<b>case</b><br>Making Sense with Sam Harris - Subscriber Content: 2<br>Acquired: 1<br>All-In with Chamath, Jason, Sacks & Friedberg: 1<br>Dwarkesh Podcast: 1<br>Lex Fridman Podcast: 1<br>The Ben & Marc Show: 1",
          "<b>challenge</b><br>Making Sense with Sam Harris - Subscriber Content: 11<br>All-In with Chamath, Jason, Sacks & Friedberg: 8<br>Dwarkesh Podcast: 7<br>The Prof G Pod with Scott Galloway: 5<br>The Daily: 3<br>The Peter Zeihan Podcast Series: 3<br>Acquired: 2<br>Pivot: 2<br>Discover Daily by Perplexity: 1<br>Lex Fridman Podcast: 1<br>Making Sense with Sam Harris: 1<br>Search Engine: 1<br>The Ezra Klein Show: 1<br>The Knowledge Project with Shane Parrish: 1<br>The Langley Files: CIA's Podcast: 1<br>Truth with Vivek Ramaswamy: 1<br>a16z Podcast: 1",
          "<b>collaboration</b><br>Making Sense with Sam Harris - Subscriber Content: 3<br>Dwarkesh Podcast: 2<br>Acquired: 1<br>Freakonomics Radio: 1<br>The Prof G Pod with Scott Galloway: 1",
          "<b>complexity</b><br>Making Sense with Sam Harris - Subscriber Content: 7<br>Freakonomics Radio: 2<br>The Joe Rogan Experience: 1<br>The Prof G Pod with Scott Galloway: 1",
          "<b>concern</b><br>Making Sense with Sam Harris - Subscriber Content: 5<br>All-In with Chamath, Jason, Sacks & Friedberg: 4<br>The Prof G Pod with Scott Galloway: 1",
          "<b>control</b><br>Making Sense with Sam Harris - Subscriber Content: 3<br>Pivot: 2<br>The Ben & Marc Show: 2<br>The Prof G Pod with Scott Galloway: 2<br>All-In with Chamath, Jason, Sacks & Friedberg: 1<br>Dwarkesh Podcast: 1<br>Huberman Lab: 1<br>Lex Fridman Podcast: 1<br>a16z Podcast: 1",
          "<b>development</b><br>Making Sense with Sam Harris - Subscriber Content: 6<br>All-In with Chamath, Jason, Sacks & Friedberg: 3<br>Lex Fridman Podcast: 3<br>The Prof G Pod with Scott Galloway: 3<br>a16z Podcast: 3<br>Dwarkesh Podcast: 2<br>Making Sense with Sam Harris: 1",
          "<b>difference</b><br>Making Sense with Sam Harris - Subscriber Content: 3<br>Lex Fridman Podcast: 2<br>Dwarkesh Podcast: 1<br>Pivot: 1",
          "<b>dynamic</b><br>Making Sense with Sam Harris - Subscriber Content: 5<br>All-In with Chamath, Jason, Sacks & Friedberg: 3<br>Acquired: 1<br>The Joe Rogan Experience: 1<br>The Prof G Pod with Scott Galloway: 1",
          "<b>effort</b><br>Making Sense with Sam Harris - Subscriber Content: 4<br>All-In with Chamath, Jason, Sacks & Friedberg: 2<br>The Prof G Pod with Scott Galloway: 2<br>Dwarkesh Podcast: 1<br>Huberman Lab: 1<br>The Knowledge Project with Shane Parrish: 1<br>a16z Podcast: 1",
          "<b>fact</b><br>Making Sense with Sam Harris - Subscriber Content: 4<br>Lex Fridman Podcast: 2<br>Freakonomics Radio: 1<br>Within Reason: 1",
          "<b>figure</b><br>Making Sense with Sam Harris - Subscriber Content: 5<br>All-In with Chamath, Jason, Sacks & Friedberg: 1<br>Making Sense with Sam Harris: 1<br>Pivot: 1<br>The Ezra Klein Show: 1",
          "<b>generation</b><br>Making Sense with Sam Harris - Subscriber Content: 4<br>The Ezra Klein Show: 3<br>All-In with Chamath, Jason, Sacks & Friedberg: 2<br>Freakonomics Radio: 1<br>The Prof G Pod with Scott Galloway: 1",
          "<b>group</b><br>Making Sense with Sam Harris - Subscriber Content: 4<br>The Peter Zeihan Podcast Series: 2<br>All-In with Chamath, Jason, Sacks & Friedberg: 1<br>Freakonomics Radio: 1<br>Huberman Lab: 1<br>Lex Fridman Podcast: 1<br>The Ezra Klein Show: 1<br>Truth with Vivek Ramaswamy: 1",
          "<b>individual</b><br>Making Sense with Sam Harris - Subscriber Content: 10<br>The Prof G Pod with Scott Galloway: 6<br>All-In with Chamath, Jason, Sacks & Friedberg: 5<br>Pivot: 5<br>Lex Fridman Podcast: 4<br>Dwarkesh Podcast: 3<br>The Ben & Marc Show: 3<br>Truth with Vivek Ramaswamy: 3<br>The Langley Files: CIA's Podcast: 2<br>Discover Daily by Perplexity: 1<br>Freakonomics Radio: 1<br>Huberman Lab: 1<br>Making Sense with Sam Harris: 1<br>Prof G Markets: 1<br>The Knowledge Project with Shane Parrish: 1<br>The Peter Zeihan Podcast Series: 1<br>a16z Podcast: 1",
          "<b>israel</b><br>Making Sense with Sam Harris - Subscriber Content: 7<br>All-In with Chamath, Jason, Sacks & Friedberg: 2<br>Lex Fridman Podcast: 1",
          "<b>issue</b><br>Making Sense with Sam Harris - Subscriber Content: 6<br>The Prof G Pod with Scott Galloway: 6<br>All-In with Chamath, Jason, Sacks & Friedberg: 5<br>Dwarkesh Podcast: 3<br>Huberman Lab: 2<br>Truth with Vivek Ramaswamy: 2<br>The Daily: 1<br>The Ezra Klein Show: 1<br>a16z Podcast: 1",
          "<b>language</b><br>Making Sense with Sam Harris - Subscriber Content: 3<br>All-In with Chamath, Jason, Sacks & Friedberg: 1<br>Freakonomics Radio: 1<br>Lex Fridman Podcast: 1<br>Within Reason: 1",
          "<b>life</b><br>Making Sense with Sam Harris - Subscriber Content: 6<br>The Prof G Pod with Scott Galloway: 6<br>Dwarkesh Podcast: 4<br>Lex Fridman Podcast: 4<br>The Knowledge Project with Shane Parrish: 3<br>All-In with Chamath, Jason, Sacks & Friedberg: 1<br>Freakonomics Radio: 1",
          "<b>narrative</b><br>Making Sense with Sam Harris - Subscriber Content: 6<br>Freakonomics Radio: 4<br>The Prof G Pod with Scott Galloway: 2",
          "<b>norm</b><br>Making Sense with Sam Harris - Subscriber Content: 3<br>Truth with Vivek Ramaswamy: 2<br>All-In with Chamath, Jason, Sacks & Friedberg: 1<br>Huberman Lab: 1<br>Lex Fridman Podcast: 1",
          "<b>population</b><br>Making Sense with Sam Harris - Subscriber Content: 5<br>Freakonomics Radio: 3<br>Pivot: 2<br>The Prof G Pod with Scott Galloway: 2<br>All-In with Chamath, Jason, Sacks & Friedberg: 1<br>Huberman Lab: 1<br>Lex Fridman Podcast: 1<br>The Daily: 1<br>The Peter Zeihan Podcast Series: 1<br>Truth with Vivek Ramaswamy: 1",
          "<b>reality</b><br>Making Sense with Sam Harris - Subscriber Content: 5<br>Dwarkesh Podcast: 4<br>Lex Fridman Podcast: 3<br>The Knowledge Project with Shane Parrish: 2<br>The Prof G Pod with Scott Galloway: 1",
          "<b>responsibility</b><br>Making Sense with Sam Harris - Subscriber Content: 3<br>All-In with Chamath, Jason, Sacks & Friedberg: 2<br>Pivot: 2<br>Huberman Lab: 1",
          "<b>self</b><br>Making Sense with Sam Harris - Subscriber Content: 3<br>Freakonomics Radio: 2<br>Dwarkesh Podcast: 1<br>Lex Fridman Podcast: 1<br>The Knowledge Project with Shane Parrish: 1<br>The Prof G Pod with Scott Galloway: 1",
          "<b>sense</b><br>Making Sense with Sam Harris - Subscriber Content: 3<br>The Prof G Pod with Scott Galloway: 2<br>All-In with Chamath, Jason, Sacks & Friedberg: 1<br>Dwarkesh Podcast: 1<br>Great Mysteries of Physics: 1<br>Lex Fridman Podcast: 1<br>The Joe Rogan Experience: 1<br>Truth with Vivek Ramaswamy: 1",
          "<b>society</b><br>Making Sense with Sam Harris - Subscriber Content: 8<br>Lex Fridman Podcast: 5<br>Truth with Vivek Ramaswamy: 3<br>All-In with Chamath, Jason, Sacks & Friedberg: 1<br>Freakonomics Radio: 1<br>Pivot: 1<br>The Prof G Pod with Scott Galloway: 1",
          "<b>structure</b><br>Making Sense with Sam Harris - Subscriber Content: 3<br>All-In with Chamath, Jason, Sacks & Friedberg: 2<br>The Prof G Pod with Scott Galloway: 2<br>Acquired: 1<br>Lex Fridman Podcast: 1",
          "<b>technology</b><br>Making Sense with Sam Harris - Subscriber Content: 8<br>All-In with Chamath, Jason, Sacks & Friedberg: 7<br>Dwarkesh Podcast: 6<br>The Ben & Marc Show: 3<br>The Prof G Pod with Scott Galloway: 3<br>Discover Daily by Perplexity: 2<br>Lex Fridman Podcast: 2<br>Making Sense with Sam Harris: 2<br>Pivot: 2<br>The Joe Rogan Experience: 2<br>Honestly with Bari Weiss: 1<br>Huberman Lab: 1<br>a16z Podcast: 1",
          "<b>trump</b><br>Making Sense with Sam Harris - Subscriber Content: 9<br>All-In with Chamath, Jason, Sacks & Friedberg: 4<br>The Daily: 3<br>The Prof G Pod with Scott Galloway: 3<br>Honestly with Bari Weiss: 1<br>The Peter Zeihan Podcast Series: 1",
          "<b>violence</b><br>Making Sense with Sam Harris - Subscriber Content: 4<br>All-In with Chamath, Jason, Sacks & Friedberg: 1<br>Dwarkesh Podcast: 1<br>Lex Fridman Podcast: 1"
         ],
         "marker": {
          "color": "rgb(141,211,199)",
          "size": 4
         },
         "mode": "markers+text",
         "name": "Making Sense with Sam Harris - Subscriber Content",
         "text": [
          "action",
          "animal",
          "approach",
          "behavior",
          "belief",
          "bias",
          "case",
          "challenge",
          "collaboration",
          "complexity",
          "concern",
          "control",
          "development",
          "difference",
          "dynamic",
          "effort",
          "fact",
          "figure",
          "generation",
          "group",
          "individual",
          "israel",
          "issue",
          "language",
          "life",
          "narrative",
          "norm",
          "population",
          "reality",
          "responsibility",
          "self",
          "sense",
          "society",
          "structure",
          "technology",
          "trump",
          "violence"
         ],
         "textfont": {
          "color": "rgb(141,211,199)",
          "size": [
           10.804820237218406,
           7.92481250360578,
           10.619818783608963,
           8.648579046593243,
           8.304820237218406,
           7.5,
           7.5,
           14.181063354928739,
           7.92481250360578,
           8.96240625180289,
           8.648579046593243,
           9.767226489021297,
           11.148579046593243,
           7.5,
           8.96240625180289,
           9.25109929535273,
           7.92481250360578,
           8.304820237218406,
           8.96240625180289,
           9.25109929535273,
           14.10964047443681,
           8.648579046593243,
           12.01838730514401,
           7.5,
           11.751099295352729,
           9.25109929535273,
           7.92481250360578,
           10.619818783608963,
           10,
           7.92481250360578,
           8.304820237218406,
           8.96240625180289,
           10.980793556946901,
           8.304820237218406,
           13.39388001154521,
           11.148579046593243,
           7.5
          ]
         },
         "textposition": "top center",
         "type": "scatter3d",
         "x": [
          0.310413200293879,
          0.5409692232146452,
          0.08998698860917193,
          0.09114010281462445,
          0.2980634117541516,
          0.3718582789061663,
          0.10956051827828721,
          0.06687839071070742,
          0.36917665568177155,
          0.4908810233951636,
          0.06075931814978493,
          0.2837770984468231,
          0.14594775644576952,
          0.3525448028283873,
          0.17327699365360538,
          0.17850718048828698,
          0.4504597799663605,
          0.3414700955898513,
          0.2695843677396757,
          0.4023941946507732,
          0.1875537082691825,
          0.27703639362352694,
          0.08122179538638778,
          0.32477882482891873,
          0.24768102276173645,
          0.5030003055424718,
          0.29436380409680385,
          0.37765405360884846,
          0.28139280406636225,
          0.13904417466974472,
          0.43238659752953296,
          0.24928528153935411,
          0.3833043671589567,
          0.16426607138840957,
          0.047107156139075526,
          0.21255807955344092,
          0.24764738631698732
         ],
         "y": [
          -0.05640703852751164,
          -0.041657622096619586,
          -0.16382250045133737,
          -0.1469797499826149,
          -0.0036388045586595733,
          -0.0007975831870519444,
          -0.22745022140401427,
          -0.021957486424428442,
          -0.1560833058265134,
          -0.009207448852671957,
          0.10870112870233598,
          -0.02478214736064937,
          -0.044850542390999906,
          -0.3088541898907365,
          0.06222045404522335,
          0.061460082357868456,
          -0.20689496768175775,
          -0.00673594985875316,
          0.1733853252276073,
          -0.007302280724018533,
          0.006091051884138858,
          -0.0281099105301813,
          0.09833101700611961,
          -0.07347423019852327,
          -0.09600235752977443,
          0.10394795348864894,
          -0.06844669171890176,
          0.08418071589437989,
          -0.27706830268353644,
          0.0644078858134208,
          -0.12983469271679704,
          -0.02172883235798006,
          -0.17188236160846845,
          0.10925818286711846,
          -0.06190963607080173,
          0.11639019626905708,
          -0.12259927715161786
         ],
         "z": [
          -0.3455430822540063,
          -0.3088808521537314,
          -0.1818446335634715,
          -0.2161328522986155,
          -0.40587041467218815,
          -0.37454867092681543,
          -0.2229977641694499,
          -0.07208232137153713,
          0.005724810325519764,
          -0.24958551852099306,
          -0.2984208432635887,
          -0.012805905150200279,
          -0.10918758931717613,
          -0.19299533405324482,
          -0.27667051687294475,
          -0.14380544944569776,
          -0.28872968890315515,
          -0.4400817167103689,
          -0.30664396021620355,
          -0.3210625940602401,
          -0.06609956184244924,
          -0.33520142512118833,
          0.04632269622948254,
          -0.2858973115340045,
          0.09580346681464091,
          -0.14525437430710086,
          -0.3570084248361143,
          -0.09594146071261532,
          -0.032840831877122,
          -0.3604370302525977,
          -0.06704714057029265,
          -0.017490590620368805,
          -0.2587822751878012,
          -0.10000661499729685,
          -0.1360477834867927,
          -0.20652120336349783,
          -0.2483089188075149
         ]
        },
        {
         "hoverinfo": "text",
         "hovertext": [
          "<b>automation</b><br>Pivot: 3<br>All-In with Chamath, Jason, Sacks & Friedberg: 2<br>Making Sense with Sam Harris - Subscriber Content: 1<br>The Ben & Marc Show: 1",
          "<b>job</b><br>Pivot: 5<br>All-In with Chamath, Jason, Sacks & Friedberg: 4<br>Freakonomics Radio: 3<br>Making Sense with Sam Harris: 3<br>The Prof G Pod with Scott Galloway: 3<br>Lex Fridman Podcast: 1<br>Making Sense with Sam Harris - Subscriber Content: 1<br>Prof G Markets: 1"
         ],
         "marker": {
          "color": "rgb(190,186,218)",
          "size": 4
         },
         "mode": "markers+text",
         "name": "Pivot",
         "text": [
          "automation",
          "job"
         ],
         "textfont": {
          "color": "rgb(190,186,218)",
          "size": [
           7.5,
           11.148579046593243
          ]
         },
         "textposition": "top center",
         "type": "scatter3d",
         "x": [
          -0.106844659461326,
          -0.06125766363462648
         ],
         "y": [
          0.1605355948632857,
          0.3889334346436465
         ],
         "z": [
          -0.4933039520050706,
          -0.03558051280716324
         ]
        },
        {
         "hoverinfo": "text",
         "hovertext": [
          "<b>employee</b><br>The Daily: 3<br>The Prof G Pod with Scott Galloway: 2<br>a16z Podcast: 2<br>All-In with Chamath, Jason, Sacks & Friedberg: 1<br>Lightcone Podcast: 1<br>Pivot: 1",
          "<b>man</b><br>The Daily: 4<br>The Prof G Pod with Scott Galloway: 2<br>Huberman Lab: 1",
          "<b>president</b><br>The Daily: 7<br>The Prof G Pod with Scott Galloway: 3<br>All-In with Chamath, Jason, Sacks & Friedberg: 2",
          "<b>ukraine</b><br>The Daily: 5<br>The Peter Zeihan Podcast Series: 3<br>Dwarkesh Podcast: 2<br>All-In with Chamath, Jason, Sacks & Friedberg: 1<br>Making Sense with Sam Harris - Subscriber Content: 1"
         ],
         "marker": {
          "color": "rgb(179,222,105)",
          "size": 4
         },
         "mode": "markers+text",
         "name": "The Daily",
         "text": [
          "employee",
          "man",
          "president",
          "ukraine"
         ],
         "textfont": {
          "color": "rgb(179,222,105)",
          "size": [
           8.648579046593243,
           7.5,
           9.25109929535273,
           9.25109929535273
          ]
         },
         "textposition": "top center",
         "type": "scatter3d",
         "x": [
          -0.1485731305743722,
          0.18211797055232368,
          -0.1315086874817784,
          0.24389736848012716
         ],
         "y": [
          0.5017437008676693,
          0.5555589211535898,
          0.566970186399479,
          0.47773339510988355
         ],
         "z": [
          0.3235715112001363,
          0.4518158840082682,
          0.31503721603365,
          -0.3939384068657035
         ]
        },
        {
         "hoverinfo": "text",
         "hovertext": [
          "<b>network</b><br>The Joe Rogan Experience: 3<br>Lex Fridman Podcast: 2<br>All-In with Chamath, Jason, Sacks & Friedberg: 1<br>Discover Daily by Perplexity: 1<br>Dwarkesh Podcast: 1<br>Truth with Vivek Ramaswamy: 1<br>a16z Podcast: 1"
         ],
         "marker": {
          "color": "rgb(217,217,217)",
          "size": 4
         },
         "mode": "markers+text",
         "name": "The Joe Rogan Experience",
         "text": [
          "network"
         ],
         "textfont": {
          "color": "rgb(217,217,217)",
          "size": [
           8.648579046593243
          ]
         },
         "textposition": "top center",
         "type": "scatter3d",
         "x": [
          -0.20691908550146382
         ],
         "y": [
          -0.5419646259282829
         ],
         "z": [
          -0.1358573927314957
         ]
        },
        {
         "hoverinfo": "text",
         "hovertext": [
          "<b>capitalism</b><br>The Knowledge Project with Shane Parrish: 2<br>The Prof G Pod with Scott Galloway: 2<br>Truth with Vivek Ramaswamy: 2<br>All-In with Chamath, Jason, Sacks & Friedberg: 1<br>Dwarkesh Podcast: 1<br>Making Sense with Sam Harris - Subscriber Content: 1",
          "<b>happiness</b><br>The Knowledge Project with Shane Parrish: 5<br>The Prof G Pod with Scott Galloway: 3<br>Lex Fridman Podcast: 1"
         ],
         "marker": {
          "color": "rgb(188,128,189)",
          "size": 4
         },
         "mode": "markers+text",
         "name": "The Knowledge Project with Shane Parrish",
         "text": [
          "capitalism",
          "happiness"
         ],
         "textfont": {
          "color": "rgb(188,128,189)",
          "size": [
           8.304820237218406,
           8.304820237218406
          ]
         },
         "textposition": "top center",
         "type": "scatter3d",
         "x": [
          0.1311561194418341,
          0.15102034455250124
         ],
         "y": [
          0.1297861268300283,
          0.2108707494899894
         ],
         "z": [
          0.3791561425381128,
          0.6975762707094421
         ]
        },
        {
         "hoverinfo": "text",
         "hovertext": [
          "<b>organization</b><br>The Langley Files: CIA's Podcast: 3<br>All-In with Chamath, Jason, Sacks & Friedberg: 2<br>Dwarkesh Podcast: 2<br>Honestly with Bari Weiss: 1<br>Lightcone Podcast: 1"
         ],
         "marker": {
          "color": "rgb(204,235,197)",
          "size": 4
         },
         "mode": "markers+text",
         "name": "The Langley Files: CIA's Podcast",
         "text": [
          "organization"
         ],
         "textfont": {
          "color": "rgb(204,235,197)",
          "size": [
           8.304820237218406
          ]
         },
         "textposition": "top center",
         "type": "scatter3d",
         "x": [
          -0.49906850406490355
         ],
         "y": [
          -0.29607078975692896
         ],
         "z": [
          0.090262889202126
         ]
        },
        {
         "hoverinfo": "text",
         "hovertext": [
          "<b>era</b><br>The Peter Zeihan Podcast Series: 2<br>All-In with Chamath, Jason, Sacks & Friedberg: 1<br>Freakonomics Radio: 1<br>Making Sense with Sam Harris - Subscriber Content: 1<br>Search Engine: 1<br>The Prof G Pod with Scott Galloway: 1"
         ],
         "marker": {
          "color": "rgb(255,237,111)",
          "size": 4
         },
         "mode": "markers+text",
         "name": "The Peter Zeihan Podcast Series",
         "text": [
          "era"
         ],
         "textfont": {
          "color": "rgb(255,237,111)",
          "size": [
           7.5
          ]
         },
         "textposition": "top center",
         "type": "scatter3d",
         "x": [
          0.20024878020724185
         ],
         "y": [
          0.37867332035303314
         ],
         "z": [
          -0.07904643426770822
         ]
        },
        {
         "hoverinfo": "text",
         "hovertext": [
          "<b>advantage</b><br>The Prof G Pod with Scott Galloway: 3<br>All-In with Chamath, Jason, Sacks & Friedberg: 2<br>Making Sense with Sam Harris - Subscriber Content: 2<br>Honestly with Bari Weiss: 1",
          "<b>america</b><br>The Prof G Pod with Scott Galloway: 7<br>All-In with Chamath, Jason, Sacks & Friedberg: 2<br>Freakonomics Radio: 1",
          "<b>biden</b><br>The Prof G Pod with Scott Galloway: 4<br>All-In with Chamath, Jason, Sacks & Friedberg: 2<br>The Daily: 2",
          "<b>center</b><br>The Prof G Pod with Scott Galloway: 2<br>Acquired: 1<br>All-In with Chamath, Jason, Sacks & Friedberg: 1<br>Discover Daily by Perplexity: 1<br>Lex Fridman Podcast: 1<br>Pivot: 1",
          "<b>child</b><br>The Prof G Pod with Scott Galloway: 6<br>Truth with Vivek Ramaswamy: 4<br>All-In with Chamath, Jason, Sacks & Friedberg: 2<br>Freakonomics Radio: 2<br>Making Sense with Sam Harris - Subscriber Content: 1<br>Prof G Markets: 1<br>The Knowledge Project with Shane Parrish: 1",
          "<b>connection</b><br>The Prof G Pod with Scott Galloway: 3<br>All-In with Chamath, Jason, Sacks & Friedberg: 2<br>Making Sense with Sam Harris - Subscriber Content: 2<br>Discover Daily by Perplexity: 1<br>Dwarkesh Podcast: 1<br>Lex Fridman Podcast: 1",
          "<b>dollar</b><br>The Prof G Pod with Scott Galloway: 3<br>All-In with Chamath, Jason, Sacks & Friedberg: 2<br>Dwarkesh Podcast: 2<br>Making Sense with Sam Harris - Subscriber Content: 1<br>Pivot: 1<br>a16z Podcast: 1",
          "<b>equity</b><br>The Prof G Pod with Scott Galloway: 6<br>All-In with Chamath, Jason, Sacks & Friedberg: 3",
          "<b>future</b><br>The Prof G Pod with Scott Galloway: 4<br>All-In with Chamath, Jason, Sacks & Friedberg: 1<br>Dwarkesh Podcast: 1<br>Making Sense with Sam Harris - Subscriber Content: 1",
          "<b>investment</b><br>The Prof G Pod with Scott Galloway: 5<br>All-In with Chamath, Jason, Sacks & Friedberg: 2<br>Dwarkesh Podcast: 2<br>Honestly with Bari Weiss: 2<br>Making Sense with Sam Harris - Subscriber Content: 2<br>Discover Daily by Perplexity: 1<br>Freakonomics Radio: 1<br>The Peter Zeihan Podcast Series: 1<br>a16z Podcast: 1",
          "<b>investor</b><br>The Prof G Pod with Scott Galloway: 5<br>All-In with Chamath, Jason, Sacks & Friedberg: 1<br>Dwarkesh Podcast: 1",
          "<b>limitation</b><br>The Prof G Pod with Scott Galloway: 2<br>All-In with Chamath, Jason, Sacks & Friedberg: 1<br>Discover Daily by Perplexity: 1<br>Freakonomics Radio: 1<br>Pivot: 1<br>The Ben & Marc Show: 1<br>The Daily: 1",
          "<b>number</b><br>The Prof G Pod with Scott Galloway: 3<br>All-In with Chamath, Jason, Sacks & Friedberg: 2<br>Freakonomics Radio: 2<br>Huberman Lab: 1<br>Making Sense with Sam Harris - Subscriber Content: 1<br>Pivot: 1<br>The Daily: 1",
          "<b>opportunity</b><br>The Prof G Pod with Scott Galloway: 6<br>Dwarkesh Podcast: 5<br>a16z Podcast: 4<br>All-In with Chamath, Jason, Sacks & Friedberg: 2<br>Acquired: 1<br>Freakonomics Radio: 1<br>Pivot: 1<br>Truth with Vivek Ramaswamy: 1",
          "<b>person</b><br>The Prof G Pod with Scott Galloway: 3<br>Huberman Lab: 1<br>Lex Fridman Podcast: 1<br>Making Sense with Sam Harris - Subscriber Content: 1<br>Pivot: 1<br>The Pioneer Briefing: 1",
          "<b>politic</b><br>The Prof G Pod with Scott Galloway: 3<br>Dwarkesh Podcast: 2<br>Making Sense with Sam Harris - Subscriber Content: 1<br>Search Engine: 1<br>Truth with Vivek Ramaswamy: 1",
          "<b>regulation</b><br>The Prof G Pod with Scott Galloway: 3<br>All-In with Chamath, Jason, Sacks & Friedberg: 2<br>Huberman Lab: 1<br>Truth with Vivek Ramaswamy: 1",
          "<b>relationship</b><br>The Prof G Pod with Scott Galloway: 5<br>All-In with Chamath, Jason, Sacks & Friedberg: 2<br>Huberman Lab: 1<br>Lex Fridman Podcast: 1<br>The Knowledge Project with Shane Parrish: 1",
          "<b>service</b><br>The Prof G Pod with Scott Galloway: 5<br>All-In with Chamath, Jason, Sacks & Friedberg: 3<br>Pivot: 1<br>Prof G Markets: 1",
          "<b>shift</b><br>The Prof G Pod with Scott Galloway: 5<br>Making Sense with Sam Harris - Subscriber Content: 4<br>All-In with Chamath, Jason, Sacks & Friedberg: 3<br>Dwarkesh Podcast: 3<br>The Peter Zeihan Podcast Series: 3<br>Huberman Lab: 2<br>Lex Fridman Podcast: 2<br>The Ezra Klein Show: 2<br>Freakonomics Radio: 1<br>Pivot: 1<br>The Joe Rogan Experience: 1<br>Truth with Vivek Ramaswamy: 1<br>a16z Podcast: 1",
          "<b>states</b><br>The Prof G Pod with Scott Galloway: 3<br>All-In with Chamath, Jason, Sacks & Friedberg: 2<br>Dwarkesh Podcast: 2<br>The Ben & Marc Show: 1",
          "<b>tax</b><br>The Prof G Pod with Scott Galloway: 7<br>Pivot: 2<br>Freakonomics Radio: 1<br>Truth with Vivek Ramaswamy: 1",
          "<b>tech</b><br>The Prof G Pod with Scott Galloway: 3<br>Honestly with Bari Weiss: 2<br>The Ben & Marc Show: 2<br>The Joe Rogan Experience: 2<br>Acquired: 1<br>All-In with Chamath, Jason, Sacks & Friedberg: 1",
          "<b>term</b><br>The Prof G Pod with Scott Galloway: 7<br>All-In with Chamath, Jason, Sacks & Friedberg: 3<br>Dwarkesh Podcast: 3<br>Making Sense with Sam Harris - Subscriber Content: 2<br>Freakonomics Radio: 1<br>Making Sense with Sam Harris: 1<br>Prof G Markets: 1<br>The Peter Zeihan Podcast Series: 1<br>Within Reason: 1",
          "<b>time</b><br>The Prof G Pod with Scott Galloway: 3<br>All-In with Chamath, Jason, Sacks & Friedberg: 2<br>Dwarkesh Podcast: 1<br>Great Mysteries of Physics: 1<br>Making Sense with Sam Harris - Subscriber Content: 1<br>The Joe Rogan Experience: 1<br>The Knowledge Project with Shane Parrish: 1",
          "<b>united</b><br>The Prof G Pod with Scott Galloway: 5<br>All-In with Chamath, Jason, Sacks & Friedberg: 3<br>Dwarkesh Podcast: 2<br>The Ben & Marc Show: 1",
          "<b>value</b><br>The Prof G Pod with Scott Galloway: 5<br>All-In with Chamath, Jason, Sacks & Friedberg: 4<br>Pivot: 4<br>Making Sense with Sam Harris - Subscriber Content: 3<br>Lex Fridman Podcast: 2<br>a16z Podcast: 2<br>Dwarkesh Podcast: 1<br>The Ezra Klein Show: 1",
          "<b>woman</b><br>The Prof G Pod with Scott Galloway: 4<br>Huberman Lab: 1<br>Making Sense with Sam Harris - Subscriber Content: 1<br>Pivot: 1<br>The Daily: 1<br>Truth with Vivek Ramaswamy: 1",
          "<b>work</b><br>The Prof G Pod with Scott Galloway: 6<br>All-In with Chamath, Jason, Sacks & Friedberg: 5<br>Making Sense with Sam Harris - Subscriber Content: 2<br>The Daily: 2<br>Dwarkesh Podcast: 1<br>Pivot: 1<br>Truth with Vivek Ramaswamy: 1"
         ],
         "marker": {
          "color": "rgb(255,255,179)",
          "size": 4
         },
         "mode": "markers+text",
         "name": "The Prof G Pod with Scott Galloway",
         "text": [
          "advantage",
          "america",
          "biden",
          "center",
          "child",
          "connection",
          "dollar",
          "equity",
          "future",
          "investment",
          "investor",
          "limitation",
          "number",
          "opportunity",
          "person",
          "politic",
          "regulation",
          "relationship",
          "service",
          "shift",
          "states",
          "tax",
          "tech",
          "term",
          "time",
          "united",
          "value",
          "woman",
          "work"
         ],
         "textfont": {
          "color": "rgb(255,255,179)",
          "size": [
           7.92481250360578,
           8.648579046593243,
           7.92481250360578,
           7.5,
           10.42481250360578,
           8.648579046593243,
           8.648579046593243,
           8.304820237218406,
           7.5,
           10.42481250360578,
           7.5,
           7.92481250360578,
           8.96240625180289,
           11.148579046593243,
           7.92481250360578,
           7.92481250360578,
           7.5,
           8.648579046593243,
           8.648579046593243,
           12.267226489021297,
           7.92481250360578,
           8.96240625180289,
           8.96240625180289,
           10.980793556946901,
           8.648579046593243,
           8.96240625180289,
           11.308904890142532,
           8.304820237218406,
           10.619818783608963
          ]
         },
         "textposition": "top center",
         "type": "scatter3d",
         "x": [
          0.04367195944835127,
          -0.003051113687210623,
          -0.18079688726616813,
          -0.18570444420445611,
          0.09513714760232844,
          0.026650531340571475,
          -0.07494723338531484,
          -0.1392560855575269,
          0.028786077900424034,
          0.06463673739688264,
          -0.056235965738142386,
          -0.046217346667919185,
          0.059082369501834486,
          -0.10273055459333989,
          0.24656821977271498,
          0.13912978350695457,
          -0.12518310379763248,
          -0.05858659195687298,
          -0.18936128160009705,
          0.10190460457683248,
          -0.1305193653989745,
          0.06650141938452847,
          -0.1805077405427558,
          -0.0355823176775144,
          -0.00005806448804227676,
          -0.20660660467252442,
          -0.00032817489259094786,
          0.18419215345854287,
          -0.06795961397558484
         ],
         "y": [
          0.2980065825829158,
          0.274795287805963,
          0.33831373911690726,
          0.2262114945391887,
          0.34178017571461883,
          0.11322477977270842,
          0.06846442601452361,
          0.35323666797644054,
          0.2080285982622782,
          0.10402812944088426,
          0.24342006951281306,
          0.42511954685793885,
          0.3046898027279362,
          -0.011356383120830163,
          0.21894207101101215,
          -0.02599665050844337,
          0.3242755970857334,
          0.29198446634349534,
          0.36152313025861593,
          0.0420920073314532,
          0.07290031599406907,
          0.37871974052004687,
          0.312019578378643,
          0.1386298014901412,
          0.18745817183177627,
          0.13128642036748456,
          0.12532867426252509,
          0.35335820342293967,
          0.1747000245483331
         ],
         "z": [
          0.03354126404751069,
          0.3694524713062038,
          0.2858237508829268,
          0.3082009825508693,
          0.2747261520567076,
          0.07019389107394486,
          0.1912978493282421,
          0.26418506235973854,
          0.35483956577376585,
          0.2128719735586209,
          0.41748310296572183,
          0.2558545064262223,
          0.10716475515838167,
          0.37800174660925123,
          0.3371427069390162,
          0.49910865135270793,
          0.16901827636175362,
          0.35608318740170974,
          0.2516585103204039,
          0.07870350318508813,
          0.28140879763119697,
          0.48056764864926044,
          0.5032975013697913,
          0.24480925833948444,
          0.15534281096323108,
          0.24659512101191744,
          0.05624749042109574,
          0.38902999136298627,
          0.11820314783436753
         ]
        },
        {
         "hoverinfo": "text",
         "hovertext": [
          "<b>family</b><br>Truth with Vivek Ramaswamy: 3<br>Search Engine: 2<br>Freakonomics Radio: 1<br>The Prof G Pod with Scott Galloway: 1"
         ],
         "marker": {
          "color": "rgb(190,186,218)",
          "size": 4
         },
         "mode": "markers+text",
         "name": "Truth with Vivek Ramaswamy",
         "text": [
          "family"
         ],
         "textfont": {
          "color": "rgb(190,186,218)",
          "size": [
           7.5
          ]
         },
         "textposition": "top center",
         "type": "scatter3d",
         "x": [
          0.38811692768547307
         ],
         "y": [
          0.26766874079952413
         ],
         "z": [
          0.608866115719923
         ]
        },
        {
         "hoverinfo": "text",
         "hovertext": [
          "<b>healthcare</b><br>a16z Podcast: 3<br>All-In with Chamath, Jason, Sacks & Friedberg: 1<br>Freakonomics Radio: 1<br>The Ben & Marc Show: 1<br>The Prof G Pod with Scott Galloway: 1",
          "<b>labor</b><br>a16z Podcast: 4<br>Truth with Vivek Ramaswamy: 3<br>All-In with Chamath, Jason, Sacks & Friedberg: 2<br>Freakonomics Radio: 2<br>Pivot: 1<br>The Peter Zeihan Podcast Series: 1<br>The Prof G Pod with Scott Galloway: 1",
          "<b>software</b><br>a16z Podcast: 13<br>All-In with Chamath, Jason, Sacks & Friedberg: 4<br>Dwarkesh Podcast: 2<br>Lightcone Podcast: 2<br>The Prof G Pod with Scott Galloway: 2<br>Making Sense with Sam Harris: 1<br>Pivot: 1"
         ],
         "marker": {
          "color": "rgb(128,177,211)",
          "size": 4
         },
         "mode": "markers+text",
         "name": "a16z Podcast",
         "text": [
          "healthcare",
          "labor",
          "software"
         ],
         "textfont": {
          "color": "rgb(128,177,211)",
          "size": [
           7.5,
           9.767226489021297,
           11.751099295352729
          ]
         },
         "textposition": "top center",
         "type": "scatter3d",
         "x": [
          -0.16718669606458286,
          -0.15209882054510593,
          -0.5402970203961581
         ],
         "y": [
          0.6125354721825741,
          0.5624524027607585,
          -0.03553731600706473
         ],
         "z": [
          0.09323257799926361,
          -0.03817127532407376,
          0.3257592154472659
         ]
        }
       ],
       "layout": {
        "height": 800,
        "legend": {
         "bgcolor": "rgba(0,0,0,0)",
         "itemsizing": "constant",
         "itemwidth": 30,
         "orientation": "v",
         "x": 1.02,
         "xanchor": "left",
         "y": 1,
         "yanchor": "auto"
        },
        "scene": {
         "xaxis": {
          "showgrid": false,
          "showticklabels": false,
          "zeroline": false
         },
         "yaxis": {
          "showgrid": false,
          "showticklabels": false,
          "zeroline": false
         },
         "zaxis": {
          "showgrid": false,
          "showticklabels": false,
          "zeroline": false
         }
        },
        "showlegend": true,
        "template": {
         "data": {
          "bar": [
           {
            "error_x": {
             "color": "#f2f5fa"
            },
            "error_y": {
             "color": "#f2f5fa"
            },
            "marker": {
             "line": {
              "color": "rgb(17,17,17)",
              "width": 0.5
             },
             "pattern": {
              "fillmode": "overlay",
              "size": 10,
              "solidity": 0.2
             }
            },
            "type": "bar"
           }
          ],
          "barpolar": [
           {
            "marker": {
             "line": {
              "color": "rgb(17,17,17)",
              "width": 0.5
             },
             "pattern": {
              "fillmode": "overlay",
              "size": 10,
              "solidity": 0.2
             }
            },
            "type": "barpolar"
           }
          ],
          "carpet": [
           {
            "aaxis": {
             "endlinecolor": "#A2B1C6",
             "gridcolor": "#506784",
             "linecolor": "#506784",
             "minorgridcolor": "#506784",
             "startlinecolor": "#A2B1C6"
            },
            "baxis": {
             "endlinecolor": "#A2B1C6",
             "gridcolor": "#506784",
             "linecolor": "#506784",
             "minorgridcolor": "#506784",
             "startlinecolor": "#A2B1C6"
            },
            "type": "carpet"
           }
          ],
          "choropleth": [
           {
            "colorbar": {
             "outlinewidth": 0,
             "ticks": ""
            },
            "type": "choropleth"
           }
          ],
          "contour": [
           {
            "colorbar": {
             "outlinewidth": 0,
             "ticks": ""
            },
            "colorscale": [
             [
              0,
              "#0d0887"
             ],
             [
              0.1111111111111111,
              "#46039f"
             ],
             [
              0.2222222222222222,
              "#7201a8"
             ],
             [
              0.3333333333333333,
              "#9c179e"
             ],
             [
              0.4444444444444444,
              "#bd3786"
             ],
             [
              0.5555555555555556,
              "#d8576b"
             ],
             [
              0.6666666666666666,
              "#ed7953"
             ],
             [
              0.7777777777777778,
              "#fb9f3a"
             ],
             [
              0.8888888888888888,
              "#fdca26"
             ],
             [
              1,
              "#f0f921"
             ]
            ],
            "type": "contour"
           }
          ],
          "contourcarpet": [
           {
            "colorbar": {
             "outlinewidth": 0,
             "ticks": ""
            },
            "type": "contourcarpet"
           }
          ],
          "heatmap": [
           {
            "colorbar": {
             "outlinewidth": 0,
             "ticks": ""
            },
            "colorscale": [
             [
              0,
              "#0d0887"
             ],
             [
              0.1111111111111111,
              "#46039f"
             ],
             [
              0.2222222222222222,
              "#7201a8"
             ],
             [
              0.3333333333333333,
              "#9c179e"
             ],
             [
              0.4444444444444444,
              "#bd3786"
             ],
             [
              0.5555555555555556,
              "#d8576b"
             ],
             [
              0.6666666666666666,
              "#ed7953"
             ],
             [
              0.7777777777777778,
              "#fb9f3a"
             ],
             [
              0.8888888888888888,
              "#fdca26"
             ],
             [
              1,
              "#f0f921"
             ]
            ],
            "type": "heatmap"
           }
          ],
          "heatmapgl": [
           {
            "colorbar": {
             "outlinewidth": 0,
             "ticks": ""
            },
            "colorscale": [
             [
              0,
              "#0d0887"
             ],
             [
              0.1111111111111111,
              "#46039f"
             ],
             [
              0.2222222222222222,
              "#7201a8"
             ],
             [
              0.3333333333333333,
              "#9c179e"
             ],
             [
              0.4444444444444444,
              "#bd3786"
             ],
             [
              0.5555555555555556,
              "#d8576b"
             ],
             [
              0.6666666666666666,
              "#ed7953"
             ],
             [
              0.7777777777777778,
              "#fb9f3a"
             ],
             [
              0.8888888888888888,
              "#fdca26"
             ],
             [
              1,
              "#f0f921"
             ]
            ],
            "type": "heatmapgl"
           }
          ],
          "histogram": [
           {
            "marker": {
             "pattern": {
              "fillmode": "overlay",
              "size": 10,
              "solidity": 0.2
             }
            },
            "type": "histogram"
           }
          ],
          "histogram2d": [
           {
            "colorbar": {
             "outlinewidth": 0,
             "ticks": ""
            },
            "colorscale": [
             [
              0,
              "#0d0887"
             ],
             [
              0.1111111111111111,
              "#46039f"
             ],
             [
              0.2222222222222222,
              "#7201a8"
             ],
             [
              0.3333333333333333,
              "#9c179e"
             ],
             [
              0.4444444444444444,
              "#bd3786"
             ],
             [
              0.5555555555555556,
              "#d8576b"
             ],
             [
              0.6666666666666666,
              "#ed7953"
             ],
             [
              0.7777777777777778,
              "#fb9f3a"
             ],
             [
              0.8888888888888888,
              "#fdca26"
             ],
             [
              1,
              "#f0f921"
             ]
            ],
            "type": "histogram2d"
           }
          ],
          "histogram2dcontour": [
           {
            "colorbar": {
             "outlinewidth": 0,
             "ticks": ""
            },
            "colorscale": [
             [
              0,
              "#0d0887"
             ],
             [
              0.1111111111111111,
              "#46039f"
             ],
             [
              0.2222222222222222,
              "#7201a8"
             ],
             [
              0.3333333333333333,
              "#9c179e"
             ],
             [
              0.4444444444444444,
              "#bd3786"
             ],
             [
              0.5555555555555556,
              "#d8576b"
             ],
             [
              0.6666666666666666,
              "#ed7953"
             ],
             [
              0.7777777777777778,
              "#fb9f3a"
             ],
             [
              0.8888888888888888,
              "#fdca26"
             ],
             [
              1,
              "#f0f921"
             ]
            ],
            "type": "histogram2dcontour"
           }
          ],
          "mesh3d": [
           {
            "colorbar": {
             "outlinewidth": 0,
             "ticks": ""
            },
            "type": "mesh3d"
           }
          ],
          "parcoords": [
           {
            "line": {
             "colorbar": {
              "outlinewidth": 0,
              "ticks": ""
             }
            },
            "type": "parcoords"
           }
          ],
          "pie": [
           {
            "automargin": true,
            "type": "pie"
           }
          ],
          "scatter": [
           {
            "marker": {
             "line": {
              "color": "#283442"
             }
            },
            "type": "scatter"
           }
          ],
          "scatter3d": [
           {
            "line": {
             "colorbar": {
              "outlinewidth": 0,
              "ticks": ""
             }
            },
            "marker": {
             "colorbar": {
              "outlinewidth": 0,
              "ticks": ""
             }
            },
            "type": "scatter3d"
           }
          ],
          "scattercarpet": [
           {
            "marker": {
             "colorbar": {
              "outlinewidth": 0,
              "ticks": ""
             }
            },
            "type": "scattercarpet"
           }
          ],
          "scattergeo": [
           {
            "marker": {
             "colorbar": {
              "outlinewidth": 0,
              "ticks": ""
             }
            },
            "type": "scattergeo"
           }
          ],
          "scattergl": [
           {
            "marker": {
             "line": {
              "color": "#283442"
             }
            },
            "type": "scattergl"
           }
          ],
          "scattermapbox": [
           {
            "marker": {
             "colorbar": {
              "outlinewidth": 0,
              "ticks": ""
             }
            },
            "type": "scattermapbox"
           }
          ],
          "scatterpolar": [
           {
            "marker": {
             "colorbar": {
              "outlinewidth": 0,
              "ticks": ""
             }
            },
            "type": "scatterpolar"
           }
          ],
          "scatterpolargl": [
           {
            "marker": {
             "colorbar": {
              "outlinewidth": 0,
              "ticks": ""
             }
            },
            "type": "scatterpolargl"
           }
          ],
          "scatterternary": [
           {
            "marker": {
             "colorbar": {
              "outlinewidth": 0,
              "ticks": ""
             }
            },
            "type": "scatterternary"
           }
          ],
          "surface": [
           {
            "colorbar": {
             "outlinewidth": 0,
             "ticks": ""
            },
            "colorscale": [
             [
              0,
              "#0d0887"
             ],
             [
              0.1111111111111111,
              "#46039f"
             ],
             [
              0.2222222222222222,
              "#7201a8"
             ],
             [
              0.3333333333333333,
              "#9c179e"
             ],
             [
              0.4444444444444444,
              "#bd3786"
             ],
             [
              0.5555555555555556,
              "#d8576b"
             ],
             [
              0.6666666666666666,
              "#ed7953"
             ],
             [
              0.7777777777777778,
              "#fb9f3a"
             ],
             [
              0.8888888888888888,
              "#fdca26"
             ],
             [
              1,
              "#f0f921"
             ]
            ],
            "type": "surface"
           }
          ],
          "table": [
           {
            "cells": {
             "fill": {
              "color": "#506784"
             },
             "line": {
              "color": "rgb(17,17,17)"
             }
            },
            "header": {
             "fill": {
              "color": "#2a3f5f"
             },
             "line": {
              "color": "rgb(17,17,17)"
             }
            },
            "type": "table"
           }
          ]
         },
         "layout": {
          "annotationdefaults": {
           "arrowcolor": "#f2f5fa",
           "arrowhead": 0,
           "arrowwidth": 1
          },
          "autotypenumbers": "strict",
          "coloraxis": {
           "colorbar": {
            "outlinewidth": 0,
            "ticks": ""
           }
          },
          "colorscale": {
           "diverging": [
            [
             0,
             "#8e0152"
            ],
            [
             0.1,
             "#c51b7d"
            ],
            [
             0.2,
             "#de77ae"
            ],
            [
             0.3,
             "#f1b6da"
            ],
            [
             0.4,
             "#fde0ef"
            ],
            [
             0.5,
             "#f7f7f7"
            ],
            [
             0.6,
             "#e6f5d0"
            ],
            [
             0.7,
             "#b8e186"
            ],
            [
             0.8,
             "#7fbc41"
            ],
            [
             0.9,
             "#4d9221"
            ],
            [
             1,
             "#276419"
            ]
           ],
           "sequential": [
            [
             0,
             "#0d0887"
            ],
            [
             0.1111111111111111,
             "#46039f"
            ],
            [
             0.2222222222222222,
             "#7201a8"
            ],
            [
             0.3333333333333333,
             "#9c179e"
            ],
            [
             0.4444444444444444,
             "#bd3786"
            ],
            [
             0.5555555555555556,
             "#d8576b"
            ],
            [
             0.6666666666666666,
             "#ed7953"
            ],
            [
             0.7777777777777778,
             "#fb9f3a"
            ],
            [
             0.8888888888888888,
             "#fdca26"
            ],
            [
             1,
             "#f0f921"
            ]
           ],
           "sequentialminus": [
            [
             0,
             "#0d0887"
            ],
            [
             0.1111111111111111,
             "#46039f"
            ],
            [
             0.2222222222222222,
             "#7201a8"
            ],
            [
             0.3333333333333333,
             "#9c179e"
            ],
            [
             0.4444444444444444,
             "#bd3786"
            ],
            [
             0.5555555555555556,
             "#d8576b"
            ],
            [
             0.6666666666666666,
             "#ed7953"
            ],
            [
             0.7777777777777778,
             "#fb9f3a"
            ],
            [
             0.8888888888888888,
             "#fdca26"
            ],
            [
             1,
             "#f0f921"
            ]
           ]
          },
          "colorway": [
           "#636efa",
           "#EF553B",
           "#00cc96",
           "#ab63fa",
           "#FFA15A",
           "#19d3f3",
           "#FF6692",
           "#B6E880",
           "#FF97FF",
           "#FECB52"
          ],
          "font": {
           "color": "#f2f5fa"
          },
          "geo": {
           "bgcolor": "rgb(17,17,17)",
           "lakecolor": "rgb(17,17,17)",
           "landcolor": "rgb(17,17,17)",
           "showlakes": true,
           "showland": true,
           "subunitcolor": "#506784"
          },
          "hoverlabel": {
           "align": "left"
          },
          "hovermode": "closest",
          "mapbox": {
           "style": "dark"
          },
          "paper_bgcolor": "rgb(17,17,17)",
          "plot_bgcolor": "rgb(17,17,17)",
          "polar": {
           "angularaxis": {
            "gridcolor": "#506784",
            "linecolor": "#506784",
            "ticks": ""
           },
           "bgcolor": "rgb(17,17,17)",
           "radialaxis": {
            "gridcolor": "#506784",
            "linecolor": "#506784",
            "ticks": ""
           }
          },
          "scene": {
           "xaxis": {
            "backgroundcolor": "rgb(17,17,17)",
            "gridcolor": "#506784",
            "gridwidth": 2,
            "linecolor": "#506784",
            "showbackground": true,
            "ticks": "",
            "zerolinecolor": "#C8D4E3"
           },
           "yaxis": {
            "backgroundcolor": "rgb(17,17,17)",
            "gridcolor": "#506784",
            "gridwidth": 2,
            "linecolor": "#506784",
            "showbackground": true,
            "ticks": "",
            "zerolinecolor": "#C8D4E3"
           },
           "zaxis": {
            "backgroundcolor": "rgb(17,17,17)",
            "gridcolor": "#506784",
            "gridwidth": 2,
            "linecolor": "#506784",
            "showbackground": true,
            "ticks": "",
            "zerolinecolor": "#C8D4E3"
           }
          },
          "shapedefaults": {
           "line": {
            "color": "#f2f5fa"
           }
          },
          "sliderdefaults": {
           "bgcolor": "#C8D4E3",
           "bordercolor": "rgb(17,17,17)",
           "borderwidth": 1,
           "tickwidth": 0
          },
          "ternary": {
           "aaxis": {
            "gridcolor": "#506784",
            "linecolor": "#506784",
            "ticks": ""
           },
           "baxis": {
            "gridcolor": "#506784",
            "linecolor": "#506784",
            "ticks": ""
           },
           "bgcolor": "rgb(17,17,17)",
           "caxis": {
            "gridcolor": "#506784",
            "linecolor": "#506784",
            "ticks": ""
           }
          },
          "title": {
           "x": 0.05
          },
          "updatemenudefaults": {
           "bgcolor": "#506784",
           "borderwidth": 0
          },
          "xaxis": {
           "automargin": true,
           "gridcolor": "#283442",
           "linecolor": "#506784",
           "ticks": "",
           "title": {
            "standoff": 15
           },
           "zerolinecolor": "#283442",
           "zerolinewidth": 2
          },
          "yaxis": {
           "automargin": true,
           "gridcolor": "#283442",
           "linecolor": "#506784",
           "ticks": "",
           "title": {
            "standoff": 15
           },
           "zerolinecolor": "#283442",
           "zerolinewidth": 2
          }
         }
        },
        "title": {
         "text": "Clusters by Show (3D)"
        },
        "width": 1200
       }
      }
     },
     "metadata": {},
     "output_type": "display_data"
    }
   ],
   "source": [
    "import numpy as np\n",
    "import pandas as pd\n",
    "import spacy\n",
    "from typing import Optional\n",
    "from collections import Counter, defaultdict\n",
    "from sklearn.metrics.pairwise import cosine_similarity\n",
    "from sklearn.manifold import MDS\n",
    "import plotly.express as px\n",
    "import plotly.graph_objects as go\n",
    "\n",
    "# If you're mixing German transcripts, import German stopwords:\n",
    "from spacy.lang.de.stop_words import STOP_WORDS as de_stop_words\n",
    "\n",
    "import numpy as np\n",
    "import pandas as pd\n",
    "import spacy\n",
    "from typing import Optional\n",
    "from collections import Counter, defaultdict\n",
    "from sklearn.metrics.pairwise import cosine_similarity\n",
    "from sklearn.manifold import MDS\n",
    "import plotly.express as px\n",
    "import plotly.graph_objects as go\n",
    "\n",
    "# If you're mixing German transcripts, import German stopwords:\n",
    "from spacy.lang.de.stop_words import STOP_WORDS as de_stop_words\n",
    "\n",
    "def create_show_keyword_visualization_3d(df: pd.DataFrame, min_freq: int = 3) -> None:\n",
    "    \"\"\"Creates a smaller-text 3D interactive visualization of keywords clustered by show.\"\"\"\n",
    "    nlp = spacy.load(\"en_core_web_sm\")\n",
    "\n",
    "    # Gather all show names\n",
    "    all_shows = sorted(df['show'].dropna().unique())\n",
    "\n",
    "    # Combine English/German stopwords and any domain-specific ones\n",
    "    custom_stops = {\n",
    "        \"people\", \"thing\", \"year\", \"lot\", \"point\", \"das\", \"man\", \"der\", \"way\",\n",
    "        \"stuff\", \"sort\", \"mal\", \"speaker\", \"time\", \"going\", \"yeah\", \"gonna\",\n",
    "        \"think\", \"know\", \"mean\", \"actually\", \"right\", \"really\"\n",
    "    }\n",
    "    custom_stops.update(de_stop_words)\n",
    "    for w in custom_stops:\n",
    "        nlp.vocab[w].is_stop = True\n",
    "\n",
    "    # Count frequencies\n",
    "    show_word_freq = defaultdict(Counter)\n",
    "    total_word_freq = Counter()\n",
    "    for show_name in all_shows:\n",
    "        show_text = ' '.join(df.loc[df['show'] == show_name, 'summary'].dropna())\n",
    "        doc = nlp(show_text)\n",
    "        keywords = [\n",
    "            token.lemma_.lower()\n",
    "            for token in doc\n",
    "            if token.pos_ in ['NOUN', 'PROPN']\n",
    "            and not token.is_stop\n",
    "            and len(token.text) > 2\n",
    "        ]\n",
    "        show_word_freq[show_name].update(keywords)\n",
    "        total_word_freq.update(keywords)\n",
    "\n",
    "    # Filter out words below min_freq\n",
    "    common_words = {w for w, c in total_word_freq.items() if c >= min_freq}\n",
    "\n",
    "    words = []\n",
    "    word_vectors = []\n",
    "    dominant_shows = []\n",
    "    hover_texts = []\n",
    "\n",
    "    for word in sorted(common_words):\n",
    "        vector = [show_word_freq[s][word] for s in all_shows]\n",
    "        total_count = sum(vector)\n",
    "        if total_count < min_freq:\n",
    "            continue\n",
    "        \n",
    "        words.append(word)\n",
    "        word_vectors.append(vector)\n",
    "\n",
    "        # Determine \"dominant\" show for coloring\n",
    "        i_max = np.argmax(vector)\n",
    "        show_max = all_shows[i_max]\n",
    "        dominant_shows.append(show_max)\n",
    "\n",
    "        # Build hover text for nonzero frequencies, sorted descending\n",
    "        nonzero = [(s, v) for s, v in zip(all_shows, vector) if v > 0]\n",
    "        nonzero.sort(key=lambda x: x[1], reverse=True)\n",
    "        hover_html = f\"<b>{word}</b><br>\" + \"<br>\".join(f\"{s}: {v}\" for s, v in nonzero)\n",
    "        hover_texts.append(hover_html)\n",
    "\n",
    "    word_vectors = np.array(word_vectors, dtype=float)\n",
    "\n",
    "    # Distance = 1 - cosine similarity\n",
    "    similarities = cosine_similarity(word_vectors)\n",
    "    dist_matrix = 1 - similarities\n",
    "\n",
    "    # Project to 3D with MDS\n",
    "    mds = MDS(n_components=3, dissimilarity='precomputed', random_state=42)\n",
    "    coords_3d = mds.fit_transform(dist_matrix)\n",
    "\n",
    "    # Slight random jitter to help reduce collisions\n",
    "    jitter_strength = 0.02\n",
    "    coords_3d_jittered = coords_3d + np.random.normal(0, jitter_strength, coords_3d.shape)\n",
    "\n",
    "    # Prepare color mapping\n",
    "    colors = px.colors.qualitative.Set3\n",
    "    color_cycle = (colors * ((len(all_shows) // len(colors)) + 1))[:len(all_shows)]\n",
    "    show_color_map = dict(zip(all_shows, color_cycle))\n",
    "\n",
    "    fig = go.Figure()\n",
    "\n",
    "    # We'll make big words smaller by dialing back the scale factor.\n",
    "    # Instead of log2(...)^2, let's do a smaller exponent or just log2 times a small constant.\n",
    "    for show_name in all_shows:\n",
    "        mask = (np.array(dominant_shows) == show_name)\n",
    "        if not np.any(mask):\n",
    "            continue\n",
    "\n",
    "        word_subset = np.array(words)[mask]\n",
    "        # Just do log2(...) * 2.5 as an example\n",
    "        size_values = [np.log2(total_word_freq[w] + 1) * 2.5 for w in word_subset]\n",
    "\n",
    "        x_vals = coords_3d_jittered[mask, 0]\n",
    "        y_vals = coords_3d_jittered[mask, 1]\n",
    "        z_vals = coords_3d_jittered[mask, 2]\n",
    "\n",
    "        color_choice = show_color_map.get(show_name, \"gray\")\n",
    "        subset_hover = np.array(hover_texts)[mask]\n",
    "\n",
    "        fig.add_trace(go.Scatter3d(\n",
    "            x=x_vals,\n",
    "            y=y_vals,\n",
    "            z=z_vals,\n",
    "            text=word_subset,\n",
    "            hovertext=subset_hover,\n",
    "            mode='markers+text',\n",
    "            name=show_name,\n",
    "            textposition='top center',\n",
    "            textfont=dict(size=size_values, color=color_choice),\n",
    "            marker=dict(size=4, color=color_choice),\n",
    "            hoverinfo='text'\n",
    "        ))\n",
    "\n",
    "    # Configure layout\n",
    "    fig.update_layout(\n",
    "        title='Clusters by Show (3D)',\n",
    "        template='plotly_dark',\n",
    "        height=800,\n",
    "        width=1200,\n",
    "        showlegend=True,\n",
    "        scene=dict(\n",
    "            xaxis=dict(showgrid=False, zeroline=False, showticklabels=False),\n",
    "            yaxis=dict(showgrid=False, zeroline=False, showticklabels=False),\n",
    "            zaxis=dict(showgrid=False, zeroline=False, showticklabels=False),\n",
    "        ),\n",
    "        legend=dict(\n",
    "            orientation=\"v\",\n",
    "            x=1.02,\n",
    "            y=1,\n",
    "            xanchor=\"left\",\n",
    "            yanchor=\"auto\",\n",
    "            bgcolor=\"rgba(0,0,0,0)\",\n",
    "            itemsizing='constant',  # Make legend markers a constant size\n",
    "            itemwidth=30  # Increase size of legend markers\n",
    "        )\n",
    "    )\n",
    "\n",
    "    fig.show()\n",
    "\n",
    "\n",
    "# Usage:\n",
    "create_show_keyword_visualization_3d(df, min_freq=7)\n"
   ]
  },
  {
   "cell_type": "markdown",
   "metadata": {},
   "source": [
    "Cluster based on sematic menaing"
   ]
  },
  {
   "cell_type": "markdown",
   "metadata": {},
   "source": [
    "# Best 3D"
   ]
  },
  {
   "cell_type": "code",
   "execution_count": 20,
   "metadata": {},
   "outputs": [
    {
     "name": "stderr",
     "output_type": "stream",
     "text": [
      "/opt/anaconda3/envs/aml3.12/lib/python3.12/site-packages/umap/umap_.py:1952: UserWarning:\n",
      "\n",
      "n_jobs value 1 overridden to 1 by setting random_state. Use no seed for parallelism.\n",
      "\n"
     ]
    },
    {
     "data": {
      "application/vnd.plotly.v1+json": {
       "config": {
        "plotlyServerURL": "https://plot.ly"
       },
       "data": [
        {
         "hoverinfo": "text",
         "hoverlabel": {
          "bgcolor": "white",
          "font": {
           "family": "Arial",
           "size": 12
          }
         },
         "hovertext": [
          "<b>dropbox</b><br>Acquired: 7",
          "<b>memory</b><br>Acquired: 6<br>Making Sense with Sam Harris - Subscriber Content: 1<br>Search Engine: 1<br>The Prof G Pod with Scott Galloway: 1",
          "<b>revenue</b><br>Acquired: 2<br>All-In with Chamath, Jason, Sacks & Friedberg: 2<br>Pivot: 2<br>Lightcone Podcast: 1",
          "<b>size</b><br>Acquired: 2<br>Dwarkesh Podcast: 2<br>Lex Fridman Podcast: 1<br>Pivot: 1<br>The Peter Zeihan Podcast Series: 1<br>Truth with Vivek Ramaswamy: 1",
          "<b>user</b><br>Acquired: 11<br>All-In with Chamath, Jason, Sacks & Friedberg: 9<br>Lex Fridman Podcast: 3<br>a16z Podcast: 2<br>Lightcone Podcast: 1<br>The Prof G Pod with Scott Galloway: 1"
         ],
         "marker": {
          "color": "rgb(141,211,199)",
          "line": {
           "color": "DarkSlateGrey",
           "width": 1
          },
          "opacity": 0.7,
          "size": [
           10,
           10.666666655555556,
           10,
           10.333333327777778,
           16.666666555555558
          ]
         },
         "mode": "markers+text",
         "name": "Acquired",
         "text": [
          "dropbox",
          "memory",
          "revenue",
          "size",
          "user"
         ],
         "textfont": {
          "color": "rgb(141,211,199)",
          "size": [
           10,
           10.666666655555556,
           10,
           10.333333327777778,
           16.666666555555558
          ]
         },
         "textposition": "top center",
         "type": "scatter3d",
         "x": [
          -199.06512028548002,
          -228.32467087829016,
          -163.58252162885694,
          -212.71773815243012,
          -196.9382642163616
         ],
         "y": [
          422.6097806185882,
          396.55222778861815,
          386.4770114350544,
          391.6625070441873,
          421.8039534406178
         ],
         "z": [
          228.42840643591282,
          193.83357966806793,
          218.9862212274088,
          218.0443259050598,
          227.1913615135005
         ]
        },
        {
         "hoverinfo": "text",
         "hoverlabel": {
          "bgcolor": "white",
          "font": {
           "family": "Arial",
           "size": 12
          }
         },
         "hovertext": [
          "<b>ability</b><br>All-In with Chamath, Jason, Sacks & Friedberg: 6<br>Dwarkesh Podcast: 3<br>Lex Fridman Podcast: 3<br>Making Sense with Sam Harris - Subscriber Content: 2<br>Discover Daily by Perplexity: 1<br>Huberman Lab: 1<br>Pivot: 1<br>The Ben & Marc Show: 1<br>The Langley Files: CIA's Podcast: 1<br>The Prof G Pod with Scott Galloway: 1<br>Truth with Vivek Ramaswamy: 1",
          "<b>agency</b><br>All-In with Chamath, Jason, Sacks & Friedberg: 2<br>The Daily: 2<br>Dwarkesh Podcast: 1<br>Lex Fridman Podcast: 1<br>The Prof G Pod with Scott Galloway: 1",
          "<b>agent</b><br>All-In with Chamath, Jason, Sacks & Friedberg: 4<br>The Prof G Pod with Scott Galloway: 2<br>Lex Fridman Podcast: 1",
          "<b>apple</b><br>All-In with Chamath, Jason, Sacks & Friedberg: 4<br>The Prof G Pod with Scott Galloway: 2<br>Freakonomics Radio: 1",
          "<b>area</b><br>All-In with Chamath, Jason, Sacks & Friedberg: 3<br>Pivot: 3<br>Making Sense with Sam Harris - Subscriber Content: 2<br>Dwarkesh Podcast: 1<br>Honestly with Bari Weiss: 1<br>Lex Fridman Podcast: 1<br>Prof G Markets: 1<br>The Peter Zeihan Podcast Series: 1<br>The Prof G Pod with Scott Galloway: 1<br>Truth with Vivek Ramaswamy: 1<br>a16z Podcast: 1",
          "<b>asset</b><br>All-In with Chamath, Jason, Sacks & Friedberg: 6<br>Pivot: 1<br>The Prof G Pod with Scott Galloway: 1",
          "<b>background</b><br>All-In with Chamath, Jason, Sacks & Friedberg: 2<br>Making Sense with Sam Harris - Subscriber Content: 2<br>Truth with Vivek Ramaswamy: 2<br>Dwarkesh Podcast: 1<br>The Langley Files: CIA's Podcast: 1",
          "<b>balance</b><br>All-In with Chamath, Jason, Sacks & Friedberg: 3<br>Making Sense with Sam Harris - Subscriber Content: 2<br>Dwarkesh Podcast: 1<br>Lex Fridman Podcast: 1",
          "<b>business</b><br>All-In with Chamath, Jason, Sacks & Friedberg: 9<br>The Prof G Pod with Scott Galloway: 6<br>Dwarkesh Podcast: 2<br>Freakonomics Radio: 2<br>Pivot: 2<br>Acquired: 1<br>Making Sense with Sam Harris - Subscriber Content: 1<br>The Ben & Marc Show: 1<br>Truth with Vivek Ramaswamy: 1<br>a16z Podcast: 1",
          "<b>capital</b><br>All-In with Chamath, Jason, Sacks & Friedberg: 3<br>The Prof G Pod with Scott Galloway: 3<br>Dwarkesh Podcast: 2<br>Acquired: 1<br>Discover Daily by Perplexity: 1<br>Lex Fridman Podcast: 1",
          "<b>car</b><br>All-In with Chamath, Jason, Sacks & Friedberg: 2<br>The Prof G Pod with Scott Galloway: 2<br>Dwarkesh Podcast: 1<br>Lex Fridman Podcast: 1<br>Prof G Markets: 1<br>The Joe Rogan Experience: 1<br>The Knowledge Project with Shane Parrish: 1",
          "<b>change</b><br>All-In with Chamath, Jason, Sacks & Friedberg: 8<br>Making Sense with Sam Harris - Subscriber Content: 7<br>Dwarkesh Podcast: 5<br>Lex Fridman Podcast: 3<br>The Prof G Pod with Scott Galloway: 3<br>Acquired: 2<br>Discover Daily by Perplexity: 1<br>Search Engine: 1<br>The Ezra Klein Show: 1<br>The Joe Rogan Experience: 1<br>Truth with Vivek Ramaswamy: 1",
          "<b>china</b><br>All-In with Chamath, Jason, Sacks & Friedberg: 6<br>The Peter Zeihan Podcast Series: 4<br>Making Sense with Sam Harris - Subscriber Content: 2<br>NZZ Akzent: 2<br>Dwarkesh Podcast: 1<br>Freakonomics Radio: 1<br>The Prof G Pod with Scott Galloway: 1",
          "<b>company</b><br>All-In with Chamath, Jason, Sacks & Friedberg: 19<br>The Prof G Pod with Scott Galloway: 11<br>Acquired: 5<br>Dwarkesh Podcast: 5<br>Lightcone Podcast: 3<br>The Ben & Marc Show: 3<br>The Joe Rogan Experience: 3<br>Freakonomics Radio: 2<br>Pivot: 2<br>a16z Podcast: 2<br>Making Sense with Sam Harris - Subscriber Content: 1",
          "<b>computer</b><br>All-In with Chamath, Jason, Sacks & Friedberg: 5<br>Discover Daily by Perplexity: 2<br>Lex Fridman Podcast: 1<br>Making Sense with Sam Harris - Subscriber Content: 1",
          "<b>conflict</b><br>All-In with Chamath, Jason, Sacks & Friedberg: 7<br>Making Sense with Sam Harris - Subscriber Content: 4<br>The Peter Zeihan Podcast Series: 2<br>Dwarkesh Podcast: 1<br>Freakonomics Radio: 1",
          "<b>consumer</b><br>All-In with Chamath, Jason, Sacks & Friedberg: 5<br>Lightcone Podcast: 1<br>The Prof G Pod with Scott Galloway: 1",
          "<b>content</b><br>All-In with Chamath, Jason, Sacks & Friedberg: 10<br>Huberman Lab: 3<br>Dwarkesh Podcast: 2<br>Acquired: 1<br>Lex Fridman Podcast: 1<br>Making Sense with Sam Harris: 1<br>Pivot: 1<br>The Ben & Marc Show: 1",
          "<b>contrast</b><br>All-In with Chamath, Jason, Sacks & Friedberg: 3<br>Huberman Lab: 3<br>Lex Fridman Podcast: 1<br>The Prof G Pod with Scott Galloway: 1",
          "<b>cost</b><br>All-In with Chamath, Jason, Sacks & Friedberg: 9<br>Freakonomics Radio: 5<br>Dwarkesh Podcast: 2<br>The Prof G Pod with Scott Galloway: 2<br>a16z Podcast: 2<br>Acquired: 1<br>Prof G Markets: 1<br>The Ben & Marc Show: 1<br>The Daily: 1<br>The Peter Zeihan Podcast Series: 1<br>Truth with Vivek Ramaswamy: 1",
          "<b>crisis</b><br>All-In with Chamath, Jason, Sacks & Friedberg: 4<br>The Prof G Pod with Scott Galloway: 2<br>Dwarkesh Podcast: 1<br>Freakonomics Radio: 1<br>Making Sense with Sam Harris - Subscriber Content: 1<br>The Peter Zeihan Podcast Series: 1",
          "<b>customer</b><br>All-In with Chamath, Jason, Sacks & Friedberg: 9<br>Acquired: 2<br>a16z Podcast: 2<br>Lex Fridman Podcast: 1<br>The Prof G Pod with Scott Galloway: 1",
          "<b>cycle</b><br>All-In with Chamath, Jason, Sacks & Friedberg: 3<br>The Prof G Pod with Scott Galloway: 2<br>Lex Fridman Podcast: 1<br>a16z Podcast: 1",
          "<b>datum</b><br>All-In with Chamath, Jason, Sacks & Friedberg: 5<br>Lex Fridman Podcast: 4<br>Acquired: 2<br>The Ben & Marc Show: 2<br>The Prof G Pod with Scott Galloway: 2<br>a16z Podcast: 2<br>Dwarkesh Podcast: 1<br>Freakonomics Radio: 1",
          "<b>death</b><br>All-In with Chamath, Jason, Sacks & Friedberg: 3<br>Making Sense with Sam Harris - Subscriber Content: 2<br>The Prof G Pod with Scott Galloway: 2<br>Search Engine: 1",
          "<b>debt</b><br>All-In with Chamath, Jason, Sacks & Friedberg: 16<br>The Prof G Pod with Scott Galloway: 2",
          "<b>desire</b><br>All-In with Chamath, Jason, Sacks & Friedberg: 5<br>Truth with Vivek Ramaswamy: 2",
          "<b>discussion</b><br>All-In with Chamath, Jason, Sacks & Friedberg: 3<br>Freakonomics Radio: 2<br>Discover Daily by Perplexity: 1<br>Dwarkesh Podcast: 1<br>Lex Fridman Podcast: 1<br>Making Sense with Sam Harris: 1<br>Making Sense with Sam Harris - Subscriber Content: 1",
          "<b>dynamic</b><br>All-In with Chamath, Jason, Sacks & Friedberg: 3<br>Making Sense with Sam Harris - Subscriber Content: 3<br>Acquired: 1<br>The Joe Rogan Experience: 1<br>The Prof G Pod with Scott Galloway: 1",
          "<b>economy</b><br>All-In with Chamath, Jason, Sacks & Friedberg: 12<br>Dwarkesh Podcast: 6<br>Truth with Vivek Ramaswamy: 2<br>Discover Daily by Perplexity: 1<br>Freakonomics Radio: 1<br>The Peter Zeihan Podcast Series: 1<br>The Prof G Pod with Scott Galloway: 1",
          "<b>effect</b><br>All-In with Chamath, Jason, Sacks & Friedberg: 3<br>Making Sense with Sam Harris - Subscriber Content: 2<br>Pivot: 2<br>Truth with Vivek Ramaswamy: 2<br>Dwarkesh Podcast: 1<br>Freakonomics Radio: 1<br>The Ezra Klein Show: 1<br>a16z Podcast: 1",
          "<b>efficiency</b><br>All-In with Chamath, Jason, Sacks & Friedberg: 4<br>Lex Fridman Podcast: 2<br>Acquired: 1<br>Dwarkesh Podcast: 1<br>Huberman Lab: 1<br>Making Sense with Sam Harris - Subscriber Content: 1<br>The Joe Rogan Experience: 1<br>The Prof G Pod with Scott Galloway: 1",
          "<b>energy</b><br>All-In with Chamath, Jason, Sacks & Friedberg: 6<br>Huberman Lab: 4<br>Dwarkesh Podcast: 2<br>Making Sense with Sam Harris - Subscriber Content: 2<br>The Prof G Pod with Scott Galloway: 2",
          "<b>engagement</b><br>All-In with Chamath, Jason, Sacks & Friedberg: 4<br>Acquired: 2<br>Huberman Lab: 2<br>Lex Fridman Podcast: 1<br>a16z Podcast: 1",
          "<b>environment</b><br>All-In with Chamath, Jason, Sacks & Friedberg: 4<br>Dwarkesh Podcast: 3<br>Lex Fridman Podcast: 2<br>The Langley Files: CIA's Podcast: 2<br>Acquired: 1<br>Making Sense with Sam Harris - Subscriber Content: 1<br>Pivot: 1<br>The Joe Rogan Experience: 1<br>The Peter Zeihan Podcast Series: 1<br>The Prof G Pod with Scott Galloway: 1",
          "<b>event</b><br>All-In with Chamath, Jason, Sacks & Friedberg: 3<br>Making Sense with Sam Harris - Subscriber Content: 2<br>Dwarkesh Podcast: 1<br>The Prof G Pod with Scott Galloway: 1",
          "<b>evolution</b><br>All-In with Chamath, Jason, Sacks & Friedberg: 5<br>Dwarkesh Podcast: 2<br>Making Sense with Sam Harris - Subscriber Content: 1<br>The Langley Files: CIA's Podcast: 1",
          "<b>experience</b><br>All-In with Chamath, Jason, Sacks & Friedberg: 6<br>Making Sense with Sam Harris - Subscriber Content: 5<br>Acquired: 2<br>Freakonomics Radio: 2<br>Lex Fridman Podcast: 2<br>Search Engine: 2<br>The Prof G Pod with Scott Galloway: 2<br>Lightcone Podcast: 1<br>The Knowledge Project with Shane Parrish: 1<br>Truth with Vivek Ramaswamy: 1",
          "<b>fear</b><br>All-In with Chamath, Jason, Sacks & Friedberg: 2<br>Making Sense with Sam Harris - Subscriber Content: 2<br>Honestly with Bari Weiss: 1<br>The Daily: 1<br>The Knowledge Project with Shane Parrish: 1<br>The Prof G Pod with Scott Galloway: 1",
          "<b>feature</b><br>All-In with Chamath, Jason, Sacks & Friedberg: 2<br>Acquired: 1<br>Dwarkesh Podcast: 1<br>Great Mysteries of Physics: 1<br>The Prof G Pod with Scott Galloway: 1<br>a16z Podcast: 1",
          "<b>founder</b><br>All-In with Chamath, Jason, Sacks & Friedberg: 4<br>Lex Fridman Podcast: 4<br>Pivot: 3<br>Dwarkesh Podcast: 1<br>a16z Podcast: 1",
          "<b>gdp</b><br>All-In with Chamath, Jason, Sacks & Friedberg: 13<br>Dwarkesh Podcast: 1",
          "<b>google</b><br>All-In with Chamath, Jason, Sacks & Friedberg: 9<br>The Prof G Pod with Scott Galloway: 3<br>Acquired: 2<br>Dwarkesh Podcast: 1<br>The Ben & Marc Show: 1",
          "<b>government</b><br>All-In with Chamath, Jason, Sacks & Friedberg: 22<br>Making Sense with Sam Harris - Subscriber Content: 6<br>The Peter Zeihan Podcast Series: 4<br>The Prof G Pod with Scott Galloway: 3<br>Dwarkesh Podcast: 2<br>Freakonomics Radio: 2<br>Pivot: 2<br>Prof G Markets: 2<br>The Ezra Klein Show: 2<br>Honestly with Bari Weiss: 1<br>Lex Fridman Podcast: 1<br>The Daily: 1",
          "<b>growth</b><br>All-In with Chamath, Jason, Sacks & Friedberg: 11<br>The Prof G Pod with Scott Galloway: 8<br>Dwarkesh Podcast: 7<br>Truth with Vivek Ramaswamy: 4<br>Making Sense with Sam Harris - Subscriber Content: 2<br>The Peter Zeihan Podcast Series: 2<br>Acquired: 1<br>Freakonomics Radio: 1<br>Lightcone Podcast: 1<br>Pivot: 1<br>Prof G Markets: 1",
          "<b>history</b><br>All-In with Chamath, Jason, Sacks & Friedberg: 2<br>Making Sense with Sam Harris - Subscriber Content: 2<br>Freakonomics Radio: 1<br>Search Engine: 1<br>The Peter Zeihan Podcast Series: 1<br>The Prof G Pod with Scott Galloway: 1",
          "<b>implication</b><br>All-In with Chamath, Jason, Sacks & Friedberg: 2<br>Dwarkesh Podcast: 2<br>Lex Fridman Podcast: 1<br>Making Sense with Sam Harris - Subscriber Content: 1<br>The Prof G Pod with Scott Galloway: 1",
          "<b>importance</b><br>All-In with Chamath, Jason, Sacks & Friedberg: 5<br>Dwarkesh Podcast: 3<br>Making Sense with Sam Harris - Subscriber Content: 3<br>Acquired: 2<br>Lex Fridman Podcast: 2<br>The Langley Files: CIA's Podcast: 1<br>The Peter Zeihan Podcast Series: 1<br>The Prof G Pod with Scott Galloway: 1",
          "<b>income</b><br>All-In with Chamath, Jason, Sacks & Friedberg: 5<br>The Prof G Pod with Scott Galloway: 4<br>Making Sense with Sam Harris - Subscriber Content: 2<br>The Daily: 1<br>The Ezra Klein Show: 1<br>The Knowledge Project with Shane Parrish: 1",
          "<b>industry</b><br>All-In with Chamath, Jason, Sacks & Friedberg: 9<br>The Prof G Pod with Scott Galloway: 6<br>a16z Podcast: 3<br>Dwarkesh Podcast: 2<br>Pivot: 2<br>The Ben & Marc Show: 2<br>The Joe Rogan Experience: 2<br>Acquired: 1<br>Freakonomics Radio: 1<br>Making Sense with Sam Harris - Subscriber Content: 1<br>The Ezra Klein Show: 1<br>Truth with Vivek Ramaswamy: 1",
          "<b>inflation</b><br>All-In with Chamath, Jason, Sacks & Friedberg: 16<br>The Prof G Pod with Scott Galloway: 2<br>The Peter Zeihan Podcast Series: 1",
          "<b>influence</b><br>All-In with Chamath, Jason, Sacks & Friedberg: 4<br>Lex Fridman Podcast: 3<br>Making Sense with Sam Harris: 2<br>Making Sense with Sam Harris - Subscriber Content: 2<br>Dwarkesh Podcast: 1<br>The Peter Zeihan Podcast Series: 1",
          "<b>information</b><br>All-In with Chamath, Jason, Sacks & Friedberg: 4<br>The Langley Files: CIA's Podcast: 3<br>Making Sense with Sam Harris - Subscriber Content: 2<br>The Ben & Marc Show: 2<br>Lex Fridman Podcast: 1<br>Lightcone Podcast: 1<br>a16z Podcast: 1",
          "<b>innovation</b><br>All-In with Chamath, Jason, Sacks & Friedberg: 8<br>Pivot: 2<br>The Prof G Pod with Scott Galloway: 2<br>Dwarkesh Podcast: 1<br>Honestly with Bari Weiss: 1<br>Making Sense with Sam Harris - Subscriber Content: 1<br>Truth with Vivek Ramaswamy: 1<br>a16z Podcast: 1",
          "<b>institution</b><br>All-In with Chamath, Jason, Sacks & Friedberg: 2<br>Lex Fridman Podcast: 2<br>Making Sense with Sam Harris - Subscriber Content: 2<br>Dwarkesh Podcast: 1<br>Freakonomics Radio: 1",
          "<b>integration</b><br>All-In with Chamath, Jason, Sacks & Friedberg: 4<br>Discover Daily by Perplexity: 1<br>Lex Fridman Podcast: 1<br>The Prof G Pod with Scott Galloway: 1<br>a16z Podcast: 1",
          "<b>interaction</b><br>All-In with Chamath, Jason, Sacks & Friedberg: 5<br>Making Sense with Sam Harris - Subscriber Content: 5<br>Dwarkesh Podcast: 2<br>The Prof G Pod with Scott Galloway: 2<br>Truth with Vivek Ramaswamy: 1",
          "<b>interest</b><br>All-In with Chamath, Jason, Sacks & Friedberg: 17<br>The Prof G Pod with Scott Galloway: 3<br>Dwarkesh Podcast: 2<br>Acquired: 1<br>Freakonomics Radio: 1",
          "<b>internet</b><br>All-In with Chamath, Jason, Sacks & Friedberg: 1<br>Dwarkesh Podcast: 1<br>Honestly with Bari Weiss: 1<br>Lex Fridman Podcast: 1<br>The Ben & Marc Show: 1<br>The Joe Rogan Experience: 1<br>a16z Podcast: 1",
          "<b>intervention</b><br>All-In with Chamath, Jason, Sacks & Friedberg: 2<br>Pivot: 2<br>The Ezra Klein Show: 2<br>Huberman Lab: 1<br>Making Sense with Sam Harris - Subscriber Content: 1",
          "<b>knowledge</b><br>All-In with Chamath, Jason, Sacks & Friedberg: 3<br>Dwarkesh Podcast: 2<br>Lex Fridman Podcast: 2<br>Making Sense with Sam Harris - Subscriber Content: 2",
          "<b>landscape</b><br>All-In with Chamath, Jason, Sacks & Friedberg: 3<br>Acquired: 2<br>Dwarkesh Podcast: 2<br>Freakonomics Radio: 1<br>Lightcone Podcast: 1<br>Making Sense with Sam Harris - Subscriber Content: 1",
          "<b>level</b><br>All-In with Chamath, Jason, Sacks & Friedberg: 6<br>Making Sense with Sam Harris - Subscriber Content: 6<br>Huberman Lab: 2<br>Acquired: 1<br>Dwarkesh Podcast: 1<br>Pivot: 1<br>The Knowledge Project with Shane Parrish: 1<br>The Peter Zeihan Podcast Series: 1<br>The Prof G Pod with Scott Galloway: 1",
          "<b>loss</b><br>All-In with Chamath, Jason, Sacks & Friedberg: 4<br>Dwarkesh Podcast: 1<br>Freakonomics Radio: 1<br>Making Sense with Sam Harris - Subscriber Content: 1<br>Pivot: 1<br>Prof G Markets: 1<br>The Peter Zeihan Podcast Series: 1",
          "<b>market</b><br>All-In with Chamath, Jason, Sacks & Friedberg: 13<br>a16z Podcast: 5<br>Acquired: 4<br>Dwarkesh Podcast: 4<br>Making Sense with Sam Harris - Subscriber Content: 3<br>The Prof G Pod with Scott Galloway: 3<br>Freakonomics Radio: 1<br>Honestly with Bari Weiss: 1<br>Lex Fridman Podcast: 1<br>Pivot: 1<br>The Joe Rogan Experience: 1<br>Truth with Vivek Ramaswamy: 1",
          "<b>medium</b><br>All-In with Chamath, Jason, Sacks & Friedberg: 9<br>Dwarkesh Podcast: 5<br>Lex Fridman Podcast: 4<br>Huberman Lab: 3<br>Making Sense with Sam Harris - Subscriber Content: 2<br>Pivot: 2<br>Making Sense with Sam Harris: 1<br>The Prof G Pod with Scott Galloway: 1",
          "<b>model</b><br>All-In with Chamath, Jason, Sacks & Friedberg: 14<br>Dwarkesh Podcast: 13<br>Lex Fridman Podcast: 11<br>Acquired: 8<br>Making Sense with Sam Harris - Subscriber Content: 6<br>a16z Podcast: 5<br>The Peter Zeihan Podcast Series: 1<br>The Prof G Pod with Scott Galloway: 1",
          "<b>money</b><br>All-In with Chamath, Jason, Sacks & Friedberg: 3<br>Dwarkesh Podcast: 2<br>The Prof G Pod with Scott Galloway: 2<br>The Knowledge Project with Shane Parrish: 1<br>The Peter Zeihan Podcast Series: 1",
          "<b>nature</b><br>All-In with Chamath, Jason, Sacks & Friedberg: 2<br>Making Sense with Sam Harris - Subscriber Content: 2<br>The Prof G Pod with Scott Galloway: 2<br>Discover Daily by Perplexity: 1<br>Economist Podcasts: 1<br>Lightcone Podcast: 1",
          "<b>need</b><br>All-In with Chamath, Jason, Sacks & Friedberg: 5<br>a16z Podcast: 5<br>Dwarkesh Podcast: 3<br>Acquired: 2<br>Freakonomics Radio: 2<br>Lex Fridman Podcast: 2<br>Making Sense with Sam Harris - Subscriber Content: 2<br>The Daily: 1<br>The Peter Zeihan Podcast Series: 1<br>The Prof G Pod with Scott Galloway: 1",
          "<b>party</b><br>All-In with Chamath, Jason, Sacks & Friedberg: 7<br>The Peter Zeihan Podcast Series: 6<br>Acquired: 1<br>Making Sense with Sam Harris - Subscriber Content: 1<br>The Ezra Klein Show: 1<br>The Prof G Pod with Scott Galloway: 1<br>Truth with Vivek Ramaswamy: 1",
          "<b>people</b><br>All-In with Chamath, Jason, Sacks & Friedberg: 2<br>Dwarkesh Podcast: 1<br>Honestly with Bari Weiss: 1<br>Lex Fridman Podcast: 1<br>The Prof G Pod with Scott Galloway: 1<br>Truth with Vivek Ramaswamy: 1",
          "<b>perception</b><br>All-In with Chamath, Jason, Sacks & Friedberg: 3<br>Lex Fridman Podcast: 3<br>Dwarkesh Podcast: 2<br>Making Sense with Sam Harris - Subscriber Content: 2<br>The Prof G Pod with Scott Galloway: 2<br>Truth with Vivek Ramaswamy: 1",
          "<b>performance</b><br>All-In with Chamath, Jason, Sacks & Friedberg: 3<br>The Prof G Pod with Scott Galloway: 2<br>Acquired: 1<br>Dwarkesh Podcast: 1<br>Making Sense with Sam Harris: 1",
          "<b>period</b><br>All-In with Chamath, Jason, Sacks & Friedberg: 2<br>Huberman Lab: 2<br>Acquired: 1<br>Dwarkesh Podcast: 1<br>Making Sense with Sam Harris - Subscriber Content: 1<br>The Prof G Pod with Scott Galloway: 1",
          "<b>platform</b><br>All-In with Chamath, Jason, Sacks & Friedberg: 7<br>Acquired: 4<br>Huberman Lab: 2<br>a16z Podcast: 1",
          "<b>potential</b><br>All-In with Chamath, Jason, Sacks & Friedberg: 4<br>Making Sense with Sam Harris - Subscriber Content: 4<br>Dwarkesh Podcast: 3<br>Pivot: 2<br>a16z Podcast: 2<br>Lex Fridman Podcast: 1<br>Making Sense with Sam Harris: 1",
          "<b>power</b><br>All-In with Chamath, Jason, Sacks & Friedberg: 5<br>Making Sense with Sam Harris - Subscriber Content: 5<br>Lex Fridman Podcast: 3<br>The Ben & Marc Show: 3<br>Honestly with Bari Weiss: 2<br>The Daily: 2<br>Truth with Vivek Ramaswamy: 2<br>Making Sense with Sam Harris: 1<br>The Peter Zeihan Podcast Series: 1<br>The Prof G Pod with Scott Galloway: 1",
          "<b>price</b><br>All-In with Chamath, Jason, Sacks & Friedberg: 10<br>Dwarkesh Podcast: 1<br>Truth with Vivek Ramaswamy: 1<br>a16z Podcast: 1",
          "<b>principle</b><br>All-In with Chamath, Jason, Sacks & Friedberg: 3<br>Making Sense with Sam Harris - Subscriber Content: 2<br>Discover Daily by Perplexity: 1<br>Pivot: 1",
          "<b>product</b><br>All-In with Chamath, Jason, Sacks & Friedberg: 10<br>Acquired: 7<br>The Prof G Pod with Scott Galloway: 3<br>Lex Fridman Podcast: 2<br>a16z Podcast: 2<br>Dwarkesh Podcast: 1<br>Lightcone Podcast: 1<br>The Ben & Marc Show: 1<br>Truth with Vivek Ramaswamy: 1",
          "<b>production</b><br>All-In with Chamath, Jason, Sacks & Friedberg: 6<br>Huberman Lab: 1",
          "<b>productivity</b><br>All-In with Chamath, Jason, Sacks & Friedberg: 3<br>Pivot: 3<br>Dwarkesh Podcast: 2<br>Truth with Vivek Ramaswamy: 2<br>Lex Fridman Podcast: 1<br>a16z Podcast: 1",
          "<b>program</b><br>All-In with Chamath, Jason, Sacks & Friedberg: 5<br>The Prof G Pod with Scott Galloway: 4<br>Dwarkesh Podcast: 3<br>Freakonomics Radio: 1<br>Lightcone Podcast: 1<br>Truth with Vivek Ramaswamy: 1",
          "<b>progress</b><br>All-In with Chamath, Jason, Sacks & Friedberg: 4<br>Making Sense with Sam Harris - Subscriber Content: 3<br>Dwarkesh Podcast: 2<br>Freakonomics Radio: 1<br>Lex Fridman Podcast: 1<br>The Joe Rogan Experience: 1<br>The Knowledge Project with Shane Parrish: 1<br>The Prof G Pod with Scott Galloway: 1",
          "<b>prosperity</b><br>All-In with Chamath, Jason, Sacks & Friedberg: 4<br>The Prof G Pod with Scott Galloway: 4<br>Dwarkesh Podcast: 3<br>The Ben & Marc Show: 1<br>The Ezra Klein Show: 1",
          "<b>question</b><br>All-In with Chamath, Jason, Sacks & Friedberg: 4<br>Dwarkesh Podcast: 3<br>Lex Fridman Podcast: 3<br>Making Sense with Sam Harris - Subscriber Content: 2<br>Freakonomics Radio: 1<br>Pivot: 1<br>The Peter Zeihan Podcast Series: 1<br>The Prof G Pod with Scott Galloway: 1",
          "<b>rate</b><br>All-In with Chamath, Jason, Sacks & Friedberg: 24<br>The Prof G Pod with Scott Galloway: 4<br>Truth with Vivek Ramaswamy: 3<br>Lex Fridman Podcast: 2<br>Dwarkesh Podcast: 1<br>The Peter Zeihan Podcast Series: 1<br>a16z Podcast: 1",
          "<b>response</b><br>All-In with Chamath, Jason, Sacks & Friedberg: 3<br>Lex Fridman Podcast: 2<br>a16z Podcast: 2<br>Dwarkesh Podcast: 1<br>Huberman Lab: 1<br>Making Sense with Sam Harris - Subscriber Content: 1<br>The Prof G Pod with Scott Galloway: 1",
          "<b>return</b><br>All-In with Chamath, Jason, Sacks & Friedberg: 2<br>Making Sense with Sam Harris - Subscriber Content: 2<br>The Prof G Pod with Scott Galloway: 2<br>The Daily: 1<br>The Peter Zeihan Podcast Series: 1",
          "<b>risk</b><br>All-In with Chamath, Jason, Sacks & Friedberg: 3<br>Dwarkesh Podcast: 3<br>Making Sense with Sam Harris - Subscriber Content: 3<br>a16z Podcast: 3<br>Huberman Lab: 2<br>Lex Fridman Podcast: 2<br>The Prof G Pod with Scott Galloway: 2<br>Freakonomics Radio: 1<br>Making Sense with Sam Harris: 1<br>Pivot: 1",
          "<b>role</b><br>All-In with Chamath, Jason, Sacks & Friedberg: 5<br>Dwarkesh Podcast: 5<br>Freakonomics Radio: 3<br>Making Sense with Sam Harris - Subscriber Content: 3<br>The Prof G Pod with Scott Galloway: 3<br>Pivot: 2<br>Lex Fridman Podcast: 1<br>The Ben & Marc Show: 1<br>The Langley Files: CIA's Podcast: 1<br>The Peter Zeihan Podcast Series: 1",
          "<b>scale</b><br>All-In with Chamath, Jason, Sacks & Friedberg: 3<br>Dwarkesh Podcast: 2<br>Discover Daily by Perplexity: 1<br>Lex Fridman Podcast: 1<br>Making Sense with Sam Harris - Subscriber Content: 1",
          "<b>sector</b><br>All-In with Chamath, Jason, Sacks & Friedberg: 5<br>The Prof G Pod with Scott Galloway: 3<br>Dwarkesh Podcast: 2<br>Truth with Vivek Ramaswamy: 2<br>Discover Daily by Perplexity: 1<br>Making Sense with Sam Harris - Subscriber Content: 1<br>The Ben & Marc Show: 1",
          "<b>security</b><br>All-In with Chamath, Jason, Sacks & Friedberg: 3<br>Dwarkesh Podcast: 3<br>The Joe Rogan Experience: 2<br>Freakonomics Radio: 1<br>Making Sense with Sam Harris: 1<br>Pivot: 1<br>The Knowledge Project with Shane Parrish: 1<br>The Langley Files: CIA's Podcast: 1<br>Truth with Vivek Ramaswamy: 1",
          "<b>situation</b><br>All-In with Chamath, Jason, Sacks & Friedberg: 5<br>Dwarkesh Podcast: 3<br>Acquired: 1<br>Making Sense with Sam Harris - Subscriber Content: 1<br>The Daily: 1<br>Truth with Vivek Ramaswamy: 1",
          "<b>solution</b><br>All-In with Chamath, Jason, Sacks & Friedberg: 5<br>Acquired: 2<br>Dwarkesh Podcast: 2<br>Freakonomics Radio: 1<br>The Ben & Marc Show: 1<br>The Daily: 1<br>a16z Podcast: 1",
          "<b>spending</b><br>All-In with Chamath, Jason, Sacks & Friedberg: 9<br>The Peter Zeihan Podcast Series: 2<br>Acquired: 1<br>The Prof G Pod with Scott Galloway: 1",
          "<b>stability</b><br>All-In with Chamath, Jason, Sacks & Friedberg: 2<br>Dwarkesh Podcast: 1<br>Honestly with Bari Weiss: 1<br>Making Sense with Sam Harris - Subscriber Content: 1<br>Prof G Markets: 1<br>Truth with Vivek Ramaswamy: 1",
          "<b>standard</b><br>All-In with Chamath, Jason, Sacks & Friedberg: 4<br>Dwarkesh Podcast: 2<br>Making Sense with Sam Harris - Subscriber Content: 2<br>Huberman Lab: 1<br>The Knowledge Project with Shane Parrish: 1",
          "<b>startup</b><br>All-In with Chamath, Jason, Sacks & Friedberg: 4<br>a16z Podcast: 4<br>Dwarkesh Podcast: 3<br>Acquired: 1<br>Discover Daily by Perplexity: 1<br>Lex Fridman Podcast: 1<br>Lightcone Podcast: 1",
          "<b>state</b><br>All-In with Chamath, Jason, Sacks & Friedberg: 4<br>Freakonomics Radio: 3<br>Making Sense with Sam Harris - Subscriber Content: 3<br>The Prof G Pod with Scott Galloway: 3<br>Dwarkesh Podcast: 1<br>Lex Fridman Podcast: 1<br>The Ben & Marc Show: 1<br>The Daily: 1<br>The Knowledge Project with Shane Parrish: 1",
          "<b>status</b><br>All-In with Chamath, Jason, Sacks & Friedberg: 1<br>Huberman Lab: 1<br>Making Sense with Sam Harris: 1<br>Making Sense with Sam Harris - Subscriber Content: 1<br>The Ezra Klein Show: 1<br>The Knowledge Project with Shane Parrish: 1<br>The Peter Zeihan Podcast Series: 1<br>The Prof G Pod with Scott Galloway: 1",
          "<b>strategy</b><br>All-In with Chamath, Jason, Sacks & Friedberg: 6<br>Acquired: 4<br>The Prof G Pod with Scott Galloway: 2<br>Discover Daily by Perplexity: 1<br>Dwarkesh Podcast: 1",
          "<b>student</b><br>All-In with Chamath, Jason, Sacks & Friedberg: 3<br>The Prof G Pod with Scott Galloway: 2<br>Freakonomics Radio: 1<br>Lex Fridman Podcast: 1",
          "<b>support</b><br>All-In with Chamath, Jason, Sacks & Friedberg: 10<br>Making Sense with Sam Harris - Subscriber Content: 3<br>Lex Fridman Podcast: 1<br>The Ezra Klein Show: 1<br>The Prof G Pod with Scott Galloway: 1<br>Truth with Vivek Ramaswamy: 1<br>a16z Podcast: 1",
          "<b>system</b><br>All-In with Chamath, Jason, Sacks & Friedberg: 10<br>Dwarkesh Podcast: 10<br>Lex Fridman Podcast: 9<br>Making Sense with Sam Harris - Subscriber Content: 9<br>Freakonomics Radio: 8<br>The Peter Zeihan Podcast Series: 8<br>Honestly with Bari Weiss: 2<br>NZZ Akzent: 2<br>The Prof G Pod with Scott Galloway: 2<br>a16z Podcast: 2<br>Discover Daily by Perplexity: 1<br>Great Mysteries of Physics: 1<br>Huberman Lab: 1<br>Making Sense with Sam Harris: 1<br>The Knowledge Project with Shane Parrish: 1",
          "<b>task</b><br>All-In with Chamath, Jason, Sacks & Friedberg: 3<br>Dwarkesh Podcast: 3<br>Lex Fridman Podcast: 3<br>Pivot: 3<br>a16z Podcast: 3<br>The Ben & Marc Show: 2<br>Freakonomics Radio: 1<br>The Prof G Pod with Scott Galloway: 1",
          "<b>team</b><br>All-In with Chamath, Jason, Sacks & Friedberg: 3<br>Dwarkesh Podcast: 3<br>Lightcone Podcast: 1<br>Making Sense with Sam Harris - Subscriber Content: 1<br>The Prof G Pod with Scott Galloway: 1<br>a16z Podcast: 1",
          "<b>threat</b><br>All-In with Chamath, Jason, Sacks & Friedberg: 3<br>Dwarkesh Podcast: 3<br>Freakonomics Radio: 1<br>Making Sense with Sam Harris - Subscriber Content: 1<br>Pivot: 1<br>The Prof G Pod with Scott Galloway: 1<br>a16z Podcast: 1",
          "<b>tool</b><br>All-In with Chamath, Jason, Sacks & Friedberg: 3<br>Acquired: 2<br>Dwarkesh Podcast: 2<br>Lex Fridman Podcast: 2<br>Making Sense with Sam Harris - Subscriber Content: 2<br>Making Sense with Sam Harris: 1<br>Pivot: 1<br>The Ben & Marc Show: 1<br>The Peter Zeihan Podcast Series: 1<br>a16z Podcast: 1",
          "<b>trend</b><br>All-In with Chamath, Jason, Sacks & Friedberg: 3<br>The Prof G Pod with Scott Galloway: 2<br>Dwarkesh Podcast: 1<br>Making Sense with Sam Harris - Subscriber Content: 1<br>The Peter Zeihan Podcast Series: 1<br>Truth with Vivek Ramaswamy: 1",
          "<b>use</b><br>All-In with Chamath, Jason, Sacks & Friedberg: 5<br>Lex Fridman Podcast: 4<br>Huberman Lab: 2<br>Acquired: 1<br>Making Sense with Sam Harris: 1<br>Making Sense with Sam Harris - Subscriber Content: 1<br>The Prof G Pod with Scott Galloway: 1<br>Truth with Vivek Ramaswamy: 1",
          "<b>voter</b><br>All-In with Chamath, Jason, Sacks & Friedberg: 3<br>The Prof G Pod with Scott Galloway: 3<br>The Ezra Klein Show: 2<br>Making Sense with Sam Harris: 1",
          "<b>year</b><br>All-In with Chamath, Jason, Sacks & Friedberg: 4<br>Making Sense with Sam Harris - Subscriber Content: 3<br>The Prof G Pod with Scott Galloway: 3<br>Lex Fridman Podcast: 2<br>Acquired: 1<br>Freakonomics Radio: 1<br>The Ben & Marc Show: 1<br>The Knowledge Project with Shane Parrish: 1"
         ],
         "marker": {
          "color": "rgb(255,255,179)",
          "line": {
           "color": "DarkSlateGrey",
           "width": 1
          },
          "opacity": 0.7,
          "size": [
           14.66666658888889,
           10,
           10,
           10,
           12.999999950000001,
           10.333333327777778,
           10.333333327777778,
           10,
           16.33333322777778,
           11.333333311111112,
           10.666666655555556,
           18.666666522222226,
           13.333333277777779,
           26.333333061111116,
           10.666666655555556,
           12.666666622222223,
           10,
           14.333333261111113,
           10.333333327777778,
           16.33333322777778,
           10.999999983333334,
           12.666666622222223,
           10,
           13.999999933333335,
           10.333333327777778,
           13.666666605555557,
           10,
           10.999999983333334,
           10.666666655555556,
           15.666666572222224,
           11.999999966666667,
           11.66666663888889,
           12.999999950000001,
           10.999999983333334,
           13.333333277777779,
           10,
           10.666666655555556,
           15.666666572222224,
           10.333333327777778,
           10,
           11.999999966666667,
           12.333333294444445,
           12.999999950000001,
           23.666666438888893,
           20.666666488888893,
           10.333333327777778,
           10,
           13.666666605555557,
           12.333333294444445,
           17.99999986666667,
           13.999999933333335,
           11.999999966666667,
           12.333333294444445,
           13.333333277777779,
           10.333333327777778,
           10.333333327777778,
           12.666666622222223,
           15.666666572222224,
           10,
           10.333333327777778,
           10.666666655555556,
           10.999999983333334,
           14.333333261111113,
           10.999999983333334,
           20.333333161111113,
           16.666666555555558,
           27.33333304444445,
           10.666666655555556,
           10.666666655555556,
           15.666666572222224,
           13.666666605555557,
           10,
           11.999999966666667,
           10.333333327777778,
           10.333333327777778,
           12.333333294444445,
           13.333333277777779,
           15.999999900000002,
           11.999999966666667,
           10,
           16.999999883333334,
           10,
           11.66666663888889,
           12.666666622222223,
           12.333333294444445,
           11.999999966666667,
           12.999999950000001,
           19.66666650555556,
           11.333333311111112,
           10.333333327777778,
           14.66666658888889,
           15.999999900000002,
           10.333333327777778,
           12.666666622222223,
           12.333333294444445,
           11.66666663888889,
           11.999999966666667,
           11.999999966666667,
           10,
           10.999999983333334,
           12.666666622222223,
           13.666666605555557,
           10.333333327777778,
           12.333333294444445,
           10,
           13.666666605555557,
           29.99999966666667,
           13.999999933333335,
           10.999999983333334,
           11.333333311111112,
           12.999999950000001,
           10.666666655555556,
           12.999999950000001,
           10.666666655555556,
           12.999999950000001
          ]
         },
         "mode": "markers+text",
         "name": "All-In with Chamath, Jason, Sacks & Friedberg",
         "text": [
          "ability",
          "agency",
          "agent",
          "apple",
          "area",
          "asset",
          "background",
          "balance",
          "business",
          "capital",
          "car",
          "change",
          "china",
          "company",
          "computer",
          "conflict",
          "consumer",
          "content",
          "contrast",
          "cost",
          "crisis",
          "customer",
          "cycle",
          "datum",
          "death",
          "debt",
          "desire",
          "discussion",
          "dynamic",
          "economy",
          "effect",
          "efficiency",
          "energy",
          "engagement",
          "environment",
          "event",
          "evolution",
          "experience",
          "fear",
          "feature",
          "founder",
          "gdp",
          "google",
          "government",
          "growth",
          "history",
          "implication",
          "importance",
          "income",
          "industry",
          "inflation",
          "influence",
          "information",
          "innovation",
          "institution",
          "integration",
          "interaction",
          "interest",
          "internet",
          "intervention",
          "knowledge",
          "landscape",
          "level",
          "loss",
          "market",
          "medium",
          "model",
          "money",
          "nature",
          "need",
          "party",
          "people",
          "perception",
          "performance",
          "period",
          "platform",
          "potential",
          "power",
          "price",
          "principle",
          "product",
          "production",
          "productivity",
          "program",
          "progress",
          "prosperity",
          "question",
          "rate",
          "response",
          "return",
          "risk",
          "role",
          "scale",
          "sector",
          "security",
          "situation",
          "solution",
          "spending",
          "stability",
          "standard",
          "startup",
          "state",
          "status",
          "strategy",
          "student",
          "support",
          "system",
          "task",
          "team",
          "threat",
          "tool",
          "trend",
          "use",
          "voter",
          "year"
         ],
         "textfont": {
          "color": "rgb(255,255,179)",
          "size": [
           14.66666658888889,
           10,
           10,
           10,
           12.999999950000001,
           10.333333327777778,
           10.333333327777778,
           10,
           16.33333322777778,
           11.333333311111112,
           10.666666655555556,
           18.666666522222226,
           13.333333277777779,
           26.333333061111116,
           10.666666655555556,
           12.666666622222223,
           10,
           14.333333261111113,
           10.333333327777778,
           16.33333322777778,
           10.999999983333334,
           12.666666622222223,
           10,
           13.999999933333335,
           10.333333327777778,
           13.666666605555557,
           10,
           10.999999983333334,
           10.666666655555556,
           15.666666572222224,
           11.999999966666667,
           11.66666663888889,
           12.999999950000001,
           10.999999983333334,
           13.333333277777779,
           10,
           10.666666655555556,
           15.666666572222224,
           10.333333327777778,
           10,
           11.999999966666667,
           12.333333294444445,
           12.999999950000001,
           23.666666438888893,
           20.666666488888893,
           10.333333327777778,
           10,
           13.666666605555557,
           12.333333294444445,
           17.99999986666667,
           13.999999933333335,
           11.999999966666667,
           12.333333294444445,
           13.333333277777779,
           10.333333327777778,
           10.333333327777778,
           12.666666622222223,
           15.666666572222224,
           10,
           10.333333327777778,
           10.666666655555556,
           10.999999983333334,
           14.333333261111113,
           10.999999983333334,
           20.333333161111113,
           16.666666555555558,
           27.33333304444445,
           10.666666655555556,
           10.666666655555556,
           15.666666572222224,
           13.666666605555557,
           10,
           11.999999966666667,
           10.333333327777778,
           10.333333327777778,
           12.333333294444445,
           13.333333277777779,
           15.999999900000002,
           11.999999966666667,
           10,
           16.999999883333334,
           10,
           11.66666663888889,
           12.666666622222223,
           12.333333294444445,
           11.999999966666667,
           12.999999950000001,
           19.66666650555556,
           11.333333311111112,
           10.333333327777778,
           14.66666658888889,
           15.999999900000002,
           10.333333327777778,
           12.666666622222223,
           12.333333294444445,
           11.66666663888889,
           11.999999966666667,
           11.999999966666667,
           10,
           10.999999983333334,
           12.666666622222223,
           13.666666605555557,
           10.333333327777778,
           12.333333294444445,
           10,
           13.666666605555557,
           29.99999966666667,
           13.999999933333335,
           10.999999983333334,
           11.333333311111112,
           12.999999950000001,
           10.666666655555556,
           12.999999950000001,
           10.666666655555556,
           12.999999950000001
          ]
         },
         "textposition": "top center",
         "type": "scatter3d",
         "x": [
          -208.91914139705392,
          -164.5752488474017,
          -162.7884266870419,
          -196.9185938106745,
          -189.49920193215522,
          -161.27131797999508,
          -230.34111209091537,
          -212.72870523603837,
          -163.9131049325797,
          -164.06991064838962,
          -170.85177097726609,
          -201.07557486441766,
          -186.50593015444417,
          -165.98202474649315,
          -198.4808224211357,
          -185.4167764182649,
          -173.23257406082527,
          -202.8762137437113,
          -223.17946214130993,
          -174.49052982399837,
          -188.20824752913083,
          -183.15389924619697,
          -175.5129951416004,
          -227.25575910845112,
          -190.74099241290656,
          -160.17874458382235,
          -216.47127700352843,
          -212.0513030809378,
          -219.61545707545437,
          -169.58048969985268,
          -208.8880920626238,
          -200.43434969716483,
          -203.61515180161138,
          -201.41437079377852,
          -208.27276309651035,
          -192.63335922546398,
          -197.00798358717265,
          -227.6836001948378,
          -217.67065411551346,
          -201.22031404311684,
          -170.5259899409886,
          -204.13359534160455,
          -199.4101817874696,
          -169.27192216606272,
          -185.47495543277628,
          -185.7966499718587,
          -200.2421626405403,
          -215.57408490011775,
          -164.13509493524134,
          -168.69708539163304,
          -186.14992746832954,
          -210.9675635400351,
          -206.7040448101504,
          -192.973169901872,
          -176.1352644833923,
          -198.2241465243319,
          -215.30704788101153,
          -213.04670107098175,
          -197.33402959101568,
          -196.41918618521316,
          -228.71603221300782,
          -230.12363581493636,
          -197.51450888051522,
          -196.8751274824723,
          -166.5694263781395,
          -212.41472002619184,
          -212.51932690882904,
          -161.71079582774894,
          -223.3631724402837,
          -205.68964065243273,
          -166.33678111372987,
          -209.38427303606215,
          -225.47452294530592,
          -195.36489087688128,
          -173.6217002609195,
          -193.80599238690957,
          -205.08676624734161,
          -205.08119173498287,
          -176.35217850608115,
          -225.08635789808028,
          -195.66616686566593,
          -192.97112123455037,
          -192.283151735394,
          -177.63004247020322,
          -191.84863320189055,
          -185.23671033131168,
          -213.17032505584658,
          -178.5116529624102,
          -201.4771468997579,
          -187.51015908974014,
          -201.10190284532572,
          -212.72132779826484,
          -215.50824333483797,
          -165.8296222490208,
          -196.2063430192179,
          -202.18627046382574,
          -203.59819364419616,
          -167.75433281409485,
          -207.7304894915006,
          -206.86104352405974,
          -172.57813601424337,
          -166.6239393621198,
          -193.1213211917442,
          -200.99064156524136,
          -178.5495156160729,
          -179.24001039231533,
          -204.60644823189108,
          -214.3381923094862,
          -172.14459406500043,
          -201.99876622412174,
          -198.24380640269388,
          -187.29762810753542,
          -204.11659355213664,
          -169.4025970638915,
          -169.9617833793318
         ],
         "y": [
          382.7418535962553,
          409.6008830287029,
          409.1661515355705,
          404.615863135591,
          402.1475448072996,
          391.1474214621369,
          386.0172219506076,
          398.2601092806199,
          403.65788728086,
          391.8538887427002,
          362.9695817726478,
          393.43647709855617,
          401.22784236645396,
          408.1049663663297,
          422.03864093583627,
          382.109589645031,
          402.9842720485515,
          421.2739517613012,
          402.1003771582147,
          384.7903669819484,
          383.52512278229995,
          406.8208268047317,
          364.3173385115371,
          390.5968041292847,
          379.43399873521,
          385.5174564910159,
          358.6870260393385,
          394.5767183810273,
          396.06700024581613,
          386.5805088506971,
          401.5899679788821,
          396.25229984302536,
          395.32184426410817,
          414.9842416726618,
          409.1766587463775,
          399.2866330196962,
          405.0113832282726,
          381.5570131236457,
          354.1999396720093,
          406.57290215770365,
          412.6878999093415,
          378.08966347331574,
          423.2052864533311,
          401.75469276970983,
          392.0891155413584,
          374.9338814617968,
          408.22616145303874,
          391.75668362015995,
          384.19961291391877,
          404.1607516832858,
          401.93344680625233,
          398.88778955719965,
          421.2675482557639,
          414.3477245084713,
          407.6347971048199,
          415.13153146429187,
          411.54865144187556,
          389.89641285238355,
          424.0231037074693,
          409.1803401343716,
          380.6614659546891,
          383.1469270682463,
          392.11267659812404,
          390.6822414093085,
          398.53697671633415,
          394.5569225504585,
          405.0664766802217,
          381.1271475558417,
          377.1901753173058,
          375.3706404347235,
          404.82882717945284,
          360.2655668365654,
          392.4366703104603,
          399.2068083221968,
          361.47357617186873,
          420.5002692823244,
          385.7188975598048,
          393.18143865388686,
          386.96893039676917,
          369.7115293305302,
          405.6372404169947,
          409.4675900895707,
          398.22473459814114,
          416.6342083211013,
          388.19233502714104,
          377.2635706764658,
          382.8651093228817,
          384.68297490253764,
          405.3849155169124,
          381.58706637702403,
          382.4695289216001,
          397.460896027819,
          393.8106142221144,
          401.271921221654,
          417.6179019869996,
          400.4572575662999,
          412.3828266129314,
          385.4292294571651,
          398.29699192134217,
          395.2387757169848,
          411.57121672312286,
          399.276815131234,
          404.5422303578603,
          388.96417994603433,
          416.61786111865223,
          408.2636295552761,
          413.493740153188,
          376.7265794292894,
          413.5451508582427,
          380.5212235790308,
          415.6291865267772,
          386.8556097451259,
          385.21040661780364,
          398.1335677715342,
          359.6339660929829
         ],
         "z": [
          199.61883068225535,
          199.94748903021633,
          201.11606189229948,
          221.06203043335765,
          198.54443595955408,
          219.71600817532894,
          177.03026269735366,
          203.108530955671,
          218.19996447658417,
          205.96029835144242,
          202.44714244307303,
          184.69446572747827,
          222.52379641886114,
          214.94602382522717,
          226.0479353480918,
          162.41668560409764,
          221.27630809798436,
          215.94431966571372,
          179.70654250580486,
          223.06625910243665,
          162.3160544758011,
          223.0654956333113,
          194.43136404715335,
          174.89135751600182,
          163.3606703886114,
          221.48725612489173,
          183.07863607799072,
          180.23553919004883,
          198.73363626598373,
          191.8815530568011,
          168.7074310345677,
          216.6834059447889,
          211.4749297160318,
          187.28905654918321,
          198.9607371893802,
          194.49406913821642,
          185.56242017056368,
          188.6138344670052,
          174.74341946461038,
          209.98967427840697,
          177.19005343113471,
          211.3479627555064,
          227.08292647136545,
          173.75208781858714,
          193.7690839853094,
          175.26918661865048,
          179.72253310784595,
          178.40342298092892,
          219.99570119925443,
          216.22309270109363,
          183.55506343971769,
          171.03424923209639,
          203.15082282945332,
          200.6554626535878,
          181.79675301259172,
          195.99133916734442,
          185.3066109268528,
          179.5379859880115,
          221.2245063935788,
          172.0712160765751,
          188.07426319037071,
          174.08557900191084,
          219.22443787315953,
          166.26371244648763,
          218.73277905049036,
          216.7830686470403,
          215.0678247070699,
          220.46900997245538,
          171.80775797732053,
          208.67445289511522,
          175.07241397156096,
          160.19930808262077,
          173.68549783899533,
          209.51373853343716,
          187.41555499790465,
          220.1203879317531,
          191.48623073968818,
          208.96745621425717,
          225.47391360528354,
          180.47475743356014,
          223.18682083043063,
          207.86847036286318,
          210.48049867228474,
          191.47834757156397,
          189.571727140046,
          188.58414349467358,
          168.6275346596265,
          224.48776258542262,
          165.93268064264532,
          187.46635126768533,
          171.20325147410418,
          172.10206504354474,
          213.12640256063796,
          211.21031836385387,
          179.36578833422973,
          159.22425641061827,
          215.24686746377535,
          214.71630587254197,
          202.92039839506754,
          222.1107972697569,
          219.43976640695055,
          175.08324210479083,
          172.15385743846895,
          193.5731984027548,
          186.6899693777545,
          198.6170837256138,
          216.984304689576,
          189.74862656062345,
          188.34412781188368,
          167.1117031367257,
          225.77851485361958,
          185.47559725875394,
          217.19736523985213,
          164.43528458822163,
          189.03544677218608
         ]
        },
        {
         "hoverinfo": "text",
         "hoverlabel": {
          "bgcolor": "white",
          "font": {
           "family": "Arial",
           "size": 12
          }
         },
         "hovertext": [
          "<b>advancement</b><br>Dwarkesh Podcast: 3<br>Lex Fridman Podcast: 3<br>Making Sense with Sam Harris - Subscriber Content: 3<br>All-In with Chamath, Jason, Sacks & Friedberg: 2<br>Discover Daily by Perplexity: 1<br>Making Sense with Sam Harris: 1<br>Pivot: 1<br>The Ben & Marc Show: 1<br>The Joe Rogan Experience: 1<br>The Knowledge Project with Shane Parrish: 1<br>a16z Podcast: 1",
          "<b>agi</b><br>Dwarkesh Podcast: 5<br>Lex Fridman Podcast: 4",
          "<b>capability</b><br>Dwarkesh Podcast: 3<br>Lex Fridman Podcast: 3<br>All-In with Chamath, Jason, Sacks & Friedberg: 2<br>Making Sense with Sam Harris - Subscriber Content: 2<br>a16z Podcast: 2<br>Making Sense with Sam Harris: 1",
          "<b>ceo</b><br>Dwarkesh Podcast: 3<br>All-In with Chamath, Jason, Sacks & Friedberg: 2<br>Lightcone Podcast: 1<br>Pivot: 1<br>The Ben & Marc Show: 1<br>The Prof G Pod with Scott Galloway: 1",
          "<b>concept</b><br>Dwarkesh Podcast: 5<br>Making Sense with Sam Harris - Subscriber Content: 4<br>All-In with Chamath, Jason, Sacks & Friedberg: 1<br>Lex Fridman Podcast: 1<br>The Prof G Pod with Scott Galloway: 1",
          "<b>country</b><br>Dwarkesh Podcast: 17<br>All-In with Chamath, Jason, Sacks & Friedberg: 8<br>The Prof G Pod with Scott Galloway: 8<br>The Peter Zeihan Podcast Series: 5<br>Making Sense with Sam Harris - Subscriber Content: 4<br>Freakonomics Radio: 3<br>Pivot: 1<br>The Langley Files: CIA's Podcast: 1<br>Truth with Vivek Ramaswamy: 1",
          "<b>decade</b><br>Dwarkesh Podcast: 2<br>The Prof G Pod with Scott Galloway: 2<br>All-In with Chamath, Jason, Sacks & Friedberg: 1<br>Making Sense with Sam Harris: 1<br>Making Sense with Sam Harris - Subscriber Content: 1<br>The Joe Rogan Experience: 1",
          "<b>example</b><br>Dwarkesh Podcast: 3<br>All-In with Chamath, Jason, Sacks & Friedberg: 1<br>Huberman Lab: 1<br>Making Sense with Sam Harris - Subscriber Content: 1<br>The Prof G Pod with Scott Galloway: 1",
          "<b>factor</b><br>Dwarkesh Podcast: 3<br>All-In with Chamath, Jason, Sacks & Friedberg: 2<br>Making Sense with Sam Harris - Subscriber Content: 2<br>The Knowledge Project with Shane Parrish: 2<br>The Prof G Pod with Scott Galloway: 2<br>Discover Daily by Perplexity: 1<br>Freakonomics Radio: 1<br>Lex Fridman Podcast: 1<br>Truth with Vivek Ramaswamy: 1",
          "<b>focus</b><br>Dwarkesh Podcast: 5<br>Making Sense with Sam Harris - Subscriber Content: 4<br>All-In with Chamath, Jason, Sacks & Friedberg: 2<br>Freakonomics Radio: 2<br>Lex Fridman Podcast: 2<br>Making Sense with Sam Harris: 2<br>Huberman Lab: 1<br>Pivot: 1<br>The Ezra Klein Show: 1<br>The Prof G Pod with Scott Galloway: 1",
          "<b>funding</b><br>Dwarkesh Podcast: 3<br>All-In with Chamath, Jason, Sacks & Friedberg: 2<br>Acquired: 1<br>Lex Fridman Podcast: 1<br>The Peter Zeihan Podcast Series: 1",
          "<b>humanity</b><br>Dwarkesh Podcast: 2<br>Lex Fridman Podcast: 2<br>Honestly with Bari Weiss: 1<br>Making Sense with Sam Harris - Subscriber Content: 1<br>The Prof G Pod with Scott Galloway: 1",
          "<b>idea</b><br>Dwarkesh Podcast: 7<br>Making Sense with Sam Harris - Subscriber Content: 4<br>All-In with Chamath, Jason, Sacks & Friedberg: 3<br>Lex Fridman Podcast: 2<br>The Prof G Pod with Scott Galloway: 2<br>Freakonomics Radio: 1<br>Great Mysteries of Physics: 1<br>The Ben & Marc Show: 1",
          "<b>impact</b><br>Dwarkesh Podcast: 4<br>Freakonomics Radio: 4<br>Pivot: 3<br>Huberman Lab: 2<br>The Prof G Pod with Scott Galloway: 2<br>All-In with Chamath, Jason, Sacks & Friedberg: 1<br>Discover Daily by Perplexity: 1<br>Honestly with Bari Weiss: 1<br>Making Sense with Sam Harris: 1<br>Making Sense with Sam Harris - Subscriber Content: 1<br>Search Engine: 1<br>Within Reason: 1",
          "<b>improvement</b><br>Dwarkesh Podcast: 3<br>All-In with Chamath, Jason, Sacks & Friedberg: 2<br>a16z Podcast: 2<br>Huberman Lab: 1<br>Lightcone Podcast: 1<br>The Prof G Pod with Scott Galloway: 1<br>Truth with Vivek Ramaswamy: 1",
          "<b>insight</b><br>Dwarkesh Podcast: 3<br>The Prof G Pod with Scott Galloway: 2<br>Acquired: 1<br>Huberman Lab: 1<br>Lex Fridman Podcast: 1<br>The Knowledge Project with Shane Parrish: 1<br>a16z Podcast: 1",
          "<b>lack</b><br>Dwarkesh Podcast: 5<br>Making Sense with Sam Harris - Subscriber Content: 5<br>All-In with Chamath, Jason, Sacks & Friedberg: 3<br>The Knowledge Project with Shane Parrish: 2<br>Acquired: 1<br>Lex Fridman Podcast: 1<br>Pivot: 1<br>The Ben & Marc Show: 1<br>The Daily: 1<br>The Joe Rogan Experience: 1<br>The Peter Zeihan Podcast Series: 1",
          "<b>leader</b><br>Dwarkesh Podcast: 4<br>All-In with Chamath, Jason, Sacks & Friedberg: 3<br>Making Sense with Sam Harris - Subscriber Content: 3<br>Acquired: 1<br>Lex Fridman Podcast: 1<br>Pivot: 1<br>The Prof G Pod with Scott Galloway: 1",
          "<b>leadership</b><br>Dwarkesh Podcast: 6<br>All-In with Chamath, Jason, Sacks & Friedberg: 4<br>The Peter Zeihan Podcast Series: 2<br>Making Sense with Sam Harris - Subscriber Content: 1<br>Pivot: 1",
          "<b>machine</b><br>Dwarkesh Podcast: 4<br>Making Sense with Sam Harris - Subscriber Content: 3<br>All-In with Chamath, Jason, Sacks & Friedberg: 2<br>Discover Daily by Perplexity: 1",
          "<b>nation</b><br>Dwarkesh Podcast: 5<br>The Prof G Pod with Scott Galloway: 3<br>Freakonomics Radio: 1<br>Making Sense with Sam Harris - Subscriber Content: 1",
          "<b>order</b><br>Dwarkesh Podcast: 3<br>Lex Fridman Podcast: 1<br>Making Sense with Sam Harris - Subscriber Content: 1<br>Pivot: 1<br>The Daily: 1",
          "<b>perspective</b><br>Dwarkesh Podcast: 3<br>Lex Fridman Podcast: 2<br>All-In with Chamath, Jason, Sacks & Friedberg: 1<br>Freakonomics Radio: 1<br>Making Sense with Sam Harris - Subscriber Content: 1<br>The Prof G Pod with Scott Galloway: 1",
          "<b>policy</b><br>Dwarkesh Podcast: 5<br>All-In with Chamath, Jason, Sacks & Friedberg: 3<br>Freakonomics Radio: 3<br>The Peter Zeihan Podcast Series: 3<br>The Prof G Pod with Scott Galloway: 3<br>Making Sense with Sam Harris - Subscriber Content: 2<br>Truth with Vivek Ramaswamy: 2<br>Pivot: 1<br>The Ezra Klein Show: 1",
          "<b>presence</b><br>Dwarkesh Podcast: 2<br>Making Sense with Sam Harris - Subscriber Content: 2<br>The Prof G Pod with Scott Galloway: 2<br>All-In with Chamath, Jason, Sacks & Friedberg: 1<br>Lex Fridman Podcast: 1",
          "<b>problem</b><br>Dwarkesh Podcast: 4<br>The Prof G Pod with Scott Galloway: 3<br>All-In with Chamath, Jason, Sacks & Friedberg: 2<br>Lex Fridman Podcast: 1<br>The Pioneer Briefing: 1<br>a16z Podcast: 1",
          "<b>process</b><br>Dwarkesh Podcast: 4<br>Lex Fridman Podcast: 4<br>All-In with Chamath, Jason, Sacks & Friedberg: 3<br>Huberman Lab: 1<br>Making Sense with Sam Harris - Subscriber Content: 1<br>a16z Podcast: 1",
          "<b>quality</b><br>Dwarkesh Podcast: 3<br>Making Sense with Sam Harris - Subscriber Content: 2<br>All-In with Chamath, Jason, Sacks & Friedberg: 1<br>Discover Daily by Perplexity: 1<br>Freakonomics Radio: 1<br>Huberman Lab: 1<br>Lex Fridman Podcast: 1<br>The Ben & Marc Show: 1<br>The Prof G Pod with Scott Galloway: 1",
          "<b>resource</b><br>Dwarkesh Podcast: 3<br>Acquired: 2<br>Making Sense with Sam Harris - Subscriber Content: 2<br>All-In with Chamath, Jason, Sacks & Friedberg: 1<br>Lex Fridman Podcast: 1<br>Pivot: 1<br>The Prof G Pod with Scott Galloway: 1",
          "<b>revolution</b><br>Dwarkesh Podcast: 3<br>All-In with Chamath, Jason, Sacks & Friedberg: 1<br>Freakonomics Radio: 1<br>Lex Fridman Podcast: 1<br>Truth with Vivek Ramaswamy: 1",
          "<b>russia</b><br>Dwarkesh Podcast: 2<br>The Daily: 2<br>All-In with Chamath, Jason, Sacks & Friedberg: 1<br>Freakonomics Radio: 1<br>The Peter Zeihan Podcast Series: 1",
          "<b>scenario</b><br>Dwarkesh Podcast: 5<br>All-In with Chamath, Jason, Sacks & Friedberg: 1<br>Lex Fridman Podcast: 1<br>Making Sense with Sam Harris - Subscriber Content: 1",
          "<b>skill</b><br>Dwarkesh Podcast: 5<br>Freakonomics Radio: 2<br>Making Sense with Sam Harris - Subscriber Content: 2<br>Truth with Vivek Ramaswamy: 2<br>a16z Podcast: 2<br>Lex Fridman Podcast: 1<br>The Langley Files: CIA's Podcast: 1<br>The Prof G Pod with Scott Galloway: 1",
          "<b>source</b><br>Dwarkesh Podcast: 6<br>All-In with Chamath, Jason, Sacks & Friedberg: 3<br>Lex Fridman Podcast: 1<br>Making Sense with Sam Harris - Subscriber Content: 1",
          "<b>statement</b><br>Dwarkesh Podcast: 3<br>Within Reason: 3<br>Making Sense with Sam Harris - Subscriber Content: 1",
          "<b>success</b><br>Dwarkesh Podcast: 10<br>The Prof G Pod with Scott Galloway: 6<br>Acquired: 5<br>Pivot: 4<br>a16z Podcast: 2<br>All-In with Chamath, Jason, Sacks & Friedberg: 1<br>Honestly with Bari Weiss: 1<br>The Knowledge Project with Shane Parrish: 1<br>The Langley Files: CIA's Podcast: 1",
          "<b>thing</b><br>Dwarkesh Podcast: 3<br>All-In with Chamath, Jason, Sacks & Friedberg: 2<br>The Knowledge Project with Shane Parrish: 2<br>The Prof G Pod with Scott Galloway: 2<br>Lex Fridman Podcast: 1<br>Pivot: 1",
          "<b>thinking</b><br>Dwarkesh Podcast: 3<br>All-In with Chamath, Jason, Sacks & Friedberg: 2<br>Pivot: 2<br>The Langley Files: CIA's Podcast: 1",
          "<b>understanding</b><br>Dwarkesh Podcast: 3<br>Lex Fridman Podcast: 3<br>The Prof G Pod with Scott Galloway: 2<br>All-In with Chamath, Jason, Sacks & Friedberg: 1<br>Freakonomics Radio: 1<br>Making Sense with Sam Harris: 1<br>Making Sense with Sam Harris - Subscriber Content: 1<br>a16z Podcast: 1",
          "<b>war</b><br>Dwarkesh Podcast: 4<br>All-In with Chamath, Jason, Sacks & Friedberg: 2<br>Search Engine: 1<br>The Peter Zeihan Podcast Series: 1",
          "<b>world</b><br>Dwarkesh Podcast: 8<br>Making Sense with Sam Harris - Subscriber Content: 7<br>All-In with Chamath, Jason, Sacks & Friedberg: 4<br>Lex Fridman Podcast: 4<br>The Joe Rogan Experience: 3<br>Freakonomics Radio: 2<br>Huberman Lab: 2<br>The Prof G Pod with Scott Galloway: 2<br>a16z Podcast: 2<br>Discover Daily by Perplexity: 1<br>Great Mysteries of Physics: 1<br>Pivot: 1<br>The Ben & Marc Show: 1<br>Within Reason: 1"
         ],
         "marker": {
          "color": "rgb(251,128,114)",
          "line": {
           "color": "DarkSlateGrey",
           "width": 1
          },
          "opacity": 0.7,
          "size": [
           13.666666605555557,
           10.666666655555556,
           11.999999966666667,
           10.666666655555556,
           11.66666663888889,
           23.666666438888893,
           10.333333327777778,
           10,
           12.666666622222223,
           14.66666658888889,
           10.333333327777778,
           10,
           14.66666658888889,
           14.999999916666667,
           11.333333311111112,
           10.999999983333334,
           14.999999916666667,
           12.333333294444445,
           12.333333294444445,
           10.999999983333334,
           10.999999983333334,
           10,
           10.666666655555556,
           15.333333244444447,
           10.333333327777778,
           11.66666663888889,
           12.333333294444445,
           11.66666663888889,
           11.333333311111112,
           10,
           10,
           10.333333327777778,
           12.999999950000001,
           11.333333311111112,
           10,
           17.99999986666667,
           11.333333311111112,
           10.333333327777778,
           11.999999966666667,
           10.333333327777778,
           20.666666488888893
          ]
         },
         "mode": "markers+text",
         "name": "Dwarkesh Podcast",
         "text": [
          "advancement",
          "agi",
          "capability",
          "ceo",
          "concept",
          "country",
          "decade",
          "example",
          "factor",
          "focus",
          "funding",
          "humanity",
          "idea",
          "impact",
          "improvement",
          "insight",
          "lack",
          "leader",
          "leadership",
          "machine",
          "nation",
          "order",
          "perspective",
          "policy",
          "presence",
          "problem",
          "process",
          "quality",
          "resource",
          "revolution",
          "russia",
          "scenario",
          "skill",
          "source",
          "statement",
          "success",
          "thing",
          "thinking",
          "understanding",
          "war",
          "world"
         ],
         "textfont": {
          "color": "rgb(251,128,114)",
          "size": [
           13.666666605555557,
           10.666666655555556,
           11.999999966666667,
           10.666666655555556,
           11.66666663888889,
           23.666666438888893,
           10.333333327777778,
           10,
           12.666666622222223,
           14.66666658888889,
           10.333333327777778,
           10,
           14.66666658888889,
           14.999999916666667,
           11.333333311111112,
           10.999999983333334,
           14.999999916666667,
           12.333333294444445,
           12.333333294444445,
           10.999999983333334,
           10.999999983333334,
           10,
           10.666666655555556,
           15.333333244444447,
           10.333333327777778,
           11.66666663888889,
           12.333333294444445,
           11.66666663888889,
           11.333333311111112,
           10,
           10,
           10.333333327777778,
           12.999999950000001,
           11.333333311111112,
           10,
           17.99999986666667,
           11.333333311111112,
           10.333333327777778,
           11.999999966666667,
           10.333333327777778,
           20.666666488888893
          ]
         },
         "textposition": "top center",
         "type": "scatter3d",
         "x": [
          -189.6547080878682,
          -200.5097522021587,
          -206.5830191424351,
          -171.98429519113623,
          -227.288266459413,
          -166.99477482928907,
          -172.63454455268322,
          -224.32978880911222,
          -212.27840121485016,
          -221.34359491316903,
          -165.79289913607204,
          -211.58499809453863,
          -230.53662508855143,
          -205.92021082998443,
          -194.35007542973472,
          -227.37889534736092,
          -204.13731496371136,
          -168.54159865215036,
          -170.5937254438001,
          -195.31949770599428,
          -167.6895612380277,
          -206.6103836963753,
          -228.1861316910157,
          -182.35381692057166,
          -214.90382043445385,
          -210.86544894638695,
          -202.85481720719952,
          -198.95286194289014,
          -208.59107746655022,
          -182.50028514207415,
          -164.8358654828592,
          -207.55611005963422,
          -224.9128893489684,
          -211.1305261309445,
          -187.36852597803187,
          -189.02484300062883,
          -224.9980051523392,
          -232.23765123980797,
          -223.74009136761705,
          -178.34377803058766,
          -191.53341648616404
         ],
         "y": [
          405.96447865959226,
          390.72448152269413,
          398.9077971682457,
          358.6982205176973,
          372.74508330368684,
          389.3783947639793,
          362.14889302037733,
          398.3926128134995,
          398.27105852389883,
          386.33106420352834,
          390.41005110971423,
          358.5160564253936,
          368.1595635243556,
          396.612219276507,
          400.70095160390673,
          384.75990630999866,
          390.5816979741098,
          410.4630214431602,
          410.8903048022664,
          411.5588201160403,
          394.3254463810134,
          383.0002240549748,
          383.3446654417301,
          403.514268212155,
          406.4819333564716,
          382.21801130139806,
          412.073055384911,
          396.65585865485565,
          420.8809454570332,
          393.8200238021014,
          392.1582120047225,
          394.3249635861697,
          376.3339388870927,
          420.5661912376259,
          406.30075814567067,
          384.35962033296073,
          364.58249732654826,
          371.00804642952636,
          387.7677223468695,
          381.21836537726443,
          366.23093055519536
         ],
         "z": [
          193.6743850903712,
          222.35664305426872,
          212.0366488245359,
          194.2943508560846,
          179.199124043321,
          176.4783370170732,
          185.71610046012105,
          183.47732770308994,
          170.64176260524926,
          180.27848989724873,
          210.57513872540542,
          173.182437247192,
          172.58609785488488,
          173.79147759616268,
          193.77141468481295,
          187.0666499605425,
          168.3229634646171,
          175.07383688030885,
          175.13666351096316,
          225.82017479798654,
          178.23231852431937,
          199.6242600526732,
          179.1123545461051,
          168.44691020055606,
          173.38070722147637,
          163.86402905886146,
          215.23543900003006,
          221.56355911251237,
          208.08748509817588,
          177.54016638262638,
          166.7797570419009,
          158.14537026787477,
          195.43551702039412,
          204.39394848987345,
          166.59026241669307,
          190.19411550098135,
          167.32069121289024,
          170.66013143168655,
          183.87394473148777,
          165.1166480150166,
          175.08931477309318
         ]
        },
        {
         "hoverinfo": "text",
         "hoverlabel": {
          "bgcolor": "white",
          "font": {
           "family": "Arial",
           "size": 12
          }
         },
         "hovertext": [
          "<b>benefit</b><br>Freakonomics Radio: 4<br>The Prof G Pod with Scott Galloway: 2<br>a16z Podcast: 2<br>Dwarkesh Podcast: 1<br>Lex Fridman Podcast: 1<br>Making Sense with Sam Harris - Subscriber Content: 1<br>Pivot: 1",
          "<b>culture</b><br>Freakonomics Radio: 2<br>Making Sense with Sam Harris - Subscriber Content: 2<br>The Prof G Pod with Scott Galloway: 2<br>Truth with Vivek Ramaswamy: 2<br>Acquired: 1<br>Dwarkesh Podcast: 1<br>Lex Fridman Podcast: 1",
          "<b>decline</b><br>Freakonomics Radio: 3<br>All-In with Chamath, Jason, Sacks & Friedberg: 2<br>Honestly with Bari Weiss: 1<br>Making Sense with Sam Harris - Subscriber Content: 1<br>The Prof G Pod with Scott Galloway: 1",
          "<b>education</b><br>Freakonomics Radio: 3<br>Dwarkesh Podcast: 2<br>Making Sense with Sam Harris - Subscriber Content: 1<br>Truth with Vivek Ramaswamy: 1",
          "<b>immigrant</b><br>Freakonomics Radio: 20<br>The Prof G Pod with Scott Galloway: 2",
          "<b>immigration</b><br>Freakonomics Radio: 14<br>The Prof G Pod with Scott Galloway: 3<br>Making Sense with Sam Harris - Subscriber Content: 2",
          "<b>purpose</b><br>Freakonomics Radio: 3<br>Lex Fridman Podcast: 2<br>Making Sense with Sam Harris - Subscriber Content: 2<br>All-In with Chamath, Jason, Sacks & Friedberg: 1<br>The Prof G Pod with Scott Galloway: 1<br>a16z Podcast: 1",
          "<b>rule</b><br>Freakonomics Radio: 2<br>Making Sense with Sam Harris - Subscriber Content: 2<br>a16z Podcast: 2<br>Dwarkesh Podcast: 1<br>Lex Fridman Podcast: 1<br>The Peter Zeihan Podcast Series: 1<br>Truth with Vivek Ramaswamy: 1",
          "<b>study</b><br>Freakonomics Radio: 2<br>Huberman Lab: 2<br>All-In with Chamath, Jason, Sacks & Friedberg: 1<br>Lex Fridman Podcast: 1<br>The Knowledge Project with Shane Parrish: 1",
          "<b>talent</b><br>Freakonomics Radio: 5<br>The Prof G Pod with Scott Galloway: 2<br>All-In with Chamath, Jason, Sacks & Friedberg: 1<br>Making Sense with Sam Harris - Subscriber Content: 1<br>Prof G Markets: 1",
          "<b>wage</b><br>Freakonomics Radio: 4<br>Truth with Vivek Ramaswamy: 3<br>All-In with Chamath, Jason, Sacks & Friedberg: 1"
         ],
         "marker": {
          "color": "rgb(253,180,98)",
          "line": {
           "color": "DarkSlateGrey",
           "width": 1
          },
          "opacity": 0.7,
          "size": [
           11.66666663888889,
           11.333333311111112,
           10.333333327777778,
           10,
           14.999999916666667,
           13.999999933333335,
           10.999999983333334,
           10.999999983333334,
           10,
           10.999999983333334,
           10.333333327777778
          ]
         },
         "mode": "markers+text",
         "name": "Freakonomics Radio",
         "text": [
          "benefit",
          "culture",
          "decline",
          "education",
          "immigrant",
          "immigration",
          "purpose",
          "rule",
          "study",
          "talent",
          "wage"
         ],
         "textfont": {
          "color": "rgb(253,180,98)",
          "size": [
           11.66666663888889,
           11.333333311111112,
           10.333333327777778,
           10,
           14.999999916666667,
           13.999999933333335,
           10.999999983333334,
           10.999999983333334,
           10,
           10.999999983333334,
           10.333333327777778
          ]
         },
         "textposition": "top center",
         "type": "scatter3d",
         "x": [
          -193.68128624649336,
          -189.81686193052877,
          -187.73890987655506,
          -180.03181645578454,
          -174.99947467506237,
          -175.45580716819353,
          -226.81959797103386,
          -213.53659887806688,
          -184.1637845510906,
          -223.14151801259885,
          -167.75093194600333
         ],
         "y": [
          378.52628226603593,
          374.71265584152707,
          386.34072173814224,
          415.5632942656829,
          383.4482977986732,
          396.9610041629564,
          370.7928923302304,
          369.9515677183113,
          415.5801144084863,
          373.64760794593934,
          384.86537635588485
         ],
         "z": [
          203.87600075833595,
          174.50062115840973,
          182.12936789475137,
          188.82732273641685,
          171.7482620882443,
          174.99685188159094,
          182.12761075929214,
          179.74618467013076,
          188.2744260721406,
          195.96770989200485,
          218.4000622514052
         ]
        },
        {
         "hoverinfo": "text",
         "hoverlabel": {
          "bgcolor": "white",
          "font": {
           "family": "Arial",
           "size": 12
          }
         },
         "hovertext": [
          "<b>entropy</b><br>Great Mysteries of Physics: 9",
          "<b>space</b><br>Great Mysteries of Physics: 3<br>Freakonomics Radio: 2<br>Making Sense with Sam Harris - Subscriber Content: 1<br>Pivot: 1<br>Search Engine: 1<br>The Prof G Pod with Scott Galloway: 1<br>a16z Podcast: 1"
         ],
         "marker": {
          "color": "rgb(179,222,105)",
          "line": {
           "color": "DarkSlateGrey",
           "width": 1
          },
          "opacity": 0.7,
          "size": [
           10.666666655555556,
           10.999999983333334
          ]
         },
         "mode": "markers+text",
         "name": "Great Mysteries of Physics",
         "text": [
          "entropy",
          "space"
         ],
         "textfont": {
          "color": "rgb(179,222,105)",
          "size": [
           10.666666655555556,
           10.999999983333334
          ]
         },
         "textposition": "top center",
         "type": "scatter3d",
         "x": [
          -215.98297343076138,
          -212.09123900641183
         ],
         "y": [
          396.9901694513398,
          405.4603041603772
         ],
         "z": [
          201.19747553449199,
          204.6027070090504
         ]
        },
        {
         "hoverinfo": "text",
         "hoverlabel": {
          "bgcolor": "white",
          "font": {
           "family": "Arial",
           "size": 12
          }
         },
         "hovertext": [
          "<b>activity</b><br>Huberman Lab: 5<br>All-In with Chamath, Jason, Sacks & Friedberg: 2<br>The Peter Zeihan Podcast Series: 2<br>Making Sense with Sam Harris - Subscriber Content: 1<br>The Knowledge Project with Shane Parrish: 1<br>The Prof G Pod with Scott Galloway: 1",
          "<b>brain</b><br>Huberman Lab: 5<br>Making Sense with Sam Harris - Subscriber Content: 3<br>Discover Daily by Perplexity: 1<br>Dwarkesh Podcast: 1<br>Lex Fridman Podcast: 1<br>The Prof G Pod with Scott Galloway: 1",
          "<b>cell</b><br>Huberman Lab: 3<br>Making Sense with Sam Harris - Subscriber Content: 3<br>Freakonomics Radio: 1<br>Search Engine: 1",
          "<b>day</b><br>Huberman Lab: 4<br>Dwarkesh Podcast: 2<br>Making Sense with Sam Harris - Subscriber Content: 1<br>The Daily: 1<br>The Prof G Pod with Scott Galloway: 1<br>a16z Podcast: 1",
          "<b>exercise</b><br>Huberman Lab: 6<br>Dwarkesh Podcast: 1",
          "<b>health</b><br>Huberman Lab: 9<br>All-In with Chamath, Jason, Sacks & Friedberg: 4<br>The Prof G Pod with Scott Galloway: 2<br>a16z Podcast: 2<br>Freakonomics Radio: 1<br>The Daily: 1",
          "<b>hour</b><br>Huberman Lab: 2<br>a16z Podcast: 2<br>All-In with Chamath, Jason, Sacks & Friedberg: 1<br>Lex Fridman Podcast: 1<br>Making Sense with Sam Harris - Subscriber Content: 1",
          "<b>movement</b><br>Huberman Lab: 3<br>Making Sense with Sam Harris - Subscriber Content: 2<br>All-In with Chamath, Jason, Sacks & Friedberg: 1<br>Lex Fridman Podcast: 1<br>The Daily: 1<br>The Joe Rogan Experience: 1",
          "<b>muscle</b><br>Huberman Lab: 11<br>Making Sense with Sam Harris - Subscriber Content: 1",
          "<b>plant</b><br>Huberman Lab: 4<br>Making Sense with Sam Harris - Subscriber Content: 2<br>The Peter Zeihan Podcast Series: 1",
          "<b>protein</b><br>Huberman Lab: 11",
          "<b>resistance</b><br>Huberman Lab: 4<br>Dwarkesh Podcast: 3<br>All-In with Chamath, Jason, Sacks & Friedberg: 2<br>Lightcone Podcast: 1<br>Making Sense with Sam Harris - Subscriber Content: 1<br>The Prof G Pod with Scott Galloway: 1",
          "<b>training</b><br>Huberman Lab: 7<br>Dwarkesh Podcast: 4<br>Acquired: 3<br>All-In with Chamath, Jason, Sacks & Friedberg: 1<br>The Prof G Pod with Scott Galloway: 1<br>a16z Podcast: 1"
         ],
         "marker": {
          "color": "rgb(217,217,217)",
          "line": {
           "color": "DarkSlateGrey",
           "width": 1
          },
          "opacity": 0.7,
          "size": [
           11.66666663888889,
           11.66666663888889,
           10.333333327777778,
           10.999999983333334,
           10,
           13.999999933333335,
           10,
           10.666666655555556,
           11.66666663888889,
           10,
           11.333333311111112,
           11.66666663888889,
           13.333333277777779
          ]
         },
         "mode": "markers+text",
         "name": "Huberman Lab",
         "text": [
          "activity",
          "brain",
          "cell",
          "day",
          "exercise",
          "health",
          "hour",
          "movement",
          "muscle",
          "plant",
          "protein",
          "resistance",
          "training"
         ],
         "textfont": {
          "color": "rgb(217,217,217)",
          "size": [
           11.66666663888889,
           11.66666663888889,
           10.333333327777778,
           10.999999983333334,
           10,
           13.999999933333335,
           10,
           10.666666655555556,
           11.66666663888889,
           10,
           11.333333311111112,
           11.66666663888889,
           13.333333277777779
          ]
         },
         "textposition": "top center",
         "type": "scatter3d",
         "x": [
          -211.2146476679288,
          -225.29120186703415,
          -220.57763399360235,
          -170.78700582624575,
          -212.0007807733705,
          -184.16369498973452,
          -171.6218516061185,
          -182.68041658405318,
          -222.1219007369431,
          -195.38081511542046,
          -218.41136888734187,
          -209.9113067042318,
          -182.88233821180415
         ],
         "y": [
          408.36938019373554,
          401.6521164447913,
          407.8726809305342,
          356.9681076599884,
          405.17903896408797,
          404.47420130468015,
          358.0229287813492,
          404.73020249870683,
          402.95970209418016,
          404.4711223230186,
          409.0987194437357,
          403.6451998191287,
          417.79249607997434
         ],
         "z": [
          190.00050692380478,
          195.83863670058767,
          196.46745598320084,
          190.87902455859162,
          191.1640376056668,
          197.50110310051969,
          192.4675311419036,
          178.89290985043067,
          198.14294318813032,
          217.8423714568066,
          197.27251399037834,
          192.87063009413248,
          192.39315152739144
         ]
        },
        {
         "hoverinfo": "text",
         "hoverlabel": {
          "bgcolor": "white",
          "font": {
           "family": "Arial",
           "size": 12
          }
         },
         "hovertext": [
          "<b>aspect</b><br>Lex Fridman Podcast: 2<br>Making Sense with Sam Harris - Subscriber Content: 2<br>Freakonomics Radio: 1<br>Honestly with Bari Weiss: 1<br>The Knowledge Project with Shane Parrish: 1",
          "<b>code</b><br>Lex Fridman Podcast: 4<br>All-In with Chamath, Jason, Sacks & Friedberg: 3<br>a16z Podcast: 2<br>The Prof G Pod with Scott Galloway: 1",
          "<b>consequence</b><br>Lex Fridman Podcast: 2<br>Making Sense with Sam Harris - Subscriber Content: 2<br>All-In with Chamath, Jason, Sacks & Friedberg: 1<br>Great Mysteries of Physics: 1<br>Honestly with Bari Weiss: 1<br>Pivot: 1<br>The Prof G Pod with Scott Galloway: 1<br>Truth with Vivek Ramaswamy: 1<br>a16z Podcast: 1",
          "<b>decision</b><br>Lex Fridman Podcast: 8<br>All-In with Chamath, Jason, Sacks & Friedberg: 6<br>The Peter Zeihan Podcast Series: 4<br>Dwarkesh Podcast: 3<br>Freakonomics Radio: 1<br>Lightcone Podcast: 1<br>Making Sense with Sam Harris: 1<br>The Langley Files: CIA's Podcast: 1<br>The Prof G Pod with Scott Galloway: 1",
          "<b>design</b><br>Lex Fridman Podcast: 4<br>Acquired: 1<br>Dwarkesh Podcast: 1<br>Making Sense with Sam Harris: 1",
          "<b>failure</b><br>Lex Fridman Podcast: 3<br>The Knowledge Project with Shane Parrish: 3<br>Dwarkesh Podcast: 2<br>Making Sense with Sam Harris - Subscriber Content: 2",
          "<b>feedback</b><br>Lex Fridman Podcast: 4<br>The Prof G Pod with Scott Galloway: 4<br>All-In with Chamath, Jason, Sacks & Friedberg: 2",
          "<b>intelligence</b><br>Lex Fridman Podcast: 9<br>Dwarkesh Podcast: 5<br>Making Sense with Sam Harris - Subscriber Content: 2<br>Discover Daily by Perplexity: 1<br>Making Sense with Sam Harris: 1<br>The Daily: 1<br>a16z Podcast: 1",
          "<b>making</b><br>Lex Fridman Podcast: 5<br>Dwarkesh Podcast: 3<br>The Prof G Pod with Scott Galloway: 1",
          "<b>outcome</b><br>Lex Fridman Podcast: 3<br>Making Sense with Sam Harris - Subscriber Content: 3<br>The Prof G Pod with Scott Galloway: 3<br>Dwarkesh Podcast: 2<br>Pivot: 2<br>Acquired: 1<br>All-In with Chamath, Jason, Sacks & Friedberg: 1<br>Freakonomics Radio: 1",
          "<b>truth</b><br>Lex Fridman Podcast: 9<br>Making Sense with Sam Harris - Subscriber Content: 2<br>Dwarkesh Podcast: 1",
          "<b>view</b><br>Lex Fridman Podcast: 2<br>The Prof G Pod with Scott Galloway: 2<br>All-In with Chamath, Jason, Sacks & Friedberg: 1<br>Dwarkesh Podcast: 1<br>Making Sense with Sam Harris - Subscriber Content: 1",
          "<b>wolfram</b><br>Lex Fridman Podcast: 7"
         ],
         "marker": {
          "color": "rgb(188,128,189)",
          "line": {
           "color": "DarkSlateGrey",
           "width": 1
          },
          "opacity": 0.7,
          "size": [
           10,
           10.999999983333334,
           11.333333311111112,
           16.33333322777778,
           10,
           10.999999983333334,
           10.999999983333334,
           14.333333261111113,
           10.666666655555556,
           12.999999950000001,
           11.66666663888889,
           10,
           10
          ]
         },
         "mode": "markers+text",
         "name": "Lex Fridman Podcast",
         "text": [
          "aspect",
          "code",
          "consequence",
          "decision",
          "design",
          "failure",
          "feedback",
          "intelligence",
          "making",
          "outcome",
          "truth",
          "view",
          "wolfram"
         ],
         "textfont": {
          "color": "rgb(188,128,189)",
          "size": [
           10,
           10.999999983333334,
           11.333333311111112,
           16.33333322777778,
           10,
           10.999999983333334,
           10.999999983333334,
           14.333333261111113,
           10.666666655555556,
           12.999999950000001,
           11.66666663888889,
           10,
           10
          ]
         },
         "textposition": "top center",
         "type": "scatter3d",
         "x": [
          -230.76222350136283,
          -199.36271304471515,
          -205.54000904822442,
          -188.07403990143277,
          -209.81046550636344,
          -200.05052176156468,
          -226.1166636881588,
          -198.80871749212375,
          -227.1830690237878,
          -206.32592400351064,
          -221.95678144875194,
          -231.0363593411585,
          -211.66554651592116
         ],
         "y": [
          377.1135850196259,
          422.88811085389335,
          397.491107767635,
          403.3747882644365,
          407.36318541223795,
          392.5924209962228,
          387.2006746894898,
          418.43750977934235,
          387.12182384599123,
          397.92046701491273,
          356.1964767625816,
          383.0536692313231,
          357.46493751834004
         ],
         "z": [
          177.2386272666163,
          225.85596601445238,
          169.778535441135,
          166.12455639853113,
          211.41260638732837,
          165.31898389140346,
          193.29010657452528,
          177.96487561299455,
          182.70365792631392,
          161.19511866460505,
          172.47690117831584,
          177.90573504242016,
          167.09172409766322
         ]
        },
        {
         "hoverinfo": "text",
         "hoverlabel": {
          "bgcolor": "white",
          "font": {
           "family": "Arial",
           "size": 12
          }
         },
         "hovertext": [
          "<b>wealth</b><br>Making Sense with Sam Harris: 2<br>The Prof G Pod with Scott Galloway: 2<br>All-In with Chamath, Jason, Sacks & Friedberg: 1<br>Dwarkesh Podcast: 1<br>Search Engine: 1<br>a16z Podcast: 1"
         ],
         "marker": {
          "color": "rgb(255,237,111)",
          "line": {
           "color": "DarkSlateGrey",
           "width": 1
          },
          "opacity": 0.7,
          "size": [
           10.333333327777778
          ]
         },
         "mode": "markers+text",
         "name": "Making Sense with Sam Harris",
         "text": [
          "wealth"
         ],
         "textfont": {
          "color": "rgb(255,237,111)",
          "size": [
           10.333333327777778
          ]
         },
         "textposition": "top center",
         "type": "scatter3d",
         "x": [
          -170.76710392288982
         ],
         "y": [
          377.61056721959244
         ],
         "z": [
          209.03249465418514
         ]
        },
        {
         "hoverinfo": "text",
         "hoverlabel": {
          "bgcolor": "white",
          "font": {
           "family": "Arial",
           "size": 12
          }
         },
         "hovertext": [
          "<b>action</b><br>Making Sense with Sam Harris - Subscriber Content: 12<br>All-In with Chamath, Jason, Sacks & Friedberg: 3<br>Dwarkesh Podcast: 1<br>Lex Fridman Podcast: 1<br>Pivot: 1<br>Within Reason: 1",
          "<b>animal</b><br>Making Sense with Sam Harris - Subscriber Content: 6<br>Huberman Lab: 2",
          "<b>approach</b><br>Making Sense with Sam Harris - Subscriber Content: 4<br>All-In with Chamath, Jason, Sacks & Friedberg: 3<br>Lex Fridman Podcast: 3<br>Dwarkesh Podcast: 2<br>Pivot: 2<br>Acquired: 1<br>Freakonomics Radio: 1<br>Truth with Vivek Ramaswamy: 1<br>Within Reason: 1",
          "<b>behavior</b><br>Making Sense with Sam Harris - Subscriber Content: 3<br>All-In with Chamath, Jason, Sacks & Friedberg: 2<br>Dwarkesh Podcast: 2<br>Pivot: 1<br>The Langley Files: CIA's Podcast: 1<br>Within Reason: 1",
          "<b>belief</b><br>Making Sense with Sam Harris - Subscriber Content: 6<br>All-In with Chamath, Jason, Sacks & Friedberg: 2<br>Honestly with Bari Weiss: 1",
          "<b>bias</b><br>Making Sense with Sam Harris - Subscriber Content: 4<br>All-In with Chamath, Jason, Sacks & Friedberg: 1<br>Freakonomics Radio: 1<br>The Knowledge Project with Shane Parrish: 1",
          "<b>case</b><br>Making Sense with Sam Harris - Subscriber Content: 2<br>Acquired: 1<br>All-In with Chamath, Jason, Sacks & Friedberg: 1<br>Dwarkesh Podcast: 1<br>Lex Fridman Podcast: 1<br>The Ben & Marc Show: 1",
          "<b>challenge</b><br>Making Sense with Sam Harris - Subscriber Content: 11<br>All-In with Chamath, Jason, Sacks & Friedberg: 8<br>Dwarkesh Podcast: 8<br>The Prof G Pod with Scott Galloway: 5<br>The Daily: 3<br>The Peter Zeihan Podcast Series: 3<br>Acquired: 2<br>Lex Fridman Podcast: 2<br>Pivot: 2<br>Discover Daily by Perplexity: 1<br>Making Sense with Sam Harris: 1<br>Search Engine: 1<br>The Ezra Klein Show: 1<br>The Knowledge Project with Shane Parrish: 1<br>The Langley Files: CIA's Podcast: 1<br>Truth with Vivek Ramaswamy: 1<br>a16z Podcast: 1",
          "<b>collaboration</b><br>Making Sense with Sam Harris - Subscriber Content: 3<br>Dwarkesh Podcast: 2<br>Acquired: 1<br>Freakonomics Radio: 1<br>The Prof G Pod with Scott Galloway: 1",
          "<b>complexity</b><br>Making Sense with Sam Harris - Subscriber Content: 7<br>Freakonomics Radio: 2<br>The Joe Rogan Experience: 1<br>The Prof G Pod with Scott Galloway: 1",
          "<b>concern</b><br>Making Sense with Sam Harris - Subscriber Content: 5<br>All-In with Chamath, Jason, Sacks & Friedberg: 4<br>The Prof G Pod with Scott Galloway: 1",
          "<b>control</b><br>Making Sense with Sam Harris - Subscriber Content: 3<br>Pivot: 2<br>The Ben & Marc Show: 2<br>The Prof G Pod with Scott Galloway: 2<br>All-In with Chamath, Jason, Sacks & Friedberg: 1<br>Dwarkesh Podcast: 1<br>Huberman Lab: 1<br>Lex Fridman Podcast: 1<br>a16z Podcast: 1",
          "<b>development</b><br>Making Sense with Sam Harris - Subscriber Content: 6<br>All-In with Chamath, Jason, Sacks & Friedberg: 3<br>Lex Fridman Podcast: 3<br>The Prof G Pod with Scott Galloway: 3<br>a16z Podcast: 3<br>Dwarkesh Podcast: 2<br>Making Sense with Sam Harris: 1",
          "<b>difference</b><br>Making Sense with Sam Harris - Subscriber Content: 3<br>Lex Fridman Podcast: 2<br>Dwarkesh Podcast: 1<br>Pivot: 1",
          "<b>effort</b><br>Making Sense with Sam Harris - Subscriber Content: 4<br>All-In with Chamath, Jason, Sacks & Friedberg: 2<br>The Prof G Pod with Scott Galloway: 2<br>Dwarkesh Podcast: 1<br>Huberman Lab: 1<br>The Knowledge Project with Shane Parrish: 1<br>a16z Podcast: 1",
          "<b>fact</b><br>Making Sense with Sam Harris - Subscriber Content: 4<br>Lex Fridman Podcast: 2<br>Freakonomics Radio: 1<br>Within Reason: 1",
          "<b>figure</b><br>Making Sense with Sam Harris - Subscriber Content: 5<br>All-In with Chamath, Jason, Sacks & Friedberg: 1<br>Making Sense with Sam Harris: 1<br>Pivot: 1<br>The Ezra Klein Show: 1",
          "<b>generation</b><br>Making Sense with Sam Harris - Subscriber Content: 4<br>The Ezra Klein Show: 3<br>All-In with Chamath, Jason, Sacks & Friedberg: 2<br>Freakonomics Radio: 1<br>The Prof G Pod with Scott Galloway: 1",
          "<b>group</b><br>Making Sense with Sam Harris - Subscriber Content: 4<br>The Peter Zeihan Podcast Series: 2<br>All-In with Chamath, Jason, Sacks & Friedberg: 1<br>Freakonomics Radio: 1<br>Huberman Lab: 1<br>Lex Fridman Podcast: 1<br>The Ezra Klein Show: 1<br>Truth with Vivek Ramaswamy: 1",
          "<b>human</b><br>Making Sense with Sam Harris - Subscriber Content: 7<br>Lex Fridman Podcast: 5<br>Making Sense with Sam Harris: 3<br>Pivot: 3<br>All-In with Chamath, Jason, Sacks & Friedberg: 2<br>Dwarkesh Podcast: 2<br>a16z Podcast: 2",
          "<b>individual</b><br>Making Sense with Sam Harris - Subscriber Content: 10<br>The Prof G Pod with Scott Galloway: 6<br>All-In with Chamath, Jason, Sacks & Friedberg: 5<br>Pivot: 5<br>Lex Fridman Podcast: 4<br>Dwarkesh Podcast: 3<br>The Ben & Marc Show: 3<br>Truth with Vivek Ramaswamy: 3<br>The Langley Files: CIA's Podcast: 2<br>Discover Daily by Perplexity: 1<br>Freakonomics Radio: 1<br>Huberman Lab: 1<br>Making Sense with Sam Harris: 1<br>Prof G Markets: 1<br>The Knowledge Project with Shane Parrish: 1<br>The Peter Zeihan Podcast Series: 1<br>a16z Podcast: 1",
          "<b>israel</b><br>Making Sense with Sam Harris - Subscriber Content: 7<br>All-In with Chamath, Jason, Sacks & Friedberg: 2<br>Lex Fridman Podcast: 1",
          "<b>issue</b><br>Making Sense with Sam Harris - Subscriber Content: 6<br>The Prof G Pod with Scott Galloway: 6<br>All-In with Chamath, Jason, Sacks & Friedberg: 5<br>Dwarkesh Podcast: 3<br>Huberman Lab: 2<br>Truth with Vivek Ramaswamy: 2<br>The Daily: 1<br>The Ezra Klein Show: 1<br>a16z Podcast: 1",
          "<b>language</b><br>Making Sense with Sam Harris - Subscriber Content: 3<br>All-In with Chamath, Jason, Sacks & Friedberg: 1<br>Freakonomics Radio: 1<br>Lex Fridman Podcast: 1<br>Within Reason: 1",
          "<b>life</b><br>Making Sense with Sam Harris - Subscriber Content: 6<br>The Prof G Pod with Scott Galloway: 6<br>Dwarkesh Podcast: 4<br>Lex Fridman Podcast: 4<br>The Knowledge Project with Shane Parrish: 3<br>All-In with Chamath, Jason, Sacks & Friedberg: 1<br>Freakonomics Radio: 1",
          "<b>narrative</b><br>Making Sense with Sam Harris - Subscriber Content: 6<br>Freakonomics Radio: 4<br>The Prof G Pod with Scott Galloway: 2",
          "<b>norm</b><br>Making Sense with Sam Harris - Subscriber Content: 3<br>Truth with Vivek Ramaswamy: 2<br>All-In with Chamath, Jason, Sacks & Friedberg: 1<br>Huberman Lab: 1<br>Lex Fridman Podcast: 1",
          "<b>population</b><br>Making Sense with Sam Harris - Subscriber Content: 5<br>Freakonomics Radio: 3<br>Pivot: 2<br>The Prof G Pod with Scott Galloway: 2<br>All-In with Chamath, Jason, Sacks & Friedberg: 1<br>Huberman Lab: 1<br>Lex Fridman Podcast: 1<br>The Daily: 1<br>The Peter Zeihan Podcast Series: 1<br>Truth with Vivek Ramaswamy: 1",
          "<b>reality</b><br>Making Sense with Sam Harris - Subscriber Content: 5<br>Dwarkesh Podcast: 4<br>Lex Fridman Podcast: 3<br>The Knowledge Project with Shane Parrish: 2<br>The Prof G Pod with Scott Galloway: 1",
          "<b>responsibility</b><br>Making Sense with Sam Harris - Subscriber Content: 3<br>All-In with Chamath, Jason, Sacks & Friedberg: 2<br>Pivot: 2<br>Huberman Lab: 1",
          "<b>result</b><br>Making Sense with Sam Harris - Subscriber Content: 3<br>All-In with Chamath, Jason, Sacks & Friedberg: 1<br>Dwarkesh Podcast: 1<br>Freakonomics Radio: 1<br>a16z Podcast: 1",
          "<b>self</b><br>Making Sense with Sam Harris - Subscriber Content: 3<br>Freakonomics Radio: 2<br>Dwarkesh Podcast: 1<br>Lex Fridman Podcast: 1<br>The Knowledge Project with Shane Parrish: 1<br>The Prof G Pod with Scott Galloway: 1",
          "<b>sense</b><br>Making Sense with Sam Harris - Subscriber Content: 3<br>The Prof G Pod with Scott Galloway: 2<br>All-In with Chamath, Jason, Sacks & Friedberg: 1<br>Dwarkesh Podcast: 1<br>Great Mysteries of Physics: 1<br>Lex Fridman Podcast: 1<br>The Joe Rogan Experience: 1<br>Truth with Vivek Ramaswamy: 1",
          "<b>society</b><br>Making Sense with Sam Harris - Subscriber Content: 8<br>Lex Fridman Podcast: 5<br>Truth with Vivek Ramaswamy: 3<br>All-In with Chamath, Jason, Sacks & Friedberg: 1<br>Freakonomics Radio: 1<br>Pivot: 1<br>The Prof G Pod with Scott Galloway: 1",
          "<b>structure</b><br>Making Sense with Sam Harris - Subscriber Content: 3<br>All-In with Chamath, Jason, Sacks & Friedberg: 2<br>The Prof G Pod with Scott Galloway: 2<br>Acquired: 1<br>Lex Fridman Podcast: 1",
          "<b>technology</b><br>Making Sense with Sam Harris - Subscriber Content: 8<br>All-In with Chamath, Jason, Sacks & Friedberg: 7<br>Dwarkesh Podcast: 6<br>The Ben & Marc Show: 3<br>The Prof G Pod with Scott Galloway: 3<br>Discover Daily by Perplexity: 2<br>Lex Fridman Podcast: 2<br>Making Sense with Sam Harris: 2<br>Pivot: 2<br>The Joe Rogan Experience: 2<br>Honestly with Bari Weiss: 1<br>Huberman Lab: 1<br>a16z Podcast: 1",
          "<b>trump</b><br>Making Sense with Sam Harris - Subscriber Content: 9<br>All-In with Chamath, Jason, Sacks & Friedberg: 4<br>The Daily: 3<br>The Prof G Pod with Scott Galloway: 3<br>Honestly with Bari Weiss: 1<br>The Peter Zeihan Podcast Series: 1",
          "<b>violence</b><br>Making Sense with Sam Harris - Subscriber Content: 4<br>All-In with Chamath, Jason, Sacks & Friedberg: 1<br>Dwarkesh Podcast: 1<br>Lex Fridman Podcast: 1"
         ],
         "marker": {
          "color": "rgb(141,211,199)",
          "line": {
           "color": "DarkSlateGrey",
           "width": 1
          },
          "opacity": 0.7,
          "size": [
           13.999999933333335,
           10.333333327777778,
           13.666666605555557,
           10.999999983333334,
           10.666666655555556,
           10,
           10,
           24.999999750000004,
           10.333333327777778,
           11.333333311111112,
           10.999999983333334,
           12.333333294444445,
           14.66666658888889,
           10,
           11.66666663888889,
           10.333333327777778,
           10.666666655555556,
           11.333333311111112,
           11.66666663888889,
           15.666666572222224,
           23.99999976666667,
           10.999999983333334,
           16.666666555555558,
           10,
           15.999999900000002,
           11.66666663888889,
           10.333333327777778,
           13.666666605555557,
           12.666666622222223,
           10.333333327777778,
           10,
           10.666666655555556,
           11.333333311111112,
           14.333333261111113,
           10.666666655555556,
           20.99999981666667,
           14.66666658888889,
           10
          ]
         },
         "mode": "markers+text",
         "name": "Making Sense with Sam Harris - Subscriber Content",
         "text": [
          "action",
          "animal",
          "approach",
          "behavior",
          "belief",
          "bias",
          "case",
          "challenge",
          "collaboration",
          "complexity",
          "concern",
          "control",
          "development",
          "difference",
          "effort",
          "fact",
          "figure",
          "generation",
          "group",
          "human",
          "individual",
          "israel",
          "issue",
          "language",
          "life",
          "narrative",
          "norm",
          "population",
          "reality",
          "responsibility",
          "result",
          "self",
          "sense",
          "society",
          "structure",
          "technology",
          "trump",
          "violence"
         ],
         "textfont": {
          "color": "rgb(141,211,199)",
          "size": [
           13.999999933333335,
           10.333333327777778,
           13.666666605555557,
           10.999999983333334,
           10.666666655555556,
           10,
           10,
           24.999999750000004,
           10.333333327777778,
           11.333333311111112,
           10.999999983333334,
           12.333333294444445,
           14.66666658888889,
           10,
           11.66666663888889,
           10.333333327777778,
           10.666666655555556,
           11.333333311111112,
           11.66666663888889,
           15.666666572222224,
           23.99999976666667,
           10.999999983333334,
           16.666666555555558,
           10,
           15.999999900000002,
           11.66666663888889,
           10.333333327777778,
           13.666666605555557,
           12.666666622222223,
           10.333333327777778,
           10,
           10.666666655555556,
           11.333333311111112,
           14.333333261111113,
           10.666666655555556,
           20.99999981666667,
           14.66666658888889,
           10
          ]
         },
         "textposition": "top center",
         "type": "scatter3d",
         "x": [
          -195.99977200182934,
          -210.9456101288238,
          -220.51589663163713,
          -222.22557856531787,
          -219.2133716086633,
          -222.3091611895766,
          -207.93902872799202,
          -207.24544268220978,
          -192.31470418984281,
          -222.56379910488778,
          -208.94395350419026,
          -206.78747975509935,
          -190.1382527160475,
          -214.80519494101165,
          -198.92325601867643,
          -221.97867371052033,
          -234.1582558656741,
          -192.18530875284063,
          -173.93047498306987,
          -211.0350077629529,
          -216.20326577537676,
          -165.64461535331262,
          -209.39981496216166,
          -220.93960734318463,
          -207.5037395861021,
          -225.58574700295145,
          -216.12311300845246,
          -178.71376006750515,
          -224.6644899047761,
          -199.8193641235764,
          -206.7504979287966,
          -223.81995783145229,
          -221.88972745833996,
          -184.45153906473658,
          -212.37959274636947,
          -191.13159715158415,
          -170.42540476425543,
          -185.47160261082786
         ],
         "y": [
          409.35194207059453,
          363.94621043309286,
          383.064304320643,
          391.0488704289129,
          356.4698105252543,
          387.90138277184997,
          391.6491542471473,
          377.8518433630778,
          414.7390388293359,
          392.93220524347817,
          384.0113720187771,
          398.7264585551994,
          411.9956418320812,
          399.24982560829676,
          383.94736664294504,
          358.680252560238,
          372.3139696260226,
          411.47259451067316,
          411.14077659863983,
          364.29121466813746,
          380.8471687403265,
          389.66221755393696,
          384.43490598446385,
          379.64618802593446,
          356.0319410623435,
          375.1138608147257,
          370.1066290809885,
          400.28312388674345,
          363.1106223420795,
          398.95519904378864,
          401.04376401449827,
          372.2856608246693,
          357.18681443237335,
          370.8384534297221,
          408.7995276110079,
          413.83814017163115,
          398.3781032919031,
          381.2014186746118
         ],
         "z": [
          174.67415105488845,
          168.82534663620964,
          182.9525201002957,
          167.6983300312611,
          175.3246190879554,
          164.39612056784784,
          158.9337694591493,
          179.6666252548323,
          193.61828031198579,
          195.05052465810886,
          168.03917415848738,
          199.8420814332051,
          195.24298217339782,
          180.9572837873197,
          191.40281112634003,
          171.08618335872168,
          171.1796051459128,
          193.56855050783145,
          185.62085707132712,
          171.50472024994627,
          179.40037929364655,
          169.29547895807124,
          162.41991739821646,
          177.95422015354555,
          175.43139842621895,
          175.87593208372076,
          181.7086161832522,
          182.7602979452152,
          174.53828970441995,
          176.10002389763736,
          165.02386167347035,
          171.18075136272483,
          178.67540056073187,
          170.55878067413715,
          206.9141968308858,
          217.36906873391362,
          163.96120219581255,
          162.52313510537456
         ]
        },
        {
         "hoverinfo": "text",
         "hoverlabel": {
          "bgcolor": "white",
          "font": {
           "family": "Arial",
           "size": 12
          }
         },
         "hovertext": [
          "<b>automation</b><br>Pivot: 3<br>All-In with Chamath, Jason, Sacks & Friedberg: 2<br>Making Sense with Sam Harris - Subscriber Content: 1<br>The Ben & Marc Show: 1",
          "<b>job</b><br>Pivot: 5<br>All-In with Chamath, Jason, Sacks & Friedberg: 4<br>Freakonomics Radio: 3<br>Making Sense with Sam Harris: 3<br>The Prof G Pod with Scott Galloway: 3<br>Lex Fridman Podcast: 1<br>Making Sense with Sam Harris - Subscriber Content: 1<br>Prof G Markets: 1"
         ],
         "marker": {
          "color": "rgb(190,186,218)",
          "line": {
           "color": "DarkSlateGrey",
           "width": 1
          },
          "opacity": 0.7,
          "size": [
           10,
           14.66666658888889
          ]
         },
         "mode": "markers+text",
         "name": "Pivot",
         "text": [
          "automation",
          "job"
         ],
         "textfont": {
          "color": "rgb(190,186,218)",
          "size": [
           10,
           14.66666658888889
          ]
         },
         "textposition": "top center",
         "type": "scatter3d",
         "x": [
          -195.29965802134058,
          -219.74950580962323
         ],
         "y": [
          417.3802348374024,
          375.05960496442077
         ],
         "z": [
          211.25425630079644,
          192.77584378384864
         ]
        },
        {
         "hoverinfo": "text",
         "hoverlabel": {
          "bgcolor": "white",
          "font": {
           "family": "Arial",
           "size": 12
          }
         },
         "hovertext": [
          "<b>employee</b><br>The Daily: 3<br>The Prof G Pod with Scott Galloway: 2<br>a16z Podcast: 2<br>All-In with Chamath, Jason, Sacks & Friedberg: 1<br>Lightcone Podcast: 1<br>Pivot: 1",
          "<b>man</b><br>The Daily: 4<br>The Prof G Pod with Scott Galloway: 2<br>Huberman Lab: 1",
          "<b>president</b><br>The Daily: 7<br>The Prof G Pod with Scott Galloway: 3<br>All-In with Chamath, Jason, Sacks & Friedberg: 2",
          "<b>ukraine</b><br>The Daily: 5<br>The Peter Zeihan Podcast Series: 3<br>Dwarkesh Podcast: 2<br>All-In with Chamath, Jason, Sacks & Friedberg: 1<br>Making Sense with Sam Harris - Subscriber Content: 1"
         ],
         "marker": {
          "color": "rgb(179,222,105)",
          "line": {
           "color": "DarkSlateGrey",
           "width": 1
          },
          "opacity": 0.7,
          "size": [
           10.999999983333334,
           10,
           11.66666663888889,
           11.66666663888889
          ]
         },
         "mode": "markers+text",
         "name": "The Daily",
         "text": [
          "employee",
          "man",
          "president",
          "ukraine"
         ],
         "textfont": {
          "color": "rgb(179,222,105)",
          "size": [
           10.999999983333334,
           10,
           11.66666663888889,
           11.66666663888889
          ]
         },
         "textposition": "top center",
         "type": "scatter3d",
         "x": [
          -165.83873389420216,
          -209.01160904507347,
          -168.07585864866772,
          -163.60106331364545
         ],
         "y": [
          406.6641614573833,
          352.8727457213688,
          408.92414943829533,
          392.1130660186208
         ],
         "z": [
          203.71951499381336,
          164.54769244152686,
          172.16350324117013,
          167.13219937681518
         ]
        },
        {
         "hoverinfo": "text",
         "hoverlabel": {
          "bgcolor": "white",
          "font": {
           "family": "Arial",
           "size": 12
          }
         },
         "hovertext": [
          "<b>network</b><br>The Joe Rogan Experience: 3<br>Lex Fridman Podcast: 2<br>All-In with Chamath, Jason, Sacks & Friedberg: 1<br>Discover Daily by Perplexity: 1<br>Dwarkesh Podcast: 1<br>Truth with Vivek Ramaswamy: 1<br>a16z Podcast: 1"
         ],
         "marker": {
          "color": "rgb(217,217,217)",
          "line": {
           "color": "DarkSlateGrey",
           "width": 1
          },
          "opacity": 0.7,
          "size": [
           10.999999983333334
          ]
         },
         "mode": "markers+text",
         "name": "The Joe Rogan Experience",
         "text": [
          "network"
         ],
         "textfont": {
          "color": "rgb(217,217,217)",
          "size": [
           10.999999983333334
          ]
         },
         "textposition": "top center",
         "type": "scatter3d",
         "x": [
          -193.9027615393722
         ],
         "y": [
          423.3582429077287
         ],
         "z": [
          217.98694404536113
         ]
        },
        {
         "hoverinfo": "text",
         "hoverlabel": {
          "bgcolor": "white",
          "font": {
           "family": "Arial",
           "size": 12
          }
         },
         "hovertext": [
          "<b>capitalism</b><br>The Knowledge Project with Shane Parrish: 2<br>The Prof G Pod with Scott Galloway: 2<br>Truth with Vivek Ramaswamy: 2<br>All-In with Chamath, Jason, Sacks & Friedberg: 1<br>Dwarkesh Podcast: 1<br>Making Sense with Sam Harris - Subscriber Content: 1",
          "<b>happiness</b><br>The Knowledge Project with Shane Parrish: 5<br>The Prof G Pod with Scott Galloway: 3<br>Lex Fridman Podcast: 1"
         ],
         "marker": {
          "color": "rgb(188,128,189)",
          "line": {
           "color": "DarkSlateGrey",
           "width": 1
          },
          "opacity": 0.7,
          "size": [
           10.666666655555556,
           10.666666655555556
          ]
         },
         "mode": "markers+text",
         "name": "The Knowledge Project with Shane Parrish",
         "text": [
          "capitalism",
          "happiness"
         ],
         "textfont": {
          "color": "rgb(188,128,189)",
          "size": [
           10.666666655555556,
           10.666666655555556
          ]
         },
         "textposition": "top center",
         "type": "scatter3d",
         "x": [
          -179.0754512382347,
          -214.1029908445305
         ],
         "y": [
          375.6760685749584,
          355.5911203902349
         ],
         "z": [
          176.2164878990655,
          179.72605191858491
         ]
        },
        {
         "hoverinfo": "text",
         "hoverlabel": {
          "bgcolor": "white",
          "font": {
           "family": "Arial",
           "size": 12
          }
         },
         "hovertext": [
          "<b>organization</b><br>The Langley Files: CIA's Podcast: 3<br>All-In with Chamath, Jason, Sacks & Friedberg: 2<br>Dwarkesh Podcast: 2<br>Honestly with Bari Weiss: 1<br>Lightcone Podcast: 1"
         ],
         "marker": {
          "color": "rgb(204,235,197)",
          "line": {
           "color": "DarkSlateGrey",
           "width": 1
          },
          "opacity": 0.7,
          "size": [
           10.666666655555556
          ]
         },
         "mode": "markers+text",
         "name": "The Langley Files: CIA's Podcast",
         "text": [
          "organization"
         ],
         "textfont": {
          "color": "rgb(204,235,197)",
          "size": [
           10.666666655555556
          ]
         },
         "textposition": "top center",
         "type": "scatter3d",
         "x": [
          -176.78259893777994
         ],
         "y": [
          411.9191242164718
         ],
         "z": [
          186.290395929209
         ]
        },
        {
         "hoverinfo": "text",
         "hoverlabel": {
          "bgcolor": "white",
          "font": {
           "family": "Arial",
           "size": 12
          }
         },
         "hovertext": [
          "<b>era</b><br>The Peter Zeihan Podcast Series: 2<br>All-In with Chamath, Jason, Sacks & Friedberg: 1<br>Freakonomics Radio: 1<br>Making Sense with Sam Harris - Subscriber Content: 1<br>Search Engine: 1<br>The Prof G Pod with Scott Galloway: 1"
         ],
         "marker": {
          "color": "rgb(255,237,111)",
          "line": {
           "color": "DarkSlateGrey",
           "width": 1
          },
          "opacity": 0.7,
          "size": [
           10
          ]
         },
         "mode": "markers+text",
         "name": "The Peter Zeihan Podcast Series",
         "text": [
          "era"
         ],
         "textfont": {
          "color": "rgb(255,237,111)",
          "size": [
           10
          ]
         },
         "textposition": "top center",
         "type": "scatter3d",
         "x": [
          -176.17180512456721
         ],
         "y": [
          367.11289111502566
         ],
         "z": [
          179.8313414671813
         ]
        },
        {
         "hoverinfo": "text",
         "hoverlabel": {
          "bgcolor": "white",
          "font": {
           "family": "Arial",
           "size": 12
          }
         },
         "hovertext": [
          "<b>advantage</b><br>The Prof G Pod with Scott Galloway: 3<br>All-In with Chamath, Jason, Sacks & Friedberg: 2<br>Making Sense with Sam Harris - Subscriber Content: 2<br>Honestly with Bari Weiss: 1",
          "<b>america</b><br>The Prof G Pod with Scott Galloway: 7<br>All-In with Chamath, Jason, Sacks & Friedberg: 2<br>Freakonomics Radio: 1",
          "<b>biden</b><br>The Prof G Pod with Scott Galloway: 4<br>All-In with Chamath, Jason, Sacks & Friedberg: 2<br>The Daily: 2",
          "<b>center</b><br>The Prof G Pod with Scott Galloway: 2<br>Acquired: 1<br>All-In with Chamath, Jason, Sacks & Friedberg: 1<br>Discover Daily by Perplexity: 1<br>Lex Fridman Podcast: 1<br>Pivot: 1",
          "<b>child</b><br>The Prof G Pod with Scott Galloway: 6<br>Truth with Vivek Ramaswamy: 4<br>All-In with Chamath, Jason, Sacks & Friedberg: 2<br>Freakonomics Radio: 2<br>Making Sense with Sam Harris - Subscriber Content: 1<br>Prof G Markets: 1<br>The Knowledge Project with Shane Parrish: 1",
          "<b>connection</b><br>The Prof G Pod with Scott Galloway: 3<br>All-In with Chamath, Jason, Sacks & Friedberg: 2<br>Making Sense with Sam Harris - Subscriber Content: 2<br>Discover Daily by Perplexity: 1<br>Dwarkesh Podcast: 1<br>Lex Fridman Podcast: 1",
          "<b>dollar</b><br>The Prof G Pod with Scott Galloway: 3<br>All-In with Chamath, Jason, Sacks & Friedberg: 2<br>Dwarkesh Podcast: 2<br>Making Sense with Sam Harris - Subscriber Content: 1<br>Pivot: 1<br>a16z Podcast: 1",
          "<b>equity</b><br>The Prof G Pod with Scott Galloway: 6<br>All-In with Chamath, Jason, Sacks & Friedberg: 3",
          "<b>future</b><br>The Prof G Pod with Scott Galloway: 4<br>All-In with Chamath, Jason, Sacks & Friedberg: 1<br>Dwarkesh Podcast: 1<br>Making Sense with Sam Harris - Subscriber Content: 1",
          "<b>investment</b><br>The Prof G Pod with Scott Galloway: 5<br>All-In with Chamath, Jason, Sacks & Friedberg: 2<br>Dwarkesh Podcast: 2<br>Honestly with Bari Weiss: 2<br>Making Sense with Sam Harris - Subscriber Content: 2<br>Discover Daily by Perplexity: 1<br>Freakonomics Radio: 1<br>The Peter Zeihan Podcast Series: 1<br>a16z Podcast: 1",
          "<b>investor</b><br>The Prof G Pod with Scott Galloway: 5<br>All-In with Chamath, Jason, Sacks & Friedberg: 1<br>Dwarkesh Podcast: 1",
          "<b>limitation</b><br>The Prof G Pod with Scott Galloway: 2<br>All-In with Chamath, Jason, Sacks & Friedberg: 1<br>Discover Daily by Perplexity: 1<br>Freakonomics Radio: 1<br>Pivot: 1<br>The Ben & Marc Show: 1<br>The Daily: 1",
          "<b>number</b><br>The Prof G Pod with Scott Galloway: 3<br>All-In with Chamath, Jason, Sacks & Friedberg: 2<br>Freakonomics Radio: 2<br>Huberman Lab: 1<br>Making Sense with Sam Harris - Subscriber Content: 1<br>Pivot: 1<br>The Daily: 1",
          "<b>opportunity</b><br>The Prof G Pod with Scott Galloway: 6<br>Dwarkesh Podcast: 5<br>a16z Podcast: 4<br>All-In with Chamath, Jason, Sacks & Friedberg: 2<br>Acquired: 1<br>Freakonomics Radio: 1<br>Pivot: 1<br>Truth with Vivek Ramaswamy: 1",
          "<b>person</b><br>The Prof G Pod with Scott Galloway: 3<br>Huberman Lab: 1<br>Lex Fridman Podcast: 1<br>Making Sense with Sam Harris - Subscriber Content: 1<br>Pivot: 1<br>The Pioneer Briefing: 1",
          "<b>politic</b><br>The Prof G Pod with Scott Galloway: 3<br>Dwarkesh Podcast: 2<br>Making Sense with Sam Harris - Subscriber Content: 1<br>Search Engine: 1<br>Truth with Vivek Ramaswamy: 1",
          "<b>regulation</b><br>The Prof G Pod with Scott Galloway: 3<br>All-In with Chamath, Jason, Sacks & Friedberg: 2<br>Huberman Lab: 1<br>Truth with Vivek Ramaswamy: 1",
          "<b>relationship</b><br>The Prof G Pod with Scott Galloway: 5<br>All-In with Chamath, Jason, Sacks & Friedberg: 2<br>Huberman Lab: 1<br>Lex Fridman Podcast: 1<br>The Knowledge Project with Shane Parrish: 1",
          "<b>service</b><br>The Prof G Pod with Scott Galloway: 5<br>All-In with Chamath, Jason, Sacks & Friedberg: 3<br>Pivot: 1<br>Prof G Markets: 1",
          "<b>shift</b><br>The Prof G Pod with Scott Galloway: 5<br>Making Sense with Sam Harris - Subscriber Content: 4<br>Dwarkesh Podcast: 3<br>The Peter Zeihan Podcast Series: 3<br>All-In with Chamath, Jason, Sacks & Friedberg: 2<br>Huberman Lab: 2<br>Lex Fridman Podcast: 2<br>The Ezra Klein Show: 2<br>Freakonomics Radio: 1<br>Pivot: 1<br>The Joe Rogan Experience: 1<br>Truth with Vivek Ramaswamy: 1<br>a16z Podcast: 1",
          "<b>states</b><br>The Prof G Pod with Scott Galloway: 3<br>All-In with Chamath, Jason, Sacks & Friedberg: 2<br>Dwarkesh Podcast: 2<br>The Ben & Marc Show: 1",
          "<b>tax</b><br>The Prof G Pod with Scott Galloway: 7<br>Pivot: 2<br>Freakonomics Radio: 1<br>Truth with Vivek Ramaswamy: 1",
          "<b>tech</b><br>The Prof G Pod with Scott Galloway: 3<br>All-In with Chamath, Jason, Sacks & Friedberg: 2<br>Honestly with Bari Weiss: 2<br>The Ben & Marc Show: 2<br>The Joe Rogan Experience: 2<br>Acquired: 1",
          "<b>term</b><br>The Prof G Pod with Scott Galloway: 7<br>All-In with Chamath, Jason, Sacks & Friedberg: 3<br>Dwarkesh Podcast: 3<br>Making Sense with Sam Harris - Subscriber Content: 2<br>Freakonomics Radio: 1<br>Making Sense with Sam Harris: 1<br>Prof G Markets: 1<br>The Peter Zeihan Podcast Series: 1<br>Within Reason: 1",
          "<b>time</b><br>The Prof G Pod with Scott Galloway: 3<br>All-In with Chamath, Jason, Sacks & Friedberg: 2<br>Dwarkesh Podcast: 1<br>Great Mysteries of Physics: 1<br>Making Sense with Sam Harris - Subscriber Content: 1<br>The Joe Rogan Experience: 1<br>The Knowledge Project with Shane Parrish: 1",
          "<b>united</b><br>The Prof G Pod with Scott Galloway: 5<br>All-In with Chamath, Jason, Sacks & Friedberg: 3<br>Dwarkesh Podcast: 2<br>The Ben & Marc Show: 1",
          "<b>value</b><br>The Prof G Pod with Scott Galloway: 5<br>All-In with Chamath, Jason, Sacks & Friedberg: 4<br>Pivot: 4<br>Making Sense with Sam Harris - Subscriber Content: 3<br>Lex Fridman Podcast: 2<br>a16z Podcast: 2<br>Dwarkesh Podcast: 1<br>The Ezra Klein Show: 1",
          "<b>woman</b><br>The Prof G Pod with Scott Galloway: 4<br>Huberman Lab: 1<br>Making Sense with Sam Harris - Subscriber Content: 1<br>Pivot: 1<br>The Daily: 1<br>Truth with Vivek Ramaswamy: 1",
          "<b>work</b><br>The Prof G Pod with Scott Galloway: 6<br>All-In with Chamath, Jason, Sacks & Friedberg: 5<br>Making Sense with Sam Harris - Subscriber Content: 2<br>The Daily: 2<br>Dwarkesh Podcast: 1<br>Pivot: 1<br>Truth with Vivek Ramaswamy: 1"
         ],
         "marker": {
          "color": "rgb(255,255,179)",
          "line": {
           "color": "DarkSlateGrey",
           "width": 1
          },
          "opacity": 0.7,
          "size": [
           10.333333327777778,
           10.999999983333334,
           10.333333327777778,
           10,
           13.333333277777779,
           10.999999983333334,
           10.999999983333334,
           10.666666655555556,
           10,
           13.333333277777779,
           10,
           10.333333327777778,
           11.333333311111112,
           14.66666658888889,
           10.333333327777778,
           10.333333327777778,
           10,
           10.999999983333334,
           10.999999983333334,
           16.999999883333334,
           10.333333327777778,
           11.333333311111112,
           11.66666663888889,
           14.333333261111113,
           10.999999983333334,
           11.333333311111112,
           14.999999916666667,
           10.666666655555556,
           13.666666605555557
          ]
         },
         "mode": "markers+text",
         "name": "The Prof G Pod with Scott Galloway",
         "text": [
          "advantage",
          "america",
          "biden",
          "center",
          "child",
          "connection",
          "dollar",
          "equity",
          "future",
          "investment",
          "investor",
          "limitation",
          "number",
          "opportunity",
          "person",
          "politic",
          "regulation",
          "relationship",
          "service",
          "shift",
          "states",
          "tax",
          "tech",
          "term",
          "time",
          "united",
          "value",
          "woman",
          "work"
         ],
         "textfont": {
          "color": "rgb(255,255,179)",
          "size": [
           10.333333327777778,
           10.999999983333334,
           10.333333327777778,
           10,
           13.333333277777779,
           10.999999983333334,
           10.999999983333334,
           10.666666655555556,
           10,
           13.333333277777779,
           10,
           10.333333327777778,
           11.333333311111112,
           14.66666658888889,
           10.333333327777778,
           10.333333327777778,
           10,
           10.999999983333334,
           10.999999983333334,
           16.999999883333334,
           10.333333327777778,
           11.333333311111112,
           11.66666663888889,
           14.333333261111113,
           10.999999983333334,
           11.333333311111112,
           14.999999916666667,
           10.666666655555556,
           13.666666605555557
          ]
         },
         "textposition": "top center",
         "type": "scatter3d",
         "x": [
          -204.30425623928042,
          -169.13277157306058,
          -169.07706126749795,
          -187.65900668125556,
          -205.0508641305749,
          -206.8802780418297,
          -162.6571102601691,
          -161.2794922243005,
          -196.64927759539677,
          -164.6538777167284,
          -162.4525174396383,
          -201.67808221784543,
          -203.3554394337954,
          -208.9024821187901,
          -210.29168687655337,
          -178.74459112775227,
          -192.51742979925913,
          -212.09828299055604,
          -186.12445907098976,
          -197.3762031373183,
          -167.8275922714147,
          -161.32896098269518,
          -178.39043405165188,
          -178.508495722252,
          -172.30014047953352,
          -166.1494315666785,
          -180.5462386918149,
          -206.1003098429714,
          -226.08736750033947
         ],
         "y": [
          376.4310145769033,
          386.3947530588791,
          399.68153802537495,
          405.434048918808,
          359.0937008580087,
          416.3655626377928,
          384.84610298717337,
          391.19984098266093,
          380.3215656744208,
          393.3203851725249,
          395.8926567841611,
          410.39885948946727,
          400.2058170694281,
          376.4583032523127,
          361.21213663995917,
          379.3523241555217,
          411.97917027155637,
          412.06277511096886,
          419.5280361696522,
          389.76266835090786,
          398.7788331885275,
          384.2530887016889,
          413.5236541166038,
          366.78639610231465,
          357.94977747177506,
          389.61176905360446,
          387.4292200797144,
          356.65783766672956,
          381.6081395591172
         ],
         "z": [
          197.1324186017421,
          178.51220511262028,
          163.78694553133184,
          195.96904135822084,
          163.30027346269566,
          189.12995045237366,
          224.15883283506025,
          218.23836766851025,
          190.38437648052385,
          216.6066744917532,
          217.99129397737636,
          180.05765562576212,
          181.86277152643538,
          193.96602045443393,
          159.4904471801526,
          169.93097603822343,
          178.66114082783508,
          178.87167333727325,
          210.89673720583815,
          182.6817508049129,
          172.7509478247601,
          221.77745179154542,
          219.95727457480268,
          187.95925696796522,
          188.92767980335546,
          176.11141090316178,
          224.94168003340494,
          163.75801992176628,
          192.02956455885328
         ]
        },
        {
         "hoverinfo": "text",
         "hoverlabel": {
          "bgcolor": "white",
          "font": {
           "family": "Arial",
           "size": 12
          }
         },
         "hovertext": [
          "<b>family</b><br>Truth with Vivek Ramaswamy: 3<br>Search Engine: 2<br>Freakonomics Radio: 1<br>The Prof G Pod with Scott Galloway: 1"
         ],
         "marker": {
          "color": "rgb(190,186,218)",
          "line": {
           "color": "DarkSlateGrey",
           "width": 1
          },
          "opacity": 0.7,
          "size": [
           10
          ]
         },
         "mode": "markers+text",
         "name": "Truth with Vivek Ramaswamy",
         "text": [
          "family"
         ],
         "textfont": {
          "color": "rgb(190,186,218)",
          "size": [
           10
          ]
         },
         "textposition": "top center",
         "type": "scatter3d",
         "x": [
          -199.61501551443462
         ],
         "y": [
          358.2987833423131
         ],
         "z": [
          168.44681781228914
         ]
        },
        {
         "hoverinfo": "text",
         "hoverlabel": {
          "bgcolor": "white",
          "font": {
           "family": "Arial",
           "size": 12
          }
         },
         "hovertext": [
          "<b>healthcare</b><br>a16z Podcast: 3<br>All-In with Chamath, Jason, Sacks & Friedberg: 1<br>Freakonomics Radio: 1<br>The Ben & Marc Show: 1<br>The Prof G Pod with Scott Galloway: 1",
          "<b>labor</b><br>a16z Podcast: 4<br>Truth with Vivek Ramaswamy: 3<br>All-In with Chamath, Jason, Sacks & Friedberg: 2<br>Freakonomics Radio: 2<br>Pivot: 1<br>The Peter Zeihan Podcast Series: 1<br>The Prof G Pod with Scott Galloway: 1",
          "<b>software</b><br>a16z Podcast: 13<br>All-In with Chamath, Jason, Sacks & Friedberg: 4<br>Dwarkesh Podcast: 2<br>Lightcone Podcast: 2<br>The Prof G Pod with Scott Galloway: 2<br>Making Sense with Sam Harris: 1<br>Pivot: 1"
         ],
         "marker": {
          "color": "rgb(128,177,211)",
          "line": {
           "color": "DarkSlateGrey",
           "width": 1
          },
          "opacity": 0.7,
          "size": [
           10,
           12.333333294444445,
           15.999999900000002
          ]
         },
         "mode": "markers+text",
         "name": "a16z Podcast",
         "text": [
          "healthcare",
          "labor",
          "software"
         ],
         "textfont": {
          "color": "rgb(128,177,211)",
          "size": [
           10,
           12.333333294444445,
           15.999999900000002
          ]
         },
         "textposition": "top center",
         "type": "scatter3d",
         "x": [
          -180.57560715185198,
          -171.17948932964683,
          -195.70270115770415
         ],
         "y": [
          405.60280661900345,
          391.71598264746575,
          420.2957650388873
         ],
         "z": [
          200.6154274305678,
          197.96668833734466,
          225.53587431945402
         ]
        },
        {
         "hoverlabel": {
          "bgcolor": "white",
          "font": {
           "family": "Arial",
           "size": 12
          }
         },
         "marker": {
          "color": "#3366CC",
          "opacity": 0,
          "size": 0
         },
         "mode": "markers",
         "name": "Cluster 0",
         "showlegend": true,
         "type": "scatter3d",
         "x": [
          -171.98429519113623,
          -175.5129951416004,
          -170.78700582624575,
          -172.63454455268322,
          -176.17180512456721,
          -171.6218516061185,
          -173.6217002609195,
          -178.508495722252,
          -172.30014047953352,
          -169.9617833793318
         ],
         "y": [
          358.6982205176973,
          364.3173385115371,
          356.9681076599884,
          362.14889302037733,
          367.11289111502566,
          358.0229287813492,
          361.47357617186873,
          366.78639610231465,
          357.94977747177506,
          359.6339660929829
         ],
         "z": [
          194.2943508560846,
          194.43136404715335,
          190.87902455859162,
          185.71610046012105,
          179.8313414671813,
          192.4675311419036,
          187.41555499790465,
          187.95925696796522,
          188.92767980335546,
          189.03544677218608
         ]
        },
        {
         "hoverlabel": {
          "bgcolor": "white",
          "font": {
           "family": "Arial",
           "size": 12
          }
         },
         "marker": {
          "color": "#DC3912",
          "opacity": 0,
          "size": 0
         },
         "mode": "markers",
         "name": "Cluster 1",
         "showlegend": true,
         "type": "scatter3d",
         "x": [
          -208.91914139705392,
          -195.99977200182934,
          -211.2146476679288,
          -189.6547080878682,
          -204.30425623928042,
          -200.5097522021587,
          -169.13277157306058,
          -210.9456101288238,
          -196.9185938106745,
          -220.51589663163713,
          -189.49920193215522,
          -230.76222350136283,
          -195.29965802134058,
          -230.34111209091537,
          -212.72870523603837,
          -222.22557856531787,
          -219.2133716086633,
          -222.3091611895766,
          -169.07706126749795,
          -225.29120186703415,
          -206.5830191424351,
          -179.0754512382347,
          -207.93902872799202,
          -220.57763399360235,
          -187.65900668125556,
          -207.24544268220978,
          -201.07557486441766,
          -205.0508641305749,
          -199.36271304471515,
          -192.31470418984281,
          -222.56379910488778,
          -198.4808224211357,
          -227.288266459413,
          -208.94395350419026,
          -185.4167764182649,
          -206.8802780418297,
          -205.54000904822442,
          -202.8762137437113,
          -223.17946214130993,
          -206.78747975509935,
          -166.99477482928907,
          -188.20824752913083,
          -189.81686193052877,
          -183.15389924619697,
          -227.25575910845112,
          -190.74099241290656,
          -187.73890987655506,
          -209.81046550636344,
          -216.47127700352843,
          -190.1382527160475,
          -214.80519494101165,
          -212.0513030809378,
          -199.06512028548002,
          -219.61545707545437,
          -180.03181645578454,
          -208.8880920626238,
          -200.43434969716483,
          -198.92325601867643,
          -203.61515180161138,
          -201.41437079377852,
          -215.98297343076138,
          -208.27276309651035,
          -192.63335922546398,
          -197.00798358717265,
          -224.32978880911222,
          -212.0007807733705,
          -227.6836001948378,
          -221.97867371052033,
          -212.27840121485016,
          -200.05052176156468,
          -199.61501551443462,
          -217.67065411551346,
          -201.22031404311684,
          -226.1166636881588,
          -234.1582558656741,
          -221.34359491316903,
          -170.5259899409886,
          -196.64927759539677,
          -192.18530875284063,
          -199.4101817874696,
          -169.27192216606272,
          -173.93047498306987,
          -185.47495543277628,
          -214.1029908445305,
          -184.16369498973452,
          -180.57560715185198,
          -185.7966499718587,
          -211.0350077629529,
          -211.58499809453863,
          -230.53662508855143,
          -174.99947467506237,
          -175.45580716819353,
          -205.92021082998443,
          -200.2421626405403,
          -215.57408490011775,
          -194.35007542973472,
          -216.20326577537676,
          -186.14992746832954,
          -210.9675635400351,
          -192.973169901872,
          -227.37889534736092,
          -176.1352644833923,
          -198.2241465243319,
          -198.80871749212375,
          -215.30704788101153,
          -213.04670107098175,
          -197.33402959101568,
          -196.41918618521316,
          -165.64461535331262,
          -209.39981496216166,
          -219.74950580962323,
          -228.71603221300782,
          -204.13731496371136,
          -230.12363581493636,
          -220.93960734318463,
          -168.54159865215036,
          -170.5937254438001,
          -197.51450888051522,
          -207.5037395861021,
          -201.67808221784543,
          -196.8751274824723,
          -195.31949770599428,
          -227.1830690237878,
          -209.01160904507347,
          -212.41472002619184,
          -228.32467087829016,
          -212.51932690882904,
          -182.68041658405318,
          -222.1219007369431,
          -225.58574700295145,
          -167.6895612380277,
          -223.3631724402837,
          -193.9027615393722,
          -216.12311300845246,
          -203.3554394337954,
          -208.9024821187901,
          -206.6103836963753,
          -176.78259893777994,
          -206.32592400351064,
          -166.33678111372987,
          -209.38427303606215,
          -225.47452294530592,
          -195.36489087688128,
          -210.29168687655337,
          -228.1861316910157,
          -195.38081511542046,
          -193.80599238690957,
          -182.35381692057166,
          -178.74459112775227,
          -178.71376006750515,
          -205.08676624734161,
          -205.08119173498287,
          -214.90382043445385,
          -168.07585864866772,
          -225.08635789808028,
          -210.86544894638695,
          -202.85481720719952,
          -195.66616686566593,
          -192.97112123455037,
          -192.283151735394,
          -177.63004247020322,
          -191.84863320189055,
          -185.23671033131168,
          -218.41136888734187,
          -226.81959797103386,
          -198.95286194289014,
          -213.17032505584658,
          -224.6644899047761,
          -192.51742979925913,
          -212.09828299055604,
          -209.9113067042318,
          -208.59107746655022,
          -201.4771468997579,
          -199.8193641235764,
          -206.7504979287966,
          -187.51015908974014,
          -182.50028514207415,
          -201.10190284532572,
          -212.72132779826484,
          -213.53659887806688,
          -164.8358654828592,
          -215.50824333483797,
          -207.55611005963422,
          -196.2063430192179,
          -223.81995783145229,
          -221.88972745833996,
          -197.3762031373183,
          -202.18627046382574,
          -212.71773815243012,
          -224.9128893489684,
          -184.45153906473658,
          -195.70270115770415,
          -203.59819364419616,
          -212.09123900641183,
          -207.7304894915006,
          -206.86104352405974,
          -166.6239393621198,
          -187.36852597803187,
          -167.8275922714147,
          -193.1213211917442,
          -200.99064156524136,
          -212.37959274636947,
          -178.5495156160729,
          -184.1637845510906,
          -189.02484300062883,
          -179.24001039231533,
          -204.60644823189108,
          -223.14151801259885,
          -214.3381923094862,
          -172.14459406500043,
          -191.13159715158415,
          -224.9980051523392,
          -232.23765123980797,
          -201.99876622412174,
          -198.24380640269388,
          -182.88233821180415,
          -187.29762810753542,
          -170.42540476425543,
          -221.95678144875194,
          -163.60106331364545,
          -223.74009136761705,
          -166.1494315666785,
          -204.11659355213664,
          -196.9382642163616,
          -231.0363593411585,
          -185.47160261082786,
          -169.4025970638915,
          -178.34377803058766,
          -211.66554651592116,
          -206.1003098429714,
          -226.08736750033947
         ],
         "y": [
          382.7418535962553,
          409.35194207059453,
          408.36938019373554,
          405.96447865959226,
          376.4310145769033,
          390.72448152269413,
          386.3947530588791,
          363.94621043309286,
          404.615863135591,
          383.064304320643,
          402.1475448072996,
          377.1135850196259,
          417.3802348374024,
          386.0172219506076,
          398.2601092806199,
          391.0488704289129,
          356.4698105252543,
          387.90138277184997,
          399.68153802537495,
          401.6521164447913,
          398.9077971682457,
          375.6760685749584,
          391.6491542471473,
          407.8726809305342,
          405.434048918808,
          377.8518433630778,
          393.43647709855617,
          359.0937008580087,
          422.88811085389335,
          414.7390388293359,
          392.93220524347817,
          422.03864093583627,
          372.74508330368684,
          384.0113720187771,
          382.109589645031,
          416.3655626377928,
          397.491107767635,
          421.2739517613012,
          402.1003771582147,
          398.7264585551994,
          389.3783947639793,
          383.52512278229995,
          374.71265584152707,
          406.8208268047317,
          390.5968041292847,
          379.43399873521,
          386.34072173814224,
          407.36318541223795,
          358.6870260393385,
          411.9956418320812,
          399.24982560829676,
          394.5767183810273,
          422.6097806185882,
          396.06700024581613,
          415.5632942656829,
          401.5899679788821,
          396.25229984302536,
          383.94736664294504,
          395.32184426410817,
          414.9842416726618,
          396.9901694513398,
          409.1766587463775,
          399.2866330196962,
          405.0113832282726,
          398.3926128134995,
          405.17903896408797,
          381.5570131236457,
          358.680252560238,
          398.27105852389883,
          392.5924209962228,
          358.2987833423131,
          354.1999396720093,
          406.57290215770365,
          387.2006746894898,
          372.3139696260226,
          386.33106420352834,
          412.6878999093415,
          380.3215656744208,
          411.47259451067316,
          423.2052864533311,
          401.75469276970983,
          411.14077659863983,
          392.0891155413584,
          355.5911203902349,
          404.47420130468015,
          405.60280661900345,
          374.9338814617968,
          364.29121466813746,
          358.5160564253936,
          368.1595635243556,
          383.4482977986732,
          396.9610041629564,
          396.612219276507,
          408.22616145303874,
          391.75668362015995,
          400.70095160390673,
          380.8471687403265,
          401.93344680625233,
          398.88778955719965,
          414.3477245084713,
          384.75990630999866,
          407.6347971048199,
          415.13153146429187,
          418.43750977934235,
          411.54865144187556,
          389.89641285238355,
          424.0231037074693,
          409.1803401343716,
          389.66221755393696,
          384.43490598446385,
          375.05960496442077,
          380.6614659546891,
          390.5816979741098,
          383.1469270682463,
          379.64618802593446,
          410.4630214431602,
          410.8903048022664,
          392.11267659812404,
          356.0319410623435,
          410.39885948946727,
          390.6822414093085,
          411.5588201160403,
          387.12182384599123,
          352.8727457213688,
          394.5569225504585,
          396.55222778861815,
          405.0664766802217,
          404.73020249870683,
          402.95970209418016,
          375.1138608147257,
          394.3254463810134,
          377.1901753173058,
          423.3582429077287,
          370.1066290809885,
          400.2058170694281,
          376.4583032523127,
          383.0002240549748,
          411.9191242164718,
          397.92046701491273,
          404.82882717945284,
          360.2655668365654,
          392.4366703104603,
          399.2068083221968,
          361.21213663995917,
          383.3446654417301,
          404.4711223230186,
          420.5002692823244,
          403.514268212155,
          379.3523241555217,
          400.28312388674345,
          385.7188975598048,
          393.18143865388686,
          406.4819333564716,
          408.92414943829533,
          369.7115293305302,
          382.21801130139806,
          412.073055384911,
          405.6372404169947,
          409.4675900895707,
          398.22473459814114,
          416.6342083211013,
          388.19233502714104,
          377.2635706764658,
          409.0987194437357,
          370.7928923302304,
          396.65585865485565,
          382.8651093228817,
          363.1106223420795,
          411.97917027155637,
          412.06277511096886,
          403.6451998191287,
          420.8809454570332,
          405.3849155169124,
          398.95519904378864,
          401.04376401449827,
          381.58706637702403,
          393.8200238021014,
          382.4695289216001,
          397.460896027819,
          369.9515677183113,
          392.1582120047225,
          393.8106142221144,
          394.3249635861697,
          417.6179019869996,
          372.2856608246693,
          357.18681443237335,
          389.76266835090786,
          400.4572575662999,
          391.6625070441873,
          376.3339388870927,
          370.8384534297221,
          420.2957650388873,
          412.3828266129314,
          405.4603041603772,
          398.29699192134217,
          395.2387757169848,
          399.276815131234,
          406.30075814567067,
          398.7788331885275,
          404.5422303578603,
          388.96417994603433,
          408.7995276110079,
          416.61786111865223,
          415.5801144084863,
          384.35962033296073,
          408.2636295552761,
          413.493740153188,
          373.64760794593934,
          376.7265794292894,
          413.5451508582427,
          413.83814017163115,
          364.58249732654826,
          371.00804642952636,
          380.5212235790308,
          415.6291865267772,
          417.79249607997434,
          386.8556097451259,
          398.3781032919031,
          356.1964767625816,
          392.1130660186208,
          387.7677223468695,
          389.61176905360446,
          385.21040661780364,
          421.8039534406178,
          383.0536692313231,
          381.2014186746118,
          398.1335677715342,
          381.21836537726443,
          357.46493751834004,
          356.65783766672956,
          381.6081395591172
         ],
         "z": [
          199.61883068225535,
          174.67415105488845,
          190.00050692380478,
          193.6743850903712,
          197.1324186017421,
          222.35664305426872,
          178.51220511262028,
          168.82534663620964,
          221.06203043335765,
          182.9525201002957,
          198.54443595955408,
          177.2386272666163,
          211.25425630079644,
          177.03026269735366,
          203.108530955671,
          167.6983300312611,
          175.3246190879554,
          164.39612056784784,
          163.78694553133184,
          195.83863670058767,
          212.0366488245359,
          176.2164878990655,
          158.9337694591493,
          196.46745598320084,
          195.96904135822084,
          179.6666252548323,
          184.69446572747827,
          163.30027346269566,
          225.85596601445238,
          193.61828031198579,
          195.05052465810886,
          226.0479353480918,
          179.199124043321,
          168.03917415848738,
          162.41668560409764,
          189.12995045237366,
          169.778535441135,
          215.94431966571372,
          179.70654250580486,
          199.8420814332051,
          176.4783370170732,
          162.3160544758011,
          174.50062115840973,
          223.0654956333113,
          174.89135751600182,
          163.3606703886114,
          182.12936789475137,
          211.41260638732837,
          183.07863607799072,
          195.24298217339782,
          180.9572837873197,
          180.23553919004883,
          228.42840643591282,
          198.73363626598373,
          188.82732273641685,
          168.7074310345677,
          216.6834059447889,
          191.40281112634003,
          211.4749297160318,
          187.28905654918321,
          201.19747553449199,
          198.9607371893802,
          194.49406913821642,
          185.56242017056368,
          183.47732770308994,
          191.1640376056668,
          188.6138344670052,
          171.08618335872168,
          170.64176260524926,
          165.31898389140346,
          168.44681781228914,
          174.74341946461038,
          209.98967427840697,
          193.29010657452528,
          171.1796051459128,
          180.27848989724873,
          177.19005343113471,
          190.38437648052385,
          193.56855050783145,
          227.08292647136545,
          173.75208781858714,
          185.62085707132712,
          193.7690839853094,
          179.72605191858491,
          197.50110310051969,
          200.6154274305678,
          175.26918661865048,
          171.50472024994627,
          173.182437247192,
          172.58609785488488,
          171.7482620882443,
          174.99685188159094,
          173.79147759616268,
          179.72253310784595,
          178.40342298092892,
          193.77141468481295,
          179.40037929364655,
          183.55506343971769,
          171.03424923209639,
          200.6554626535878,
          187.0666499605425,
          181.79675301259172,
          195.99133916734442,
          177.96487561299455,
          185.3066109268528,
          179.5379859880115,
          221.2245063935788,
          172.0712160765751,
          169.29547895807124,
          162.41991739821646,
          192.77584378384864,
          188.07426319037071,
          168.3229634646171,
          174.08557900191084,
          177.95422015354555,
          175.07383688030885,
          175.13666351096316,
          219.22443787315953,
          175.43139842621895,
          180.05765562576212,
          166.26371244648763,
          225.82017479798654,
          182.70365792631392,
          164.54769244152686,
          216.7830686470403,
          193.83357966806793,
          215.0678247070699,
          178.89290985043067,
          198.14294318813032,
          175.87593208372076,
          178.23231852431937,
          171.80775797732053,
          217.98694404536113,
          181.7086161832522,
          181.86277152643538,
          193.96602045443393,
          199.6242600526732,
          186.290395929209,
          161.19511866460505,
          175.07241397156096,
          160.19930808262077,
          173.68549783899533,
          209.51373853343716,
          159.4904471801526,
          179.1123545461051,
          217.8423714568066,
          220.1203879317531,
          168.44691020055606,
          169.93097603822343,
          182.7602979452152,
          191.48623073968818,
          208.96745621425717,
          173.38070722147637,
          172.16350324117013,
          180.47475743356014,
          163.86402905886146,
          215.23543900003006,
          223.18682083043063,
          207.86847036286318,
          210.48049867228474,
          191.47834757156397,
          189.571727140046,
          188.58414349467358,
          197.27251399037834,
          182.12761075929214,
          221.56355911251237,
          168.6275346596265,
          174.53828970441995,
          178.66114082783508,
          178.87167333727325,
          192.87063009413248,
          208.08748509817588,
          165.93268064264532,
          176.10002389763736,
          165.02386167347035,
          187.46635126768533,
          177.54016638262638,
          171.20325147410418,
          172.10206504354474,
          179.74618467013076,
          166.7797570419009,
          213.12640256063796,
          158.14537026787477,
          179.36578833422973,
          171.18075136272483,
          178.67540056073187,
          182.6817508049129,
          159.22425641061827,
          218.0443259050598,
          195.43551702039412,
          170.55878067413715,
          225.53587431945402,
          215.24686746377535,
          204.6027070090504,
          202.92039839506754,
          222.1107972697569,
          175.08324210479083,
          166.59026241669307,
          172.7509478247601,
          172.15385743846895,
          193.5731984027548,
          206.9141968308858,
          186.6899693777545,
          188.2744260721406,
          190.19411550098135,
          198.6170837256138,
          216.984304689576,
          195.96770989200485,
          189.74862656062345,
          188.34412781188368,
          217.36906873391362,
          167.32069121289024,
          170.66013143168655,
          167.1117031367257,
          225.77851485361958,
          192.39315152739144,
          185.47559725875394,
          163.96120219581255,
          172.47690117831584,
          167.13219937681518,
          183.87394473148777,
          176.11141090316178,
          217.19736523985213,
          227.1913615135005,
          177.90573504242016,
          162.52313510537456,
          164.43528458822163,
          165.1166480150166,
          167.09172409766322,
          163.75801992176628,
          192.02956455885328
         ]
        },
        {
         "hoverlabel": {
          "bgcolor": "white",
          "font": {
           "family": "Arial",
           "size": 12
          }
         },
         "marker": {
          "color": "#FF9900",
          "opacity": 0,
          "size": 0
         },
         "mode": "markers",
         "name": "Cluster 2",
         "showlegend": true,
         "type": "scatter3d",
         "x": [
          -161.27131797999508,
          -163.9131049325797,
          -164.06991064838962,
          -165.98202474649315,
          -173.23257406082527,
          -174.49052982399837,
          -160.17874458382235,
          -162.6571102601691,
          -161.2794922243005,
          -165.79289913607204,
          -164.13509493524134,
          -168.69708539163304,
          -164.6538777167284,
          -162.4525174396383,
          -166.5694263781395,
          -161.71079582774894,
          -163.58252162885694,
          -165.8296222490208,
          -167.75433281409485,
          -172.57813601424337,
          -161.32896098269518,
          -167.75093194600333
         ],
         "y": [
          391.1474214621369,
          403.65788728086,
          391.8538887427002,
          408.1049663663297,
          402.9842720485515,
          384.7903669819484,
          385.5174564910159,
          384.84610298717337,
          391.19984098266093,
          390.41005110971423,
          384.19961291391877,
          404.1607516832858,
          393.3203851725249,
          395.8926567841611,
          398.53697671633415,
          381.1271475558417,
          386.4770114350544,
          401.271921221654,
          385.4292294571651,
          411.57121672312286,
          384.2530887016889,
          384.86537635588485
         ],
         "z": [
          219.71600817532894,
          218.19996447658417,
          205.96029835144242,
          214.94602382522717,
          221.27630809798436,
          223.06625910243665,
          221.48725612489173,
          224.15883283506025,
          218.23836766851025,
          210.57513872540542,
          219.99570119925443,
          216.22309270109363,
          216.6066744917532,
          217.99129397737636,
          218.73277905049036,
          220.46900997245538,
          218.9862212274088,
          211.21031836385387,
          214.71630587254197,
          219.43976640695055,
          221.77745179154542,
          218.4000622514052
         ]
        }
       ],
       "layout": {
        "height": 800,
        "legend": {
         "bgcolor": "rgba(0,0,0,0)",
         "itemsizing": "constant",
         "itemwidth": 30,
         "orientation": "v",
         "x": 1.02,
         "xanchor": "left",
         "y": 1,
         "yanchor": "auto"
        },
        "scene": {
         "xaxis": {
          "showgrid": false,
          "showticklabels": false,
          "zeroline": false
         },
         "yaxis": {
          "showgrid": false,
          "showticklabels": false,
          "zeroline": false
         },
         "zaxis": {
          "showgrid": false,
          "showticklabels": false,
          "zeroline": false
         }
        },
        "showlegend": true,
        "template": {
         "data": {
          "bar": [
           {
            "error_x": {
             "color": "#f2f5fa"
            },
            "error_y": {
             "color": "#f2f5fa"
            },
            "marker": {
             "line": {
              "color": "rgb(17,17,17)",
              "width": 0.5
             },
             "pattern": {
              "fillmode": "overlay",
              "size": 10,
              "solidity": 0.2
             }
            },
            "type": "bar"
           }
          ],
          "barpolar": [
           {
            "marker": {
             "line": {
              "color": "rgb(17,17,17)",
              "width": 0.5
             },
             "pattern": {
              "fillmode": "overlay",
              "size": 10,
              "solidity": 0.2
             }
            },
            "type": "barpolar"
           }
          ],
          "carpet": [
           {
            "aaxis": {
             "endlinecolor": "#A2B1C6",
             "gridcolor": "#506784",
             "linecolor": "#506784",
             "minorgridcolor": "#506784",
             "startlinecolor": "#A2B1C6"
            },
            "baxis": {
             "endlinecolor": "#A2B1C6",
             "gridcolor": "#506784",
             "linecolor": "#506784",
             "minorgridcolor": "#506784",
             "startlinecolor": "#A2B1C6"
            },
            "type": "carpet"
           }
          ],
          "choropleth": [
           {
            "colorbar": {
             "outlinewidth": 0,
             "ticks": ""
            },
            "type": "choropleth"
           }
          ],
          "contour": [
           {
            "colorbar": {
             "outlinewidth": 0,
             "ticks": ""
            },
            "colorscale": [
             [
              0,
              "#0d0887"
             ],
             [
              0.1111111111111111,
              "#46039f"
             ],
             [
              0.2222222222222222,
              "#7201a8"
             ],
             [
              0.3333333333333333,
              "#9c179e"
             ],
             [
              0.4444444444444444,
              "#bd3786"
             ],
             [
              0.5555555555555556,
              "#d8576b"
             ],
             [
              0.6666666666666666,
              "#ed7953"
             ],
             [
              0.7777777777777778,
              "#fb9f3a"
             ],
             [
              0.8888888888888888,
              "#fdca26"
             ],
             [
              1,
              "#f0f921"
             ]
            ],
            "type": "contour"
           }
          ],
          "contourcarpet": [
           {
            "colorbar": {
             "outlinewidth": 0,
             "ticks": ""
            },
            "type": "contourcarpet"
           }
          ],
          "heatmap": [
           {
            "colorbar": {
             "outlinewidth": 0,
             "ticks": ""
            },
            "colorscale": [
             [
              0,
              "#0d0887"
             ],
             [
              0.1111111111111111,
              "#46039f"
             ],
             [
              0.2222222222222222,
              "#7201a8"
             ],
             [
              0.3333333333333333,
              "#9c179e"
             ],
             [
              0.4444444444444444,
              "#bd3786"
             ],
             [
              0.5555555555555556,
              "#d8576b"
             ],
             [
              0.6666666666666666,
              "#ed7953"
             ],
             [
              0.7777777777777778,
              "#fb9f3a"
             ],
             [
              0.8888888888888888,
              "#fdca26"
             ],
             [
              1,
              "#f0f921"
             ]
            ],
            "type": "heatmap"
           }
          ],
          "heatmapgl": [
           {
            "colorbar": {
             "outlinewidth": 0,
             "ticks": ""
            },
            "colorscale": [
             [
              0,
              "#0d0887"
             ],
             [
              0.1111111111111111,
              "#46039f"
             ],
             [
              0.2222222222222222,
              "#7201a8"
             ],
             [
              0.3333333333333333,
              "#9c179e"
             ],
             [
              0.4444444444444444,
              "#bd3786"
             ],
             [
              0.5555555555555556,
              "#d8576b"
             ],
             [
              0.6666666666666666,
              "#ed7953"
             ],
             [
              0.7777777777777778,
              "#fb9f3a"
             ],
             [
              0.8888888888888888,
              "#fdca26"
             ],
             [
              1,
              "#f0f921"
             ]
            ],
            "type": "heatmapgl"
           }
          ],
          "histogram": [
           {
            "marker": {
             "pattern": {
              "fillmode": "overlay",
              "size": 10,
              "solidity": 0.2
             }
            },
            "type": "histogram"
           }
          ],
          "histogram2d": [
           {
            "colorbar": {
             "outlinewidth": 0,
             "ticks": ""
            },
            "colorscale": [
             [
              0,
              "#0d0887"
             ],
             [
              0.1111111111111111,
              "#46039f"
             ],
             [
              0.2222222222222222,
              "#7201a8"
             ],
             [
              0.3333333333333333,
              "#9c179e"
             ],
             [
              0.4444444444444444,
              "#bd3786"
             ],
             [
              0.5555555555555556,
              "#d8576b"
             ],
             [
              0.6666666666666666,
              "#ed7953"
             ],
             [
              0.7777777777777778,
              "#fb9f3a"
             ],
             [
              0.8888888888888888,
              "#fdca26"
             ],
             [
              1,
              "#f0f921"
             ]
            ],
            "type": "histogram2d"
           }
          ],
          "histogram2dcontour": [
           {
            "colorbar": {
             "outlinewidth": 0,
             "ticks": ""
            },
            "colorscale": [
             [
              0,
              "#0d0887"
             ],
             [
              0.1111111111111111,
              "#46039f"
             ],
             [
              0.2222222222222222,
              "#7201a8"
             ],
             [
              0.3333333333333333,
              "#9c179e"
             ],
             [
              0.4444444444444444,
              "#bd3786"
             ],
             [
              0.5555555555555556,
              "#d8576b"
             ],
             [
              0.6666666666666666,
              "#ed7953"
             ],
             [
              0.7777777777777778,
              "#fb9f3a"
             ],
             [
              0.8888888888888888,
              "#fdca26"
             ],
             [
              1,
              "#f0f921"
             ]
            ],
            "type": "histogram2dcontour"
           }
          ],
          "mesh3d": [
           {
            "colorbar": {
             "outlinewidth": 0,
             "ticks": ""
            },
            "type": "mesh3d"
           }
          ],
          "parcoords": [
           {
            "line": {
             "colorbar": {
              "outlinewidth": 0,
              "ticks": ""
             }
            },
            "type": "parcoords"
           }
          ],
          "pie": [
           {
            "automargin": true,
            "type": "pie"
           }
          ],
          "scatter": [
           {
            "marker": {
             "line": {
              "color": "#283442"
             }
            },
            "type": "scatter"
           }
          ],
          "scatter3d": [
           {
            "line": {
             "colorbar": {
              "outlinewidth": 0,
              "ticks": ""
             }
            },
            "marker": {
             "colorbar": {
              "outlinewidth": 0,
              "ticks": ""
             }
            },
            "type": "scatter3d"
           }
          ],
          "scattercarpet": [
           {
            "marker": {
             "colorbar": {
              "outlinewidth": 0,
              "ticks": ""
             }
            },
            "type": "scattercarpet"
           }
          ],
          "scattergeo": [
           {
            "marker": {
             "colorbar": {
              "outlinewidth": 0,
              "ticks": ""
             }
            },
            "type": "scattergeo"
           }
          ],
          "scattergl": [
           {
            "marker": {
             "line": {
              "color": "#283442"
             }
            },
            "type": "scattergl"
           }
          ],
          "scattermapbox": [
           {
            "marker": {
             "colorbar": {
              "outlinewidth": 0,
              "ticks": ""
             }
            },
            "type": "scattermapbox"
           }
          ],
          "scatterpolar": [
           {
            "marker": {
             "colorbar": {
              "outlinewidth": 0,
              "ticks": ""
             }
            },
            "type": "scatterpolar"
           }
          ],
          "scatterpolargl": [
           {
            "marker": {
             "colorbar": {
              "outlinewidth": 0,
              "ticks": ""
             }
            },
            "type": "scatterpolargl"
           }
          ],
          "scatterternary": [
           {
            "marker": {
             "colorbar": {
              "outlinewidth": 0,
              "ticks": ""
             }
            },
            "type": "scatterternary"
           }
          ],
          "surface": [
           {
            "colorbar": {
             "outlinewidth": 0,
             "ticks": ""
            },
            "colorscale": [
             [
              0,
              "#0d0887"
             ],
             [
              0.1111111111111111,
              "#46039f"
             ],
             [
              0.2222222222222222,
              "#7201a8"
             ],
             [
              0.3333333333333333,
              "#9c179e"
             ],
             [
              0.4444444444444444,
              "#bd3786"
             ],
             [
              0.5555555555555556,
              "#d8576b"
             ],
             [
              0.6666666666666666,
              "#ed7953"
             ],
             [
              0.7777777777777778,
              "#fb9f3a"
             ],
             [
              0.8888888888888888,
              "#fdca26"
             ],
             [
              1,
              "#f0f921"
             ]
            ],
            "type": "surface"
           }
          ],
          "table": [
           {
            "cells": {
             "fill": {
              "color": "#506784"
             },
             "line": {
              "color": "rgb(17,17,17)"
             }
            },
            "header": {
             "fill": {
              "color": "#2a3f5f"
             },
             "line": {
              "color": "rgb(17,17,17)"
             }
            },
            "type": "table"
           }
          ]
         },
         "layout": {
          "annotationdefaults": {
           "arrowcolor": "#f2f5fa",
           "arrowhead": 0,
           "arrowwidth": 1
          },
          "autotypenumbers": "strict",
          "coloraxis": {
           "colorbar": {
            "outlinewidth": 0,
            "ticks": ""
           }
          },
          "colorscale": {
           "diverging": [
            [
             0,
             "#8e0152"
            ],
            [
             0.1,
             "#c51b7d"
            ],
            [
             0.2,
             "#de77ae"
            ],
            [
             0.3,
             "#f1b6da"
            ],
            [
             0.4,
             "#fde0ef"
            ],
            [
             0.5,
             "#f7f7f7"
            ],
            [
             0.6,
             "#e6f5d0"
            ],
            [
             0.7,
             "#b8e186"
            ],
            [
             0.8,
             "#7fbc41"
            ],
            [
             0.9,
             "#4d9221"
            ],
            [
             1,
             "#276419"
            ]
           ],
           "sequential": [
            [
             0,
             "#0d0887"
            ],
            [
             0.1111111111111111,
             "#46039f"
            ],
            [
             0.2222222222222222,
             "#7201a8"
            ],
            [
             0.3333333333333333,
             "#9c179e"
            ],
            [
             0.4444444444444444,
             "#bd3786"
            ],
            [
             0.5555555555555556,
             "#d8576b"
            ],
            [
             0.6666666666666666,
             "#ed7953"
            ],
            [
             0.7777777777777778,
             "#fb9f3a"
            ],
            [
             0.8888888888888888,
             "#fdca26"
            ],
            [
             1,
             "#f0f921"
            ]
           ],
           "sequentialminus": [
            [
             0,
             "#0d0887"
            ],
            [
             0.1111111111111111,
             "#46039f"
            ],
            [
             0.2222222222222222,
             "#7201a8"
            ],
            [
             0.3333333333333333,
             "#9c179e"
            ],
            [
             0.4444444444444444,
             "#bd3786"
            ],
            [
             0.5555555555555556,
             "#d8576b"
            ],
            [
             0.6666666666666666,
             "#ed7953"
            ],
            [
             0.7777777777777778,
             "#fb9f3a"
            ],
            [
             0.8888888888888888,
             "#fdca26"
            ],
            [
             1,
             "#f0f921"
            ]
           ]
          },
          "colorway": [
           "#636efa",
           "#EF553B",
           "#00cc96",
           "#ab63fa",
           "#FFA15A",
           "#19d3f3",
           "#FF6692",
           "#B6E880",
           "#FF97FF",
           "#FECB52"
          ],
          "font": {
           "color": "#f2f5fa"
          },
          "geo": {
           "bgcolor": "rgb(17,17,17)",
           "lakecolor": "rgb(17,17,17)",
           "landcolor": "rgb(17,17,17)",
           "showlakes": true,
           "showland": true,
           "subunitcolor": "#506784"
          },
          "hoverlabel": {
           "align": "left"
          },
          "hovermode": "closest",
          "mapbox": {
           "style": "dark"
          },
          "paper_bgcolor": "rgb(17,17,17)",
          "plot_bgcolor": "rgb(17,17,17)",
          "polar": {
           "angularaxis": {
            "gridcolor": "#506784",
            "linecolor": "#506784",
            "ticks": ""
           },
           "bgcolor": "rgb(17,17,17)",
           "radialaxis": {
            "gridcolor": "#506784",
            "linecolor": "#506784",
            "ticks": ""
           }
          },
          "scene": {
           "xaxis": {
            "backgroundcolor": "rgb(17,17,17)",
            "gridcolor": "#506784",
            "gridwidth": 2,
            "linecolor": "#506784",
            "showbackground": true,
            "ticks": "",
            "zerolinecolor": "#C8D4E3"
           },
           "yaxis": {
            "backgroundcolor": "rgb(17,17,17)",
            "gridcolor": "#506784",
            "gridwidth": 2,
            "linecolor": "#506784",
            "showbackground": true,
            "ticks": "",
            "zerolinecolor": "#C8D4E3"
           },
           "zaxis": {
            "backgroundcolor": "rgb(17,17,17)",
            "gridcolor": "#506784",
            "gridwidth": 2,
            "linecolor": "#506784",
            "showbackground": true,
            "ticks": "",
            "zerolinecolor": "#C8D4E3"
           }
          },
          "shapedefaults": {
           "line": {
            "color": "#f2f5fa"
           }
          },
          "sliderdefaults": {
           "bgcolor": "#C8D4E3",
           "bordercolor": "rgb(17,17,17)",
           "borderwidth": 1,
           "tickwidth": 0
          },
          "ternary": {
           "aaxis": {
            "gridcolor": "#506784",
            "linecolor": "#506784",
            "ticks": ""
           },
           "baxis": {
            "gridcolor": "#506784",
            "linecolor": "#506784",
            "ticks": ""
           },
           "bgcolor": "rgb(17,17,17)",
           "caxis": {
            "gridcolor": "#506784",
            "linecolor": "#506784",
            "ticks": ""
           }
          },
          "title": {
           "x": 0.05
          },
          "updatemenudefaults": {
           "bgcolor": "#506784",
           "borderwidth": 0
          },
          "xaxis": {
           "automargin": true,
           "gridcolor": "#283442",
           "linecolor": "#506784",
           "ticks": "",
           "title": {
            "standoff": 15
           },
           "zerolinecolor": "#283442",
           "zerolinewidth": 2
          },
          "yaxis": {
           "automargin": true,
           "gridcolor": "#283442",
           "linecolor": "#506784",
           "ticks": "",
           "title": {
            "standoff": 15
           },
           "zerolinecolor": "#283442",
           "zerolinewidth": 2
          }
         }
        },
        "title": {
         "text": "Clusters by Show (3D)"
        },
        "width": 1200
       }
      }
     },
     "metadata": {},
     "output_type": "display_data"
    }
   ],
   "source": [
    "import numpy as np\n",
    "import pandas as pd\n",
    "import spacy\n",
    "from typing import Optional\n",
    "from collections import Counter, defaultdict\n",
    "from sklearn.metrics.pairwise import cosine_similarity\n",
    "import umap\n",
    "import hdbscan\n",
    "import plotly.express as px\n",
    "import plotly.graph_objects as go\n",
    "\n",
    "# If you're mixing German transcripts, import German stopwords:\n",
    "from spacy.lang.de.stop_words import STOP_WORDS as de_stop_words\n",
    "\n",
    "def create_show_keyword_visualization(\n",
    "    df: pd.DataFrame,\n",
    "    min_freq: int = 3,\n",
    "    dimensionality: int = 2,\n",
    "    method: str = 'UMAP',\n",
    "    clustering: bool = True,\n",
    "    cluster_selection_method: str = 'eom'  # For HDBSCAN\n",
    ") -> None:\n",
    "    \"\"\"\n",
    "    Creates an interactive visualization of keywords clustered by show based on semantic meaning.\n",
    "    \n",
    "    Parameters:\n",
    "    - df: pd.DataFrame containing at least 'show' and 'summary' columns.\n",
    "    - min_freq: Minimum total frequency for a word to be included.\n",
    "    - dimensionality: 2 for 2D plot, 3 for 3D plot.\n",
    "    - method: Dimensionality reduction method ('UMAP', 't-SNE', 'MDS').\n",
    "    - clustering: Whether to apply clustering to define dedicated regions.\n",
    "    - cluster_selection_method: Method for HDBSCAN clustering ('eom' or 'leaf').\n",
    "    \"\"\"\n",
    "    if dimensionality not in [2, 3]:\n",
    "        raise ValueError(\"dimensionality must be either 2 or 3\")\n",
    "    \n",
    "    if method not in ['MDS', 't-SNE', 'UMAP']:\n",
    "        raise ValueError(\"method must be one of 'MDS', 't-SNE', or 'UMAP'\")\n",
    "    \n",
    "    # Load a SpaCy model with word vectors\n",
    "    try:\n",
    "        nlp = spacy.load(\"en_core_web_md\")  # Use 'en_core_web_lg' for larger vectors\n",
    "    except OSError:\n",
    "        raise OSError(\"SpaCy model 'en_core_web_md' not found. Please download it using:\\n\"\n",
    "                      \"python -m spacy download en_core_web_md\")\n",
    "    \n",
    "    # Gather all show names\n",
    "    all_shows = sorted(df['show'].dropna().unique())\n",
    "    \n",
    "    # Combine English/German stopwords and any domain-specific ones\n",
    "    custom_stops = {\n",
    "        \"people\", \"thing\", \"year\", \"lot\", \"point\", \"das\", \"man\", \"der\", \"way\",\n",
    "        \"stuff\", \"sort\", \"mal\", \"speaker\", \"time\", \"going\", \"yeah\", \"gonna\",\n",
    "        \"think\", \"know\", \"mean\", \"actually\", \"right\", \"really\"\n",
    "    }\n",
    "    custom_stops.update(de_stop_words)\n",
    "    for w in custom_stops:\n",
    "        nlp.vocab[w].is_stop = True\n",
    "    \n",
    "    # Count frequencies\n",
    "    show_word_freq = defaultdict(Counter)\n",
    "    total_word_freq = Counter()\n",
    "    for show_name in all_shows:\n",
    "        show_text = ' '.join(df.loc[df['show'] == show_name, 'summary'].dropna())\n",
    "        doc = nlp(show_text)\n",
    "        keywords = [\n",
    "            token.lemma_.lower()\n",
    "            for token in doc\n",
    "            if token.pos_ in ['NOUN', 'PROPN']\n",
    "            and not token.is_stop\n",
    "            and len(token.text) > 2\n",
    "            and token.has_vector  # Ensure the token has a vector representation\n",
    "        ]\n",
    "        show_word_freq[show_name].update(keywords)\n",
    "        total_word_freq.update(keywords)\n",
    "    \n",
    "    # Filter out words below min_freq\n",
    "    common_words = {w for w, c in total_word_freq.items() if c >= min_freq}\n",
    "    \n",
    "    words = []\n",
    "    word_vectors = []\n",
    "    dominant_shows = []\n",
    "    hover_texts = []\n",
    "    word_total_freq = []\n",
    "    \n",
    "    for word in sorted(common_words):\n",
    "        # Get the word vector from SpaCy\n",
    "        if not nlp.vocab.has_vector(word):\n",
    "            continue  # Skip words without vectors\n",
    "        \n",
    "        vector = nlp.vocab[word].vector\n",
    "        words.append(word)\n",
    "        word_vectors.append(vector)\n",
    "        word_total_freq.append(total_word_freq[word])\n",
    "        \n",
    "        # Determine \"dominant\" show for coloring\n",
    "        show_counts = {s: show_word_freq[s][word] for s in all_shows}\n",
    "        show_max = max(show_counts, key=show_counts.get)\n",
    "        dominant_shows.append(show_max)\n",
    "        \n",
    "        # Build hover text for nonzero frequencies, sorted descending\n",
    "        nonzero = [(s, v) for s, v in show_counts.items() if v > 0]\n",
    "        nonzero.sort(key=lambda x: x[1], reverse=True)\n",
    "        hover_html = f\"<b>{word}</b><br>\" + \"<br>\".join(f\"{s}: {v}\" for s, v in nonzero)\n",
    "        hover_texts.append(hover_html)\n",
    "    \n",
    "    if not words:\n",
    "        print(\"No words to display after filtering. Adjust 'min_freq' or check the data.\")\n",
    "        return\n",
    "    \n",
    "    word_vectors = np.array(word_vectors, dtype=float)\n",
    "    \n",
    "    # Normalize vectors to unit length for better similarity computation\n",
    "    word_vectors_norm = word_vectors / np.linalg.norm(word_vectors, axis=1, keepdims=True)\n",
    "    \n",
    "    # Dimensionality reduction\n",
    "    if method == 'MDS':\n",
    "        from sklearn.manifold import MDS\n",
    "        # Distance = 1 - cosine similarity\n",
    "        similarities = cosine_similarity(word_vectors_norm)\n",
    "        dist_matrix = 1 - similarities\n",
    "        reducer = MDS(n_components=dimensionality, dissimilarity='precomputed', random_state=42)\n",
    "        coords = reducer.fit_transform(dist_matrix)\n",
    "    elif method == 't-SNE':\n",
    "        from sklearn.manifold import TSNE\n",
    "        reducer = TSNE(n_components=dimensionality, metric='cosine', random_state=42, perplexity=30, n_iter=1000)\n",
    "        coords = reducer.fit_transform(word_vectors_norm)\n",
    "    elif method == 'UMAP':\n",
    "        reducer = umap.UMAP(n_components=dimensionality, metric='cosine', random_state=42, n_neighbors=15, min_dist=0.1)\n",
    "        coords = reducer.fit_transform(word_vectors_norm)\n",
    "    \n",
    "    # Apply clustering to define dedicated regions\n",
    "    if clustering:\n",
    "        # HDBSCAN is preferred for its robustness\n",
    "        clusterer = hdbscan.HDBSCAN(min_cluster_size=5, metric='euclidean', cluster_selection_method=cluster_selection_method)\n",
    "        cluster_labels = clusterer.fit_predict(coords)\n",
    "        # Assign 'Noise' to points not assigned to any cluster\n",
    "        cluster_labels = np.where(cluster_labels == -1, 'Noise', cluster_labels)\n",
    "    else:\n",
    "        cluster_labels = None  # No clustering\n",
    "    \n",
    "    # Scale coordinates to increase separation\n",
    "    scaling_factor = 20  # Adjust this value as needed\n",
    "    coords_scaled = coords * scaling_factor\n",
    "    \n",
    "    # Slight random jitter to help reduce collisions\n",
    "    jitter_strength = 0.3  # Adjusted jitter strength\n",
    "    coords_jittered = coords_scaled + np.random.normal(0, jitter_strength, coords_scaled.shape)\n",
    "    \n",
    "    # Prepare color mapping\n",
    "    colors = px.colors.qualitative.Set3\n",
    "    color_cycle = (colors * ((len(all_shows) // len(colors)) + 1))[:len(all_shows)]\n",
    "    show_color_map = dict(zip(all_shows, color_cycle))\n",
    "    \n",
    "    # Prepare cluster color mapping if clustering is applied\n",
    "    if clustering:\n",
    "        unique_clusters = sorted(set(cluster_labels))\n",
    "        cluster_colors = px.colors.qualitative.G10\n",
    "        if len(unique_clusters) > len(cluster_colors):\n",
    "            # Extend colors if necessary\n",
    "            cluster_colors = cluster_colors * (len(unique_clusters) // len(cluster_colors) + 1)\n",
    "        cluster_color_map = {cluster: cluster_colors[i] for i, cluster in enumerate(unique_clusters)}\n",
    "    else:\n",
    "        cluster_color_map = {}\n",
    "    \n",
    "    # Prepare marker sizes based on total frequency\n",
    "    # Scale sizes to a reasonable range, e.g., 10 to 30\n",
    "    freq_array = np.array(word_total_freq)\n",
    "    size_min = 10\n",
    "    size_max = 30\n",
    "    freq_norm = (freq_array - freq_array.min()) / (freq_array.max() - freq_array.min() + 1e-6)\n",
    "    size_values = size_min + freq_norm * (size_max - size_min)\n",
    "    \n",
    "    # Create Plotly figure\n",
    "    fig = go.Figure()\n",
    "    \n",
    "    # Iterate over shows to plot\n",
    "    for show_name in all_shows:\n",
    "        mask = (np.array(dominant_shows) == show_name)\n",
    "        if not np.any(mask):\n",
    "            continue\n",
    "        \n",
    "        word_subset = np.array(words)[mask]\n",
    "        size_subset = size_values[mask]\n",
    "        x_vals = coords_jittered[mask, 0]\n",
    "        y_vals = coords_jittered[mask, 1]\n",
    "        if dimensionality == 3:\n",
    "            z_vals = coords_jittered[mask, 2]\n",
    "        color_choice = show_color_map.get(show_name, \"gray\")\n",
    "        subset_hover = np.array(hover_texts)[mask]\n",
    "        subset_clusters = np.array(cluster_labels)[mask] if clustering else None\n",
    "        \n",
    "        if dimensionality == 2:\n",
    "            fig.add_trace(go.Scatter(\n",
    "                x=x_vals,\n",
    "                y=y_vals,\n",
    "                text=word_subset,  # Text labels\n",
    "                hovertext=subset_hover,\n",
    "                mode='markers+text',  # Include text\n",
    "                name=show_name,\n",
    "                textposition='top center',  # Adjusted text position\n",
    "                textfont=dict(\n",
    "                    size=size_subset,\n",
    "                    color=color_choice,\n",
    "                    # Optionally, set a common size or scale based on frequency\n",
    "                ),\n",
    "                marker=dict(\n",
    "                    size=size_subset,\n",
    "                    color=color_choice,\n",
    "                    opacity=0.7,\n",
    "                    line=dict(width=1, color='DarkSlateGrey')\n",
    "                ),\n",
    "                hoverinfo='text'\n",
    "            ))\n",
    "        else:\n",
    "            fig.add_trace(go.Scatter3d(\n",
    "                x=x_vals,\n",
    "                y=y_vals,\n",
    "                z=z_vals,\n",
    "                text=word_subset,  # Text labels\n",
    "                hovertext=subset_hover,\n",
    "                mode='markers+text',  # Include text\n",
    "                name=show_name,\n",
    "                textposition='top center',  # Adjusted text position\n",
    "                textfont=dict(\n",
    "                    size=size_subset,\n",
    "                    color=color_choice,\n",
    "                    # Optionally, set a common size or scale based on frequency\n",
    "                ),\n",
    "                marker=dict(\n",
    "                    size=size_subset,\n",
    "                    color=color_choice,\n",
    "                    opacity=0.7,\n",
    "                    line=dict(width=1, color='DarkSlateGrey')\n",
    "                ),\n",
    "                hoverinfo='text'\n",
    "            ))\n",
    "    \n",
    "    # If clustering is applied, add cluster regions\n",
    "    if clustering:\n",
    "        # Create a scatter plot for clusters\n",
    "        for cluster in unique_clusters:\n",
    "            if cluster == 'Noise':\n",
    "                continue  # Optionally, handle noise separately\n",
    "            cluster_mask = (cluster_labels == cluster)\n",
    "            cluster_x = coords_jittered[cluster_mask, 0]\n",
    "            cluster_y = coords_jittered[cluster_mask, 1]\n",
    "            cluster_z = coords_jittered[cluster_mask, 2] if dimensionality == 3 else None\n",
    "            cluster_color = cluster_color_map[cluster]\n",
    "            \n",
    "            if dimensionality == 2:\n",
    "                fig.add_trace(go.Scatter(\n",
    "                    x=cluster_x,\n",
    "                    y=cluster_y,\n",
    "                    mode='markers',\n",
    "                    marker=dict(\n",
    "                        size=0,  # Invisible markers for legend\n",
    "                        color=cluster_color,\n",
    "                        opacity=0\n",
    "                    ),\n",
    "                    name=f\"Cluster {cluster}\",\n",
    "                    showlegend=True\n",
    "                ))\n",
    "            else:\n",
    "                fig.add_trace(go.Scatter3d(\n",
    "                    x=cluster_x,\n",
    "                    y=cluster_y,\n",
    "                    z=cluster_z,\n",
    "                    mode='markers',\n",
    "                    marker=dict(\n",
    "                        size=0,  # Invisible markers for legend\n",
    "                        color=cluster_color,\n",
    "                        opacity=0\n",
    "                    ),\n",
    "                    name=f\"Cluster {cluster}\",\n",
    "                    showlegend=True\n",
    "                ))\n",
    "    \n",
    "    # Configure layout\n",
    "    if dimensionality == 2:\n",
    "        layout = dict(\n",
    "            title='Clusters by Show (2D)',\n",
    "            template='plotly_dark',\n",
    "            height=800,\n",
    "            width=1200,\n",
    "            showlegend=True,\n",
    "            xaxis=dict(showgrid=False, zeroline=False, showticklabels=False),\n",
    "            yaxis=dict(showgrid=False, zeroline=False, showticklabels=False),\n",
    "            legend=dict(\n",
    "                orientation=\"v\",\n",
    "                x=1.02,\n",
    "                y=1,\n",
    "                xanchor=\"left\",\n",
    "                yanchor=\"auto\",\n",
    "                bgcolor=\"rgba(0,0,0,0)\",\n",
    "                itemsizing='constant',  # Make legend markers a constant size\n",
    "                itemwidth=30  # Increase size of legend markers\n",
    "            )\n",
    "        )\n",
    "    else:\n",
    "        layout = dict(\n",
    "            title='Clusters by Show (3D)',\n",
    "            template='plotly_dark',\n",
    "            height=800,\n",
    "            width=1200,\n",
    "            showlegend=True,\n",
    "            scene=dict(\n",
    "                xaxis=dict(showgrid=False, zeroline=False, showticklabels=False),\n",
    "                yaxis=dict(showgrid=False, zeroline=False, showticklabels=False),\n",
    "                zaxis=dict(showgrid=False, zeroline=False, showticklabels=False),\n",
    "            ),\n",
    "            legend=dict(\n",
    "                orientation=\"v\",\n",
    "                x=1.02,\n",
    "                y=1,\n",
    "                xanchor=\"left\",\n",
    "                yanchor=\"auto\",\n",
    "                bgcolor=\"rgba(0,0,0,0)\",\n",
    "                itemsizing='constant',  # Make legend markers a constant size\n",
    "                itemwidth=30  # Increase size of legend markers\n",
    "            )\n",
    "        )\n",
    "    \n",
    "    fig.update_layout(layout)\n",
    "    \n",
    "    # Enhance interactivity for better exploration\n",
    "    if dimensionality == 3:\n",
    "        fig.update_traces(\n",
    "            selector=dict(type='scatter3d'),\n",
    "            hoverlabel=dict(bgcolor=\"white\", font_size=12, font_family=\"Arial\")\n",
    "        )\n",
    "    else:\n",
    "        fig.update_traces(\n",
    "            selector=dict(type='scatter'),\n",
    "            hoverlabel=dict(bgcolor=\"white\", font_size=12, font_family=\"Arial\")\n",
    "        )\n",
    "    \n",
    "    fig.show()\n",
    "\n",
    "\n",
    "create_show_keyword_visualization(\n",
    "    df,\n",
    "    min_freq=7,\n",
    "    dimensionality=3,\n",
    "    method='UMAP',\n",
    "    clustering=True,\n",
    "    cluster_selection_method='eom'\n",
    ")"
   ]
  },
  {
   "cell_type": "code",
   "execution_count": 21,
   "metadata": {},
   "outputs": [
    {
     "name": "stderr",
     "output_type": "stream",
     "text": [
      "/opt/anaconda3/envs/aml3.12/lib/python3.12/site-packages/umap/umap_.py:1952: UserWarning:\n",
      "\n",
      "n_jobs value 1 overridden to 1 by setting random_state. Use no seed for parallelism.\n",
      "\n"
     ]
    },
    {
     "data": {
      "application/vnd.plotly.v1+json": {
       "config": {
        "plotlyServerURL": "https://plot.ly"
       },
       "data": [
        {
         "hoverinfo": "text",
         "hoverlabel": {
          "bgcolor": "white",
          "font": {
           "family": "Arial",
           "size": 12
          }
         },
         "hovertext": [
          "<b>acquisition</b><br>Acquired: 2<br>All-In with Chamath, Jason, Sacks & Friedberg: 1<br>The Knowledge Project with Shane Parrish: 1<br>The Prof G Pod with Scott Galloway: 1",
          "<b>chip</b><br>Acquired: 3<br>All-In with Chamath, Jason, Sacks & Friedberg: 1<br>Discover Daily by Perplexity: 1",
          "<b>constraint</b><br>Acquired: 2<br>Dwarkesh Podcast: 2<br>Pivot: 1<br>The Joe Rogan Experience: 1",
          "<b>dropbox</b><br>Acquired: 7",
          "<b>memory</b><br>Acquired: 6<br>Making Sense with Sam Harris - Subscriber Content: 1<br>Search Engine: 1<br>The Prof G Pod with Scott Galloway: 1",
          "<b>provider</b><br>Acquired: 2<br>a16z Podcast: 2<br>The Prof G Pod with Scott Galloway: 1",
          "<b>user</b><br>Acquired: 11<br>All-In with Chamath, Jason, Sacks & Friedberg: 9<br>Lex Fridman Podcast: 3<br>a16z Podcast: 2<br>Lightcone Podcast: 1<br>The Prof G Pod with Scott Galloway: 1"
         ],
         "marker": {
          "color": "rgb(141,211,199)",
          "line": {
           "color": "DarkSlateGrey",
           "width": 1
          },
          "opacity": 0.7,
          "size": [
           10,
           10,
           10.37037036351166,
           10.74074072702332,
           11.48148145404664,
           10,
           18.14814799725652
          ]
         },
         "mode": "markers+text",
         "name": "Acquired",
         "text": [
          "acquisition",
          "chip",
          "constraint",
          "dropbox",
          "memory",
          "provider",
          "user"
         ],
         "textfont": {
          "color": "rgb(141,211,199)",
          "size": [
           10,
           10,
           10.37037036351166,
           10.74074072702332,
           11.48148145404664,
           10,
           18.14814799725652
          ]
         },
         "textposition": "top center",
         "type": "scatter3d",
         "x": [
          35.4821521001283,
          59.32076605316323,
          51.57509294206972,
          64.85754184425146,
          49.03576853180168,
          43.64899095773842,
          57.89422411081315
         ],
         "y": [
          56.52637218081807,
          42.75899423812051,
          48.97531501979399,
          36.465173176530115,
          47.156319327448614,
          49.389077320898856,
          41.54066441560923
         ],
         "z": [
          104.27706313019233,
          99.95132063232779,
          126.37621763251146,
          93.07434813583929,
          140.95095990900157,
          95.47025377970616,
          92.7103146204953
         ]
        },
        {
         "hoverinfo": "text",
         "hoverlabel": {
          "bgcolor": "white",
          "font": {
           "family": "Arial",
           "size": 12
          }
         },
         "hovertext": [
          "<b>company</b><br>All-In with Chamath, Jason, Sacks & Friedberg: 19<br>The Prof G Pod with Scott Galloway: 11<br>Acquired: 5<br>Dwarkesh Podcast: 5<br>Lightcone Podcast: 3<br>The Ben & Marc Show: 3<br>The Joe Rogan Experience: 3<br>Freakonomics Radio: 2<br>Pivot: 2<br>a16z Podcast: 2<br>Making Sense with Sam Harris - Subscriber Content: 1",
          "<b>debt</b><br>All-In with Chamath, Jason, Sacks & Friedberg: 16<br>The Prof G Pod with Scott Galloway: 2",
          "<b>government</b><br>All-In with Chamath, Jason, Sacks & Friedberg: 22<br>Making Sense with Sam Harris - Subscriber Content: 6<br>The Peter Zeihan Podcast Series: 4<br>The Prof G Pod with Scott Galloway: 3<br>Dwarkesh Podcast: 2<br>Freakonomics Radio: 2<br>Pivot: 2<br>Prof G Markets: 2<br>The Ezra Klein Show: 2<br>Honestly with Bari Weiss: 1<br>Lex Fridman Podcast: 1<br>The Daily: 1",
          "<b>inflation</b><br>All-In with Chamath, Jason, Sacks & Friedberg: 16<br>The Prof G Pod with Scott Galloway: 2<br>The Peter Zeihan Podcast Series: 1",
          "<b>interest</b><br>All-In with Chamath, Jason, Sacks & Friedberg: 17<br>The Prof G Pod with Scott Galloway: 3<br>Dwarkesh Podcast: 2<br>Acquired: 1<br>Freakonomics Radio: 1",
          "<b>model</b><br>All-In with Chamath, Jason, Sacks & Friedberg: 14<br>Dwarkesh Podcast: 13<br>Lex Fridman Podcast: 11<br>Acquired: 8<br>Making Sense with Sam Harris - Subscriber Content: 6<br>a16z Podcast: 5<br>The Peter Zeihan Podcast Series: 1<br>The Prof G Pod with Scott Galloway: 1",
          "<b>rate</b><br>All-In with Chamath, Jason, Sacks & Friedberg: 24<br>The Prof G Pod with Scott Galloway: 4<br>Truth with Vivek Ramaswamy: 3<br>Lex Fridman Podcast: 2<br>Dwarkesh Podcast: 1<br>The Peter Zeihan Podcast Series: 1<br>a16z Podcast: 1"
         ],
         "marker": {
          "color": "rgb(255,255,179)",
          "line": {
           "color": "DarkSlateGrey",
           "width": 1
          },
          "opacity": 0.7,
          "size": [
           28.88888853909466,
           14.81481472565158,
           25.925925631001377,
           15.18518508916324,
           17.03703690672154,
           29.999999629629638,
           21.481481268861458
          ]
         },
         "mode": "markers+text",
         "name": "All-In with Chamath, Jason, Sacks & Friedberg",
         "text": [
          "company",
          "debt",
          "government",
          "inflation",
          "interest",
          "model",
          "rate"
         ],
         "textfont": {
          "color": "rgb(255,255,179)",
          "size": [
           28.88888853909466,
           14.81481472565158,
           25.925925631001377,
           15.18518508916324,
           17.03703690672154,
           29.999999629629638,
           21.481481268861458
          ]
         },
         "textposition": "top center",
         "type": "scatter3d",
         "x": [
          33.4900925237042,
          38.986461025490385,
          11.587884094963895,
          43.570521816794454,
          42.19680491710445,
          59.52120001334855,
          47.61338722643115
         ],
         "y": [
          60.379208870658836,
          80.19888630632126,
          55.96500616409694,
          60.18671234452412,
          68.3225003427783,
          38.54910752574715,
          66.84325121577736
         ],
         "z": [
          96.73214100647101,
          108.38144204192456,
          117.66902549022942,
          118.78467766023054,
          136.6117266197717,
          114.40695322283067,
          120.87707335519184
         ]
        },
        {
         "hoverinfo": "text",
         "hoverlabel": {
          "bgcolor": "white",
          "font": {
           "family": "Arial",
           "size": 12
          }
         },
         "hovertext": [
          "<b>fund</b><br>Discover Daily by Perplexity: 3<br>All-In with Chamath, Jason, Sacks & Friedberg: 1<br>Dwarkesh Podcast: 1<br>Making Sense with Sam Harris - Subscriber Content: 1"
         ],
         "marker": {
          "color": "rgb(190,186,218)",
          "line": {
           "color": "DarkSlateGrey",
           "width": 1
          },
          "opacity": 0.7,
          "size": [
           10.37037036351166
          ]
         },
         "mode": "markers+text",
         "name": "Discover Daily by Perplexity",
         "text": [
          "fund"
         ],
         "textfont": {
          "color": "rgb(190,186,218)",
          "size": [
           10.37037036351166
          ]
         },
         "textposition": "top center",
         "type": "scatter3d",
         "x": [
          37.26436416296693
         ],
         "y": [
          78.81604312066
         ],
         "z": [
          105.31039561229672
         ]
        },
        {
         "hoverinfo": "text",
         "hoverlabel": {
          "bgcolor": "white",
          "font": {
           "family": "Arial",
           "size": 12
          }
         },
         "hovertext": [
          "<b>agi</b><br>Dwarkesh Podcast: 5<br>Lex Fridman Podcast: 4",
          "<b>country</b><br>Dwarkesh Podcast: 17<br>All-In with Chamath, Jason, Sacks & Friedberg: 8<br>The Prof G Pod with Scott Galloway: 8<br>The Peter Zeihan Podcast Series: 5<br>Making Sense with Sam Harris - Subscriber Content: 4<br>Freakonomics Radio: 3<br>Pivot: 1<br>The Langley Files: CIA's Podcast: 1<br>Truth with Vivek Ramaswamy: 1",
          "<b>idea</b><br>Dwarkesh Podcast: 7<br>Making Sense with Sam Harris - Subscriber Content: 4<br>All-In with Chamath, Jason, Sacks & Friedberg: 3<br>Lex Fridman Podcast: 2<br>The Prof G Pod with Scott Galloway: 2<br>Freakonomics Radio: 1<br>Great Mysteries of Physics: 1<br>The Ben & Marc Show: 1",
          "<b>leadership</b><br>Dwarkesh Podcast: 6<br>All-In with Chamath, Jason, Sacks & Friedberg: 4<br>The Peter Zeihan Podcast Series: 2<br>Making Sense with Sam Harris - Subscriber Content: 1<br>Pivot: 1",
          "<b>source</b><br>Dwarkesh Podcast: 6<br>All-In with Chamath, Jason, Sacks & Friedberg: 3<br>Lex Fridman Podcast: 1<br>Making Sense with Sam Harris - Subscriber Content: 1",
          "<b>success</b><br>Dwarkesh Podcast: 10<br>The Prof G Pod with Scott Galloway: 6<br>Acquired: 5<br>Pivot: 4<br>a16z Podcast: 2<br>All-In with Chamath, Jason, Sacks & Friedberg: 1<br>Honestly with Bari Weiss: 1<br>The Knowledge Project with Shane Parrish: 1<br>The Langley Files: CIA's Podcast: 1",
          "<b>world</b><br>Dwarkesh Podcast: 8<br>Making Sense with Sam Harris - Subscriber Content: 7<br>All-In with Chamath, Jason, Sacks & Friedberg: 4<br>Lex Fridman Podcast: 4<br>The Joe Rogan Experience: 3<br>Freakonomics Radio: 2<br>Huberman Lab: 2<br>The Prof G Pod with Scott Galloway: 2<br>a16z Podcast: 2<br>Discover Daily by Perplexity: 1<br>Great Mysteries of Physics: 1<br>Pivot: 1<br>The Ben & Marc Show: 1<br>Within Reason: 1"
         ],
         "marker": {
          "color": "rgb(251,128,114)",
          "line": {
           "color": "DarkSlateGrey",
           "width": 1
          },
          "opacity": 0.7,
          "size": [
           11.48148145404664,
           25.925925631001377,
           15.92592581618656,
           13.333333271604939,
           12.22222218106996,
           19.62962945130316,
           22.592592359396438
          ]
         },
         "mode": "markers+text",
         "name": "Dwarkesh Podcast",
         "text": [
          "agi",
          "country",
          "idea",
          "leadership",
          "source",
          "success",
          "world"
         ],
         "textfont": {
          "color": "rgb(251,128,114)",
          "size": [
           11.48148145404664,
           25.925925631001377,
           15.92592581618656,
           13.333333271604939,
           12.22222218106996,
           19.62962945130316,
           22.592592359396438
          ]
         },
         "textposition": "top center",
         "type": "scatter3d",
         "x": [
          48.682727664442794,
          -0.32063083637630563,
          36.62805158527546,
          13.514059727985838,
          52.66226659933412,
          43.92438624979414,
          14.283777049986387
         ],
         "y": [
          37.769326857983785,
          60.30037835005916,
          66.25546344187934,
          49.86928207441948,
          46.469088499217115,
          73.14113272842211,
          57.36824692749181
         ],
         "z": [
          111.38479852641558,
          127.67776511415452,
          155.20197793022683,
          125.30484579572438,
          98.88727410332953,
          142.91098583031325,
          152.69906294613918
         ]
        },
        {
         "hoverinfo": "text",
         "hoverlabel": {
          "bgcolor": "white",
          "font": {
           "family": "Arial",
           "size": 12
          }
         },
         "hovertext": [
          "<b>moment</b><br>Economist Podcasts: 1<br>Making Sense with Sam Harris - Subscriber Content: 1<br>Search Engine: 1<br>The Knowledge Project with Shane Parrish: 1<br>The Prof G Pod with Scott Galloway: 1"
         ],
         "marker": {
          "color": "rgb(128,177,211)",
          "line": {
           "color": "DarkSlateGrey",
           "width": 1
          },
          "opacity": 0.7,
          "size": [
           10
          ]
         },
         "mode": "markers+text",
         "name": "Economist Podcasts",
         "text": [
          "moment"
         ],
         "textfont": {
          "color": "rgb(128,177,211)",
          "size": [
           10
          ]
         },
         "textposition": "top center",
         "type": "scatter3d",
         "x": [
          35.97368315539006
         ],
         "y": [
          64.59039707775337
         ],
         "z": [
          158.89499085982473
         ]
        },
        {
         "hoverinfo": "text",
         "hoverlabel": {
          "bgcolor": "white",
          "font": {
           "family": "Arial",
           "size": 12
          }
         },
         "hovertext": [
          "<b>benefit</b><br>Freakonomics Radio: 4<br>The Prof G Pod with Scott Galloway: 2<br>a16z Podcast: 2<br>Dwarkesh Podcast: 1<br>Lex Fridman Podcast: 1<br>Making Sense with Sam Harris - Subscriber Content: 1<br>Pivot: 1",
          "<b>club</b><br>Freakonomics Radio: 6",
          "<b>immigrant</b><br>Freakonomics Radio: 20<br>The Prof G Pod with Scott Galloway: 2",
          "<b>immigration</b><br>Freakonomics Radio: 14<br>The Prof G Pod with Scott Galloway: 3<br>Making Sense with Sam Harris - Subscriber Content: 2",
          "<b>talent</b><br>Freakonomics Radio: 5<br>The Prof G Pod with Scott Galloway: 2<br>All-In with Chamath, Jason, Sacks & Friedberg: 1<br>Making Sense with Sam Harris - Subscriber Content: 1<br>Prof G Markets: 1",
          "<b>visa</b><br>Freakonomics Radio: 4<br>The Prof G Pod with Scott Galloway: 1",
          "<b>wage</b><br>Freakonomics Radio: 4<br>Truth with Vivek Ramaswamy: 3<br>All-In with Chamath, Jason, Sacks & Friedberg: 1"
         ],
         "marker": {
          "color": "rgb(253,180,98)",
          "line": {
           "color": "DarkSlateGrey",
           "width": 1
          },
          "opacity": 0.7,
          "size": [
           12.59259254458162,
           10.37037036351166,
           16.296296179698217,
           15.18518508916324,
           11.8518518175583,
           10,
           11.11111109053498
          ]
         },
         "mode": "markers+text",
         "name": "Freakonomics Radio",
         "text": [
          "benefit",
          "club",
          "immigrant",
          "immigration",
          "talent",
          "visa",
          "wage"
         ],
         "textfont": {
          "color": "rgb(253,180,98)",
          "size": [
           12.59259254458162,
           10.37037036351166,
           16.296296179698217,
           15.18518508916324,
           11.8518518175583,
           10,
           11.11111109053498
          ]
         },
         "textposition": "top center",
         "type": "scatter3d",
         "x": [
          38.85439913107285,
          25.992409541350725,
          5.609701607824194,
          11.042970570087846,
          43.09752112150547,
          9.40076294916165,
          31.867558193172343
         ],
         "y": [
          72.93003443318511,
          63.638748625811296,
          72.84571155885166,
          64.30353455158853,
          77.83093776393483,
          74.36137501575415,
          82.49831116199363
         ],
         "z": [
          126.63484301969562,
          95.05981856120847,
          129.57675693578125,
          121.16208573999883,
          146.28386452629832,
          124.38286187029351,
          113.32812826195884
         ]
        },
        {
         "hoverinfo": "text",
         "hoverlabel": {
          "bgcolor": "white",
          "font": {
           "family": "Arial",
           "size": 12
          }
         },
         "hovertext": [
          "<b>entropy</b><br>Great Mysteries of Physics: 9",
          "<b>flow</b><br>Great Mysteries of Physics: 2<br>Acquired: 1<br>The Knowledge Project with Shane Parrish: 1<br>The Peter Zeihan Podcast Series: 1",
          "<b>space</b><br>Great Mysteries of Physics: 3<br>Freakonomics Radio: 2<br>Making Sense with Sam Harris - Subscriber Content: 1<br>Pivot: 1<br>Search Engine: 1<br>The Prof G Pod with Scott Galloway: 1<br>a16z Podcast: 1",
          "<b>universe</b><br>Great Mysteries of Physics: 3<br>Making Sense with Sam Harris - Subscriber Content: 1<br>Within Reason: 1"
         ],
         "marker": {
          "color": "rgb(179,222,105)",
          "line": {
           "color": "DarkSlateGrey",
           "width": 1
          },
          "opacity": 0.7,
          "size": [
           11.48148145404664,
           10,
           11.8518518175583,
           10
          ]
         },
         "mode": "markers+text",
         "name": "Great Mysteries of Physics",
         "text": [
          "entropy",
          "flow",
          "space",
          "universe"
         ],
         "textfont": {
          "color": "rgb(179,222,105)",
          "size": [
           11.48148145404664,
           10,
           11.8518518175583,
           10
          ]
         },
         "textposition": "top center",
         "type": "scatter3d",
         "x": [
          58.761751540182196,
          57.781492819614556,
          48.75674123430272,
          25.472721647878366
         ],
         "y": [
          45.029578716929585,
          45.33648249434464,
          38.42936950352566,
          54.556272730937025
         ],
         "z": [
          133.61525292956532,
          132.82307884460081,
          119.3263068052717,
          155.25407510671334
         ]
        },
        {
         "hoverinfo": "text",
         "hoverlabel": {
          "bgcolor": "white",
          "font": {
           "family": "Arial",
           "size": 12
          }
         },
         "hovertext": [
          "<b>activity</b><br>Huberman Lab: 5<br>All-In with Chamath, Jason, Sacks & Friedberg: 2<br>The Peter Zeihan Podcast Series: 2<br>Making Sense with Sam Harris - Subscriber Content: 1<br>The Knowledge Project with Shane Parrish: 1<br>The Prof G Pod with Scott Galloway: 1",
          "<b>exercise</b><br>Huberman Lab: 6<br>Dwarkesh Podcast: 1",
          "<b>glucose</b><br>Huberman Lab: 6",
          "<b>health</b><br>Huberman Lab: 9<br>All-In with Chamath, Jason, Sacks & Friedberg: 4<br>The Prof G Pod with Scott Galloway: 2<br>a16z Podcast: 2<br>Freakonomics Radio: 1<br>The Daily: 1",
          "<b>muscle</b><br>Huberman Lab: 11<br>Making Sense with Sam Harris - Subscriber Content: 1",
          "<b>protein</b><br>Huberman Lab: 11",
          "<b>training</b><br>Huberman Lab: 7<br>Dwarkesh Podcast: 4<br>Acquired: 3<br>All-In with Chamath, Jason, Sacks & Friedberg: 1<br>The Prof G Pod with Scott Galloway: 1<br>a16z Podcast: 1"
         ],
         "marker": {
          "color": "rgb(252,205,229)",
          "line": {
           "color": "DarkSlateGrey",
           "width": 1
          },
          "opacity": 0.7,
          "size": [
           12.59259254458162,
           10.74074072702332,
           10.37037036351166,
           15.18518508916324,
           12.59259254458162,
           12.22222218106996,
           14.444444362139919
          ]
         },
         "mode": "markers+text",
         "name": "Huberman Lab",
         "text": [
          "activity",
          "exercise",
          "glucose",
          "health",
          "muscle",
          "protein",
          "training"
         ],
         "textfont": {
          "color": "rgb(252,205,229)",
          "size": [
           12.59259254458162,
           10.74074072702332,
           10.37037036351166,
           15.18518508916324,
           12.59259254458162,
           12.22222218106996,
           14.444444362139919
          ]
         },
         "textposition": "top center",
         "type": "scatter3d",
         "x": [
          41.30318483781221,
          39.68764237264022,
          51.514215063965686,
          26.6387832261005,
          47.8895986998953,
          54.32576498567808,
          30.4812047016009
         ],
         "y": [
          45.013811836609065,
          37.61694867380858,
          35.5885784706633,
          71.1175683592123,
          32.10528926376511,
          33.81923510074535,
          39.73216909063375
         ],
         "z": [
          124.41545190207178,
          128.54088855253266,
          134.91691233322953,
          129.50054370116962,
          135.13812640215124,
          131.49064625172406,
          122.75987437818043
         ]
        },
        {
         "hoverinfo": "text",
         "hoverlabel": {
          "bgcolor": "white",
          "font": {
           "family": "Arial",
           "size": 12
          }
         },
         "hovertext": [
          "<b>code</b><br>Lex Fridman Podcast: 4<br>All-In with Chamath, Jason, Sacks & Friedberg: 3<br>a16z Podcast: 2<br>The Prof G Pod with Scott Galloway: 1",
          "<b>decision</b><br>Lex Fridman Podcast: 8<br>All-In with Chamath, Jason, Sacks & Friedberg: 6<br>The Peter Zeihan Podcast Series: 4<br>Dwarkesh Podcast: 3<br>Freakonomics Radio: 1<br>Lightcone Podcast: 1<br>Making Sense with Sam Harris: 1<br>The Langley Files: CIA's Podcast: 1<br>The Prof G Pod with Scott Galloway: 1",
          "<b>design</b><br>Lex Fridman Podcast: 4<br>Acquired: 1<br>Dwarkesh Podcast: 1<br>Making Sense with Sam Harris: 1",
          "<b>intelligence</b><br>Lex Fridman Podcast: 9<br>Dwarkesh Podcast: 5<br>Making Sense with Sam Harris - Subscriber Content: 2<br>Discover Daily by Perplexity: 1<br>Making Sense with Sam Harris: 1<br>The Daily: 1<br>a16z Podcast: 1",
          "<b>making</b><br>Lex Fridman Podcast: 5<br>Dwarkesh Podcast: 3<br>The Prof G Pod with Scott Galloway: 1",
          "<b>truth</b><br>Lex Fridman Podcast: 9<br>Making Sense with Sam Harris - Subscriber Content: 2<br>Dwarkesh Podcast: 1",
          "<b>wolfram</b><br>Lex Fridman Podcast: 7"
         ],
         "marker": {
          "color": "rgb(217,217,217)",
          "line": {
           "color": "DarkSlateGrey",
           "width": 1
          },
          "opacity": 0.7,
          "size": [
           11.8518518175583,
           17.777777633744858,
           10.74074072702332,
           15.555555452674898,
           11.48148145404664,
           12.59259254458162,
           10.74074072702332
          ]
         },
         "mode": "markers+text",
         "name": "Lex Fridman Podcast",
         "text": [
          "code",
          "decision",
          "design",
          "intelligence",
          "making",
          "truth",
          "wolfram"
         ],
         "textfont": {
          "color": "rgb(217,217,217)",
          "size": [
           11.8518518175583,
           17.777777633744858,
           10.74074072702332,
           15.555555452674898,
           11.48148145404664,
           12.59259254458162,
           10.74074072702332
          ]
         },
         "textposition": "top center",
         "type": "scatter3d",
         "x": [
          61.75582340522594,
          14.561510653129387,
          52.71106478923621,
          24.396303047705725,
          46.38872956467376,
          31.64002091714864,
          23.011610018519114
         ],
         "y": [
          40.06894402806107,
          52.582469973616675,
          37.23137823500913,
          49.556705518756694,
          53.912330178909976,
          63.56069385399923,
          68.48145171419502
         ],
         "z": [
          94.97073620936226,
          117.24253433029226,
          111.5048908073685,
          130.29928550903287,
          130.0728908511921,
          161.14749979509443,
          162.29388182736992
         ]
        },
        {
         "hoverinfo": "text",
         "hoverlabel": {
          "bgcolor": "white",
          "font": {
           "family": "Arial",
           "size": 12
          }
         },
         "hovertext": [
          "<b>enterprise</b><br>Lightcone Podcast: 3<br>All-In with Chamath, Jason, Sacks & Friedberg: 1<br>a16z Podcast: 1"
         ],
         "marker": {
          "color": "rgb(188,128,189)",
          "line": {
           "color": "DarkSlateGrey",
           "width": 1
          },
          "opacity": 0.7,
          "size": [
           10
          ]
         },
         "mode": "markers+text",
         "name": "Lightcone Podcast",
         "text": [
          "enterprise"
         ],
         "textfont": {
          "color": "rgb(188,128,189)",
          "size": [
           10
          ]
         },
         "textposition": "top center",
         "type": "scatter3d",
         "x": [
          44.340526760024474
         ],
         "y": [
          55.879103830319565
         ],
         "z": [
          101.61907539839494
         ]
        },
        {
         "hoverinfo": "text",
         "hoverlabel": {
          "bgcolor": "white",
          "font": {
           "family": "Arial",
           "size": 12
          }
         },
         "hovertext": [
          "<b>wealth</b><br>Making Sense with Sam Harris: 2<br>The Prof G Pod with Scott Galloway: 2<br>All-In with Chamath, Jason, Sacks & Friedberg: 1<br>Dwarkesh Podcast: 1<br>Search Engine: 1<br>a16z Podcast: 1"
         ],
         "marker": {
          "color": "rgb(204,235,197)",
          "line": {
           "color": "DarkSlateGrey",
           "width": 1
          },
          "opacity": 0.7,
          "size": [
           11.11111109053498
          ]
         },
         "mode": "markers+text",
         "name": "Making Sense with Sam Harris",
         "text": [
          "wealth"
         ],
         "textfont": {
          "color": "rgb(204,235,197)",
          "size": [
           11.11111109053498
          ]
         },
         "textposition": "top center",
         "type": "scatter3d",
         "x": [
          30.342382947235233
         ],
         "y": [
          74.85431145589455
         ],
         "z": [
          143.5392976377088
         ]
        },
        {
         "hoverinfo": "text",
         "hoverlabel": {
          "bgcolor": "white",
          "font": {
           "family": "Arial",
           "size": 12
          }
         },
         "hovertext": [
          "<b>action</b><br>Making Sense with Sam Harris - Subscriber Content: 12<br>All-In with Chamath, Jason, Sacks & Friedberg: 3<br>Dwarkesh Podcast: 1<br>Lex Fridman Podcast: 1<br>Pivot: 1<br>Within Reason: 1",
          "<b>challenge</b><br>Making Sense with Sam Harris - Subscriber Content: 11<br>All-In with Chamath, Jason, Sacks & Friedberg: 8<br>Dwarkesh Podcast: 8<br>The Prof G Pod with Scott Galloway: 5<br>The Daily: 3<br>The Peter Zeihan Podcast Series: 3<br>Acquired: 2<br>Lex Fridman Podcast: 2<br>Pivot: 2<br>Discover Daily by Perplexity: 1<br>Making Sense with Sam Harris: 1<br>Search Engine: 1<br>The Ezra Klein Show: 1<br>The Knowledge Project with Shane Parrish: 1<br>The Langley Files: CIA's Podcast: 1<br>Truth with Vivek Ramaswamy: 1<br>a16z Podcast: 1",
          "<b>complexity</b><br>Making Sense with Sam Harris - Subscriber Content: 7<br>Freakonomics Radio: 2<br>The Joe Rogan Experience: 1<br>The Prof G Pod with Scott Galloway: 1",
          "<b>individual</b><br>Making Sense with Sam Harris - Subscriber Content: 10<br>The Prof G Pod with Scott Galloway: 6<br>All-In with Chamath, Jason, Sacks & Friedberg: 5<br>Pivot: 5<br>Lex Fridman Podcast: 4<br>Dwarkesh Podcast: 3<br>The Ben & Marc Show: 3<br>Truth with Vivek Ramaswamy: 3<br>The Langley Files: CIA's Podcast: 2<br>Discover Daily by Perplexity: 1<br>Freakonomics Radio: 1<br>Huberman Lab: 1<br>Making Sense with Sam Harris: 1<br>Prof G Markets: 1<br>The Knowledge Project with Shane Parrish: 1<br>The Peter Zeihan Podcast Series: 1<br>a16z Podcast: 1",
          "<b>society</b><br>Making Sense with Sam Harris - Subscriber Content: 8<br>Lex Fridman Podcast: 5<br>Truth with Vivek Ramaswamy: 3<br>All-In with Chamath, Jason, Sacks & Friedberg: 1<br>Freakonomics Radio: 1<br>Pivot: 1<br>The Prof G Pod with Scott Galloway: 1",
          "<b>technology</b><br>Making Sense with Sam Harris - Subscriber Content: 8<br>All-In with Chamath, Jason, Sacks & Friedberg: 7<br>Dwarkesh Podcast: 6<br>The Ben & Marc Show: 3<br>The Prof G Pod with Scott Galloway: 3<br>Discover Daily by Perplexity: 2<br>Lex Fridman Podcast: 2<br>Making Sense with Sam Harris: 2<br>Pivot: 2<br>The Joe Rogan Experience: 2<br>Honestly with Bari Weiss: 1<br>Huberman Lab: 1<br>a16z Podcast: 1",
          "<b>trump</b><br>Making Sense with Sam Harris - Subscriber Content: 9<br>All-In with Chamath, Jason, Sacks & Friedberg: 4<br>The Daily: 3<br>The Prof G Pod with Scott Galloway: 3<br>Honestly with Bari Weiss: 1<br>The Peter Zeihan Podcast Series: 1"
         ],
         "marker": {
          "color": "rgb(255,237,111)",
          "line": {
           "color": "DarkSlateGrey",
           "width": 1
          },
          "opacity": 0.7,
          "size": [
           15.18518508916324,
           27.407407085048018,
           12.22222218106996,
           26.296295994513038,
           15.555555452674898,
           22.9629627229081,
           15.92592581618656
          ]
         },
         "mode": "markers+text",
         "name": "Making Sense with Sam Harris - Subscriber Content",
         "text": [
          "action",
          "challenge",
          "complexity",
          "individual",
          "society",
          "technology",
          "trump"
         ],
         "textfont": {
          "color": "rgb(255,237,111)",
          "size": [
           15.18518508916324,
           27.407407085048018,
           12.22222218106996,
           26.296295994513038,
           15.555555452674898,
           22.9629627229081,
           15.92592581618656
          ]
         },
         "textposition": "top center",
         "type": "scatter3d",
         "x": [
          29.857720624347472,
          44.403826585976795,
          49.43909644627979,
          37.70520439599646,
          10.274737769262885,
          51.53604808503997,
          5.061502836371537
         ],
         "y": [
          50.19785381613443,
          66.5305880481245,
          49.54633113655025,
          57.21672620887154,
          58.4015298073138,
          39.99750671300232,
          51.01179900608597
         ],
         "z": [
          116.85186742452228,
          144.932918209244,
          135.33020930490832,
          133.02259152801017,
          141.63068068922342,
          105.7739829817631,
          111.09820289369281
         ]
        },
        {
         "hoverinfo": "text",
         "hoverlabel": {
          "bgcolor": "white",
          "font": {
           "family": "Arial",
           "size": 12
          }
         },
         "hovertext": [
          "<b>automation</b><br>Pivot: 3<br>All-In with Chamath, Jason, Sacks & Friedberg: 2<br>Making Sense with Sam Harris - Subscriber Content: 1<br>The Ben & Marc Show: 1",
          "<b>compensation</b><br>Pivot: 6",
          "<b>job</b><br>Pivot: 5<br>All-In with Chamath, Jason, Sacks & Friedberg: 4<br>Freakonomics Radio: 3<br>Making Sense with Sam Harris: 3<br>The Prof G Pod with Scott Galloway: 3<br>Lex Fridman Podcast: 1<br>Making Sense with Sam Harris - Subscriber Content: 1<br>Prof G Markets: 1",
          "<b>mechanism</b><br>Pivot: 2<br>All-In with Chamath, Jason, Sacks & Friedberg: 1<br>Huberman Lab: 1<br>Within Reason: 1<br>a16z Podcast: 1",
          "<b>operation</b><br>Pivot: 2<br>Acquired: 1<br>Making Sense with Sam Harris - Subscriber Content: 1<br>The Langley Files: CIA's Podcast: 1",
          "<b>search</b><br>Pivot: 2<br>Lex Fridman Podcast: 1<br>Making Sense with Sam Harris - Subscriber Content: 1<br>The Knowledge Project with Shane Parrish: 1<br>The Prof G Pod with Scott Galloway: 1",
          "<b>stock</b><br>Pivot: 3<br>All-In with Chamath, Jason, Sacks & Friedberg: 1<br>The Prof G Pod with Scott Galloway: 1"
         ],
         "marker": {
          "color": "rgb(141,211,199)",
          "line": {
           "color": "DarkSlateGrey",
           "width": 1
          },
          "opacity": 0.7,
          "size": [
           10.74074072702332,
           10.37037036351166,
           15.92592581618656,
           10.37037036351166,
           10,
           10.37037036351166,
           10
          ]
         },
         "mode": "markers+text",
         "name": "Pivot",
         "text": [
          "automation",
          "compensation",
          "job",
          "mechanism",
          "operation",
          "search",
          "stock"
         ],
         "textfont": {
          "color": "rgb(141,211,199)",
          "size": [
           10.74074072702332,
           10.37037036351166,
           15.92592581618656,
           10.37037036351166,
           10,
           10.37037036351166,
           10
          ]
         },
         "textposition": "top center",
         "type": "scatter3d",
         "x": [
          48.809188840920434,
          31.442748790312557,
          31.89516104712762,
          57.10269926627623,
          31.03502670377224,
          48.69050645924178,
          43.977062328909284
         ],
         "y": [
          47.78943645956463,
          64.34232464084769,
          85.34323092040827,
          38.799735915876326,
          47.93294976697301,
          53.800356313822746,
          70.58806912558448
         ],
         "z": [
          106.5187072125979,
          118.47425550952264,
          127.57261832239847,
          126.7956032468834,
          110.21313515419871,
          96.39802832539105,
          104.23104199050154
         ]
        },
        {
         "hoverinfo": "text",
         "hoverlabel": {
          "bgcolor": "white",
          "font": {
           "family": "Arial",
           "size": 12
          }
         },
         "hovertext": [
          "<b>berlin</b><br>Search Engine: 4<br>Freakonomics Radio: 1",
          "<b>parent</b><br>Search Engine: 2<br>The Prof G Pod with Scott Galloway: 2<br>Truth with Vivek Ramaswamy: 1"
         ],
         "marker": {
          "color": "rgb(255,255,179)",
          "line": {
           "color": "DarkSlateGrey",
           "width": 1
          },
          "opacity": 0.7,
          "size": [
           10,
           10
          ]
         },
         "mode": "markers+text",
         "name": "Search Engine",
         "text": [
          "berlin",
          "parent"
         ],
         "textfont": {
          "color": "rgb(255,255,179)",
          "size": [
           10,
           10
          ]
         },
         "textposition": "top center",
         "type": "scatter3d",
         "x": [
          1.9949384232607845,
          19.585533743978644
         ],
         "y": [
          67.17689082820637,
          81.92325668316096
         ],
         "z": [
          104.75499001327543,
          151.27415190371764
         ]
        },
        {
         "hoverinfo": "text",
         "hoverlabel": {
          "bgcolor": "white",
          "font": {
           "family": "Arial",
           "size": 12
          }
         },
         "hovertext": [
          "<b>nurse</b><br>The Ben & Marc Show: 3<br>a16z Podcast: 2"
         ],
         "marker": {
          "color": "rgb(190,186,218)",
          "line": {
           "color": "DarkSlateGrey",
           "width": 1
          },
          "opacity": 0.7,
          "size": [
           10
          ]
         },
         "mode": "markers+text",
         "name": "The Ben & Marc Show",
         "text": [
          "nurse"
         ],
         "textfont": {
          "color": "rgb(190,186,218)",
          "size": [
           10
          ]
         },
         "textposition": "top center",
         "type": "scatter3d",
         "x": [
          22.41491316947397
         ],
         "y": [
          84.84056371063846
         ],
         "z": [
          137.8070754855333
         ]
        },
        {
         "hoverinfo": "text",
         "hoverlabel": {
          "bgcolor": "white",
          "font": {
           "family": "Arial",
           "size": 12
          }
         },
         "hovertext": [
          "<b>employee</b><br>The Daily: 3<br>The Prof G Pod with Scott Galloway: 2<br>a16z Podcast: 2<br>All-In with Chamath, Jason, Sacks & Friedberg: 1<br>Lightcone Podcast: 1<br>Pivot: 1",
          "<b>man</b><br>The Daily: 4<br>The Prof G Pod with Scott Galloway: 2<br>Huberman Lab: 1",
          "<b>office</b><br>The Daily: 3<br>The Prof G Pod with Scott Galloway: 2",
          "<b>official</b><br>The Daily: 3<br>Dwarkesh Podcast: 1<br>Lex Fridman Podcast: 1",
          "<b>president</b><br>The Daily: 7<br>The Prof G Pod with Scott Galloway: 3<br>All-In with Chamath, Jason, Sacks & Friedberg: 2",
          "<b>ukraine</b><br>The Daily: 5<br>The Peter Zeihan Podcast Series: 3<br>Dwarkesh Podcast: 2<br>All-In with Chamath, Jason, Sacks & Friedberg: 1<br>Making Sense with Sam Harris - Subscriber Content: 1"
         ],
         "marker": {
          "color": "rgb(251,128,114)",
          "line": {
           "color": "DarkSlateGrey",
           "width": 1
          },
          "opacity": 0.7,
          "size": [
           11.8518518175583,
           10.74074072702332,
           10,
           10,
           12.59259254458162,
           12.59259254458162
          ]
         },
         "mode": "markers+text",
         "name": "The Daily",
         "text": [
          "employee",
          "man",
          "office",
          "official",
          "president",
          "ukraine"
         ],
         "textfont": {
          "color": "rgb(251,128,114)",
          "size": [
           11.8518518175583,
           10.74074072702332,
           10,
           10,
           12.59259254458162,
           12.59259254458162
          ]
         },
         "textposition": "top center",
         "type": "scatter3d",
         "x": [
          28.56015267605755,
          24.87140795070597,
          16.0592785741673,
          10.027906612640008,
          5.599356919252135,
          0.6415194848977644
         ],
         "y": [
          82.25139980280916,
          72.88344400633228,
          64.2188310665716,
          59.04079016258306,
          52.46514030345181,
          58.571082539289655
         ],
         "z": [
          121.31671393509822,
          161.92579694709858,
          105.5437316918998,
          107.40683573325477,
          110.12309002621458,
          115.2204111704112
         ]
        },
        {
         "hoverinfo": "text",
         "hoverlabel": {
          "bgcolor": "white",
          "font": {
           "family": "Arial",
           "size": 12
          }
         },
         "hovertext": [
          "<b>california</b><br>The Joe Rogan Experience: 2<br>Honestly with Bari Weiss: 1<br>The Daily: 1<br>The Prof G Pod with Scott Galloway: 1",
          "<b>network</b><br>The Joe Rogan Experience: 3<br>Lex Fridman Podcast: 2<br>All-In with Chamath, Jason, Sacks & Friedberg: 1<br>Discover Daily by Perplexity: 1<br>Dwarkesh Podcast: 1<br>Truth with Vivek Ramaswamy: 1<br>a16z Podcast: 1"
         ],
         "marker": {
          "color": "rgb(128,177,211)",
          "line": {
           "color": "DarkSlateGrey",
           "width": 1
          },
          "opacity": 0.7,
          "size": [
           10,
           11.8518518175583
          ]
         },
         "mode": "markers+text",
         "name": "The Joe Rogan Experience",
         "text": [
          "california",
          "network"
         ],
         "textfont": {
          "color": "rgb(128,177,211)",
          "size": [
           10,
           11.8518518175583
          ]
         },
         "textposition": "top center",
         "type": "scatter3d",
         "x": [
          8.517035327453028,
          46.52324223168346
         ],
         "y": [
          62.75314190461499,
          43.42603089885175
         ],
         "z": [
          117.1806420869483,
          99.06159251801111
         ]
        },
        {
         "hoverinfo": "text",
         "hoverlabel": {
          "bgcolor": "white",
          "font": {
           "family": "Arial",
           "size": 12
          }
         },
         "hovertext": [
          "<b>capitalism</b><br>The Knowledge Project with Shane Parrish: 2<br>The Prof G Pod with Scott Galloway: 2<br>Truth with Vivek Ramaswamy: 2<br>All-In with Chamath, Jason, Sacks & Friedberg: 1<br>Dwarkesh Podcast: 1<br>Making Sense with Sam Harris - Subscriber Content: 1",
          "<b>happiness</b><br>The Knowledge Project with Shane Parrish: 5<br>The Prof G Pod with Scott Galloway: 3<br>Lex Fridman Podcast: 1"
         ],
         "marker": {
          "color": "rgb(253,180,98)",
          "line": {
           "color": "DarkSlateGrey",
           "width": 1
          },
          "opacity": 0.7,
          "size": [
           11.48148145404664,
           11.48148145404664
          ]
         },
         "mode": "markers+text",
         "name": "The Knowledge Project with Shane Parrish",
         "text": [
          "capitalism",
          "happiness"
         ],
         "textfont": {
          "color": "rgb(253,180,98)",
          "size": [
           11.48148145404664,
           11.48148145404664
          ]
         },
         "textposition": "top center",
         "type": "scatter3d",
         "x": [
          17.692171583256723,
          37.49247851210481
         ],
         "y": [
          62.60429964721537,
          68.42193813828705
         ],
         "z": [
          139.02842579235872,
          157.49485647929026
         ]
        },
        {
         "hoverinfo": "text",
         "hoverlabel": {
          "bgcolor": "white",
          "font": {
           "family": "Arial",
           "size": 12
          }
         },
         "hovertext": [
          "<b>diversity</b><br>The Langley Files: CIA's Podcast: 3<br>The Prof G Pod with Scott Galloway: 2",
          "<b>organization</b><br>The Langley Files: CIA's Podcast: 3<br>All-In with Chamath, Jason, Sacks & Friedberg: 2<br>Dwarkesh Podcast: 2<br>Honestly with Bari Weiss: 1<br>Lightcone Podcast: 1"
         ],
         "marker": {
          "color": "rgb(179,222,105)",
          "line": {
           "color": "DarkSlateGrey",
           "width": 1
          },
          "opacity": 0.7,
          "size": [
           10,
           11.48148145404664
          ]
         },
         "mode": "markers+text",
         "name": "The Langley Files: CIA's Podcast",
         "text": [
          "diversity",
          "organization"
         ],
         "textfont": {
          "color": "rgb(179,222,105)",
          "size": [
           10,
           11.48148145404664
          ]
         },
         "textposition": "top center",
         "type": "scatter3d",
         "x": [
          17.848385750117885,
          22.79212954346882
         ],
         "y": [
          57.10294175636104,
          50.75832579243489
         ],
         "z": [
          130.0002427171048,
          118.02820598413312
         ]
        },
        {
         "hoverinfo": "text",
         "hoverlabel": {
          "bgcolor": "white",
          "font": {
           "family": "Arial",
           "size": 12
          }
         },
         "hovertext": [
          "<b>era</b><br>The Peter Zeihan Podcast Series: 2<br>All-In with Chamath, Jason, Sacks & Friedberg: 1<br>Freakonomics Radio: 1<br>Making Sense with Sam Harris - Subscriber Content: 1<br>Search Engine: 1<br>The Prof G Pod with Scott Galloway: 1",
          "<b>region</b><br>The Peter Zeihan Podcast Series: 2<br>Freakonomics Radio: 1<br>Making Sense with Sam Harris - Subscriber Content: 1<br>The Joe Rogan Experience: 1"
         ],
         "marker": {
          "color": "rgb(252,205,229)",
          "line": {
           "color": "DarkSlateGrey",
           "width": 1
          },
          "opacity": 0.7,
          "size": [
           10.74074072702332,
           10
          ]
         },
         "mode": "markers+text",
         "name": "The Peter Zeihan Podcast Series",
         "text": [
          "era",
          "region"
         ],
         "textfont": {
          "color": "rgb(252,205,229)",
          "size": [
           10.74074072702332,
           10
          ]
         },
         "textposition": "top center",
         "type": "scatter3d",
         "x": [
          15.011902834567698,
          0.288152065782936
         ],
         "y": [
          60.4804040417966,
          56.29775946603429
         ],
         "z": [
          146.17881041838922,
          123.44639081815903
         ]
        },
        {
         "hoverinfo": "text",
         "hoverlabel": {
          "bgcolor": "white",
          "font": {
           "family": "Arial",
           "size": 12
          }
         },
         "hovertext": [
          "<b>deutschland</b><br>The Pioneer Briefing: 4<br>Making Sense with Sam Harris - Subscriber Content: 1",
          "<b>lage</b><br>The Pioneer Briefing: 3<br>NZZ Akzent: 2"
         ],
         "marker": {
          "color": "rgb(217,217,217)",
          "line": {
           "color": "DarkSlateGrey",
           "width": 1
          },
          "opacity": 0.7,
          "size": [
           10,
           10
          ]
         },
         "mode": "markers+text",
         "name": "The Pioneer Briefing",
         "text": [
          "deutschland",
          "lage"
         ],
         "textfont": {
          "color": "rgb(217,217,217)",
          "size": [
           10,
           10
          ]
         },
         "textposition": "top center",
         "type": "scatter3d",
         "x": [
          8.47139327862895,
          23.696177804131228
         ],
         "y": [
          65.38343058956013,
          64.20870535497315
         ],
         "z": [
          96.15606397927003,
          92.5170136086599
         ]
        },
        {
         "hoverinfo": "text",
         "hoverlabel": {
          "bgcolor": "white",
          "font": {
           "family": "Arial",
           "size": 12
          }
         },
         "hovertext": [
          "<b>america</b><br>The Prof G Pod with Scott Galloway: 7<br>All-In with Chamath, Jason, Sacks & Friedberg: 2<br>Freakonomics Radio: 1",
          "<b>child</b><br>The Prof G Pod with Scott Galloway: 6<br>Truth with Vivek Ramaswamy: 4<br>All-In with Chamath, Jason, Sacks & Friedberg: 2<br>Freakonomics Radio: 2<br>Making Sense with Sam Harris - Subscriber Content: 1<br>Prof G Markets: 1<br>The Knowledge Project with Shane Parrish: 1",
          "<b>dei</b><br>The Prof G Pod with Scott Galloway: 6",
          "<b>equity</b><br>The Prof G Pod with Scott Galloway: 6<br>All-In with Chamath, Jason, Sacks & Friedberg: 3",
          "<b>opportunity</b><br>The Prof G Pod with Scott Galloway: 6<br>Dwarkesh Podcast: 5<br>a16z Podcast: 4<br>All-In with Chamath, Jason, Sacks & Friedberg: 2<br>Acquired: 1<br>Freakonomics Radio: 1<br>Pivot: 1<br>Truth with Vivek Ramaswamy: 1",
          "<b>tax</b><br>The Prof G Pod with Scott Galloway: 7<br>Pivot: 2<br>Freakonomics Radio: 1<br>Truth with Vivek Ramaswamy: 1",
          "<b>term</b><br>The Prof G Pod with Scott Galloway: 7<br>All-In with Chamath, Jason, Sacks & Friedberg: 3<br>Dwarkesh Podcast: 3<br>Making Sense with Sam Harris - Subscriber Content: 2<br>Freakonomics Radio: 1<br>Making Sense with Sam Harris: 1<br>Prof G Markets: 1<br>The Peter Zeihan Podcast Series: 1<br>Within Reason: 1"
         ],
         "marker": {
          "color": "rgb(188,128,189)",
          "line": {
           "color": "DarkSlateGrey",
           "width": 1
          },
          "opacity": 0.7,
          "size": [
           11.8518518175583,
           14.444444362139919,
           10.37037036351166,
           11.48148145404664,
           15.92592581618656,
           12.22222218106996,
           15.555555452674898
          ]
         },
         "mode": "markers+text",
         "name": "The Prof G Pod with Scott Galloway",
         "text": [
          "america",
          "child",
          "dei",
          "equity",
          "opportunity",
          "tax",
          "term"
         ],
         "textfont": {
          "color": "rgb(188,128,189)",
          "size": [
           11.8518518175583,
           14.444444362139919,
           10.37037036351166,
           11.48148145404664,
           15.92592581618656,
           12.22222218106996,
           15.555555452674898
          ]
         },
         "textposition": "top center",
         "type": "scatter3d",
         "x": [
          4.3598829333975715,
          20.259231693833485,
          6.048208726324647,
          42.09134104385436,
          43.06766361180235,
          35.89584840297869,
          42.259460620067976
         ],
         "y": [
          60.713686998031584,
          79.52768654246215,
          66.23903371640094,
          74.09653071301454,
          72.90887632076812,
          84.50304815358092,
          60.534054331125446
         ],
         "z": [
          131.10312535182445,
          152.63063481335286,
          97.50737085840046,
          105.05462987056711,
          149.4516978821417,
          110.58119349228389,
          119.4229174814688
         ]
        },
        {
         "hoverinfo": "text",
         "hoverlabel": {
          "bgcolor": "white",
          "font": {
           "family": "Arial",
           "size": 12
          }
         },
         "hovertext": [
          "<b>family</b><br>Truth with Vivek Ramaswamy: 3<br>Search Engine: 2<br>Freakonomics Radio: 1<br>The Prof G Pod with Scott Galloway: 1",
          "<b>identity</b><br>Truth with Vivek Ramaswamy: 3<br>Freakonomics Radio: 1<br>Making Sense with Sam Harris - Subscriber Content: 1<br>The Ezra Klein Show: 1",
          "<b>path</b><br>Truth with Vivek Ramaswamy: 3<br>Freakonomics Radio: 2<br>Dwarkesh Podcast: 1"
         ],
         "marker": {
          "color": "rgb(204,235,197)",
          "line": {
           "color": "DarkSlateGrey",
           "width": 1
          },
          "opacity": 0.7,
          "size": [
           10.74074072702332,
           10.37037036351166,
           10.37037036351166
          ]
         },
         "mode": "markers+text",
         "name": "Truth with Vivek Ramaswamy",
         "text": [
          "family",
          "identity",
          "path"
         ],
         "textfont": {
          "color": "rgb(204,235,197)",
          "size": [
           10.74074072702332,
           10.37037036351166,
           10.37037036351166
          ]
         },
         "textposition": "top center",
         "type": "scatter3d",
         "x": [
          16.214027888435275,
          29.874739075055402,
          36.23051467015665
         ],
         "y": [
          79.62739025591834,
          55.99805484005677,
          58.916314756676485
         ],
         "z": [
          148.8002110225884,
          142.07110798310987,
          160.83158154990875
         ]
        },
        {
         "hoverinfo": "text",
         "hoverlabel": {
          "bgcolor": "white",
          "font": {
           "family": "Arial",
           "size": 12
          }
         },
         "hovertext": [
          "<b>demand</b><br>a16z Podcast: 2<br>Freakonomics Radio: 1<br>The Peter Zeihan Podcast Series: 1<br>The Prof G Pod with Scott Galloway: 1<br>Truth with Vivek Ramaswamy: 1",
          "<b>flaw</b><br>a16z Podcast: 2<br>Freakonomics Radio: 1<br>Making Sense with Sam Harris - Subscriber Content: 1<br>The Prof G Pod with Scott Galloway: 1",
          "<b>healthcare</b><br>a16z Podcast: 3<br>All-In with Chamath, Jason, Sacks & Friedberg: 1<br>Freakonomics Radio: 1<br>The Ben & Marc Show: 1<br>The Prof G Pod with Scott Galloway: 1",
          "<b>labor</b><br>a16z Podcast: 4<br>Truth with Vivek Ramaswamy: 3<br>All-In with Chamath, Jason, Sacks & Friedberg: 2<br>Freakonomics Radio: 2<br>Pivot: 1<br>The Peter Zeihan Podcast Series: 1<br>The Prof G Pod with Scott Galloway: 1",
          "<b>software</b><br>a16z Podcast: 13<br>All-In with Chamath, Jason, Sacks & Friedberg: 4<br>Dwarkesh Podcast: 2<br>Lightcone Podcast: 2<br>The Prof G Pod with Scott Galloway: 2<br>Making Sense with Sam Harris: 1<br>Pivot: 1"
         ],
         "marker": {
          "color": "rgb(255,237,111)",
          "line": {
           "color": "DarkSlateGrey",
           "width": 1
          },
          "opacity": 0.7,
          "size": [
           10.37037036351166,
           10,
           10.74074072702332,
           13.333333271604939,
           17.4074072702332
          ]
         },
         "mode": "markers+text",
         "name": "a16z Podcast",
         "text": [
          "demand",
          "flaw",
          "healthcare",
          "labor",
          "software"
         ],
         "textfont": {
          "color": "rgb(255,237,111)",
          "size": [
           10.37037036351166,
           10,
           10.74074072702332,
           13.333333271604939,
           17.4074072702332
          ]
         },
         "textposition": "top center",
         "type": "scatter3d",
         "x": [
          46.889374484206805,
          39.687689539681784,
          27.5213098416433,
          21.96440805352381,
          57.38356490862285
         ],
         "y": [
          72.51514322778968,
          55.18126937967923,
          76.73487736721937,
          78.63261063381991,
          43.40308130281631
         ],
         "z": [
          125.35763417386316,
          151.05628298538042,
          133.61228604422178,
          118.601365186258,
          99.53106462442392
         ]
        },
        {
         "hoverlabel": {
          "bgcolor": "white",
          "font": {
           "family": "Arial",
           "size": 12
          }
         },
         "marker": {
          "color": "#3366CC",
          "opacity": 0,
          "size": 0
         },
         "mode": "markers",
         "name": "Cluster 0",
         "showlegend": true,
         "type": "scatter3d",
         "x": [
          9.053093563495683
         ],
         "y": [
          56.67579125666546
         ],
         "z": [
          120.95293892942439
         ]
        },
        {
         "hoverlabel": {
          "bgcolor": "white",
          "font": {
           "family": "Arial",
           "size": 12
          }
         },
         "marker": {
          "color": "#DC3912",
          "opacity": 0,
          "size": 0
         },
         "mode": "markers",
         "name": "Cluster 1",
         "showlegend": true,
         "type": "scatter3d",
         "x": [
          51.39457276986741
         ],
         "y": [
          45.12475506494699
         ],
         "z": [
          113.90612146946445
         ]
        },
        {
         "hoverlabel": {
          "bgcolor": "white",
          "font": {
           "family": "Arial",
           "size": 12
          }
         },
         "marker": {
          "color": "#FF9900",
          "opacity": 0,
          "size": 0
         },
         "mode": "markers",
         "name": "Cluster 2",
         "showlegend": true,
         "type": "scatter3d",
         "x": [
          37.252675836711774
         ],
         "y": [
          71.9495649716097
         ],
         "z": [
          138.56334080979678
         ]
        }
       ],
       "layout": {
        "height": 800,
        "legend": {
         "bgcolor": "rgba(0,0,0,0)",
         "itemsizing": "constant",
         "itemwidth": 30,
         "orientation": "v",
         "x": 1.02,
         "xanchor": "left",
         "y": 1,
         "yanchor": "auto"
        },
        "scene": {
         "xaxis": {
          "showgrid": false,
          "showticklabels": false,
          "zeroline": false
         },
         "yaxis": {
          "showgrid": false,
          "showticklabels": false,
          "zeroline": false
         },
         "zaxis": {
          "showgrid": false,
          "showticklabels": false,
          "zeroline": false
         }
        },
        "showlegend": true,
        "template": {
         "data": {
          "bar": [
           {
            "error_x": {
             "color": "#f2f5fa"
            },
            "error_y": {
             "color": "#f2f5fa"
            },
            "marker": {
             "line": {
              "color": "rgb(17,17,17)",
              "width": 0.5
             },
             "pattern": {
              "fillmode": "overlay",
              "size": 10,
              "solidity": 0.2
             }
            },
            "type": "bar"
           }
          ],
          "barpolar": [
           {
            "marker": {
             "line": {
              "color": "rgb(17,17,17)",
              "width": 0.5
             },
             "pattern": {
              "fillmode": "overlay",
              "size": 10,
              "solidity": 0.2
             }
            },
            "type": "barpolar"
           }
          ],
          "carpet": [
           {
            "aaxis": {
             "endlinecolor": "#A2B1C6",
             "gridcolor": "#506784",
             "linecolor": "#506784",
             "minorgridcolor": "#506784",
             "startlinecolor": "#A2B1C6"
            },
            "baxis": {
             "endlinecolor": "#A2B1C6",
             "gridcolor": "#506784",
             "linecolor": "#506784",
             "minorgridcolor": "#506784",
             "startlinecolor": "#A2B1C6"
            },
            "type": "carpet"
           }
          ],
          "choropleth": [
           {
            "colorbar": {
             "outlinewidth": 0,
             "ticks": ""
            },
            "type": "choropleth"
           }
          ],
          "contour": [
           {
            "colorbar": {
             "outlinewidth": 0,
             "ticks": ""
            },
            "colorscale": [
             [
              0,
              "#0d0887"
             ],
             [
              0.1111111111111111,
              "#46039f"
             ],
             [
              0.2222222222222222,
              "#7201a8"
             ],
             [
              0.3333333333333333,
              "#9c179e"
             ],
             [
              0.4444444444444444,
              "#bd3786"
             ],
             [
              0.5555555555555556,
              "#d8576b"
             ],
             [
              0.6666666666666666,
              "#ed7953"
             ],
             [
              0.7777777777777778,
              "#fb9f3a"
             ],
             [
              0.8888888888888888,
              "#fdca26"
             ],
             [
              1,
              "#f0f921"
             ]
            ],
            "type": "contour"
           }
          ],
          "contourcarpet": [
           {
            "colorbar": {
             "outlinewidth": 0,
             "ticks": ""
            },
            "type": "contourcarpet"
           }
          ],
          "heatmap": [
           {
            "colorbar": {
             "outlinewidth": 0,
             "ticks": ""
            },
            "colorscale": [
             [
              0,
              "#0d0887"
             ],
             [
              0.1111111111111111,
              "#46039f"
             ],
             [
              0.2222222222222222,
              "#7201a8"
             ],
             [
              0.3333333333333333,
              "#9c179e"
             ],
             [
              0.4444444444444444,
              "#bd3786"
             ],
             [
              0.5555555555555556,
              "#d8576b"
             ],
             [
              0.6666666666666666,
              "#ed7953"
             ],
             [
              0.7777777777777778,
              "#fb9f3a"
             ],
             [
              0.8888888888888888,
              "#fdca26"
             ],
             [
              1,
              "#f0f921"
             ]
            ],
            "type": "heatmap"
           }
          ],
          "heatmapgl": [
           {
            "colorbar": {
             "outlinewidth": 0,
             "ticks": ""
            },
            "colorscale": [
             [
              0,
              "#0d0887"
             ],
             [
              0.1111111111111111,
              "#46039f"
             ],
             [
              0.2222222222222222,
              "#7201a8"
             ],
             [
              0.3333333333333333,
              "#9c179e"
             ],
             [
              0.4444444444444444,
              "#bd3786"
             ],
             [
              0.5555555555555556,
              "#d8576b"
             ],
             [
              0.6666666666666666,
              "#ed7953"
             ],
             [
              0.7777777777777778,
              "#fb9f3a"
             ],
             [
              0.8888888888888888,
              "#fdca26"
             ],
             [
              1,
              "#f0f921"
             ]
            ],
            "type": "heatmapgl"
           }
          ],
          "histogram": [
           {
            "marker": {
             "pattern": {
              "fillmode": "overlay",
              "size": 10,
              "solidity": 0.2
             }
            },
            "type": "histogram"
           }
          ],
          "histogram2d": [
           {
            "colorbar": {
             "outlinewidth": 0,
             "ticks": ""
            },
            "colorscale": [
             [
              0,
              "#0d0887"
             ],
             [
              0.1111111111111111,
              "#46039f"
             ],
             [
              0.2222222222222222,
              "#7201a8"
             ],
             [
              0.3333333333333333,
              "#9c179e"
             ],
             [
              0.4444444444444444,
              "#bd3786"
             ],
             [
              0.5555555555555556,
              "#d8576b"
             ],
             [
              0.6666666666666666,
              "#ed7953"
             ],
             [
              0.7777777777777778,
              "#fb9f3a"
             ],
             [
              0.8888888888888888,
              "#fdca26"
             ],
             [
              1,
              "#f0f921"
             ]
            ],
            "type": "histogram2d"
           }
          ],
          "histogram2dcontour": [
           {
            "colorbar": {
             "outlinewidth": 0,
             "ticks": ""
            },
            "colorscale": [
             [
              0,
              "#0d0887"
             ],
             [
              0.1111111111111111,
              "#46039f"
             ],
             [
              0.2222222222222222,
              "#7201a8"
             ],
             [
              0.3333333333333333,
              "#9c179e"
             ],
             [
              0.4444444444444444,
              "#bd3786"
             ],
             [
              0.5555555555555556,
              "#d8576b"
             ],
             [
              0.6666666666666666,
              "#ed7953"
             ],
             [
              0.7777777777777778,
              "#fb9f3a"
             ],
             [
              0.8888888888888888,
              "#fdca26"
             ],
             [
              1,
              "#f0f921"
             ]
            ],
            "type": "histogram2dcontour"
           }
          ],
          "mesh3d": [
           {
            "colorbar": {
             "outlinewidth": 0,
             "ticks": ""
            },
            "type": "mesh3d"
           }
          ],
          "parcoords": [
           {
            "line": {
             "colorbar": {
              "outlinewidth": 0,
              "ticks": ""
             }
            },
            "type": "parcoords"
           }
          ],
          "pie": [
           {
            "automargin": true,
            "type": "pie"
           }
          ],
          "scatter": [
           {
            "marker": {
             "line": {
              "color": "#283442"
             }
            },
            "type": "scatter"
           }
          ],
          "scatter3d": [
           {
            "line": {
             "colorbar": {
              "outlinewidth": 0,
              "ticks": ""
             }
            },
            "marker": {
             "colorbar": {
              "outlinewidth": 0,
              "ticks": ""
             }
            },
            "type": "scatter3d"
           }
          ],
          "scattercarpet": [
           {
            "marker": {
             "colorbar": {
              "outlinewidth": 0,
              "ticks": ""
             }
            },
            "type": "scattercarpet"
           }
          ],
          "scattergeo": [
           {
            "marker": {
             "colorbar": {
              "outlinewidth": 0,
              "ticks": ""
             }
            },
            "type": "scattergeo"
           }
          ],
          "scattergl": [
           {
            "marker": {
             "line": {
              "color": "#283442"
             }
            },
            "type": "scattergl"
           }
          ],
          "scattermapbox": [
           {
            "marker": {
             "colorbar": {
              "outlinewidth": 0,
              "ticks": ""
             }
            },
            "type": "scattermapbox"
           }
          ],
          "scatterpolar": [
           {
            "marker": {
             "colorbar": {
              "outlinewidth": 0,
              "ticks": ""
             }
            },
            "type": "scatterpolar"
           }
          ],
          "scatterpolargl": [
           {
            "marker": {
             "colorbar": {
              "outlinewidth": 0,
              "ticks": ""
             }
            },
            "type": "scatterpolargl"
           }
          ],
          "scatterternary": [
           {
            "marker": {
             "colorbar": {
              "outlinewidth": 0,
              "ticks": ""
             }
            },
            "type": "scatterternary"
           }
          ],
          "surface": [
           {
            "colorbar": {
             "outlinewidth": 0,
             "ticks": ""
            },
            "colorscale": [
             [
              0,
              "#0d0887"
             ],
             [
              0.1111111111111111,
              "#46039f"
             ],
             [
              0.2222222222222222,
              "#7201a8"
             ],
             [
              0.3333333333333333,
              "#9c179e"
             ],
             [
              0.4444444444444444,
              "#bd3786"
             ],
             [
              0.5555555555555556,
              "#d8576b"
             ],
             [
              0.6666666666666666,
              "#ed7953"
             ],
             [
              0.7777777777777778,
              "#fb9f3a"
             ],
             [
              0.8888888888888888,
              "#fdca26"
             ],
             [
              1,
              "#f0f921"
             ]
            ],
            "type": "surface"
           }
          ],
          "table": [
           {
            "cells": {
             "fill": {
              "color": "#506784"
             },
             "line": {
              "color": "rgb(17,17,17)"
             }
            },
            "header": {
             "fill": {
              "color": "#2a3f5f"
             },
             "line": {
              "color": "rgb(17,17,17)"
             }
            },
            "type": "table"
           }
          ]
         },
         "layout": {
          "annotationdefaults": {
           "arrowcolor": "#f2f5fa",
           "arrowhead": 0,
           "arrowwidth": 1
          },
          "autotypenumbers": "strict",
          "coloraxis": {
           "colorbar": {
            "outlinewidth": 0,
            "ticks": ""
           }
          },
          "colorscale": {
           "diverging": [
            [
             0,
             "#8e0152"
            ],
            [
             0.1,
             "#c51b7d"
            ],
            [
             0.2,
             "#de77ae"
            ],
            [
             0.3,
             "#f1b6da"
            ],
            [
             0.4,
             "#fde0ef"
            ],
            [
             0.5,
             "#f7f7f7"
            ],
            [
             0.6,
             "#e6f5d0"
            ],
            [
             0.7,
             "#b8e186"
            ],
            [
             0.8,
             "#7fbc41"
            ],
            [
             0.9,
             "#4d9221"
            ],
            [
             1,
             "#276419"
            ]
           ],
           "sequential": [
            [
             0,
             "#0d0887"
            ],
            [
             0.1111111111111111,
             "#46039f"
            ],
            [
             0.2222222222222222,
             "#7201a8"
            ],
            [
             0.3333333333333333,
             "#9c179e"
            ],
            [
             0.4444444444444444,
             "#bd3786"
            ],
            [
             0.5555555555555556,
             "#d8576b"
            ],
            [
             0.6666666666666666,
             "#ed7953"
            ],
            [
             0.7777777777777778,
             "#fb9f3a"
            ],
            [
             0.8888888888888888,
             "#fdca26"
            ],
            [
             1,
             "#f0f921"
            ]
           ],
           "sequentialminus": [
            [
             0,
             "#0d0887"
            ],
            [
             0.1111111111111111,
             "#46039f"
            ],
            [
             0.2222222222222222,
             "#7201a8"
            ],
            [
             0.3333333333333333,
             "#9c179e"
            ],
            [
             0.4444444444444444,
             "#bd3786"
            ],
            [
             0.5555555555555556,
             "#d8576b"
            ],
            [
             0.6666666666666666,
             "#ed7953"
            ],
            [
             0.7777777777777778,
             "#fb9f3a"
            ],
            [
             0.8888888888888888,
             "#fdca26"
            ],
            [
             1,
             "#f0f921"
            ]
           ]
          },
          "colorway": [
           "#636efa",
           "#EF553B",
           "#00cc96",
           "#ab63fa",
           "#FFA15A",
           "#19d3f3",
           "#FF6692",
           "#B6E880",
           "#FF97FF",
           "#FECB52"
          ],
          "font": {
           "color": "#f2f5fa"
          },
          "geo": {
           "bgcolor": "rgb(17,17,17)",
           "lakecolor": "rgb(17,17,17)",
           "landcolor": "rgb(17,17,17)",
           "showlakes": true,
           "showland": true,
           "subunitcolor": "#506784"
          },
          "hoverlabel": {
           "align": "left"
          },
          "hovermode": "closest",
          "mapbox": {
           "style": "dark"
          },
          "paper_bgcolor": "rgb(17,17,17)",
          "plot_bgcolor": "rgb(17,17,17)",
          "polar": {
           "angularaxis": {
            "gridcolor": "#506784",
            "linecolor": "#506784",
            "ticks": ""
           },
           "bgcolor": "rgb(17,17,17)",
           "radialaxis": {
            "gridcolor": "#506784",
            "linecolor": "#506784",
            "ticks": ""
           }
          },
          "scene": {
           "xaxis": {
            "backgroundcolor": "rgb(17,17,17)",
            "gridcolor": "#506784",
            "gridwidth": 2,
            "linecolor": "#506784",
            "showbackground": true,
            "ticks": "",
            "zerolinecolor": "#C8D4E3"
           },
           "yaxis": {
            "backgroundcolor": "rgb(17,17,17)",
            "gridcolor": "#506784",
            "gridwidth": 2,
            "linecolor": "#506784",
            "showbackground": true,
            "ticks": "",
            "zerolinecolor": "#C8D4E3"
           },
           "zaxis": {
            "backgroundcolor": "rgb(17,17,17)",
            "gridcolor": "#506784",
            "gridwidth": 2,
            "linecolor": "#506784",
            "showbackground": true,
            "ticks": "",
            "zerolinecolor": "#C8D4E3"
           }
          },
          "shapedefaults": {
           "line": {
            "color": "#f2f5fa"
           }
          },
          "sliderdefaults": {
           "bgcolor": "#C8D4E3",
           "bordercolor": "rgb(17,17,17)",
           "borderwidth": 1,
           "tickwidth": 0
          },
          "ternary": {
           "aaxis": {
            "gridcolor": "#506784",
            "linecolor": "#506784",
            "ticks": ""
           },
           "baxis": {
            "gridcolor": "#506784",
            "linecolor": "#506784",
            "ticks": ""
           },
           "bgcolor": "rgb(17,17,17)",
           "caxis": {
            "gridcolor": "#506784",
            "linecolor": "#506784",
            "ticks": ""
           }
          },
          "title": {
           "x": 0.05
          },
          "updatemenudefaults": {
           "bgcolor": "#506784",
           "borderwidth": 0
          },
          "xaxis": {
           "automargin": true,
           "gridcolor": "#283442",
           "linecolor": "#506784",
           "ticks": "",
           "title": {
            "standoff": 15
           },
           "zerolinecolor": "#283442",
           "zerolinewidth": 2
          },
          "yaxis": {
           "automargin": true,
           "gridcolor": "#283442",
           "linecolor": "#506784",
           "ticks": "",
           "title": {
            "standoff": 15
           },
           "zerolinecolor": "#283442",
           "zerolinewidth": 2
          }
         }
        },
        "title": {
         "text": "Clusters by Show (3D) | max_words_per_show=7"
        },
        "width": 1200
       }
      }
     },
     "metadata": {},
     "output_type": "display_data"
    }
   ],
   "source": [
    "import numpy as np\n",
    "import pandas as pd\n",
    "import spacy\n",
    "from typing import Optional\n",
    "from collections import Counter, defaultdict\n",
    "from sklearn.metrics.pairwise import cosine_similarity\n",
    "import umap\n",
    "import hdbscan\n",
    "import plotly.express as px\n",
    "import plotly.graph_objects as go\n",
    "\n",
    "# If you're mixing German transcripts, import German stopwords:\n",
    "from spacy.lang.de.stop_words import STOP_WORDS as de_stop_words\n",
    "\n",
    "def create_show_keyword_visualization(\n",
    "    df: pd.DataFrame,\n",
    "    min_freq: int = 3,\n",
    "    dimensionality: int = 2,\n",
    "    method: str = 'UMAP',\n",
    "    clustering: bool = True,\n",
    "    cluster_selection_method: str = 'eom',\n",
    "    max_words_per_show: Optional[int] = None\n",
    ") -> None:\n",
    "    \"\"\"\n",
    "    Creates an interactive visualization of keywords clustered by show based on semantic meaning.\n",
    "    \n",
    "    Parameters:\n",
    "    - df: pd.DataFrame containing at least 'show' and 'summary' columns.\n",
    "    - min_freq: Minimum total frequency for a word to be included.\n",
    "    - dimensionality: 2 for 2D plot, 3 for 3D plot.\n",
    "    - method: Dimensionality reduction method ('UMAP', 't-SNE', 'MDS').\n",
    "    - clustering: Whether to apply HDBSCAN clustering to define dedicated regions.\n",
    "    - cluster_selection_method: Method for HDBSCAN clustering ('eom' or 'leaf').\n",
    "    - max_words_per_show: If set, only keep the top N words per show (by that word's freq in the show).\n",
    "    \"\"\"\n",
    "    if dimensionality not in [2, 3]:\n",
    "        raise ValueError(\"dimensionality must be either 2 or 3\")\n",
    "    \n",
    "    if method not in ['MDS', 't-SNE', 'UMAP']:\n",
    "        raise ValueError(\"method must be one of 'MDS', 't-SNE', or 'UMAP'\")\n",
    "    \n",
    "    # Load a SpaCy model with word vectors\n",
    "    try:\n",
    "        nlp = spacy.load(\"en_core_web_md\")  # Use 'en_core_web_lg' for larger vectors\n",
    "    except OSError:\n",
    "        raise OSError(\"SpaCy model 'en_core_web_md' not found. Please download it using:\\n\"\n",
    "                      \"python -m spacy download en_core_web_md\")\n",
    "    \n",
    "    # Gather all show names\n",
    "    all_shows = sorted(df['show'].dropna().unique())\n",
    "    \n",
    "    # Combine English/German stopwords and any domain-specific ones\n",
    "    custom_stops = {\n",
    "        \"people\", \"thing\", \"year\", \"lot\", \"point\", \"das\", \"man\", \"der\", \"way\",\n",
    "        \"stuff\", \"sort\", \"mal\", \"speaker\", \"time\", \"going\", \"yeah\", \"gonna\",\n",
    "        \"think\", \"know\", \"mean\", \"actually\", \"right\", \"really\"\n",
    "    }\n",
    "    custom_stops.update(de_stop_words)\n",
    "    for w in custom_stops:\n",
    "        nlp.vocab[w].is_stop = True\n",
    "    \n",
    "    # Count frequencies\n",
    "    show_word_freq = defaultdict(Counter)\n",
    "    total_word_freq = Counter()\n",
    "    for show_name in all_shows:\n",
    "        show_text = ' '.join(df.loc[df['show'] == show_name, 'summary'].dropna())\n",
    "        doc = nlp(show_text)\n",
    "        keywords = [\n",
    "            token.lemma_.lower()\n",
    "            for token in doc\n",
    "            if token.pos_ in ['NOUN', 'PROPN']\n",
    "            and not token.is_stop\n",
    "            and len(token.text) > 2\n",
    "            and token.has_vector  # Ensure the token has a vector representation\n",
    "        ]\n",
    "        show_word_freq[show_name].update(keywords)\n",
    "        total_word_freq.update(keywords)\n",
    "    \n",
    "    # Filter out words below min_freq overall\n",
    "    common_words = {w for w, c in total_word_freq.items() if c >= min_freq}\n",
    "    if not common_words:\n",
    "        print(f\"No words after min_freq={min_freq} filtering.\")\n",
    "        return\n",
    "    \n",
    "    # Prepare lists to hold data for each word\n",
    "    words = []\n",
    "    word_vectors = []\n",
    "    dominant_shows = []\n",
    "    hover_texts = []\n",
    "    word_total_freq = []\n",
    "    \n",
    "    for word in sorted(common_words):\n",
    "        # Skip if no vector\n",
    "        if not nlp.vocab.has_vector(word):\n",
    "            continue\n",
    "        vector = nlp.vocab[word].vector\n",
    "        \n",
    "        # Compute total freq + dominant show\n",
    "        word_total = total_word_freq[word]\n",
    "        show_counts = {s: show_word_freq[s][word] for s in all_shows}\n",
    "        show_max = max(show_counts, key=show_counts.get)\n",
    "        \n",
    "        words.append(word)\n",
    "        word_vectors.append(vector)\n",
    "        word_total_freq.append(word_total)\n",
    "        dominant_shows.append(show_max)\n",
    "        \n",
    "        # Build hover text for frequencies\n",
    "        nonzero = [(s, v) for s, v in show_counts.items() if v > 0]\n",
    "        nonzero.sort(key=lambda x: x[1], reverse=True)\n",
    "        hover_html = f\"<b>{word}</b><br>\" + \"<br>\".join(f\"{s}: {v}\" for s, v in nonzero)\n",
    "        hover_texts.append(hover_html)\n",
    "    \n",
    "    if not words:\n",
    "        print(\"No words to display after vector checks. Adjust 'min_freq' or check data.\")\n",
    "        return\n",
    "    \n",
    "    # -------------------------------\n",
    "    # NEW: limit to top N words/show\n",
    "    # -------------------------------\n",
    "    if max_words_per_show is not None and max_words_per_show > 0:\n",
    "        # Group word indices by their dominant show\n",
    "        show_to_word_info = defaultdict(list)\n",
    "        for i, w in enumerate(words):\n",
    "            show_name = dominant_shows[i]\n",
    "            freq_in_that_show = show_word_freq[show_name][w]\n",
    "            show_to_word_info[show_name].append((freq_in_that_show, i))\n",
    "        \n",
    "        # For each show, keep only top N by freq in that show\n",
    "        keep_indices = set()\n",
    "        for show_name, freq_and_inds in show_to_word_info.items():\n",
    "            freq_and_inds.sort(key=lambda x: x[0], reverse=True)  # sort by freq desc\n",
    "            top_n = freq_and_inds[:max_words_per_show]\n",
    "            for _, idx in top_n:\n",
    "                keep_indices.add(idx)\n",
    "        \n",
    "        # Filter out everything else\n",
    "        if not keep_indices:\n",
    "            print(f\"No words left after limiting to max_words_per_show={max_words_per_show}.\")\n",
    "            return\n",
    "        \n",
    "        # Rebuild the final arrays\n",
    "        words = [words[i] for i in range(len(words)) if i in keep_indices]\n",
    "        word_vectors = [word_vectors[i] for i in range(len(word_vectors)) if i in keep_indices]\n",
    "        word_total_freq = [word_total_freq[i] for i in range(len(word_total_freq)) if i in keep_indices]\n",
    "        dominant_shows = [dominant_shows[i] for i in range(len(dominant_shows)) if i in keep_indices]\n",
    "        hover_texts = [hover_texts[i] for i in range(len(hover_texts)) if i in keep_indices]\n",
    "    \n",
    "    # Convert to arrays\n",
    "    word_vectors = np.array(word_vectors, dtype=float)\n",
    "    word_total_freq = np.array(word_total_freq, dtype=float)\n",
    "    \n",
    "    # Normalize vectors (helps with similarity/distance)\n",
    "    word_vectors_norm = word_vectors / np.linalg.norm(word_vectors, axis=1, keepdims=True)\n",
    "    \n",
    "    # Dimensionality reduction\n",
    "    if method == 'MDS':\n",
    "        from sklearn.manifold import MDS\n",
    "        similarities = cosine_similarity(word_vectors_norm)\n",
    "        dist_matrix = 1 - similarities\n",
    "        reducer = MDS(n_components=dimensionality, dissimilarity='precomputed', random_state=42)\n",
    "        coords = reducer.fit_transform(dist_matrix)\n",
    "    elif method == 't-SNE':\n",
    "        from sklearn.manifold import TSNE\n",
    "        reducer = TSNE(\n",
    "            n_components=dimensionality,\n",
    "            metric='cosine',\n",
    "            random_state=42,\n",
    "            perplexity=30,\n",
    "            n_iter=1000,\n",
    "            init='random'  # required if metric='cosine'\n",
    "        )\n",
    "        coords = reducer.fit_transform(word_vectors_norm)\n",
    "    elif method == 'UMAP':\n",
    "        reducer = umap.UMAP(\n",
    "            n_components=dimensionality,\n",
    "            metric='cosine',\n",
    "            random_state=42,\n",
    "            n_neighbors=15,\n",
    "            min_dist=0.1\n",
    "        )\n",
    "        coords = reducer.fit_transform(word_vectors_norm)\n",
    "    \n",
    "    # Optional: Clustering with HDBSCAN\n",
    "    if clustering:\n",
    "        clusterer = hdbscan.HDBSCAN(\n",
    "            min_cluster_size=5,\n",
    "            metric='euclidean',\n",
    "            cluster_selection_method=cluster_selection_method\n",
    "        )\n",
    "        cluster_labels = clusterer.fit_predict(coords)\n",
    "        # Replace -1 with 'Noise'\n",
    "        cluster_labels = np.where(cluster_labels == -1, 'Noise', cluster_labels)\n",
    "    else:\n",
    "        cluster_labels = None\n",
    "    \n",
    "    # Scale coords\n",
    "    scaling_factor = 20\n",
    "    coords_scaled = coords * scaling_factor\n",
    "    \n",
    "    # Slight random jitter\n",
    "    jitter_strength = 0.3\n",
    "    coords_jittered = coords_scaled + np.random.normal(0, jitter_strength, coords_scaled.shape)\n",
    "    \n",
    "    # Color mapping by show\n",
    "    unique_shows = sorted(set(dominant_shows))\n",
    "    colors = px.colors.qualitative.Set3\n",
    "    color_cycle = (colors * ((len(unique_shows) // len(colors)) + 1))[:len(unique_shows)]\n",
    "    show_color_map = dict(zip(unique_shows, color_cycle))\n",
    "    \n",
    "    # If clustering, create cluster color mapping\n",
    "    if clustering:\n",
    "        unique_clusters = sorted(set(cluster_labels))\n",
    "        cluster_colors = px.colors.qualitative.G10\n",
    "        # extend if needed\n",
    "        if len(unique_clusters) > len(cluster_colors):\n",
    "            cluster_colors *= (len(unique_clusters) // len(cluster_colors) + 1)\n",
    "        cluster_color_map = {cluster: cluster_colors[i] for i, cluster in enumerate(unique_clusters)}\n",
    "    else:\n",
    "        cluster_color_map = {}\n",
    "    \n",
    "    # Marker sizes based on total frequency\n",
    "    freq_arr = word_total_freq\n",
    "    size_min = 10\n",
    "    size_max = 30\n",
    "    freq_norm = (freq_arr - freq_arr.min()) / (freq_arr.max() - freq_arr.min() + 1e-6)\n",
    "    size_values = size_min + freq_norm * (size_max - size_min)\n",
    "    \n",
    "    fig = go.Figure()\n",
    "    \n",
    "    # Plot each show’s words\n",
    "    for show_name in unique_shows:\n",
    "        mask = [ (dom_show == show_name) for dom_show in dominant_shows ]\n",
    "        if not any(mask):\n",
    "            continue\n",
    "        \n",
    "        # gather subsets\n",
    "        x_vals = coords_jittered[mask, 0]\n",
    "        y_vals = coords_jittered[mask, 1]\n",
    "        if dimensionality == 3:\n",
    "            z_vals = coords_jittered[mask, 2]\n",
    "        text_subset = np.array(words)[mask]\n",
    "        hover_subset = np.array(hover_texts)[mask]\n",
    "        size_subset = size_values[mask]\n",
    "        color_choice = show_color_map.get(show_name, \"gray\")\n",
    "        \n",
    "        if dimensionality == 2:\n",
    "            fig.add_trace(go.Scatter(\n",
    "                x=x_vals,\n",
    "                y=y_vals,\n",
    "                text=text_subset,\n",
    "                hovertext=hover_subset,\n",
    "                mode='markers+text',\n",
    "                name=show_name,\n",
    "                textposition='top center',\n",
    "                textfont=dict(size=size_subset, color=color_choice),\n",
    "                marker=dict(size=size_subset, color=color_choice, opacity=0.7,\n",
    "                            line=dict(width=1, color='DarkSlateGrey')),\n",
    "                hoverinfo='text'\n",
    "            ))\n",
    "        else:\n",
    "            fig.add_trace(go.Scatter3d(\n",
    "                x=x_vals,\n",
    "                y=y_vals,\n",
    "                z=z_vals,\n",
    "                text=text_subset,\n",
    "                hovertext=hover_subset,\n",
    "                mode='markers+text',\n",
    "                name=show_name,\n",
    "                textposition='top center',\n",
    "                textfont=dict(size=size_subset, color=color_choice),\n",
    "                marker=dict(size=size_subset, color=color_choice, opacity=0.7,\n",
    "                            line=dict(width=1, color='DarkSlateGrey')),\n",
    "                hoverinfo='text'\n",
    "            ))\n",
    "    \n",
    "    # Optionally add cluster “legend” items if clustering is True\n",
    "    if clustering:\n",
    "        for cluster_id in sorted(set(cluster_labels)):\n",
    "            if cluster_id == 'Noise':\n",
    "                continue\n",
    "            cluster_mask = (cluster_labels == cluster_id)\n",
    "            if not np.any(cluster_mask):\n",
    "                continue\n",
    "            \n",
    "            cx = coords_jittered[cluster_mask, 0]\n",
    "            cy = coords_jittered[cluster_mask, 1]\n",
    "            if dimensionality == 3:\n",
    "                cz = coords_jittered[cluster_mask, 2]\n",
    "            cluster_color = cluster_color_map[cluster_id]\n",
    "            \n",
    "            # Just add an invisible scatter for the cluster label to appear in the legend\n",
    "            if dimensionality == 2:\n",
    "                fig.add_trace(go.Scatter(\n",
    "                    x=[cx.mean()],\n",
    "                    y=[cy.mean()],\n",
    "                    mode='markers',\n",
    "                    marker=dict(size=0, color=cluster_color, opacity=0),\n",
    "                    name=f\"Cluster {cluster_id}\",\n",
    "                    showlegend=True\n",
    "                ))\n",
    "            else:\n",
    "                fig.add_trace(go.Scatter3d(\n",
    "                    x=[cx.mean()],\n",
    "                    y=[cy.mean()],\n",
    "                    z=[cz.mean()],\n",
    "                    mode='markers',\n",
    "                    marker=dict(size=0, color=cluster_color, opacity=0),\n",
    "                    name=f\"Cluster {cluster_id}\",\n",
    "                    showlegend=True\n",
    "                ))\n",
    "    \n",
    "    # Layout\n",
    "    if dimensionality == 2:\n",
    "        layout = dict(\n",
    "            title=f'Clusters by Show (2D) | max_words_per_show={max_words_per_show}',\n",
    "            template='plotly_dark',\n",
    "            height=800,\n",
    "            width=1200,\n",
    "            showlegend=True,\n",
    "            xaxis=dict(showgrid=False, zeroline=False, showticklabels=False),\n",
    "            yaxis=dict(showgrid=False, zeroline=False, showticklabels=False),\n",
    "            legend=dict(\n",
    "                orientation=\"v\",\n",
    "                x=1.02,\n",
    "                y=1,\n",
    "                xanchor=\"left\",\n",
    "                yanchor=\"auto\",\n",
    "                bgcolor=\"rgba(0,0,0,0)\",\n",
    "                itemsizing='constant',\n",
    "                itemwidth=30\n",
    "            )\n",
    "        )\n",
    "    else:\n",
    "        layout = dict(\n",
    "            title=f'Clusters by Show (3D) | max_words_per_show={max_words_per_show}',\n",
    "            template='plotly_dark',\n",
    "            height=800,\n",
    "            width=1200,\n",
    "            showlegend=True,\n",
    "            scene=dict(\n",
    "                xaxis=dict(showgrid=False, zeroline=False, showticklabels=False),\n",
    "                yaxis=dict(showgrid=False, zeroline=False, showticklabels=False),\n",
    "                zaxis=dict(showgrid=False, zeroline=False, showticklabels=False),\n",
    "            ),\n",
    "            legend=dict(\n",
    "                orientation=\"v\",\n",
    "                x=1.02,\n",
    "                y=1,\n",
    "                xanchor=\"left\",\n",
    "                yanchor=\"auto\",\n",
    "                bgcolor=\"rgba(0,0,0,0)\",\n",
    "                itemsizing='constant',\n",
    "                itemwidth=30\n",
    "            )\n",
    "        )\n",
    "    \n",
    "    fig.update_layout(layout)\n",
    "    \n",
    "    # Enhance interactivity\n",
    "    if dimensionality == 3:\n",
    "        fig.update_traces(\n",
    "            selector=dict(type='scatter3d'),\n",
    "            hoverlabel=dict(bgcolor=\"white\", font_size=12, font_family=\"Arial\")\n",
    "        )\n",
    "    else:\n",
    "        fig.update_traces(\n",
    "            selector=dict(type='scatter'),\n",
    "            hoverlabel=dict(bgcolor=\"white\", font_size=12, font_family=\"Arial\")\n",
    "        )\n",
    "    \n",
    "    fig.show()\n",
    "\n",
    "create_show_keyword_visualization(\n",
    "    df,\n",
    "    min_freq=5,\n",
    "    dimensionality=3,\n",
    "    method='UMAP',\n",
    "    clustering=True,\n",
    "    cluster_selection_method='eom',\n",
    "    max_words_per_show=7\n",
    ")\n"
   ]
  },
  {
   "cell_type": "code",
   "execution_count": 17,
   "metadata": {},
   "outputs": [
    {
     "name": "stderr",
     "output_type": "stream",
     "text": [
      "/opt/anaconda3/envs/aml3.12/lib/python3.12/site-packages/umap/umap_.py:1952: UserWarning:\n",
      "\n",
      "n_jobs value 1 overridden to 1 by setting random_state. Use no seed for parallelism.\n",
      "\n"
     ]
    },
    {
     "data": {
      "application/vnd.plotly.v1+json": {
       "config": {
        "plotlyServerURL": "https://plot.ly"
       },
       "data": [
        {
         "hoverinfo": "text",
         "hoverlabel": {
          "bgcolor": "white",
          "font": {
           "family": "Arial",
           "size": 12
          }
         },
         "hovertext": [
          "<b>chip</b><br>Acquired: 3 (0.38)<br>Discover Daily by Perplexity: 1 (0.33)<br>All-In with Chamath, Jason, Sacks & Friedberg: 1 (0.01)",
          "<b>dropbox</b><br>Acquired: 7 (0.88)",
          "<b>market</b><br>Acquired: 4 (0.50)<br>The Joe Rogan Experience: 1 (0.50)<br>a16z Podcast: 5 (0.36)<br>Honestly with Bari Weiss: 1 (0.17)<br>All-In with Chamath, Jason, Sacks & Friedberg: 13 (0.13)<br>Truth with Vivek Ramaswamy: 1 (0.12)<br>Dwarkesh Podcast: 4 (0.09)<br>Pivot: 1 (0.08)<br>The Prof G Pod with Scott Galloway: 3 (0.08)<br>Freakonomics Radio: 1 (0.05)<br>Making Sense with Sam Harris - Subscriber Content: 3 (0.04)<br>Lex Fridman Podcast: 1 (0.02)",
          "<b>memory</b><br>Acquired: 6 (0.75)<br>Search Engine: 1 (0.20)<br>The Prof G Pod with Scott Galloway: 1 (0.03)<br>Making Sense with Sam Harris - Subscriber Content: 1 (0.01)",
          "<b>model</b><br>Acquired: 8 (1.00)<br>a16z Podcast: 5 (0.36)<br>Dwarkesh Podcast: 13 (0.30)<br>Lex Fridman Podcast: 11 (0.18)<br>All-In with Chamath, Jason, Sacks & Friedberg: 14 (0.14)<br>Making Sense with Sam Harris - Subscriber Content: 6 (0.08)<br>The Peter Zeihan Podcast Series: 1 (0.08)<br>The Prof G Pod with Scott Galloway: 1 (0.03)",
          "<b>platform</b><br>Acquired: 4 (0.50)<br>Huberman Lab: 2 (0.14)<br>All-In with Chamath, Jason, Sacks & Friedberg: 7 (0.07)<br>a16z Podcast: 1 (0.07)",
          "<b>product</b><br>Acquired: 7 (0.88)<br>Lightcone Podcast: 1 (0.20)<br>The Ben & Marc Show: 1 (0.17)<br>a16z Podcast: 2 (0.14)<br>Truth with Vivek Ramaswamy: 1 (0.12)<br>All-In with Chamath, Jason, Sacks & Friedberg: 10 (0.10)<br>The Prof G Pod with Scott Galloway: 3 (0.08)<br>Lex Fridman Podcast: 2 (0.03)<br>Dwarkesh Podcast: 1 (0.02)",
          "<b>strategy</b><br>Acquired: 4 (0.50)<br>Discover Daily by Perplexity: 1 (0.33)<br>All-In with Chamath, Jason, Sacks & Friedberg: 6 (0.06)<br>The Prof G Pod with Scott Galloway: 2 (0.05)<br>Dwarkesh Podcast: 1 (0.02)",
          "<b>success</b><br>Acquired: 5 (0.62)<br>The Langley Files: CIA's Podcast: 1 (0.50)<br>Pivot: 4 (0.33)<br>Dwarkesh Podcast: 10 (0.23)<br>Honestly with Bari Weiss: 1 (0.17)<br>The Prof G Pod with Scott Galloway: 6 (0.15)<br>a16z Podcast: 2 (0.14)<br>The Knowledge Project with Shane Parrish: 1 (0.11)<br>All-In with Chamath, Jason, Sacks & Friedberg: 1 (0.01)",
          "<b>user</b><br>Acquired: 11 (1.38)<br>Lightcone Podcast: 1 (0.20)<br>a16z Podcast: 2 (0.14)<br>All-In with Chamath, Jason, Sacks & Friedberg: 9 (0.09)<br>Lex Fridman Podcast: 3 (0.05)<br>The Prof G Pod with Scott Galloway: 1 (0.03)"
         ],
         "marker": {
          "color": "rgb(141,211,199)",
          "line": {
           "color": "DarkSlateGrey",
           "width": 1
          },
          "opacity": 0.7,
          "size": [
           10.714285701530613,
           11.428571403061225,
           22.49999977678572,
           12.142857104591837,
           29.999999642857148,
           13.928571358418369,
           18.928571269132657,
           13.928571358418369,
           19.999999821428574,
           18.57142841836735
          ]
         },
         "mode": "markers+text",
         "name": "Acquired",
         "text": [
          "chip",
          "dropbox",
          "market",
          "memory",
          "model",
          "platform",
          "product",
          "strategy",
          "success",
          "user"
         ],
         "textfont": {
          "color": "rgb(141,211,199)",
          "size": [
           10.714285701530613,
           11.428571403061225,
           22.49999977678572,
           12.142857104591837,
           29.999999642857148,
           13.928571358418369,
           18.928571269132657,
           13.928571358418369,
           19.999999821428574,
           18.57142841836735
          ]
         },
         "textposition": "top center",
         "type": "scatter3d",
         "x": [
          -37.246652225940025,
          -41.451763338259994,
          -10.856372230543915,
          -20.13698251530544,
          -32.96023739064807,
          -30.2790316890694,
          -20.49297393921314,
          -7.363896168910389,
          -3.0480148541599377,
          -39.16348854541099
         ],
         "y": [
          272.17937839185197,
          271.87112352017317,
          250.08492269036694,
          312.46365154973387,
          290.0295223300999,
          266.9886802419304,
          263.1399020909316,
          297.63316324673264,
          283.75146077928355,
          270.4500055110914
         ],
         "z": [
          -44.134256643560654,
          -36.852113101352394,
          -43.725348512214886,
          -51.26550975991008,
          -47.30730643804334,
          -38.93931723815912,
          -38.47391790641254,
          -34.32702393553164,
          -73.01054367586237,
          -38.04729252822937
         ]
        },
        {
         "hoverinfo": "text",
         "hoverlabel": {
          "bgcolor": "white",
          "font": {
           "family": "Arial",
           "size": 12
          }
         },
         "hovertext": [
          "<b>account</b><br>All-In with Chamath, Jason, Sacks & Friedberg: 3 (0.03)<br>Making Sense with Sam Harris - Subscriber Content: 1 (0.01)",
          "<b>balance</b><br>All-In with Chamath, Jason, Sacks & Friedberg: 3 (0.03)<br>Making Sense with Sam Harris - Subscriber Content: 2 (0.03)<br>Dwarkesh Podcast: 1 (0.02)<br>Lex Fridman Podcast: 1 (0.02)",
          "<b>bank</b><br>All-In with Chamath, Jason, Sacks & Friedberg: 4 (0.04)",
          "<b>bitcoin</b><br>All-In with Chamath, Jason, Sacks & Friedberg: 4 (0.04)",
          "<b>currency</b><br>All-In with Chamath, Jason, Sacks & Friedberg: 4 (0.04)<br>Dwarkesh Podcast: 1 (0.02)",
          "<b>debt</b><br>All-In with Chamath, Jason, Sacks & Friedberg: 16 (0.16)<br>The Prof G Pod with Scott Galloway: 2 (0.05)",
          "<b>gdp</b><br>All-In with Chamath, Jason, Sacks & Friedberg: 13 (0.13)<br>Dwarkesh Podcast: 1 (0.02)",
          "<b>inflation</b><br>All-In with Chamath, Jason, Sacks & Friedberg: 16 (0.16)<br>The Peter Zeihan Podcast Series: 1 (0.08)<br>The Prof G Pod with Scott Galloway: 2 (0.05)",
          "<b>interest</b><br>All-In with Chamath, Jason, Sacks & Friedberg: 17 (0.18)<br>Acquired: 1 (0.12)<br>The Prof G Pod with Scott Galloway: 3 (0.08)<br>Dwarkesh Podcast: 2 (0.05)<br>Freakonomics Radio: 1 (0.05)",
          "<b>tiktok</b><br>All-In with Chamath, Jason, Sacks & Friedberg: 4 (0.04)"
         ],
         "marker": {
          "color": "rgb(255,255,179)",
          "line": {
           "color": "DarkSlateGrey",
           "width": 1
          },
          "opacity": 0.7,
          "size": [
           10.357142850765307,
           11.428571403061225,
           10.357142850765307,
           10.357142850765307,
           10.714285701530613,
           15.357142761479594,
           13.928571358418369,
           15.7142856122449,
           17.499999866071434,
           10.357142850765307
          ]
         },
         "mode": "markers+text",
         "name": "All-In with Chamath, Jason, Sacks & Friedberg",
         "text": [
          "account",
          "balance",
          "bank",
          "bitcoin",
          "currency",
          "debt",
          "gdp",
          "inflation",
          "interest",
          "tiktok"
         ],
         "textfont": {
          "color": "rgb(255,255,179)",
          "size": [
           10.357142850765307,
           11.428571403061225,
           10.357142850765307,
           10.357142850765307,
           10.714285701530613,
           15.357142761479594,
           13.928571358418369,
           15.7142856122449,
           17.499999866071434,
           10.357142850765307
          ]
         },
         "textposition": "top center",
         "type": "scatter3d",
         "x": [
          -7.650609532065915,
          -22.091386124172267,
          -0.7040301574659114,
          -8.972946744336669,
          -6.1042587625411615,
          -2.6508828838202363,
          14.775157090380853,
          -16.166949224158884,
          4.105824190704246,
          -34.81539301957144
         ],
         "y": [
          269.64593955011435,
          291.6625493660634,
          249.2254679244131,
          248.5012435039733,
          250.81845762558538,
          247.30282500688068,
          282.7472855739699,
          286.0679890108103,
          290.26592567154097,
          264.7966288915987
         ],
         "z": [
          -53.01510181383245,
          -68.06077959581128,
          -47.731576178951016,
          -49.23433160213003,
          -51.11795880635808,
          -54.82747906269513,
          -37.112180712197954,
          -76.36827795516278,
          -61.620648460505585,
          -31.68347749095751
         ]
        },
        {
         "hoverinfo": "text",
         "hoverlabel": {
          "bgcolor": "white",
          "font": {
           "family": "Arial",
           "size": 12
          }
         },
         "hovertext": [
          "<b>alternative</b><br>Discover Daily by Perplexity: 1 (0.33)<br>Making Sense with Sam Harris - Subscriber Content: 3 (0.04)",
          "<b>application</b><br>Discover Daily by Perplexity: 2 (0.67)<br>The Prof G Pod with Scott Galloway: 1 (0.03)",
          "<b>capital</b><br>Discover Daily by Perplexity: 1 (0.33)<br>Acquired: 1 (0.12)<br>The Prof G Pod with Scott Galloway: 3 (0.08)<br>Dwarkesh Podcast: 2 (0.05)<br>All-In with Chamath, Jason, Sacks & Friedberg: 3 (0.03)<br>Lex Fridman Podcast: 1 (0.02)",
          "<b>center</b><br>Discover Daily by Perplexity: 1 (0.33)<br>Acquired: 1 (0.12)<br>Pivot: 1 (0.08)<br>The Prof G Pod with Scott Galloway: 2 (0.05)<br>Lex Fridman Podcast: 1 (0.02)<br>All-In with Chamath, Jason, Sacks & Friedberg: 1 (0.01)",
          "<b>climate</b><br>Discover Daily by Perplexity: 1 (0.33)<br>The Daily: 1 (0.20)<br>Making Sense with Sam Harris - Subscriber Content: 2 (0.03)<br>The Prof G Pod with Scott Galloway: 1 (0.03)",
          "<b>computer</b><br>Discover Daily by Perplexity: 2 (0.67)<br>All-In with Chamath, Jason, Sacks & Friedberg: 5 (0.05)<br>Lex Fridman Podcast: 1 (0.02)<br>Making Sense with Sam Harris - Subscriber Content: 1 (0.01)",
          "<b>condition</b><br>Discover Daily by Perplexity: 1 (0.33)<br>Lex Fridman Podcast: 2 (0.03)<br>Making Sense with Sam Harris - Subscriber Content: 1 (0.01)",
          "<b>connection</b><br>Discover Daily by Perplexity: 1 (0.33)<br>The Prof G Pod with Scott Galloway: 3 (0.08)<br>Making Sense with Sam Harris - Subscriber Content: 2 (0.03)<br>All-In with Chamath, Jason, Sacks & Friedberg: 2 (0.02)<br>Dwarkesh Podcast: 1 (0.02)<br>Lex Fridman Podcast: 1 (0.02)",
          "<b>fund</b><br>Discover Daily by Perplexity: 3 (1.00)<br>Dwarkesh Podcast: 1 (0.02)<br>All-In with Chamath, Jason, Sacks & Friedberg: 1 (0.01)<br>Making Sense with Sam Harris - Subscriber Content: 1 (0.01)",
          "<b>interface</b><br>Discover Daily by Perplexity: 2 (0.67)<br>Dwarkesh Podcast: 1 (0.02)<br>All-In with Chamath, Jason, Sacks & Friedberg: 1 (0.01)"
         ],
         "marker": {
          "color": "rgb(190,186,218)",
          "line": {
           "color": "DarkSlateGrey",
           "width": 1
          },
          "opacity": 0.7,
          "size": [
           10.357142850765307,
           10,
           12.85714280612245,
           11.428571403061225,
           10.714285701530613,
           12.142857104591837,
           10.357142850765307,
           12.499999955357143,
           11.071428552295918,
           10.357142850765307
          ]
         },
         "mode": "markers+text",
         "name": "Discover Daily by Perplexity",
         "text": [
          "alternative",
          "application",
          "capital",
          "center",
          "climate",
          "computer",
          "condition",
          "connection",
          "fund",
          "interface"
         ],
         "textfont": {
          "color": "rgb(190,186,218)",
          "size": [
           10.357142850765307,
           10,
           12.85714280612245,
           11.428571403061225,
           10.714285701530613,
           12.142857104591837,
           10.357142850765307,
           12.499999955357143,
           11.071428552295918,
           10.357142850765307
          ]
         },
         "textposition": "top center",
         "type": "scatter3d",
         "x": [
          -16.816029829270125,
          -20.11714507359512,
          11.265482470058584,
          12.910234586286958,
          -9.470033019254982,
          -37.756346248740265,
          -13.58574794044159,
          -21.95524345984878,
          -2.153000118579371,
          -34.31635936066332
         ],
         "y": [
          282.9388503212326,
          277.2756825721349,
          255.50661905093725,
          260.34593524795025,
          300.51029247023826,
          273.610226370025,
          291.29137398928276,
          287.24486126635975,
          247.14129123864248,
          279.5250522687897
         ],
         "z": [
          -60.60642860190996,
          -54.414102764598795,
          -47.506164204372155,
          -40.384857365191635,
          -56.14516770226113,
          -43.28322079339621,
          -77.07308834879461,
          -63.46555048244261,
          -50.26234187451234,
          -47.076980467345976
         ]
        },
        {
         "hoverinfo": "text",
         "hoverlabel": {
          "bgcolor": "white",
          "font": {
           "family": "Arial",
           "size": 12
          }
         },
         "hovertext": [
          "<b>agi</b><br>Dwarkesh Podcast: 5 (0.12)<br>Lex Fridman Podcast: 4 (0.07)",
          "<b>agreement</b><br>Dwarkesh Podcast: 3 (0.07)<br>Lex Fridman Podcast: 1 (0.02)",
          "<b>concept</b><br>Dwarkesh Podcast: 5 (0.12)<br>Making Sense with Sam Harris - Subscriber Content: 4 (0.05)<br>The Prof G Pod with Scott Galloway: 1 (0.03)<br>Lex Fridman Podcast: 1 (0.02)<br>All-In with Chamath, Jason, Sacks & Friedberg: 1 (0.01)",
          "<b>manager</b><br>Dwarkesh Podcast: 4 (0.09)<br>Pivot: 1 (0.08)",
          "<b>nation</b><br>Dwarkesh Podcast: 5 (0.12)<br>The Prof G Pod with Scott Galloway: 3 (0.08)<br>Freakonomics Radio: 1 (0.05)<br>Making Sense with Sam Harris - Subscriber Content: 1 (0.01)",
          "<b>problem</b><br>Dwarkesh Podcast: 4 (0.09)<br>The Prof G Pod with Scott Galloway: 3 (0.08)<br>a16z Podcast: 1 (0.07)<br>The Pioneer Briefing: 1 (0.04)<br>All-In with Chamath, Jason, Sacks & Friedberg: 2 (0.02)<br>Lex Fridman Podcast: 1 (0.02)",
          "<b>process</b><br>Dwarkesh Podcast: 4 (0.09)<br>Huberman Lab: 1 (0.07)<br>Lex Fridman Podcast: 4 (0.07)<br>a16z Podcast: 1 (0.07)<br>All-In with Chamath, Jason, Sacks & Friedberg: 3 (0.03)<br>Making Sense with Sam Harris - Subscriber Content: 1 (0.01)",
          "<b>programming</b><br>Dwarkesh Podcast: 5 (0.12)<br>Lex Fridman Podcast: 1 (0.02)",
          "<b>scenario</b><br>Dwarkesh Podcast: 5 (0.12)<br>Lex Fridman Podcast: 1 (0.02)<br>All-In with Chamath, Jason, Sacks & Friedberg: 1 (0.01)<br>Making Sense with Sam Harris - Subscriber Content: 1 (0.01)",
          "<b>source</b><br>Dwarkesh Podcast: 6 (0.14)<br>All-In with Chamath, Jason, Sacks & Friedberg: 3 (0.03)<br>Lex Fridman Podcast: 1 (0.02)<br>Making Sense with Sam Harris - Subscriber Content: 1 (0.01)"
         ],
         "marker": {
          "color": "rgb(251,128,114)",
          "line": {
           "color": "DarkSlateGrey",
           "width": 1
          },
          "opacity": 0.7,
          "size": [
           12.142857104591837,
           10.357142850765307,
           13.214285656887757,
           10.714285701530613,
           12.499999955357143,
           13.214285656887757,
           13.928571358418369,
           11.071428552295918,
           11.785714253826532,
           12.85714280612245
          ]
         },
         "mode": "markers+text",
         "name": "Dwarkesh Podcast",
         "text": [
          "agi",
          "agreement",
          "concept",
          "manager",
          "nation",
          "problem",
          "process",
          "programming",
          "scenario",
          "source"
         ],
         "textfont": {
          "color": "rgb(251,128,114)",
          "size": [
           12.142857104591837,
           10.357142850765307,
           13.214285656887757,
           10.714285701530613,
           12.499999955357143,
           13.214285656887757,
           13.928571358418369,
           11.071428552295918,
           11.785714253826532,
           12.85714280612245
          ]
         },
         "textposition": "top center",
         "type": "scatter3d",
         "x": [
          15.299264888475541,
          24.36013952847689,
          -0.18388742863188198,
          10.839252065525317,
          32.29433516829137,
          8.383939139868824,
          -20.669340382918726,
          -32.292106357885,
          0.4331791621269478,
          -26.182851493844442
         ],
         "y": [
          279.38995540126956,
          276.8746099493886,
          312.2530408100775,
          261.0251737727739,
          260.7810736610543,
          306.31213986965076,
          286.8491996147273,
          269.7911447984943,
          308.3483035511364,
          283.7648810324925
         ],
         "z": [
          -35.135865041570035,
          -63.932904956174454,
          -47.57009346609014,
          -56.81047520934066,
          -63.215558615091915,
          -39.13307680885936,
          -45.548564372750945,
          -47.12623897968776,
          -35.628751575234325,
          -57.13776034860194
         ]
        },
        {
         "hoverinfo": "text",
         "hoverlabel": {
          "bgcolor": "white",
          "font": {
           "family": "Arial",
           "size": 12
          }
         },
         "hovertext": [
          "<b>atmosphere</b><br>Economist Podcasts: 1 (1.00)<br>Freakonomics Radio: 1 (0.05)<br>The Prof G Pod with Scott Galloway: 1 (0.03)",
          "<b>moment</b><br>Economist Podcasts: 1 (1.00)<br>Search Engine: 1 (0.20)<br>The Knowledge Project with Shane Parrish: 1 (0.11)<br>The Prof G Pod with Scott Galloway: 1 (0.03)<br>Making Sense with Sam Harris - Subscriber Content: 1 (0.01)",
          "<b>nature</b><br>Economist Podcasts: 1 (1.00)<br>Discover Daily by Perplexity: 1 (0.33)<br>Lightcone Podcast: 1 (0.20)<br>The Prof G Pod with Scott Galloway: 2 (0.05)<br>Making Sense with Sam Harris - Subscriber Content: 2 (0.03)<br>All-In with Chamath, Jason, Sacks & Friedberg: 2 (0.02)",
          "<b>setting</b><br>Economist Podcasts: 1 (1.00)<br>Making Sense with Sam Harris - Subscriber Content: 2 (0.03)"
         ],
         "marker": {
          "color": "rgb(128,177,211)",
          "line": {
           "color": "DarkSlateGrey",
           "width": 1
          },
          "opacity": 0.7,
          "size": [
           10,
           10.714285701530613,
           12.142857104591837,
           10
          ]
         },
         "mode": "markers+text",
         "name": "Economist Podcasts",
         "text": [
          "atmosphere",
          "moment",
          "nature",
          "setting"
         ],
         "textfont": {
          "color": "rgb(128,177,211)",
          "size": [
           10,
           10.714285701530613,
           12.142857104591837,
           10
          ]
         },
         "textposition": "top center",
         "type": "scatter3d",
         "x": [
          -12.31891383393187,
          5.489200692966897,
          -2.2724955174760266,
          -13.810579973791421
         ],
         "y": [
          302.52365682991336,
          319.1125046854112,
          313.7723350197816,
          288.25204526050635
         ],
         "z": [
          -50.79413766803019,
          -43.798925207779845,
          -59.2478921576611,
          -45.672671953774845
         ]
        },
        {
         "hoverinfo": "text",
         "hoverlabel": {
          "bgcolor": "white",
          "font": {
           "family": "Arial",
           "size": 12
          }
         },
         "hovertext": [
          "<b>argentina</b><br>Freakonomics Radio: 3 (0.14)",
          "<b>benefit</b><br>Freakonomics Radio: 4 (0.19)<br>a16z Podcast: 2 (0.14)<br>Pivot: 1 (0.08)<br>The Prof G Pod with Scott Galloway: 2 (0.05)<br>Dwarkesh Podcast: 1 (0.02)<br>Lex Fridman Podcast: 1 (0.02)<br>Making Sense with Sam Harris - Subscriber Content: 1 (0.01)",
          "<b>canada</b><br>Freakonomics Radio: 3 (0.14)<br>The Prof G Pod with Scott Galloway: 2 (0.05)",
          "<b>club</b><br>Freakonomics Radio: 6 (0.29)",
          "<b>education</b><br>Freakonomics Radio: 3 (0.14)<br>Truth with Vivek Ramaswamy: 1 (0.12)<br>Dwarkesh Podcast: 2 (0.05)<br>Making Sense with Sam Harris - Subscriber Content: 1 (0.01)",
          "<b>expression</b><br>Freakonomics Radio: 3 (0.14)<br>Pivot: 1 (0.08)",
          "<b>immigrant</b><br>Freakonomics Radio: 20 (0.95)<br>The Prof G Pod with Scott Galloway: 2 (0.05)",
          "<b>immigration</b><br>Freakonomics Radio: 14 (0.67)<br>The Prof G Pod with Scott Galloway: 3 (0.08)<br>Making Sense with Sam Harris - Subscriber Content: 2 (0.03)",
          "<b>narrative</b><br>Freakonomics Radio: 4 (0.19)<br>Making Sense with Sam Harris - Subscriber Content: 6 (0.08)<br>The Prof G Pod with Scott Galloway: 2 (0.05)",
          "<b>visa</b><br>Freakonomics Radio: 4 (0.19)<br>The Prof G Pod with Scott Galloway: 1 (0.03)"
         ],
         "marker": {
          "color": "rgb(253,180,98)",
          "line": {
           "color": "DarkSlateGrey",
           "width": 1
          },
          "opacity": 0.7,
          "size": [
           10,
           13.214285656887757,
           10.714285701530613,
           11.071428552295918,
           11.428571403061225,
           10.357142850765307,
           16.78571416454082,
           15.7142856122449,
           13.214285656887757,
           10.714285701530613
          ]
         },
         "mode": "markers+text",
         "name": "Freakonomics Radio",
         "text": [
          "argentina",
          "benefit",
          "canada",
          "club",
          "education",
          "expression",
          "immigrant",
          "immigration",
          "narrative",
          "visa"
         ],
         "textfont": {
          "color": "rgb(253,180,98)",
          "size": [
           10,
           13.214285656887757,
           10.714285701530613,
           11.071428552295918,
           11.428571403061225,
           10.357142850765307,
           16.78571416454082,
           15.7142856122449,
           13.214285656887757,
           10.714285701530613
          ]
         },
         "textposition": "top center",
         "type": "scatter3d",
         "x": [
          42.74984685575164,
          4.227102353565304,
          31.518660512769674,
          14.14765153612834,
          6.548075921478667,
          -5.384912116781684,
          32.726118662895864,
          27.564962717239492,
          4.907777945078849,
          27.67866915143164
         ],
         "y": [
          253.7536417339082,
          278.7532067502288,
          242.05334595149657,
          259.2055237157842,
          267.6607280193096,
          306.48604034937125,
          267.77559689961686,
          264.95869787705857,
          311.9671609287635,
          265.30690696630353
         ],
         "z": [
          -59.468437716410456,
          -46.304783726371554,
          -54.595676196517836,
          -57.18050186720896,
          -75.07916529123217,
          -63.87105674390594,
          -71.74167071634407,
          -69.07811861617743,
          -53.2952025519747,
          -69.95374309583566
         ]
        },
        {
         "hoverinfo": "text",
         "hoverlabel": {
          "bgcolor": "white",
          "font": {
           "family": "Arial",
           "size": 12
          }
         },
         "hovertext": [
          "<b>consequence</b><br>Great Mysteries of Physics: 1 (1.00)<br>Honestly with Bari Weiss: 1 (0.17)<br>Truth with Vivek Ramaswamy: 1 (0.12)<br>Pivot: 1 (0.08)<br>a16z Podcast: 1 (0.07)<br>Lex Fridman Podcast: 2 (0.03)<br>Making Sense with Sam Harris - Subscriber Content: 2 (0.03)<br>The Prof G Pod with Scott Galloway: 1 (0.03)<br>All-In with Chamath, Jason, Sacks & Friedberg: 1 (0.01)",
          "<b>entropy</b><br>Great Mysteries of Physics: 9 (9.00)",
          "<b>existence</b><br>Great Mysteries of Physics: 1 (1.00)<br>Within Reason: 1 (0.25)<br>The Prof G Pod with Scott Galloway: 1 (0.03)<br>Dwarkesh Podcast: 1 (0.02)<br>Lex Fridman Podcast: 1 (0.02)<br>Making Sense with Sam Harris - Subscriber Content: 1 (0.01)",
          "<b>feature</b><br>Great Mysteries of Physics: 1 (1.00)<br>Acquired: 1 (0.12)<br>a16z Podcast: 1 (0.07)<br>The Prof G Pod with Scott Galloway: 1 (0.03)<br>All-In with Chamath, Jason, Sacks & Friedberg: 2 (0.02)<br>Dwarkesh Podcast: 1 (0.02)",
          "<b>flow</b><br>Great Mysteries of Physics: 2 (2.00)<br>Acquired: 1 (0.12)<br>The Knowledge Project with Shane Parrish: 1 (0.11)<br>The Peter Zeihan Podcast Series: 1 (0.08)",
          "<b>idea</b><br>Great Mysteries of Physics: 1 (1.00)<br>The Ben & Marc Show: 1 (0.17)<br>Dwarkesh Podcast: 7 (0.16)<br>Freakonomics Radio: 1 (0.05)<br>Making Sense with Sam Harris - Subscriber Content: 4 (0.05)<br>The Prof G Pod with Scott Galloway: 2 (0.05)<br>All-In with Chamath, Jason, Sacks & Friedberg: 3 (0.03)<br>Lex Fridman Podcast: 2 (0.03)",
          "<b>physicist</b><br>Great Mysteries of Physics: 1 (1.00)<br>Within Reason: 1 (0.25)<br>Making Sense with Sam Harris - Subscriber Content: 1 (0.01)",
          "<b>space</b><br>Great Mysteries of Physics: 3 (3.00)<br>Search Engine: 1 (0.20)<br>Freakonomics Radio: 2 (0.10)<br>Pivot: 1 (0.08)<br>a16z Podcast: 1 (0.07)<br>The Prof G Pod with Scott Galloway: 1 (0.03)<br>Making Sense with Sam Harris - Subscriber Content: 1 (0.01)",
          "<b>universe</b><br>Great Mysteries of Physics: 3 (3.00)<br>Within Reason: 1 (0.25)<br>Making Sense with Sam Harris - Subscriber Content: 1 (0.01)",
          "<b>way</b><br>Great Mysteries of Physics: 2 (2.00)<br>Dwarkesh Podcast: 1 (0.02)<br>Lex Fridman Podcast: 1 (0.02)"
         ],
         "marker": {
          "color": "rgb(179,222,105)",
          "line": {
           "color": "DarkSlateGrey",
           "width": 1
          },
          "opacity": 0.7,
          "size": [
           12.85714280612245,
           12.142857104591837,
           11.071428552295918,
           11.428571403061225,
           10.714285701530613,
           16.428571313775514,
           10,
           12.499999955357143,
           10.714285701530613,
           10.357142850765307
          ]
         },
         "mode": "markers+text",
         "name": "Great Mysteries of Physics",
         "text": [
          "consequence",
          "entropy",
          "existence",
          "feature",
          "flow",
          "idea",
          "physicist",
          "space",
          "universe",
          "way"
         ],
         "textfont": {
          "color": "rgb(179,222,105)",
          "size": [
           12.85714280612245,
           12.142857104591837,
           11.071428552295918,
           11.428571403061225,
           10.714285701530613,
           16.428571313775514,
           10,
           12.499999955357143,
           10.714285701530613,
           10.357142850765307
          ]
         },
         "textposition": "top center",
         "type": "scatter3d",
         "x": [
          -1.0152327499400238,
          -32.81698163501935,
          14.127859315454232,
          -33.348472474865915,
          -29.622828052019972,
          4.49425693188856,
          -16.271110493244173,
          -18.03498987107804,
          15.538972294288312,
          4.426530565511149
         ],
         "y": [
          300.59152689412866,
          295.78474599956206,
          311.57044216029107,
          280.889912394009,
          295.44445384974847,
          316.5230838237433,
          268.5476489039362,
          292.35528259076574,
          318.1831467231728,
          317.17328781395065
         ],
         "z": [
          -70.94545134974962,
          -63.38262022571937,
          -63.84997546420599,
          -51.70335799598581,
          -66.96582368190481,
          -39.881877348708606,
          -67.38941836057113,
          -45.061038910241116,
          -61.59444985733006,
          -34.9315882291124
         ]
        },
        {
         "hoverinfo": "text",
         "hoverlabel": {
          "bgcolor": "white",
          "font": {
           "family": "Arial",
           "size": 12
          }
         },
         "hovertext": [
          "<b>advantage</b><br>Honestly with Bari Weiss: 1 (0.17)<br>The Prof G Pod with Scott Galloway: 3 (0.08)<br>Making Sense with Sam Harris - Subscriber Content: 2 (0.03)<br>All-In with Chamath, Jason, Sacks & Friedberg: 2 (0.02)",
          "<b>africa</b><br>Honestly with Bari Weiss: 1 (0.17)<br>The Peter Zeihan Podcast Series: 1 (0.08)<br>Dwarkesh Podcast: 1 (0.02)<br>All-In with Chamath, Jason, Sacks & Friedberg: 1 (0.01)",
          "<b>aspect</b><br>Honestly with Bari Weiss: 1 (0.17)<br>The Knowledge Project with Shane Parrish: 1 (0.11)<br>Freakonomics Radio: 1 (0.05)<br>Lex Fridman Podcast: 2 (0.03)<br>Making Sense with Sam Harris - Subscriber Content: 2 (0.03)",
          "<b>belief</b><br>Honestly with Bari Weiss: 1 (0.17)<br>Making Sense with Sam Harris - Subscriber Content: 6 (0.08)<br>All-In with Chamath, Jason, Sacks & Friedberg: 2 (0.02)",
          "<b>decline</b><br>Honestly with Bari Weiss: 1 (0.17)<br>Freakonomics Radio: 3 (0.14)<br>The Prof G Pod with Scott Galloway: 1 (0.03)<br>All-In with Chamath, Jason, Sacks & Friedberg: 2 (0.02)<br>Making Sense with Sam Harris - Subscriber Content: 1 (0.01)",
          "<b>freedom</b><br>Honestly with Bari Weiss: 1 (0.17)<br>Making Sense with Sam Harris - Subscriber Content: 2 (0.03)<br>The Prof G Pod with Scott Galloway: 1 (0.03)<br>All-In with Chamath, Jason, Sacks & Friedberg: 1 (0.01)",
          "<b>humanity</b><br>Honestly with Bari Weiss: 1 (0.17)<br>Dwarkesh Podcast: 2 (0.05)<br>Lex Fridman Podcast: 2 (0.03)<br>The Prof G Pod with Scott Galloway: 1 (0.03)<br>Making Sense with Sam Harris - Subscriber Content: 1 (0.01)",
          "<b>innovation</b><br>Honestly with Bari Weiss: 1 (0.17)<br>Pivot: 2 (0.17)<br>Truth with Vivek Ramaswamy: 1 (0.12)<br>All-In with Chamath, Jason, Sacks & Friedberg: 8 (0.08)<br>a16z Podcast: 1 (0.07)<br>The Prof G Pod with Scott Galloway: 2 (0.05)<br>Dwarkesh Podcast: 1 (0.02)<br>Making Sense with Sam Harris - Subscriber Content: 1 (0.01)",
          "<b>john</b><br>Honestly with Bari Weiss: 1 (0.17)<br>The Knowledge Project with Shane Parrish: 1 (0.11)<br>All-In with Chamath, Jason, Sacks & Friedberg: 1 (0.01)",
          "<b>people</b><br>Honestly with Bari Weiss: 1 (0.17)<br>Truth with Vivek Ramaswamy: 1 (0.12)<br>The Prof G Pod with Scott Galloway: 1 (0.03)<br>All-In with Chamath, Jason, Sacks & Friedberg: 2 (0.02)<br>Dwarkesh Podcast: 1 (0.02)<br>Lex Fridman Podcast: 1 (0.02)"
         ],
         "marker": {
          "color": "rgb(252,205,229)",
          "line": {
           "color": "DarkSlateGrey",
           "width": 1
          },
          "opacity": 0.7,
          "size": [
           11.785714253826532,
           10.357142850765307,
           11.428571403061225,
           12.142857104591837,
           11.785714253826532,
           10.714285701530613,
           11.428571403061225,
           14.999999910714287,
           10,
           11.428571403061225
          ]
         },
         "mode": "markers+text",
         "name": "Honestly with Bari Weiss",
         "text": [
          "advantage",
          "africa",
          "aspect",
          "belief",
          "decline",
          "freedom",
          "humanity",
          "innovation",
          "john",
          "people"
         ],
         "textfont": {
          "color": "rgb(252,205,229)",
          "size": [
           11.785714253826532,
           10.357142850765307,
           11.428571403061225,
           12.142857104591837,
           11.785714253826532,
           10.714285701530613,
           11.428571403061225,
           14.999999910714287,
           10,
           11.428571403061225
          ]
         },
         "textposition": "top center",
         "type": "scatter3d",
         "x": [
          2.573554077213179,
          33.113228301469015,
          -0.6603303853063727,
          18.899629318006383,
          -9.312979962341625,
          30.61648925731568,
          21.656458696323607,
          -12.76155429205428,
          32.77761367831896,
          27.329417161047182
         ],
         "y": [
          287.8187580351329,
          239.89962449317906,
          312.94674789030756,
          312.9672237413004,
          285.71443548759316,
          304.17914936284575,
          313.9181752606944,
          269.3759788493376,
          240.73722366977324,
          306.03316220616426
         ],
         "z": [
          -41.96571971320864,
          -52.65665594398626,
          -44.90082157307808,
          -55.888770412896584,
          -83.07511317320201,
          -60.34241457136272,
          -60.71906082587416,
          -65.16470434240053,
          -52.822413725807955,
          -75.43302383402533
         ]
        },
        {
         "hoverinfo": "text",
         "hoverlabel": {
          "bgcolor": "white",
          "font": {
           "family": "Arial",
           "size": 12
          }
         },
         "hovertext": [
          "<b>activity</b><br>Huberman Lab: 5 (0.36)<br>The Peter Zeihan Podcast Series: 2 (0.17)<br>The Knowledge Project with Shane Parrish: 1 (0.11)<br>The Prof G Pod with Scott Galloway: 1 (0.03)<br>All-In with Chamath, Jason, Sacks & Friedberg: 2 (0.02)<br>Making Sense with Sam Harris - Subscriber Content: 1 (0.01)",
          "<b>body</b><br>Huberman Lab: 4 (0.29)<br>Freakonomics Radio: 1 (0.05)<br>Making Sense with Sam Harris - Subscriber Content: 1 (0.01)",
          "<b>brain</b><br>Huberman Lab: 5 (0.36)<br>Discover Daily by Perplexity: 1 (0.33)<br>Making Sense with Sam Harris - Subscriber Content: 3 (0.04)<br>The Prof G Pod with Scott Galloway: 1 (0.03)<br>Dwarkesh Podcast: 1 (0.02)<br>Lex Fridman Podcast: 1 (0.02)",
          "<b>composition</b><br>Huberman Lab: 4 (0.29)",
          "<b>exercise</b><br>Huberman Lab: 6 (0.43)<br>Dwarkesh Podcast: 1 (0.02)",
          "<b>glucose</b><br>Huberman Lab: 6 (0.43)",
          "<b>health</b><br>Huberman Lab: 9 (0.64)<br>The Daily: 1 (0.20)<br>a16z Podcast: 2 (0.14)<br>Freakonomics Radio: 1 (0.05)<br>The Prof G Pod with Scott Galloway: 2 (0.05)<br>All-In with Chamath, Jason, Sacks & Friedberg: 4 (0.04)",
          "<b>muscle</b><br>Huberman Lab: 11 (0.79)<br>Making Sense with Sam Harris - Subscriber Content: 1 (0.01)",
          "<b>protein</b><br>Huberman Lab: 11 (0.79)",
          "<b>training</b><br>Huberman Lab: 7 (0.50)<br>Acquired: 3 (0.38)<br>Dwarkesh Podcast: 4 (0.09)<br>a16z Podcast: 1 (0.07)<br>The Prof G Pod with Scott Galloway: 1 (0.03)<br>All-In with Chamath, Jason, Sacks & Friedberg: 1 (0.01)"
         ],
         "marker": {
          "color": "rgb(217,217,217)",
          "line": {
           "color": "DarkSlateGrey",
           "width": 1
          },
          "opacity": 0.7,
          "size": [
           13.214285656887757,
           11.071428552295918,
           13.214285656887757,
           10.357142850765307,
           11.428571403061225,
           11.071428552295918,
           15.7142856122449,
           13.214285656887757,
           12.85714280612245,
           14.999999910714287
          ]
         },
         "mode": "markers+text",
         "name": "Huberman Lab",
         "text": [
          "activity",
          "body",
          "brain",
          "composition",
          "exercise",
          "glucose",
          "health",
          "muscle",
          "protein",
          "training"
         ],
         "textfont": {
          "color": "rgb(217,217,217)",
          "size": [
           13.214285656887757,
           11.071428552295918,
           13.214285656887757,
           10.357142850765307,
           11.428571403061225,
           11.071428552295918,
           15.7142856122449,
           13.214285656887757,
           12.85714280612245,
           14.999999910714287
          ]
         },
         "textposition": "top center",
         "type": "scatter3d",
         "x": [
          -13.807741427446386,
          -18.830718632974897,
          -20.760392822750568,
          -15.6854034523223,
          -13.565334577345919,
          -29.580345327571813,
          6.569065274174762,
          -20.29586838335948,
          -30.928454515601217,
          0.11585509245902041
         ],
         "y": [
          299.62853138982257,
          317.57015169421567,
          316.43052056844107,
          287.098697462515,
          304.1379554264889,
          306.0042950749604,
          277.7341984677138,
          316.9662363882333,
          303.32860490237744,
          271.4027545824411
         ],
         "z": [
          -71.60881762156542,
          -60.24475490249191,
          -56.5227387669595,
          -67.60551720808421,
          -68.30676413365184,
          -63.285470511495916,
          -85.95371637680105,
          -60.957963043734715,
          -62.315580143656184,
          -77.34036215340726
         ]
        },
        {
         "hoverinfo": "text",
         "hoverlabel": {
          "bgcolor": "white",
          "font": {
           "family": "Arial",
           "size": 12
          }
         },
         "hovertext": [
          "<b>anthropic</b><br>Lex Fridman Podcast: 3 (0.05)",
          "<b>context</b><br>Lex Fridman Podcast: 2 (0.03)<br>Dwarkesh Podcast: 1 (0.02)<br>All-In with Chamath, Jason, Sacks & Friedberg: 1 (0.01)",
          "<b>correlation</b><br>Lex Fridman Podcast: 2 (0.03)<br>All-In with Chamath, Jason, Sacks & Friedberg: 1 (0.01)",
          "<b>journey</b><br>Lex Fridman Podcast: 2 (0.03)<br>The Prof G Pod with Scott Galloway: 1 (0.03)<br>Dwarkesh Podcast: 1 (0.02)<br>All-In with Chamath, Jason, Sacks & Friedberg: 1 (0.01)",
          "<b>making</b><br>Lex Fridman Podcast: 5 (0.08)<br>Dwarkesh Podcast: 3 (0.07)<br>The Prof G Pod with Scott Galloway: 1 (0.03)",
          "<b>pain</b><br>Lex Fridman Podcast: 2 (0.03)<br>All-In with Chamath, Jason, Sacks & Friedberg: 2 (0.02)",
          "<b>truth</b><br>Lex Fridman Podcast: 9 (0.15)<br>Making Sense with Sam Harris - Subscriber Content: 2 (0.03)<br>Dwarkesh Podcast: 1 (0.02)",
          "<b>velocity</b><br>Lex Fridman Podcast: 3 (0.05)",
          "<b>web</b><br>Lex Fridman Podcast: 3 (0.05)<br>Dwarkesh Podcast: 1 (0.02)",
          "<b>wolfram</b><br>Lex Fridman Podcast: 7 (0.12)"
         ],
         "marker": {
          "color": "rgb(188,128,189)",
          "line": {
           "color": "DarkSlateGrey",
           "width": 1
          },
          "opacity": 0.7,
          "size": [
           10,
           10.357142850765307,
           10,
           10.714285701530613,
           12.142857104591837,
           10.357142850765307,
           13.214285656887757,
           10,
           10.357142850765307,
           11.428571403061225
          ]
         },
         "mode": "markers+text",
         "name": "Lex Fridman Podcast",
         "text": [
          "anthropic",
          "context",
          "correlation",
          "journey",
          "making",
          "pain",
          "truth",
          "velocity",
          "web",
          "wolfram"
         ],
         "textfont": {
          "color": "rgb(188,128,189)",
          "size": [
           10,
           10.357142850765307,
           10,
           10.714285701530613,
           12.142857104591837,
           10.357142850765307,
           13.214285656887757,
           10,
           10.357142850765307,
           11.428571403061225
          ]
         },
         "textposition": "top center",
         "type": "scatter3d",
         "x": [
          -8.860542048482758,
          1.6299373730558329,
          -18.55770237503013,
          6.891231630017203,
          -11.970351687246815,
          -8.490171704917673,
          20.82112984024249,
          -29.94170640885905,
          -38.23754645531461,
          26.221795403750065
         ],
         "y": [
          265.74905852419477,
          308.26096435013613,
          292.67253665987795,
          321.59387415419775,
          284.22085067352845,
          322.8684269227764,
          319.4874630119557,
          297.6405924155132,
          265.54205673766404,
          315.6223889192077
         ],
         "z": [
          -66.77705994335325,
          -52.20344992593836,
          -72.5360100760201,
          -36.12164959461752,
          -46.320740838116485,
          -60.346860843784945,
          -54.20114860937563,
          -65.81391268707698,
          -32.405104297506014,
          -66.6376721402886
         ]
        },
        {
         "hoverinfo": "text",
         "hoverlabel": {
          "bgcolor": "white",
          "font": {
           "family": "Arial",
           "size": 12
          }
         },
         "hovertext": [
          "<b>adoption</b><br>Lightcone Podcast: 1 (0.20)<br>Truth with Vivek Ramaswamy: 1 (0.12)<br>Dwarkesh Podcast: 1 (0.02)<br>All-In with Chamath, Jason, Sacks & Friedberg: 1 (0.01)",
          "<b>app</b><br>Lightcone Podcast: 1 (0.20)<br>The Daily: 1 (0.20)<br>Acquired: 1 (0.12)<br>The Prof G Pod with Scott Galloway: 1 (0.03)<br>Lex Fridman Podcast: 1 (0.02)<br>All-In with Chamath, Jason, Sacks & Friedberg: 1 (0.01)",
          "<b>ceo</b><br>Lightcone Podcast: 1 (0.20)<br>The Ben & Marc Show: 1 (0.17)<br>Pivot: 1 (0.08)<br>Dwarkesh Podcast: 3 (0.07)<br>The Prof G Pod with Scott Galloway: 1 (0.03)<br>All-In with Chamath, Jason, Sacks & Friedberg: 2 (0.02)",
          "<b>cloud</b><br>Lightcone Podcast: 1 (0.20)<br>Acquired: 1 (0.12)<br>Pivot: 1 (0.08)<br>The Prof G Pod with Scott Galloway: 2 (0.05)",
          "<b>computing</b><br>Lightcone Podcast: 1 (0.20)<br>Pivot: 1 (0.08)<br>All-In with Chamath, Jason, Sacks & Friedberg: 3 (0.03)",
          "<b>consumer</b><br>Lightcone Podcast: 1 (0.20)<br>All-In with Chamath, Jason, Sacks & Friedberg: 5 (0.05)<br>The Prof G Pod with Scott Galloway: 1 (0.03)",
          "<b>enterprise</b><br>Lightcone Podcast: 3 (0.60)<br>a16z Podcast: 1 (0.07)<br>All-In with Chamath, Jason, Sacks & Friedberg: 1 (0.01)",
          "<b>improvement</b><br>Lightcone Podcast: 1 (0.20)<br>a16z Podcast: 2 (0.14)<br>Truth with Vivek Ramaswamy: 1 (0.12)<br>Dwarkesh Podcast: 3 (0.07)<br>Huberman Lab: 1 (0.07)<br>The Prof G Pod with Scott Galloway: 1 (0.03)<br>All-In with Chamath, Jason, Sacks & Friedberg: 2 (0.02)",
          "<b>movie</b><br>Lightcone Podcast: 1 (0.20)<br>a16z Podcast: 1 (0.07)<br>Dwarkesh Podcast: 2 (0.05)",
          "<b>saas</b><br>Lightcone Podcast: 3 (0.60)<br>a16z Podcast: 1 (0.07)"
         ],
         "marker": {
          "color": "rgb(204,235,197)",
          "line": {
           "color": "DarkSlateGrey",
           "width": 1
          },
          "opacity": 0.7,
          "size": [
           10.357142850765307,
           11.071428552295918,
           12.142857104591837,
           10.714285701530613,
           10.714285701530613,
           11.428571403061225,
           10.714285701530613,
           12.85714280612245,
           10.357142850765307,
           10.357142850765307
          ]
         },
         "mode": "markers+text",
         "name": "Lightcone Podcast",
         "text": [
          "adoption",
          "app",
          "ceo",
          "cloud",
          "computing",
          "consumer",
          "enterprise",
          "improvement",
          "movie",
          "saas"
         ],
         "textfont": {
          "color": "rgb(204,235,197)",
          "size": [
           10.357142850765307,
           11.071428552295918,
           12.142857104591837,
           10.714285701530613,
           10.714285701530613,
           11.428571403061225,
           10.714285701530613,
           12.85714280612245,
           10.357142850765307,
           10.357142850765307
          ]
         },
         "textposition": "top center",
         "type": "scatter3d",
         "x": [
          -9.970695743999308,
          -36.862775532027094,
          -26.070146996655865,
          -32.5298307558964,
          -30.101336935347348,
          -14.344366730902637,
          -15.998233603653768,
          -14.63505104012949,
          7.563483380363321,
          52.370420022746636
         ],
         "y": [
          278.54101477130234,
          264.5215889613449,
          291.93189745509625,
          265.58123287718564,
          273.22728800336733,
          254.44451277194747,
          264.60720555388133,
          277.16301944461105,
          317.6975220885243,
          252.39601124184858
         ],
         "z": [
          -64.89378643819148,
          -33.64900195279579,
          -37.019120409480536,
          -39.97024485621303,
          -49.12028590984328,
          -42.17971075771646,
          -42.48034725100291,
          -71.67261418999027,
          -43.18056815951257,
          -44.44171848888472
         ]
        },
        {
         "hoverinfo": "text",
         "hoverlabel": {
          "bgcolor": "white",
          "font": {
           "family": "Arial",
           "size": 12
          }
         },
         "hovertext": [
          "<b>advancement</b><br>Making Sense with Sam Harris: 1 (0.50)<br>The Joe Rogan Experience: 1 (0.50)<br>Discover Daily by Perplexity: 1 (0.33)<br>The Ben & Marc Show: 1 (0.17)<br>The Knowledge Project with Shane Parrish: 1 (0.11)<br>Pivot: 1 (0.08)<br>Dwarkesh Podcast: 3 (0.07)<br>a16z Podcast: 1 (0.07)<br>Lex Fridman Podcast: 3 (0.05)<br>Making Sense with Sam Harris - Subscriber Content: 3 (0.04)<br>All-In with Chamath, Jason, Sacks & Friedberg: 2 (0.02)",
          "<b>algorithm</b><br>Making Sense with Sam Harris: 1 (0.50)<br>All-In with Chamath, Jason, Sacks & Friedberg: 4 (0.04)",
          "<b>attack</b><br>Making Sense with Sam Harris: 1 (0.50)<br>The Daily: 2 (0.40)<br>Dwarkesh Podcast: 1 (0.02)",
          "<b>capability</b><br>Making Sense with Sam Harris: 1 (0.50)<br>a16z Podcast: 2 (0.14)<br>Dwarkesh Podcast: 3 (0.07)<br>Lex Fridman Podcast: 3 (0.05)<br>Making Sense with Sam Harris - Subscriber Content: 2 (0.03)<br>All-In with Chamath, Jason, Sacks & Friedberg: 2 (0.02)",
          "<b>focus</b><br>Making Sense with Sam Harris: 2 (1.00)<br>The Ezra Klein Show: 1 (0.14)<br>Dwarkesh Podcast: 5 (0.12)<br>Freakonomics Radio: 2 (0.10)<br>Pivot: 1 (0.08)<br>Huberman Lab: 1 (0.07)<br>Making Sense with Sam Harris - Subscriber Content: 4 (0.05)<br>Lex Fridman Podcast: 2 (0.03)<br>The Prof G Pod with Scott Galloway: 1 (0.03)<br>All-In with Chamath, Jason, Sacks & Friedberg: 2 (0.02)",
          "<b>human</b><br>Making Sense with Sam Harris: 3 (1.50)<br>Pivot: 3 (0.25)<br>a16z Podcast: 2 (0.14)<br>Making Sense with Sam Harris - Subscriber Content: 7 (0.09)<br>Lex Fridman Podcast: 5 (0.08)<br>Dwarkesh Podcast: 2 (0.05)<br>All-In with Chamath, Jason, Sacks & Friedberg: 2 (0.02)",
          "<b>influence</b><br>Making Sense with Sam Harris: 2 (1.00)<br>The Peter Zeihan Podcast Series: 1 (0.08)<br>Lex Fridman Podcast: 3 (0.05)<br>All-In with Chamath, Jason, Sacks & Friedberg: 4 (0.04)<br>Making Sense with Sam Harris - Subscriber Content: 2 (0.03)<br>Dwarkesh Podcast: 1 (0.02)",
          "<b>job</b><br>Making Sense with Sam Harris: 3 (1.50)<br>Pivot: 5 (0.42)<br>Prof G Markets: 1 (0.33)<br>Freakonomics Radio: 3 (0.14)<br>The Prof G Pod with Scott Galloway: 3 (0.08)<br>All-In with Chamath, Jason, Sacks & Friedberg: 4 (0.04)<br>Lex Fridman Podcast: 1 (0.02)<br>Making Sense with Sam Harris - Subscriber Content: 1 (0.01)",
          "<b>technology</b><br>Making Sense with Sam Harris: 2 (1.00)<br>The Joe Rogan Experience: 2 (1.00)<br>Discover Daily by Perplexity: 2 (0.67)<br>The Ben & Marc Show: 3 (0.50)<br>Honestly with Bari Weiss: 1 (0.17)<br>Pivot: 2 (0.17)<br>Dwarkesh Podcast: 6 (0.14)<br>Making Sense with Sam Harris - Subscriber Content: 8 (0.11)<br>The Prof G Pod with Scott Galloway: 3 (0.08)<br>All-In with Chamath, Jason, Sacks & Friedberg: 7 (0.07)<br>Huberman Lab: 1 (0.07)<br>a16z Podcast: 1 (0.07)<br>Lex Fridman Podcast: 2 (0.03)",
          "<b>wealth</b><br>Making Sense with Sam Harris: 2 (1.00)<br>Search Engine: 1 (0.20)<br>a16z Podcast: 1 (0.07)<br>The Prof G Pod with Scott Galloway: 2 (0.05)<br>Dwarkesh Podcast: 1 (0.02)<br>All-In with Chamath, Jason, Sacks & Friedberg: 1 (0.01)"
         ],
         "marker": {
          "color": "rgb(255,237,111)",
          "line": {
           "color": "DarkSlateGrey",
           "width": 1
          },
          "opacity": 0.7,
          "size": [
           15.357142761479594,
           10.714285701530613,
           10.357142850765307,
           13.571428507653064,
           16.428571313775514,
           17.499999866071434,
           13.571428507653064,
           16.428571313775514,
           23.214285478316334,
           11.785714253826532
          ]
         },
         "mode": "markers+text",
         "name": "Making Sense with Sam Harris",
         "text": [
          "advancement",
          "algorithm",
          "attack",
          "capability",
          "focus",
          "human",
          "influence",
          "job",
          "technology",
          "wealth"
         ],
         "textfont": {
          "color": "rgb(255,237,111)",
          "size": [
           15.357142761479594,
           10.714285701530613,
           10.357142850765307,
           13.571428507653064,
           16.428571313775514,
           17.499999866071434,
           13.571428507653064,
           16.428571313775514,
           23.214285478316334,
           11.785714253826532
          ]
         },
         "textposition": "top center",
         "type": "scatter3d",
         "x": [
          -4.802817386746851,
          -39.273608258133734,
          9.906406248455568,
          -21.333383957066754,
          -6.911015500640308,
          18.08563814588528,
          -0.03368490547214831,
          2.0153750077339208,
          -26.73269412360607,
          3.7689736729741017
         ],
         "y": [
          276.35178144506193,
          283.26804185230986,
          301.31267105028644,
          283.9165460931446,
          301.3595807223262,
          313.9536377236275,
          293.35278556477465,
          299.13542742074236,
          266.5983122133124,
          268.7170171973099
         ],
         "z": [
          -70.28603141187467,
          -44.249110869511526,
          -76.15121632795825,
          -51.50059771607671,
          -38.624870368166306,
          -63.272836317212295,
          -69.2249064002748,
          -31.543297177633566,
          -47.54404958568957,
          -47.409020156220826
         ]
        },
        {
         "hoverinfo": "text",
         "hoverlabel": {
          "bgcolor": "white",
          "font": {
           "family": "Arial",
           "size": 12
          }
         },
         "hovertext": [
          "<b>component</b><br>Making Sense with Sam Harris - Subscriber Content: 4 (0.05)",
          "<b>concern</b><br>Making Sense with Sam Harris - Subscriber Content: 5 (0.07)<br>All-In with Chamath, Jason, Sacks & Friedberg: 4 (0.04)<br>The Prof G Pod with Scott Galloway: 1 (0.03)",
          "<b>dominance</b><br>Making Sense with Sam Harris - Subscriber Content: 3 (0.04)",
          "<b>ideology</b><br>Making Sense with Sam Harris - Subscriber Content: 5 (0.07)",
          "<b>image</b><br>Making Sense with Sam Harris - Subscriber Content: 5 (0.07)",
          "<b>israel</b><br>Making Sense with Sam Harris - Subscriber Content: 7 (0.09)<br>All-In with Chamath, Jason, Sacks & Friedberg: 2 (0.02)<br>Lex Fridman Podcast: 1 (0.02)",
          "<b>jews</b><br>Making Sense with Sam Harris - Subscriber Content: 5 (0.07)",
          "<b>molecule</b><br>Making Sense with Sam Harris - Subscriber Content: 5 (0.07)",
          "<b>property</b><br>Making Sense with Sam Harris - Subscriber Content: 4 (0.05)<br>The Prof G Pod with Scott Galloway: 1 (0.03)<br>Lex Fridman Podcast: 1 (0.02)",
          "<b>violence</b><br>Making Sense with Sam Harris - Subscriber Content: 4 (0.05)<br>Dwarkesh Podcast: 1 (0.02)<br>Lex Fridman Podcast: 1 (0.02)<br>All-In with Chamath, Jason, Sacks & Friedberg: 1 (0.01)"
         ],
         "marker": {
          "color": "rgb(141,211,199)",
          "line": {
           "color": "DarkSlateGrey",
           "width": 1
          },
          "opacity": 0.7,
          "size": [
           10.357142850765307,
           12.499999955357143,
           10,
           10.714285701530613,
           10.714285701530613,
           12.499999955357143,
           10.714285701530613,
           10.714285701530613,
           11.071428552295918,
           11.428571403061225
          ]
         },
         "mode": "markers+text",
         "name": "Making Sense with Sam Harris - Subscriber Content",
         "text": [
          "component",
          "concern",
          "dominance",
          "ideology",
          "image",
          "israel",
          "jews",
          "molecule",
          "property",
          "violence"
         ],
         "textfont": {
          "color": "rgb(141,211,199)",
          "size": [
           10.357142850765307,
           12.499999955357143,
           10,
           10.714285701530613,
           10.714285701530613,
           12.499999955357143,
           10.714285701530613,
           10.714285701530613,
           11.071428552295918,
           11.428571403061225
          ]
         },
         "textposition": "top center",
         "type": "scatter3d",
         "x": [
          -29.60442309719247,
          7.729836710162294,
          4.511387452251282,
          25.555794719291818,
          -14.29734698040334,
          44.53094497692925,
          46.748394209514046,
          -32.80226859877684,
          0.5943470567675074,
          13.704452896423717
         ],
         "y": [
          285.18099176243715,
          298.7966360454602,
          288.92756094128373,
          301.540472230154,
          304.57541403068797,
          261.993697961197,
          265.6862489914726,
          301.85328219225846,
          265.2700127522734,
          302.4246049583296
         ],
         "z": [
          -55.86274877708219,
          -60.74245286940487,
          -71.01264997529887,
          -55.20384523016047,
          -45.03853043043453,
          -63.6554843954165,
          -64.4560948886797,
          -61.39336872070526,
          -48.451367948868,
          -77.32806392747895
         ]
        },
        {
         "hoverinfo": "text",
         "hoverlabel": {
          "bgcolor": "white",
          "font": {
           "family": "Arial",
           "size": 12
          }
         },
         "hovertext": [
          "<b>china</b><br>NZZ Akzent: 2 (0.67)<br>The Peter Zeihan Podcast Series: 4 (0.33)<br>All-In with Chamath, Jason, Sacks & Friedberg: 6 (0.06)<br>Freakonomics Radio: 1 (0.05)<br>Making Sense with Sam Harris - Subscriber Content: 2 (0.03)<br>The Prof G Pod with Scott Galloway: 1 (0.03)<br>Dwarkesh Podcast: 1 (0.02)",
          "<b>insbesondere</b><br>NZZ Akzent: 1 (0.33)<br>The Pioneer Briefing: 2 (0.08)",
          "<b>lage</b><br>NZZ Akzent: 2 (0.67)<br>The Pioneer Briefing: 3 (0.12)",
          "<b>sie</b><br>NZZ Akzent: 1 (0.33)<br>The Pioneer Briefing: 2 (0.08)"
         ],
         "marker": {
          "color": "rgb(255,255,179)",
          "line": {
           "color": "DarkSlateGrey",
           "width": 1
          },
          "opacity": 0.7,
          "size": [
           14.999999910714287,
           10,
           10.714285701530613,
           10
          ]
         },
         "mode": "markers+text",
         "name": "NZZ Akzent",
         "text": [
          "china",
          "insbesondere",
          "lage",
          "sie"
         ],
         "textfont": {
          "color": "rgb(255,255,179)",
          "size": [
           14.999999910714287,
           10,
           10.714285701530613,
           10
          ]
         },
         "textposition": "top center",
         "type": "scatter3d",
         "x": [
          32.46446007475052,
          51.71795390820552,
          3.6342532063859854,
          50.435959978556895
         ],
         "y": [
          240.65754910104147,
          253.51194654856786,
          258.78907858817604,
          254.3554955606082
         ],
         "z": [
          -53.35337607585749,
          -44.909817443468874,
          -39.9921230138838,
          -43.78784820431654
         ]
        },
        {
         "hoverinfo": "text",
         "hoverlabel": {
          "bgcolor": "white",
          "font": {
           "family": "Arial",
           "size": 12
          }
         },
         "hovertext": [
          "<b>anxiety</b><br>Pivot: 2 (0.17)<br>The Ezra Klein Show: 1 (0.14)<br>All-In with Chamath, Jason, Sacks & Friedberg: 1 (0.01)",
          "<b>automation</b><br>Pivot: 3 (0.25)<br>The Ben & Marc Show: 1 (0.17)<br>All-In with Chamath, Jason, Sacks & Friedberg: 2 (0.02)<br>Making Sense with Sam Harris - Subscriber Content: 1 (0.01)",
          "<b>business</b><br>Pivot: 2 (0.17)<br>The Ben & Marc Show: 1 (0.17)<br>The Prof G Pod with Scott Galloway: 6 (0.15)<br>Acquired: 1 (0.12)<br>Truth with Vivek Ramaswamy: 1 (0.12)<br>Freakonomics Radio: 2 (0.10)<br>All-In with Chamath, Jason, Sacks & Friedberg: 9 (0.09)<br>a16z Podcast: 1 (0.07)<br>Dwarkesh Podcast: 2 (0.05)<br>Making Sense with Sam Harris - Subscriber Content: 1 (0.01)",
          "<b>care</b><br>Pivot: 2 (0.17)<br>a16z Podcast: 1 (0.07)<br>Freakonomics Radio: 1 (0.05)",
          "<b>compensation</b><br>Pivot: 6 (0.50)",
          "<b>founder</b><br>Pivot: 3 (0.25)<br>Lex Fridman Podcast: 4 (0.07)<br>a16z Podcast: 1 (0.07)<br>All-In with Chamath, Jason, Sacks & Friedberg: 4 (0.04)<br>Dwarkesh Podcast: 1 (0.02)",
          "<b>mode</b><br>Pivot: 3 (0.25)",
          "<b>productivity</b><br>Pivot: 3 (0.25)<br>Truth with Vivek Ramaswamy: 2 (0.25)<br>a16z Podcast: 1 (0.07)<br>Dwarkesh Podcast: 2 (0.05)<br>All-In with Chamath, Jason, Sacks & Friedberg: 3 (0.03)<br>Lex Fridman Podcast: 1 (0.02)",
          "<b>stock</b><br>Pivot: 3 (0.25)<br>The Prof G Pod with Scott Galloway: 1 (0.03)<br>All-In with Chamath, Jason, Sacks & Friedberg: 1 (0.01)",
          "<b>value</b><br>Pivot: 4 (0.33)<br>The Ezra Klein Show: 1 (0.14)<br>a16z Podcast: 2 (0.14)<br>The Prof G Pod with Scott Galloway: 5 (0.13)<br>All-In with Chamath, Jason, Sacks & Friedberg: 4 (0.04)<br>Making Sense with Sam Harris - Subscriber Content: 3 (0.04)<br>Lex Fridman Podcast: 2 (0.03)<br>Dwarkesh Podcast: 1 (0.02)"
         ],
         "marker": {
          "color": "rgb(190,186,218)",
          "line": {
           "color": "DarkSlateGrey",
           "width": 1
          },
          "opacity": 0.7,
          "size": [
           10.357142850765307,
           11.428571403061225,
           18.214285567602044,
           10.357142850765307,
           11.071428552295918,
           13.571428507653064,
           10,
           13.214285656887757,
           10.714285701530613,
           16.78571416454082
          ]
         },
         "mode": "markers+text",
         "name": "Pivot",
         "text": [
          "anxiety",
          "automation",
          "business",
          "care",
          "compensation",
          "founder",
          "mode",
          "productivity",
          "stock",
          "value"
         ],
         "textfont": {
          "color": "rgb(190,186,218)",
          "size": [
           10.357142850765307,
           11.428571403061225,
           18.214285567602044,
           10.357142850765307,
           11.071428552295918,
           13.571428507653064,
           10,
           13.214285656887757,
           10.714285701530613,
           16.78571416454082
          ]
         },
         "textposition": "top center",
         "type": "scatter3d",
         "x": [
          -2.6788449007421873,
          -22.388399970735076,
          -6.732660275236391,
          5.255140726242433,
          5.6097484692325095,
          6.149113224096452,
          -35.53352831173572,
          -21.300673852591885,
          -10.190362164396506,
          -8.845815546496473
         ],
         "y": [
          323.3967497401784,
          273.37363614397356,
          260.9607250175679,
          274.1366898411903,
          274.57033951687106,
          261.3775884427126,
          285.9409414417436,
          276.801434400269,
          245.99565200654314,
          251.50796254428244
         ],
         "z": [
          -59.59091482304862,
          -51.700836347172526,
          -41.916334219496164,
          -83.57616750469012,
          -63.21789831774531,
          -64.46265492030403,
          -47.95556094849958,
          -68.41263603941455,
          -45.92004181347658,
          -58.235218064271976
         ]
        },
        {
         "hoverinfo": "text",
         "hoverlabel": {
          "bgcolor": "white",
          "font": {
           "family": "Arial",
           "size": 12
          }
         },
         "hovertext": [
          "<b>area</b><br>Prof G Markets: 1 (0.33)<br>Pivot: 3 (0.25)<br>Honestly with Bari Weiss: 1 (0.17)<br>Truth with Vivek Ramaswamy: 1 (0.12)<br>The Peter Zeihan Podcast Series: 1 (0.08)<br>a16z Podcast: 1 (0.07)<br>All-In with Chamath, Jason, Sacks & Friedberg: 3 (0.03)<br>Making Sense with Sam Harris - Subscriber Content: 2 (0.03)<br>The Prof G Pod with Scott Galloway: 1 (0.03)<br>Dwarkesh Podcast: 1 (0.02)<br>Lex Fridman Podcast: 1 (0.02)",
          "<b>cost</b><br>Prof G Markets: 1 (0.33)<br>Freakonomics Radio: 5 (0.24)<br>The Daily: 1 (0.20)<br>The Ben & Marc Show: 1 (0.17)<br>a16z Podcast: 2 (0.14)<br>Acquired: 1 (0.12)<br>Truth with Vivek Ramaswamy: 1 (0.12)<br>All-In with Chamath, Jason, Sacks & Friedberg: 9 (0.09)<br>The Peter Zeihan Podcast Series: 1 (0.08)<br>Dwarkesh Podcast: 2 (0.05)<br>The Prof G Pod with Scott Galloway: 2 (0.05)",
          "<b>expense</b><br>Prof G Markets: 1 (0.33)<br>Acquired: 1 (0.12)<br>All-In with Chamath, Jason, Sacks & Friedberg: 2 (0.02)",
          "<b>government</b><br>Prof G Markets: 2 (0.67)<br>The Peter Zeihan Podcast Series: 4 (0.33)<br>The Ezra Klein Show: 2 (0.29)<br>All-In with Chamath, Jason, Sacks & Friedberg: 22 (0.23)<br>The Daily: 1 (0.20)<br>Honestly with Bari Weiss: 1 (0.17)<br>Pivot: 2 (0.17)<br>Freakonomics Radio: 2 (0.10)<br>Making Sense with Sam Harris - Subscriber Content: 6 (0.08)<br>The Prof G Pod with Scott Galloway: 3 (0.08)<br>Dwarkesh Podcast: 2 (0.05)<br>Lex Fridman Podcast: 1 (0.02)",
          "<b>living</b><br>Prof G Markets: 1 (0.33)<br>The Daily: 1 (0.20)<br>The Knowledge Project with Shane Parrish: 1 (0.11)<br>Dwarkesh Podcast: 2 (0.05)",
          "<b>loss</b><br>Prof G Markets: 1 (0.33)<br>Pivot: 1 (0.08)<br>The Peter Zeihan Podcast Series: 1 (0.08)<br>Freakonomics Radio: 1 (0.05)<br>All-In with Chamath, Jason, Sacks & Friedberg: 4 (0.04)<br>Dwarkesh Podcast: 1 (0.02)<br>Making Sense with Sam Harris - Subscriber Content: 1 (0.01)",
          "<b>marketing</b><br>Prof G Markets: 1 (0.33)<br>Acquired: 2 (0.25)",
          "<b>partner</b><br>Prof G Markets: 1 (0.33)<br>The Pioneer Briefing: 1 (0.04)<br>The Prof G Pod with Scott Galloway: 1 (0.03)",
          "<b>school</b><br>Prof G Markets: 1 (0.33)<br>Huberman Lab: 2 (0.14)<br>All-In with Chamath, Jason, Sacks & Friedberg: 2 (0.02)",
          "<b>service</b><br>Prof G Markets: 1 (0.33)<br>The Prof G Pod with Scott Galloway: 5 (0.13)<br>Pivot: 1 (0.08)<br>All-In with Chamath, Jason, Sacks & Friedberg: 3 (0.03)"
         ],
         "marker": {
          "color": "rgb(251,128,114)",
          "line": {
           "color": "DarkSlateGrey",
           "width": 1
          },
          "opacity": 0.7,
          "size": [
           14.64285705994898,
           18.214285567602044,
           10.357142850765307,
           26.07142828443878,
           10.714285701530613,
           12.499999955357143,
           10,
           10,
           10.714285701530613,
           12.499999955357143
          ]
         },
         "mode": "markers+text",
         "name": "Prof G Markets",
         "text": [
          "area",
          "cost",
          "expense",
          "government",
          "living",
          "loss",
          "marketing",
          "partner",
          "school",
          "service"
         ],
         "textfont": {
          "color": "rgb(251,128,114)",
          "size": [
           14.64285705994898,
           18.214285567602044,
           10.357142850765307,
           26.07142828443878,
           10.714285701530613,
           12.499999955357143,
           10,
           10,
           10.714285701530613,
           12.499999955357143
          ]
         },
         "textposition": "top center",
         "type": "scatter3d",
         "x": [
          15.587783448545624,
          -6.509630890627934,
          -3.7155681696454486,
          29.32261187098286,
          19.654714965517147,
          -7.587273533879073,
          -15.674100896566085,
          7.1086396121419,
          12.003628274732147,
          -14.252279737194907
         ],
         "y": [
          260.0095238409541,
          252.05962656275378,
          251.92501017498844,
          269.5217820014185,
          312.1936151674017,
          293.18647804867896,
          263.19592013463557,
          264.3638443722353,
          268.6061874958345,
          265.54427797459863
         ],
         "z": [
          -44.442014778658816,
          -61.04959211977973,
          -56.89699654624176,
          -62.38305652679958,
          -73.33334781531715,
          -83.99606124799384,
          -39.204332834086046,
          -56.076135967881584,
          -78.22379358630374,
          -49.40613194679397
         ]
        },
        {
         "hoverinfo": "text",
         "hoverlabel": {
          "bgcolor": "white",
          "font": {
           "family": "Arial",
           "size": 12
          }
         },
         "hovertext": [
          "<b>berlin</b><br>Search Engine: 4 (0.80)<br>Freakonomics Radio: 1 (0.05)",
          "<b>birth</b><br>Search Engine: 1 (0.20)<br>The Prof G Pod with Scott Galloway: 1 (0.03)<br>Making Sense with Sam Harris - Subscriber Content: 1 (0.01)",
          "<b>cold</b><br>Search Engine: 1 (0.20)<br>Dwarkesh Podcast: 2 (0.05)",
          "<b>conversion</b><br>Search Engine: 1 (0.20)<br>All-In with Chamath, Jason, Sacks & Friedberg: 2 (0.02)",
          "<b>death</b><br>Search Engine: 1 (0.20)<br>The Prof G Pod with Scott Galloway: 2 (0.05)<br>All-In with Chamath, Jason, Sacks & Friedberg: 3 (0.03)<br>Making Sense with Sam Harris - Subscriber Content: 2 (0.03)",
          "<b>democracy</b><br>Search Engine: 1 (0.20)<br>The Daily: 1 (0.20)<br>Freakonomics Radio: 1 (0.05)",
          "<b>east</b><br>Search Engine: 2 (0.40)<br>Making Sense with Sam Harris - Subscriber Content: 1 (0.01)",
          "<b>experience</b><br>Search Engine: 2 (0.40)<br>Acquired: 2 (0.25)<br>Lightcone Podcast: 1 (0.20)<br>Truth with Vivek Ramaswamy: 1 (0.12)<br>The Knowledge Project with Shane Parrish: 1 (0.11)<br>Freakonomics Radio: 2 (0.10)<br>Making Sense with Sam Harris - Subscriber Content: 5 (0.07)<br>All-In with Chamath, Jason, Sacks & Friedberg: 6 (0.06)<br>The Prof G Pod with Scott Galloway: 2 (0.05)<br>Lex Fridman Podcast: 2 (0.03)",
          "<b>family</b><br>Search Engine: 2 (0.40)<br>Truth with Vivek Ramaswamy: 3 (0.38)<br>Freakonomics Radio: 1 (0.05)<br>The Prof G Pod with Scott Galloway: 1 (0.03)",
          "<b>parent</b><br>Search Engine: 2 (0.40)<br>Truth with Vivek Ramaswamy: 1 (0.12)<br>The Prof G Pod with Scott Galloway: 2 (0.05)"
         ],
         "marker": {
          "color": "rgb(128,177,211)",
          "line": {
           "color": "DarkSlateGrey",
           "width": 1
          },
          "opacity": 0.7,
          "size": [
           10.714285701530613,
           10,
           10,
           10,
           11.785714253826532,
           10,
           10,
           17.499999866071434,
           11.428571403061225,
           10.714285701530613
          ]
         },
         "mode": "markers+text",
         "name": "Search Engine",
         "text": [
          "berlin",
          "birth",
          "cold",
          "conversion",
          "death",
          "democracy",
          "east",
          "experience",
          "family",
          "parent"
         ],
         "textfont": {
          "color": "rgb(128,177,211)",
          "size": [
           10.714285701530613,
           10,
           10,
           10,
           11.785714253826532,
           10,
           10,
           17.499999866071434,
           11.428571403061225,
           10.714285701530613
          ]
         },
         "textposition": "top center",
         "type": "scatter3d",
         "x": [
          49.52601478247368,
          12.861972403025586,
          -6.447286509782559,
          -25.428687041676447,
          8.761797067862592,
          34.54094411124107,
          15.824307790093757,
          -9.253041355557151,
          17.903341714538236,
          14.991863158218143
         ],
         "y": [
          256.8609882481335,
          297.2140000195198,
          322.3783053908113,
          285.4815186668278,
          301.68460225131383,
          296.1065551247696,
          259.7851873370866,
          291.7964371519072,
          291.4722279959016,
          289.29002335156997
         ],
         "z": [
          -55.72816982980655,
          -85.28839806127147,
          -55.58514034968917,
          -65.9255433025524,
          -83.84880236545452,
          -59.006305817842865,
          -43.88557285828837,
          -48.19809084372007,
          -83.06599070444723,
          -83.34406109179218
         ]
        },
        {
         "hoverinfo": "text",
         "hoverlabel": {
          "bgcolor": "white",
          "font": {
           "family": "Arial",
           "size": 12
          }
         },
         "hovertext": [
          "<b>candidate</b><br>The Ben & Marc Show: 1 (0.17)<br>The Prof G Pod with Scott Galloway: 1 (0.03)<br>All-In with Chamath, Jason, Sacks & Friedberg: 2 (0.02)",
          "<b>case</b><br>The Ben & Marc Show: 1 (0.17)<br>Acquired: 1 (0.12)<br>Making Sense with Sam Harris - Subscriber Content: 2 (0.03)<br>Dwarkesh Podcast: 1 (0.02)<br>Lex Fridman Podcast: 1 (0.02)<br>All-In with Chamath, Jason, Sacks & Friedberg: 1 (0.01)",
          "<b>century</b><br>The Ben & Marc Show: 1 (0.17)<br>The Peter Zeihan Podcast Series: 1 (0.08)<br>Dwarkesh Podcast: 1 (0.02)<br>All-In with Chamath, Jason, Sacks & Friedberg: 1 (0.01)",
          "<b>control</b><br>The Ben & Marc Show: 2 (0.33)<br>Pivot: 2 (0.17)<br>Huberman Lab: 1 (0.07)<br>a16z Podcast: 1 (0.07)<br>The Prof G Pod with Scott Galloway: 2 (0.05)<br>Making Sense with Sam Harris - Subscriber Content: 3 (0.04)<br>Dwarkesh Podcast: 1 (0.02)<br>Lex Fridman Podcast: 1 (0.02)<br>All-In with Chamath, Jason, Sacks & Friedberg: 1 (0.01)",
          "<b>criticism</b><br>The Ben & Marc Show: 1 (0.17)<br>The Prof G Pod with Scott Galloway: 1 (0.03)<br>Lex Fridman Podcast: 1 (0.02)",
          "<b>datum</b><br>The Ben & Marc Show: 2 (0.33)<br>Acquired: 2 (0.25)<br>a16z Podcast: 2 (0.14)<br>Lex Fridman Podcast: 4 (0.07)<br>All-In with Chamath, Jason, Sacks & Friedberg: 5 (0.05)<br>Freakonomics Radio: 1 (0.05)<br>The Prof G Pod with Scott Galloway: 2 (0.05)<br>Dwarkesh Podcast: 1 (0.02)",
          "<b>giant</b><br>The Ben & Marc Show: 2 (0.33)<br>All-In with Chamath, Jason, Sacks & Friedberg: 1 (0.01)",
          "<b>nurse</b><br>The Ben & Marc Show: 3 (0.50)<br>a16z Podcast: 2 (0.14)",
          "<b>peace</b><br>The Ben & Marc Show: 2 (0.33)<br>Dwarkesh Podcast: 2 (0.05)<br>All-In with Chamath, Jason, Sacks & Friedberg: 1 (0.01)<br>Making Sense with Sam Harris - Subscriber Content: 1 (0.01)",
          "<b>task</b><br>The Ben & Marc Show: 2 (0.33)<br>Pivot: 3 (0.25)<br>a16z Podcast: 3 (0.21)<br>Dwarkesh Podcast: 3 (0.07)<br>Freakonomics Radio: 1 (0.05)<br>Lex Fridman Podcast: 3 (0.05)<br>All-In with Chamath, Jason, Sacks & Friedberg: 3 (0.03)<br>The Prof G Pod with Scott Galloway: 1 (0.03)"
         ],
         "marker": {
          "color": "rgb(253,180,98)",
          "line": {
           "color": "DarkSlateGrey",
           "width": 1
          },
          "opacity": 0.7,
          "size": [
           10.357142850765307,
           11.428571403061225,
           10.357142850765307,
           13.928571358418369,
           10,
           15.7142856122449,
           10,
           10.714285701530613,
           11.071428552295918,
           15.7142856122449
          ]
         },
         "mode": "markers+text",
         "name": "The Ben & Marc Show",
         "text": [
          "candidate",
          "case",
          "century",
          "control",
          "criticism",
          "datum",
          "giant",
          "nurse",
          "peace",
          "task"
         ],
         "textfont": {
          "color": "rgb(253,180,98)",
          "size": [
           10.357142850765307,
           11.428571403061225,
           10.357142850765307,
           13.928571358418369,
           10,
           15.7142856122449,
           10,
           10.714285701530613,
           11.071428552295918,
           15.7142856122449
          ]
         },
         "textposition": "top center",
         "type": "scatter3d",
         "x": [
          30.01103414611369,
          6.6756159593486855,
          6.560749698281908,
          -12.864433278368253,
          6.951440252257409,
          -15.036324850597495,
          -29.957658821424285,
          8.575709826369355,
          30.84393968770156,
          0.6212410340809869
         ],
         "y": [
          269.35888301896733,
          307.3958390062874,
          281.9741121975993,
          291.51752883378924,
          298.14468259618985,
          305.625773827617,
          258.7516632821156,
          278.99276143160927,
          307.9274780544819,
          301.0911194234252
         ],
         "z": [
          -59.99406203734084,
          -40.920367038563995,
          -66.2363884853331,
          -67.8790447643658,
          -64.94389585908682,
          -61.478657582708436,
          -40.43790529025077,
          -88.00294194267578,
          -62.341861757298155,
          -31.922849591326884
         ]
        },
        {
         "hoverinfo": "text",
         "hoverlabel": {
          "bgcolor": "white",
          "font": {
           "family": "Arial",
           "size": 12
          }
         },
         "hovertext": [
          "<b>challenge</b><br>The Daily: 3 (0.60)<br>Making Sense with Sam Harris: 1 (0.50)<br>The Langley Files: CIA's Podcast: 1 (0.50)<br>Discover Daily by Perplexity: 1 (0.33)<br>Acquired: 2 (0.25)<br>The Peter Zeihan Podcast Series: 3 (0.25)<br>Search Engine: 1 (0.20)<br>Dwarkesh Podcast: 8 (0.19)<br>Pivot: 2 (0.17)<br>Making Sense with Sam Harris - Subscriber Content: 11 (0.15)<br>The Ezra Klein Show: 1 (0.14)<br>The Prof G Pod with Scott Galloway: 5 (0.13)<br>Truth with Vivek Ramaswamy: 1 (0.12)<br>The Knowledge Project with Shane Parrish: 1 (0.11)<br>All-In with Chamath, Jason, Sacks & Friedberg: 8 (0.08)<br>a16z Podcast: 1 (0.07)<br>Lex Fridman Podcast: 2 (0.03)",
          "<b>city</b><br>The Daily: 3 (0.60)<br>All-In with Chamath, Jason, Sacks & Friedberg: 1 (0.01)",
          "<b>draft</b><br>The Daily: 3 (0.60)",
          "<b>employee</b><br>The Daily: 3 (0.60)<br>Lightcone Podcast: 1 (0.20)<br>a16z Podcast: 2 (0.14)<br>Pivot: 1 (0.08)<br>The Prof G Pod with Scott Galloway: 2 (0.05)<br>All-In with Chamath, Jason, Sacks & Friedberg: 1 (0.01)",
          "<b>homelessness</b><br>The Daily: 3 (0.60)<br>The Prof G Pod with Scott Galloway: 1 (0.03)",
          "<b>man</b><br>The Daily: 4 (0.80)<br>Huberman Lab: 1 (0.07)<br>The Prof G Pod with Scott Galloway: 2 (0.05)",
          "<b>office</b><br>The Daily: 3 (0.60)<br>The Prof G Pod with Scott Galloway: 2 (0.05)",
          "<b>official</b><br>The Daily: 3 (0.60)<br>Dwarkesh Podcast: 1 (0.02)<br>Lex Fridman Podcast: 1 (0.02)",
          "<b>president</b><br>The Daily: 7 (1.40)<br>The Prof G Pod with Scott Galloway: 3 (0.08)<br>All-In with Chamath, Jason, Sacks & Friedberg: 2 (0.02)",
          "<b>ukraine</b><br>The Daily: 5 (1.00)<br>The Peter Zeihan Podcast Series: 3 (0.25)<br>Dwarkesh Podcast: 2 (0.05)<br>All-In with Chamath, Jason, Sacks & Friedberg: 1 (0.01)<br>Making Sense with Sam Harris - Subscriber Content: 1 (0.01)"
         ],
         "marker": {
          "color": "rgb(179,222,105)",
          "line": {
           "color": "DarkSlateGrey",
           "width": 1
          },
          "opacity": 0.7,
          "size": [
           27.499999687500008,
           10.357142850765307,
           10,
           12.499999955357143,
           10.357142850765307,
           11.428571403061225,
           10.714285701530613,
           10.714285701530613,
           13.214285656887757,
           13.214285656887757
          ]
         },
         "mode": "markers+text",
         "name": "The Daily",
         "text": [
          "challenge",
          "city",
          "draft",
          "employee",
          "homelessness",
          "man",
          "office",
          "official",
          "president",
          "ukraine"
         ],
         "textfont": {
          "color": "rgb(179,222,105)",
          "size": [
           27.499999687500008,
           10.357142850765307,
           10,
           12.499999955357143,
           10.357142850765307,
           11.428571403061225,
           10.714285701530613,
           10.714285701530613,
           13.214285656887757,
           13.214285656887757
          ]
         },
         "textposition": "top center",
         "type": "scatter3d",
         "x": [
          3.9602055802742693,
          17.440662294345287,
          25.653531483989937,
          10.583192325083393,
          20.85688902297278,
          27.252086348408902,
          19.653333163262758,
          29.653090055661856,
          27.987875468448813,
          44.56111024300545
         ],
         "y": [
          300.5308925124461,
          258.47025012435194,
          277.71660724885083,
          268.1663094840212,
          307.7971327605467,
          313.541970682638,
          267.0589006371265,
          271.56124252437627,
          269.9908396451413,
          257.4647534691151
         ],
         "z": [
          -35.21870627933857,
          -46.46888147005303,
          -62.82099178860285,
          -60.06270409287797,
          -77.95090539957971,
          -67.56203461736288,
          -59.573325943822226,
          -65.59807921370268,
          -62.576249644827115,
          -61.39533640674522
         ]
        },
        {
         "hoverinfo": "text",
         "hoverlabel": {
          "bgcolor": "white",
          "font": {
           "family": "Arial",
           "size": 12
          }
         },
         "hovertext": [
          "<b>feeling</b><br>The Ezra Klein Show: 1 (0.14)<br>All-In with Chamath, Jason, Sacks & Friedberg: 3 (0.03)",
          "<b>generation</b><br>The Ezra Klein Show: 3 (0.43)<br>Freakonomics Radio: 1 (0.05)<br>Making Sense with Sam Harris - Subscriber Content: 4 (0.05)<br>The Prof G Pod with Scott Galloway: 1 (0.03)<br>All-In with Chamath, Jason, Sacks & Friedberg: 2 (0.02)",
          "<b>intervention</b><br>The Ezra Klein Show: 2 (0.29)<br>Pivot: 2 (0.17)<br>Huberman Lab: 1 (0.07)<br>All-In with Chamath, Jason, Sacks & Friedberg: 2 (0.02)<br>Making Sense with Sam Harris - Subscriber Content: 1 (0.01)",
          "<b>pressure</b><br>The Ezra Klein Show: 1 (0.14)<br>The Prof G Pod with Scott Galloway: 1 (0.03)<br>All-In with Chamath, Jason, Sacks & Friedberg: 2 (0.02)",
          "<b>support</b><br>The Ezra Klein Show: 1 (0.14)<br>Truth with Vivek Ramaswamy: 1 (0.12)<br>All-In with Chamath, Jason, Sacks & Friedberg: 10 (0.10)<br>a16z Podcast: 1 (0.07)<br>Making Sense with Sam Harris - Subscriber Content: 3 (0.04)<br>The Prof G Pod with Scott Galloway: 1 (0.03)<br>Lex Fridman Podcast: 1 (0.02)",
          "<b>tendency</b><br>The Ezra Klein Show: 1 (0.14)<br>Freakonomics Radio: 1 (0.05)<br>Making Sense with Sam Harris - Subscriber Content: 2 (0.03)<br>Lex Fridman Podcast: 1 (0.02)<br>All-In with Chamath, Jason, Sacks & Friedberg: 1 (0.01)",
          "<b>vehicle</b><br>The Ezra Klein Show: 1 (0.14)<br>a16z Podcast: 1 (0.07)<br>All-In with Chamath, Jason, Sacks & Friedberg: 1 (0.01)"
         ],
         "marker": {
          "color": "rgb(252,205,229)",
          "line": {
           "color": "DarkSlateGrey",
           "width": 1
          },
          "opacity": 0.7,
          "size": [
           10.357142850765307,
           12.85714280612245,
           11.785714253826532,
           10.357142850765307,
           15.357142761479594,
           11.071428552295918,
           10
          ]
         },
         "mode": "markers+text",
         "name": "The Ezra Klein Show",
         "text": [
          "feeling",
          "generation",
          "intervention",
          "pressure",
          "support",
          "tendency",
          "vehicle"
         ],
         "textfont": {
          "color": "rgb(252,205,229)",
          "size": [
           10.357142850765307,
           12.85714280612245,
           11.785714253826532,
           10.357142850765307,
           15.357142761479594,
           11.071428552295918,
           10
          ]
         },
         "textposition": "top center",
         "type": "scatter3d",
         "x": [
          -0.03825952302655288,
          -10.384533548667171,
          0.8569806757029301,
          -22.115335441550876,
          2.940154424186584,
          -0.7169350858551999,
          -26.825106629942585
         ],
         "y": [
          323.9379210042137,
          273.9728581905709,
          287.3568575552229,
          297.80969839977325,
          275.0193292018703,
          311.4936891689229,
          282.3481525652618
         ],
         "z": [
          -52.44389510850956,
          -68.48881824739678,
          -72.33949948732703,
          -73.99518337117313,
          -72.32205795840007,
          -68.49714419869957,
          -39.78135011709582
         ]
        },
        {
         "hoverinfo": "text",
         "hoverlabel": {
          "bgcolor": "white",
          "font": {
           "family": "Arial",
           "size": 12
          }
         },
         "hovertext": [
          "<b>attention</b><br>The Joe Rogan Experience: 1 (0.50)<br>The Prof G Pod with Scott Galloway: 2 (0.05)<br>Dwarkesh Podcast: 1 (0.02)<br>All-In with Chamath, Jason, Sacks & Friedberg: 1 (0.01)",
          "<b>being</b><br>The Joe Rogan Experience: 1 (0.50)<br>Making Sense with Sam Harris - Subscriber Content: 2 (0.03)",
          "<b>california</b><br>The Joe Rogan Experience: 2 (1.00)<br>The Daily: 1 (0.20)<br>Honestly with Bari Weiss: 1 (0.17)<br>The Prof G Pod with Scott Galloway: 1 (0.03)",
          "<b>company</b><br>The Joe Rogan Experience: 3 (1.50)<br>Acquired: 5 (0.62)<br>Lightcone Podcast: 3 (0.60)<br>The Ben & Marc Show: 3 (0.50)<br>The Prof G Pod with Scott Galloway: 11 (0.28)<br>All-In with Chamath, Jason, Sacks & Friedberg: 19 (0.20)<br>Pivot: 2 (0.17)<br>a16z Podcast: 2 (0.14)<br>Dwarkesh Podcast: 5 (0.12)<br>Freakonomics Radio: 2 (0.10)<br>Making Sense with Sam Harris - Subscriber Content: 1 (0.01)",
          "<b>concentration</b><br>The Joe Rogan Experience: 2 (1.00)<br>The Ben & Marc Show: 1 (0.17)<br>Truth with Vivek Ramaswamy: 1 (0.12)",
          "<b>industry</b><br>The Joe Rogan Experience: 2 (1.00)<br>The Ben & Marc Show: 2 (0.33)<br>a16z Podcast: 3 (0.21)<br>Pivot: 2 (0.17)<br>The Prof G Pod with Scott Galloway: 6 (0.15)<br>The Ezra Klein Show: 1 (0.14)<br>Acquired: 1 (0.12)<br>Truth with Vivek Ramaswamy: 1 (0.12)<br>All-In with Chamath, Jason, Sacks & Friedberg: 9 (0.09)<br>Dwarkesh Podcast: 2 (0.05)<br>Freakonomics Radio: 1 (0.05)<br>Making Sense with Sam Harris - Subscriber Content: 1 (0.01)",
          "<b>network</b><br>The Joe Rogan Experience: 3 (1.50)<br>Discover Daily by Perplexity: 1 (0.33)<br>Truth with Vivek Ramaswamy: 1 (0.12)<br>a16z Podcast: 1 (0.07)<br>Lex Fridman Podcast: 2 (0.03)<br>Dwarkesh Podcast: 1 (0.02)<br>All-In with Chamath, Jason, Sacks & Friedberg: 1 (0.01)",
          "<b>security</b><br>The Joe Rogan Experience: 2 (1.00)<br>Making Sense with Sam Harris: 1 (0.50)<br>The Langley Files: CIA's Podcast: 1 (0.50)<br>Truth with Vivek Ramaswamy: 1 (0.12)<br>The Knowledge Project with Shane Parrish: 1 (0.11)<br>Pivot: 1 (0.08)<br>Dwarkesh Podcast: 3 (0.07)<br>Freakonomics Radio: 1 (0.05)<br>All-In with Chamath, Jason, Sacks & Friedberg: 3 (0.03)",
          "<b>tech</b><br>The Joe Rogan Experience: 2 (1.00)<br>Honestly with Bari Weiss: 2 (0.33)<br>The Ben & Marc Show: 2 (0.33)<br>Acquired: 1 (0.12)<br>The Prof G Pod with Scott Galloway: 3 (0.08)<br>All-In with Chamath, Jason, Sacks & Friedberg: 2 (0.02)",
          "<b>world</b><br>The Joe Rogan Experience: 3 (1.50)<br>Great Mysteries of Physics: 1 (1.00)<br>Discover Daily by Perplexity: 1 (0.33)<br>Within Reason: 1 (0.25)<br>Dwarkesh Podcast: 8 (0.19)<br>The Ben & Marc Show: 1 (0.17)<br>Huberman Lab: 2 (0.14)<br>a16z Podcast: 2 (0.14)<br>Freakonomics Radio: 2 (0.10)<br>Making Sense with Sam Harris - Subscriber Content: 7 (0.09)<br>Pivot: 1 (0.08)<br>Lex Fridman Podcast: 4 (0.07)<br>The Prof G Pod with Scott Galloway: 2 (0.05)<br>All-In with Chamath, Jason, Sacks & Friedberg: 4 (0.04)"
         ],
         "marker": {
          "color": "rgb(217,217,217)",
          "line": {
           "color": "DarkSlateGrey",
           "width": 1
          },
          "opacity": 0.7,
          "size": [
           10.714285701530613,
           10,
           10.714285701530613,
           28.92857109056123,
           10.357142850765307,
           19.999999821428574,
           12.499999955357143,
           13.928571358418369,
           13.214285656887757,
           22.857142627551028
          ]
         },
         "mode": "markers+text",
         "name": "The Joe Rogan Experience",
         "text": [
          "attention",
          "being",
          "california",
          "company",
          "concentration",
          "industry",
          "network",
          "security",
          "tech",
          "world"
         ],
         "textfont": {
          "color": "rgb(217,217,217)",
          "size": [
           10.714285701530613,
           10,
           10.714285701530613,
           28.92857109056123,
           10.357142850765307,
           19.999999821428574,
           12.499999955357143,
           13.928571358418369,
           13.214285656887757,
           22.857142627551028
          ]
         },
         "textposition": "top center",
         "type": "scatter3d",
         "x": [
          3.5896658622557913,
          7.501509032466701,
          29.876764472893527,
          -5.4155984011273235,
          -17.55671987416986,
          -10.952947896978115,
          -29.605671639329636,
          15.25417809752747,
          -27.154325519317698,
          23.88207690777345
         ],
         "y": [
          294.0809252810223,
          308.30515685979145,
          259.23232069444583,
          259.18747662391286,
          289.7871398715679,
          255.6368119984413,
          268.07828209430613,
          275.31287539080574,
          259.69646164748633,
          319.4624995357395
         ],
         "z": [
          -65.68861961714846,
          -65.76788644711328,
          -64.65901564360178,
          -42.14849709818356,
          -73.13387494688514,
          -40.92728248599532,
          -42.04617447471592,
          -55.07296335721802,
          -44.09153886560401,
          -61.66712700540812
         ]
        },
        {
         "hoverinfo": "text",
         "hoverlabel": {
          "bgcolor": "white",
          "font": {
           "family": "Arial",
           "size": 12
          }
         },
         "hovertext": [
          "<b>amazon</b><br>The Knowledge Project with Shane Parrish: 1 (0.11)<br>The Prof G Pod with Scott Galloway: 3 (0.08)",
          "<b>bias</b><br>The Knowledge Project with Shane Parrish: 1 (0.11)<br>Freakonomics Radio: 1 (0.05)<br>Making Sense with Sam Harris - Subscriber Content: 4 (0.05)<br>All-In with Chamath, Jason, Sacks & Friedberg: 1 (0.01)",
          "<b>comparison</b><br>The Knowledge Project with Shane Parrish: 1 (0.11)<br>Dwarkesh Podcast: 2 (0.05)<br>Making Sense with Sam Harris - Subscriber Content: 1 (0.01)",
          "<b>failure</b><br>The Knowledge Project with Shane Parrish: 3 (0.33)<br>Dwarkesh Podcast: 2 (0.05)<br>Lex Fridman Podcast: 3 (0.05)<br>Making Sense with Sam Harris - Subscriber Content: 2 (0.03)",
          "<b>happiness</b><br>The Knowledge Project with Shane Parrish: 5 (0.56)<br>The Prof G Pod with Scott Galloway: 3 (0.08)<br>Lex Fridman Podcast: 1 (0.02)",
          "<b>ideal</b><br>The Knowledge Project with Shane Parrish: 4 (0.44)",
          "<b>life</b><br>The Knowledge Project with Shane Parrish: 3 (0.33)<br>The Prof G Pod with Scott Galloway: 6 (0.15)<br>Dwarkesh Podcast: 4 (0.09)<br>Making Sense with Sam Harris - Subscriber Content: 6 (0.08)<br>Lex Fridman Podcast: 4 (0.07)<br>Freakonomics Radio: 1 (0.05)<br>All-In with Chamath, Jason, Sacks & Friedberg: 1 (0.01)",
          "<b>love</b><br>The Knowledge Project with Shane Parrish: 2 (0.22)<br>The Prof G Pod with Scott Galloway: 1 (0.03)",
          "<b>reality</b><br>The Knowledge Project with Shane Parrish: 2 (0.22)<br>Dwarkesh Podcast: 4 (0.09)<br>Making Sense with Sam Harris - Subscriber Content: 5 (0.07)<br>Lex Fridman Podcast: 3 (0.05)<br>The Prof G Pod with Scott Galloway: 1 (0.03)",
          "<b>thing</b><br>The Knowledge Project with Shane Parrish: 2 (0.22)<br>Pivot: 1 (0.08)<br>Dwarkesh Podcast: 3 (0.07)<br>The Prof G Pod with Scott Galloway: 2 (0.05)<br>All-In with Chamath, Jason, Sacks & Friedberg: 2 (0.02)<br>Lex Fridman Podcast: 1 (0.02)"
         ],
         "marker": {
          "color": "rgb(188,128,189)",
          "line": {
           "color": "DarkSlateGrey",
           "width": 1
          },
          "opacity": 0.7,
          "size": [
           10.357142850765307,
           11.428571403061225,
           10.357142850765307,
           12.499999955357143,
           12.142857104591837,
           10.357142850765307,
           17.857142716836737,
           10,
           14.285714209183675,
           12.85714280612245
          ]
         },
         "mode": "markers+text",
         "name": "The Knowledge Project with Shane Parrish",
         "text": [
          "amazon",
          "bias",
          "comparison",
          "failure",
          "happiness",
          "ideal",
          "life",
          "love",
          "reality",
          "thing"
         ],
         "textfont": {
          "color": "rgb(188,128,189)",
          "size": [
           10.357142850765307,
           11.428571403061225,
           10.357142850765307,
           12.499999955357143,
           12.142857104591837,
           10.357142850765307,
           17.857142716836737,
           10,
           14.285714209183675,
           12.85714280612245
          ]
         },
         "textposition": "top center",
         "type": "scatter3d",
         "x": [
          -29.501080840785765,
          3.7362004350032008,
          -24.83771827084655,
          -4.302881766762426,
          14.707472907128485,
          8.745482843439936,
          17.722253005870915,
          14.632840107670871,
          10.482950506896865,
          6.109673732105913
         ],
         "y": [
          262.00885457233744,
          313.111899841204,
          285.96245119187387,
          299.11526072212416,
          322.3370934830079,
          288.58563243056835,
          318.1953888657633,
          322.4819666261886,
          318.5174528206918,
          318.18926766525374
         ],
         "z": [
          -34.00563891537634,
          -62.479865433842164,
          -67.87602817523403,
          -79.86814815968845,
          -57.36004572218745,
          -39.287782782718025,
          -65.18743860209719,
          -53.90410961853923,
          -52.04149133036148,
          -39.724219543019586
         ]
        },
        {
         "hoverinfo": "text",
         "hoverlabel": {
          "bgcolor": "white",
          "font": {
           "family": "Arial",
           "size": 12
          }
         },
         "hovertext": [
          "<b>ability</b><br>The Langley Files: CIA's Podcast: 1 (0.50)<br>Discover Daily by Perplexity: 1 (0.33)<br>The Ben & Marc Show: 1 (0.17)<br>Truth with Vivek Ramaswamy: 1 (0.12)<br>Pivot: 1 (0.08)<br>Dwarkesh Podcast: 3 (0.07)<br>Huberman Lab: 1 (0.07)<br>All-In with Chamath, Jason, Sacks & Friedberg: 6 (0.06)<br>Lex Fridman Podcast: 3 (0.05)<br>Making Sense with Sam Harris - Subscriber Content: 2 (0.03)<br>The Prof G Pod with Scott Galloway: 1 (0.03)",
          "<b>background</b><br>The Langley Files: CIA's Podcast: 1 (0.50)<br>Truth with Vivek Ramaswamy: 2 (0.25)<br>Making Sense with Sam Harris - Subscriber Content: 2 (0.03)<br>All-In with Chamath, Jason, Sacks & Friedberg: 2 (0.02)<br>Dwarkesh Podcast: 1 (0.02)",
          "<b>behavior</b><br>The Langley Files: CIA's Podcast: 1 (0.50)<br>Within Reason: 1 (0.25)<br>Pivot: 1 (0.08)<br>Dwarkesh Podcast: 2 (0.05)<br>Making Sense with Sam Harris - Subscriber Content: 3 (0.04)<br>All-In with Chamath, Jason, Sacks & Friedberg: 2 (0.02)",
          "<b>country</b><br>The Langley Files: CIA's Podcast: 1 (0.50)<br>The Peter Zeihan Podcast Series: 5 (0.42)<br>Dwarkesh Podcast: 17 (0.40)<br>The Prof G Pod with Scott Galloway: 8 (0.21)<br>Freakonomics Radio: 3 (0.14)<br>Truth with Vivek Ramaswamy: 1 (0.12)<br>All-In with Chamath, Jason, Sacks & Friedberg: 8 (0.08)<br>Pivot: 1 (0.08)<br>Making Sense with Sam Harris - Subscriber Content: 4 (0.05)",
          "<b>diversity</b><br>The Langley Files: CIA's Podcast: 3 (1.50)<br>The Prof G Pod with Scott Galloway: 2 (0.05)",
          "<b>environment</b><br>The Langley Files: CIA's Podcast: 2 (1.00)<br>The Joe Rogan Experience: 1 (0.50)<br>Acquired: 1 (0.12)<br>Pivot: 1 (0.08)<br>The Peter Zeihan Podcast Series: 1 (0.08)<br>Dwarkesh Podcast: 3 (0.07)<br>All-In with Chamath, Jason, Sacks & Friedberg: 4 (0.04)<br>Lex Fridman Podcast: 2 (0.03)<br>The Prof G Pod with Scott Galloway: 1 (0.03)<br>Making Sense with Sam Harris - Subscriber Content: 1 (0.01)",
          "<b>evolution</b><br>The Langley Files: CIA's Podcast: 1 (0.50)<br>All-In with Chamath, Jason, Sacks & Friedberg: 5 (0.05)<br>Dwarkesh Podcast: 2 (0.05)<br>Making Sense with Sam Harris - Subscriber Content: 1 (0.01)",
          "<b>individual</b><br>The Langley Files: CIA's Podcast: 2 (1.00)<br>Making Sense with Sam Harris: 1 (0.50)<br>The Ben & Marc Show: 3 (0.50)<br>Pivot: 5 (0.42)<br>Truth with Vivek Ramaswamy: 3 (0.38)<br>Discover Daily by Perplexity: 1 (0.33)<br>Prof G Markets: 1 (0.33)<br>The Prof G Pod with Scott Galloway: 6 (0.15)<br>Making Sense with Sam Harris - Subscriber Content: 10 (0.14)<br>The Knowledge Project with Shane Parrish: 1 (0.11)<br>The Peter Zeihan Podcast Series: 1 (0.08)<br>Dwarkesh Podcast: 3 (0.07)<br>Huberman Lab: 1 (0.07)<br>Lex Fridman Podcast: 4 (0.07)<br>a16z Podcast: 1 (0.07)<br>All-In with Chamath, Jason, Sacks & Friedberg: 5 (0.05)<br>Freakonomics Radio: 1 (0.05)",
          "<b>information</b><br>The Langley Files: CIA's Podcast: 3 (1.50)<br>The Ben & Marc Show: 2 (0.33)<br>Lightcone Podcast: 1 (0.20)<br>a16z Podcast: 1 (0.07)<br>All-In with Chamath, Jason, Sacks & Friedberg: 4 (0.04)<br>Making Sense with Sam Harris - Subscriber Content: 2 (0.03)<br>Lex Fridman Podcast: 1 (0.02)",
          "<b>organization</b><br>The Langley Files: CIA's Podcast: 3 (1.50)<br>Lightcone Podcast: 1 (0.20)<br>Honestly with Bari Weiss: 1 (0.17)<br>Dwarkesh Podcast: 2 (0.05)<br>All-In with Chamath, Jason, Sacks & Friedberg: 2 (0.02)"
         ],
         "marker": {
          "color": "rgb(204,235,197)",
          "line": {
           "color": "DarkSlateGrey",
           "width": 1
          },
          "opacity": 0.7,
          "size": [
           16.428571313775514,
           11.785714253826532,
           12.499999955357143,
           26.07142828443878,
           10.714285701530613,
           14.999999910714287,
           12.142857104591837,
           26.428571135204088,
           13.928571358418369,
           12.142857104591837
          ]
         },
         "mode": "markers+text",
         "name": "The Langley Files: CIA's Podcast",
         "text": [
          "ability",
          "background",
          "behavior",
          "country",
          "diversity",
          "environment",
          "evolution",
          "individual",
          "information",
          "organization"
         ],
         "textfont": {
          "color": "rgb(204,235,197)",
          "size": [
           16.428571313775514,
           11.785714253826532,
           12.499999955357143,
           26.07142828443878,
           10.714285701530613,
           14.999999910714287,
           12.142857104591837,
           26.428571135204088,
           13.928571358418369,
           12.142857104591837
          ]
         },
         "textposition": "top center",
         "type": "scatter3d",
         "x": [
          -11.076780003376404,
          -11.661307304014052,
          -2.3926468838491806,
          34.919956052218836,
          7.167852452284904,
          -12.954917119959806,
          -6.641839016872498,
          1.9289363720125359,
          -11.373777661020142,
          13.117217143595251
         ],
         "y": [
          292.4098842135458,
          298.50163242359326,
          310.7343038605364,
          261.06352177768485,
          266.04780786120966,
          292.91082414724934,
          281.33347241596556,
          282.5545686014448,
          274.4383643139443,
          267.9202251220964
         ],
         "z": [
          -58.35753831428583,
          -46.23016266466351,
          -66.87913988991797,
          -60.30742911337167,
          -71.91934151681566,
          -54.070926639713406,
          -68.34071214845726,
          -58.90165391084955,
          -52.8585148658277,
          -67.02315902888238
         ]
        },
        {
         "hoverinfo": "text",
         "hoverlabel": {
          "bgcolor": "white",
          "font": {
           "family": "Arial",
           "size": 12
          }
         },
         "hovertext": [
          "<b>authority</b><br>The Peter Zeihan Podcast Series: 2 (0.17)<br>Lex Fridman Podcast: 1 (0.02)<br>Making Sense with Sam Harris - Subscriber Content: 1 (0.01)",
          "<b>autonomy</b><br>The Peter Zeihan Podcast Series: 2 (0.17)<br>All-In with Chamath, Jason, Sacks & Friedberg: 2 (0.02)",
          "<b>conflict</b><br>The Peter Zeihan Podcast Series: 2 (0.17)<br>All-In with Chamath, Jason, Sacks & Friedberg: 7 (0.07)<br>Freakonomics Radio: 1 (0.05)<br>Making Sense with Sam Harris - Subscriber Content: 4 (0.05)<br>Dwarkesh Podcast: 1 (0.02)",
          "<b>driver</b><br>The Peter Zeihan Podcast Series: 2 (0.17)<br>The Prof G Pod with Scott Galloway: 1 (0.03)",
          "<b>europe</b><br>The Peter Zeihan Podcast Series: 2 (0.17)<br>Dwarkesh Podcast: 1 (0.02)",
          "<b>expansion</b><br>The Peter Zeihan Podcast Series: 2 (0.17)<br>All-In with Chamath, Jason, Sacks & Friedberg: 4 (0.04)",
          "<b>germany</b><br>The Peter Zeihan Podcast Series: 2 (0.17)<br>Dwarkesh Podcast: 2 (0.05)<br>Making Sense with Sam Harris - Subscriber Content: 1 (0.01)",
          "<b>hub</b><br>The Peter Zeihan Podcast Series: 3 (0.25)<br>The Prof G Pod with Scott Galloway: 1 (0.03)",
          "<b>party</b><br>The Peter Zeihan Podcast Series: 6 (0.50)<br>The Ezra Klein Show: 1 (0.14)<br>Acquired: 1 (0.12)<br>Truth with Vivek Ramaswamy: 1 (0.12)<br>All-In with Chamath, Jason, Sacks & Friedberg: 7 (0.07)<br>The Prof G Pod with Scott Galloway: 1 (0.03)<br>Making Sense with Sam Harris - Subscriber Content: 1 (0.01)",
          "<b>policy</b><br>The Peter Zeihan Podcast Series: 3 (0.25)<br>Truth with Vivek Ramaswamy: 2 (0.25)<br>Freakonomics Radio: 3 (0.14)<br>The Ezra Klein Show: 1 (0.14)<br>Dwarkesh Podcast: 5 (0.12)<br>Pivot: 1 (0.08)<br>The Prof G Pod with Scott Galloway: 3 (0.08)<br>All-In with Chamath, Jason, Sacks & Friedberg: 3 (0.03)<br>Making Sense with Sam Harris - Subscriber Content: 2 (0.03)"
         ],
         "marker": {
          "color": "rgb(255,237,111)",
          "line": {
           "color": "DarkSlateGrey",
           "width": 1
          },
          "opacity": 0.7,
          "size": [
           10.357142850765307,
           10.357142850765307,
           14.285714209183675,
           10,
           10,
           11.071428552295918,
           10.714285701530613,
           10.357142850765307,
           15.357142761479594,
           17.142857015306127
          ]
         },
         "mode": "markers+text",
         "name": "The Peter Zeihan Podcast Series",
         "text": [
          "authority",
          "autonomy",
          "conflict",
          "driver",
          "europe",
          "expansion",
          "germany",
          "hub",
          "party",
          "policy"
         ],
         "textfont": {
          "color": "rgb(255,237,111)",
          "size": [
           10.357142850765307,
           10.357142850765307,
           14.285714209183675,
           10,
           10,
           11.071428552295918,
           10.714285701530613,
           10.357142850765307,
           15.357142761479594,
           17.142857015306127
          ]
         },
         "textposition": "top center",
         "type": "scatter3d",
         "x": [
          27.911786990503288,
          28.591319309198543,
          12.657157564114204,
          -29.595729487026333,
          43.857467092230436,
          -9.984080759938692,
          47.3242899257754,
          7.4357965236903265,
          31.49440944737456,
          24.588279830318154
         ],
         "y": [
          282.5197770759819,
          293.6783122801812,
          300.72055926606544,
          286.42525936700815,
          255.6082320945778,
          275.5393321896066,
          257.2870892405107,
          259.39166507512334,
          271.1390548666263,
          279.6107530958697
         ],
         "z": [
          -64.19851501244686,
          -64.18810401471922,
          -73.54733792719861,
          -40.17290394285849,
          -59.69562857943444,
          -71.82172367887902,
          -59.14302634674766,
          -37.94859145572273,
          -59.96255632578819,
          -57.45331364129259
         ]
        },
        {
         "hoverinfo": "text",
         "hoverlabel": {
          "bgcolor": "white",
          "font": {
           "family": "Arial",
           "size": 12
          }
         },
         "hovertext": [
          "<b>agenda</b><br>The Pioneer Briefing: 1 (0.04)<br>All-In with Chamath, Jason, Sacks & Friedberg: 3 (0.03)",
          "<b>chance</b><br>The Pioneer Briefing: 1 (0.04)<br>The Prof G Pod with Scott Galloway: 1 (0.03)<br>All-In with Chamath, Jason, Sacks & Friedberg: 1 (0.01)<br>Making Sense with Sam Harris - Subscriber Content: 1 (0.01)",
          "<b>deutschland</b><br>The Pioneer Briefing: 4 (0.15)<br>Making Sense with Sam Harris - Subscriber Content: 1 (0.01)",
          "<b>hitler</b><br>The Pioneer Briefing: 1 (0.04)<br>Making Sense with Sam Harris - Subscriber Content: 2 (0.03)",
          "<b>japan</b><br>The Pioneer Briefing: 1 (0.04)<br>All-In with Chamath, Jason, Sacks & Friedberg: 3 (0.03)<br>Making Sense with Sam Harris - Subscriber Content: 1 (0.01)",
          "<b>klaus</b><br>The Pioneer Briefing: 3 (0.12)",
          "<b>meine</b><br>The Pioneer Briefing: 3 (0.12)",
          "<b>staat</b><br>The Pioneer Briefing: 3 (0.12)"
         ],
         "marker": {
          "color": "rgb(141,211,199)",
          "line": {
           "color": "DarkSlateGrey",
           "width": 1
          },
          "opacity": 0.7,
          "size": [
           10.357142850765307,
           10.357142850765307,
           10.714285701530613,
           10,
           10.714285701530613,
           10,
           10,
           10
          ]
         },
         "mode": "markers+text",
         "name": "The Pioneer Briefing",
         "text": [
          "agenda",
          "chance",
          "deutschland",
          "hitler",
          "japan",
          "klaus",
          "meine",
          "staat"
         ],
         "textfont": {
          "color": "rgb(141,211,199)",
          "size": [
           10.357142850765307,
           10.357142850765307,
           10.714285701530613,
           10,
           10.714285701530613,
           10,
           10,
           10
          ]
         },
         "textposition": "top center",
         "type": "scatter3d",
         "x": [
          28.401837235281622,
          3.488106592778581,
          47.099448617763905,
          52.26031494775427,
          31.669334375952584,
          52.89889262082054,
          50.18709164010133,
          38.441818352149156
         ],
         "y": [
          289.8944672528646,
          295.87480614757123,
          255.05852981257445,
          261.23459174020377,
          239.4819484060999,
          257.12679159514437,
          253.88323375967224,
          251.28249283937834
         ],
         "z": [
          -54.33642391732223,
          -36.47404354240947,
          -55.08526836067264,
          -58.474786892981435,
          -51.592000188164995,
          -52.68645297153257,
          -42.92417206199615,
          -59.42758412363666
         ]
        },
        {
         "hoverinfo": "text",
         "hoverlabel": {
          "bgcolor": "white",
          "font": {
           "family": "Arial",
           "size": 12
          }
         },
         "hovertext": [
          "<b>america</b><br>The Prof G Pod with Scott Galloway: 7 (0.18)<br>Freakonomics Radio: 1 (0.05)<br>All-In with Chamath, Jason, Sacks & Friedberg: 2 (0.02)",
          "<b>community</b><br>The Prof G Pod with Scott Galloway: 3 (0.08)<br>Making Sense with Sam Harris - Subscriber Content: 2 (0.03)<br>Lex Fridman Podcast: 1 (0.02)",
          "<b>dei</b><br>The Prof G Pod with Scott Galloway: 6 (0.15)",
          "<b>discourse</b><br>The Prof G Pod with Scott Galloway: 3 (0.08)<br>Making Sense with Sam Harris - Subscriber Content: 1 (0.01)",
          "<b>equity</b><br>The Prof G Pod with Scott Galloway: 6 (0.15)<br>All-In with Chamath, Jason, Sacks & Friedberg: 3 (0.03)",
          "<b>feedback</b><br>The Prof G Pod with Scott Galloway: 4 (0.10)<br>Lex Fridman Podcast: 4 (0.07)<br>All-In with Chamath, Jason, Sacks & Friedberg: 2 (0.02)",
          "<b>future</b><br>The Prof G Pod with Scott Galloway: 4 (0.10)<br>Dwarkesh Podcast: 1 (0.02)<br>All-In with Chamath, Jason, Sacks & Friedberg: 1 (0.01)<br>Making Sense with Sam Harris - Subscriber Content: 1 (0.01)",
          "<b>investor</b><br>The Prof G Pod with Scott Galloway: 5 (0.13)<br>Dwarkesh Podcast: 1 (0.02)<br>All-In with Chamath, Jason, Sacks & Friedberg: 1 (0.01)",
          "<b>relationship</b><br>The Prof G Pod with Scott Galloway: 5 (0.13)<br>The Knowledge Project with Shane Parrish: 1 (0.11)<br>Huberman Lab: 1 (0.07)<br>All-In with Chamath, Jason, Sacks & Friedberg: 2 (0.02)<br>Lex Fridman Podcast: 1 (0.02)",
          "<b>tax</b><br>The Prof G Pod with Scott Galloway: 7 (0.18)<br>Pivot: 2 (0.17)<br>Truth with Vivek Ramaswamy: 1 (0.12)<br>Freakonomics Radio: 1 (0.05)"
         ],
         "marker": {
          "color": "rgb(255,255,179)",
          "line": {
           "color": "DarkSlateGrey",
           "width": 1
          },
          "opacity": 0.7,
          "size": [
           12.499999955357143,
           11.071428552295918,
           11.071428552295918,
           10.357142850765307,
           12.142857104591837,
           12.499999955357143,
           11.428571403061225,
           11.428571403061225,
           12.499999955357143,
           12.85714280612245
          ]
         },
         "mode": "markers+text",
         "name": "The Prof G Pod with Scott Galloway",
         "text": [
          "america",
          "community",
          "dei",
          "discourse",
          "equity",
          "feedback",
          "future",
          "investor",
          "relationship",
          "tax"
         ],
         "textfont": {
          "color": "rgb(255,255,179)",
          "size": [
           12.499999955357143,
           11.071428552295918,
           11.071428552295918,
           10.357142850765307,
           12.142857104591837,
           12.499999955357143,
           11.428571403061225,
           11.428571403061225,
           12.499999955357143,
           12.85714280612245
          ]
         },
         "textposition": "top center",
         "type": "scatter3d",
         "x": [
          33.36533241747098,
          15.334364085390066,
          48.23141382669826,
          6.593458164446438,
          -4.7143206139365335,
          -6.22133721450875,
          -0.8187349310154333,
          -3.900431648563718,
          -3.213953479109279,
          -0.262131221452097
         ],
         "y": [
          244.08009091909776,
          270.80016773491514,
          254.281197038244,
          308.1870944165323,
          248.56253000498626,
          281.6564864685709,
          294.06246254733304,
          251.25354880341024,
          294.70653380318436,
          248.63894275872724
         ],
         "z": [
          -55.821455075777564,
          -74.02735382923012,
          -52.52173536017416,
          -52.117103882603274,
          -47.87344572491504,
          -49.8444200835635,
          -54.51998359853898,
          -45.59827034283984,
          -67.2430654097327,
          -58.76824123081147
         ]
        },
        {
         "hoverinfo": "text",
         "hoverlabel": {
          "bgcolor": "white",
          "font": {
           "family": "Arial",
           "size": 12
          }
         },
         "hovertext": [
          "<b>capitalism</b><br>Truth with Vivek Ramaswamy: 2 (0.25)<br>The Knowledge Project with Shane Parrish: 2 (0.22)<br>The Prof G Pod with Scott Galloway: 2 (0.05)<br>Dwarkesh Podcast: 1 (0.02)<br>All-In with Chamath, Jason, Sacks & Friedberg: 1 (0.01)<br>Making Sense with Sam Harris - Subscriber Content: 1 (0.01)",
          "<b>child</b><br>Truth with Vivek Ramaswamy: 4 (0.50)<br>Prof G Markets: 1 (0.33)<br>The Prof G Pod with Scott Galloway: 6 (0.15)<br>The Knowledge Project with Shane Parrish: 1 (0.11)<br>Freakonomics Radio: 2 (0.10)<br>All-In with Chamath, Jason, Sacks & Friedberg: 2 (0.02)<br>Making Sense with Sam Harris - Subscriber Content: 1 (0.01)",
          "<b>fertility</b><br>Truth with Vivek Ramaswamy: 3 (0.38)",
          "<b>growth</b><br>Truth with Vivek Ramaswamy: 4 (0.50)<br>Prof G Markets: 1 (0.33)<br>The Prof G Pod with Scott Galloway: 8 (0.21)<br>Lightcone Podcast: 1 (0.20)<br>The Peter Zeihan Podcast Series: 2 (0.17)<br>Dwarkesh Podcast: 7 (0.16)<br>Acquired: 1 (0.12)<br>All-In with Chamath, Jason, Sacks & Friedberg: 11 (0.11)<br>Pivot: 1 (0.08)<br>Freakonomics Radio: 1 (0.05)<br>Making Sense with Sam Harris - Subscriber Content: 2 (0.03)",
          "<b>identity</b><br>Truth with Vivek Ramaswamy: 3 (0.38)<br>The Ezra Klein Show: 1 (0.14)<br>Freakonomics Radio: 1 (0.05)<br>Making Sense with Sam Harris - Subscriber Content: 1 (0.01)",
          "<b>labor</b><br>Truth with Vivek Ramaswamy: 3 (0.38)<br>a16z Podcast: 4 (0.29)<br>Freakonomics Radio: 2 (0.10)<br>Pivot: 1 (0.08)<br>The Peter Zeihan Podcast Series: 1 (0.08)<br>The Prof G Pod with Scott Galloway: 1 (0.03)<br>All-In with Chamath, Jason, Sacks & Friedberg: 2 (0.02)",
          "<b>path</b><br>Truth with Vivek Ramaswamy: 3 (0.38)<br>Freakonomics Radio: 2 (0.10)<br>Dwarkesh Podcast: 1 (0.02)",
          "<b>rate</b><br>Truth with Vivek Ramaswamy: 3 (0.38)<br>All-In with Chamath, Jason, Sacks & Friedberg: 24 (0.25)<br>The Prof G Pod with Scott Galloway: 4 (0.10)<br>The Peter Zeihan Podcast Series: 1 (0.08)<br>a16z Podcast: 1 (0.07)<br>Lex Fridman Podcast: 2 (0.03)<br>Dwarkesh Podcast: 1 (0.02)",
          "<b>society</b><br>Truth with Vivek Ramaswamy: 3 (0.38)<br>Making Sense with Sam Harris - Subscriber Content: 8 (0.11)<br>Lex Fridman Podcast: 5 (0.08)<br>Pivot: 1 (0.08)<br>Freakonomics Radio: 1 (0.05)<br>The Prof G Pod with Scott Galloway: 1 (0.03)<br>All-In with Chamath, Jason, Sacks & Friedberg: 1 (0.01)",
          "<b>wage</b><br>Truth with Vivek Ramaswamy: 3 (0.38)<br>Freakonomics Radio: 4 (0.19)<br>All-In with Chamath, Jason, Sacks & Friedberg: 1 (0.01)"
         ],
         "marker": {
          "color": "rgb(190,186,218)",
          "line": {
           "color": "DarkSlateGrey",
           "width": 1
          },
          "opacity": 0.7,
          "size": [
           12.142857104591837,
           14.999999910714287,
           10,
           22.857142627551028,
           11.071428552295918,
           13.928571358418369,
           11.071428552295918,
           21.785714075255108,
           16.071428463010207,
           11.785714253826532
          ]
         },
         "mode": "markers+text",
         "name": "Truth with Vivek Ramaswamy",
         "text": [
          "capitalism",
          "child",
          "fertility",
          "growth",
          "identity",
          "labor",
          "path",
          "rate",
          "society",
          "wage"
         ],
         "textfont": {
          "color": "rgb(190,186,218)",
          "size": [
           12.142857104591837,
           14.999999910714287,
           10,
           22.857142627551028,
           11.071428552295918,
           13.928571358418369,
           11.071428552295918,
           21.785714075255108,
           16.071428463010207,
           11.785714253826532
          ]
         },
         "textposition": "top center",
         "type": "scatter3d",
         "x": [
          28.34180798007444,
          15.165843543985538,
          -13.213735626973927,
          -15.847121055525205,
          8.613912188980079,
          9.662231631390354,
          3.4047299783135054,
          -11.51191991184508,
          30.763298823348606,
          -4.888542757217331
         ],
         "y": [
          298.0234051116564,
          292.409201632777,
          281.5762856239626,
          278.4815617317157,
          308.80427421620465,
          258.7901365630892,
          318.1807041244514,
          256.25999205167034,
          300.11835437118157,
          252.25325870283484
         ],
         "z": [
          -57.5978610356187,
          -84.49879920311307,
          -77.92992179797312,
          -77.95372781465993,
          -58.764437435869475,
          -67.2861599777398,
          -33.45602413074391,
          -66.48286845090745,
          -61.02808661972941,
          -62.61769120839124
         ]
        },
        {
         "hoverinfo": "text",
         "hoverlabel": {
          "bgcolor": "white",
          "font": {
           "family": "Arial",
           "size": 12
          }
         },
         "hovertext": [
          "<b>action</b><br>Within Reason: 1 (0.25)<br>Making Sense with Sam Harris - Subscriber Content: 12 (0.16)<br>Pivot: 1 (0.08)<br>All-In with Chamath, Jason, Sacks & Friedberg: 3 (0.03)<br>Dwarkesh Podcast: 1 (0.02)<br>Lex Fridman Podcast: 1 (0.02)",
          "<b>approach</b><br>Within Reason: 1 (0.25)<br>Pivot: 2 (0.17)<br>Acquired: 1 (0.12)<br>Truth with Vivek Ramaswamy: 1 (0.12)<br>Dwarkesh Podcast: 2 (0.05)<br>Freakonomics Radio: 1 (0.05)<br>Lex Fridman Podcast: 3 (0.05)<br>Making Sense with Sam Harris - Subscriber Content: 4 (0.05)<br>All-In with Chamath, Jason, Sacks & Friedberg: 3 (0.03)",
          "<b>ethic</b><br>Within Reason: 2 (0.50)<br>Lex Fridman Podcast: 1 (0.02)",
          "<b>fact</b><br>Within Reason: 1 (0.25)<br>Freakonomics Radio: 1 (0.05)<br>Making Sense with Sam Harris - Subscriber Content: 4 (0.05)<br>Lex Fridman Podcast: 2 (0.03)",
          "<b>good</b><br>Within Reason: 1 (0.25)<br>The Peter Zeihan Podcast Series: 2 (0.17)<br>All-In with Chamath, Jason, Sacks & Friedberg: 2 (0.02)<br>Making Sense with Sam Harris - Subscriber Content: 1 (0.01)",
          "<b>judgment</b><br>Within Reason: 1 (0.25)<br>Freakonomics Radio: 1 (0.05)<br>Making Sense with Sam Harris - Subscriber Content: 2 (0.03)",
          "<b>language</b><br>Within Reason: 1 (0.25)<br>Freakonomics Radio: 1 (0.05)<br>Making Sense with Sam Harris - Subscriber Content: 3 (0.04)<br>Lex Fridman Podcast: 1 (0.02)<br>All-In with Chamath, Jason, Sacks & Friedberg: 1 (0.01)",
          "<b>mechanism</b><br>Within Reason: 1 (0.25)<br>Pivot: 2 (0.17)<br>Huberman Lab: 1 (0.07)<br>a16z Podcast: 1 (0.07)<br>All-In with Chamath, Jason, Sacks & Friedberg: 1 (0.01)",
          "<b>quantum</b><br>Within Reason: 1 (0.25)<br>All-In with Chamath, Jason, Sacks & Friedberg: 2 (0.02)<br>Making Sense with Sam Harris - Subscriber Content: 1 (0.01)",
          "<b>statement</b><br>Within Reason: 3 (0.75)<br>Dwarkesh Podcast: 3 (0.07)<br>Making Sense with Sam Harris - Subscriber Content: 1 (0.01)"
         ],
         "marker": {
          "color": "rgb(251,128,114)",
          "line": {
           "color": "DarkSlateGrey",
           "width": 1
          },
          "opacity": 0.7,
          "size": [
           15.7142856122449,
           15.357142761479594,
           10,
           11.785714253826532,
           11.071428552295918,
           10.357142850765307,
           11.428571403061225,
           11.071428552295918,
           10.357142850765307,
           11.428571403061225
          ]
         },
         "mode": "markers+text",
         "name": "Within Reason",
         "text": [
          "action",
          "approach",
          "ethic",
          "fact",
          "good",
          "judgment",
          "language",
          "mechanism",
          "quantum",
          "statement"
         ],
         "textfont": {
          "color": "rgb(251,128,114)",
          "size": [
           15.7142856122449,
           15.357142761479594,
           10,
           11.785714253826532,
           11.071428552295918,
           10.357142850765307,
           11.428571403061225,
           11.071428552295918,
           10.357142850765307,
           11.428571403061225
          ]
         },
         "textposition": "top center",
         "type": "scatter3d",
         "x": [
          -3.4151389661732154,
          -5.2854864376491735,
          22.42644759631842,
          16.339506069759583,
          11.69983238760033,
          23.671029696282826,
          0.21488181491408742,
          -29.60261859025768,
          -35.712793743209225,
          25.369081257539957
         ],
         "y": [
          291.11393769437996,
          306.9644280096594,
          303.18745010450306,
          315.7599530122942,
          305.00966831757376,
          288.61135314833973,
          310.2778317021644,
          294.10342202724183,
          292.9413445340604,
          276.0735958566904
         ],
         "z": [
          -75.12590432775009,
          -41.14988142978067,
          -52.990923910538996,
          -50.512150153918334,
          -40.522731282562255,
          -64.08342321214047,
          -56.910787140195126,
          -53.73036102939148,
          -58.90823329392189,
          -64.34383964430756
         ]
        },
        {
         "hoverinfo": "text",
         "hoverlabel": {
          "bgcolor": "white",
          "font": {
           "family": "Arial",
           "size": 12
          }
         },
         "hovertext": [
          "<b>code</b><br>a16z Podcast: 2 (0.14)<br>Lex Fridman Podcast: 4 (0.07)<br>All-In with Chamath, Jason, Sacks & Friedberg: 3 (0.03)<br>The Prof G Pod with Scott Galloway: 1 (0.03)",
          "<b>demand</b><br>a16z Podcast: 2 (0.14)<br>Truth with Vivek Ramaswamy: 1 (0.12)<br>The Peter Zeihan Podcast Series: 1 (0.08)<br>Freakonomics Radio: 1 (0.05)<br>The Prof G Pod with Scott Galloway: 1 (0.03)",
          "<b>flaw</b><br>a16z Podcast: 2 (0.14)<br>Freakonomics Radio: 1 (0.05)<br>The Prof G Pod with Scott Galloway: 1 (0.03)<br>Making Sense with Sam Harris - Subscriber Content: 1 (0.01)",
          "<b>healthcare</b><br>a16z Podcast: 3 (0.21)<br>The Ben & Marc Show: 1 (0.17)<br>Freakonomics Radio: 1 (0.05)<br>The Prof G Pod with Scott Galloway: 1 (0.03)<br>All-In with Chamath, Jason, Sacks & Friedberg: 1 (0.01)",
          "<b>need</b><br>a16z Podcast: 5 (0.36)<br>Acquired: 2 (0.25)<br>The Daily: 1 (0.20)<br>Freakonomics Radio: 2 (0.10)<br>The Peter Zeihan Podcast Series: 1 (0.08)<br>Dwarkesh Podcast: 3 (0.07)<br>All-In with Chamath, Jason, Sacks & Friedberg: 5 (0.05)<br>Lex Fridman Podcast: 2 (0.03)<br>Making Sense with Sam Harris - Subscriber Content: 2 (0.03)<br>The Prof G Pod with Scott Galloway: 1 (0.03)",
          "<b>opportunity</b><br>a16z Podcast: 4 (0.29)<br>The Prof G Pod with Scott Galloway: 6 (0.15)<br>Acquired: 1 (0.12)<br>Dwarkesh Podcast: 5 (0.12)<br>Truth with Vivek Ramaswamy: 1 (0.12)<br>Pivot: 1 (0.08)<br>Freakonomics Radio: 1 (0.05)<br>All-In with Chamath, Jason, Sacks & Friedberg: 2 (0.02)",
          "<b>patient</b><br>a16z Podcast: 2 (0.14)<br>All-In with Chamath, Jason, Sacks & Friedberg: 1 (0.01)",
          "<b>response</b><br>a16z Podcast: 2 (0.14)<br>Huberman Lab: 1 (0.07)<br>All-In with Chamath, Jason, Sacks & Friedberg: 3 (0.03)<br>Lex Fridman Podcast: 2 (0.03)<br>The Prof G Pod with Scott Galloway: 1 (0.03)<br>Dwarkesh Podcast: 1 (0.02)<br>Making Sense with Sam Harris - Subscriber Content: 1 (0.01)",
          "<b>rule</b><br>a16z Podcast: 2 (0.14)<br>Truth with Vivek Ramaswamy: 1 (0.12)<br>Freakonomics Radio: 2 (0.10)<br>The Peter Zeihan Podcast Series: 1 (0.08)<br>Making Sense with Sam Harris - Subscriber Content: 2 (0.03)<br>Dwarkesh Podcast: 1 (0.02)<br>Lex Fridman Podcast: 1 (0.02)",
          "<b>software</b><br>a16z Podcast: 13 (0.93)<br>Making Sense with Sam Harris: 1 (0.50)<br>Lightcone Podcast: 2 (0.40)<br>Pivot: 1 (0.08)<br>Dwarkesh Podcast: 2 (0.05)<br>The Prof G Pod with Scott Galloway: 2 (0.05)<br>All-In with Chamath, Jason, Sacks & Friedberg: 4 (0.04)"
         ],
         "marker": {
          "color": "rgb(128,177,211)",
          "line": {
           "color": "DarkSlateGrey",
           "width": 1
          },
          "opacity": 0.7,
          "size": [
           12.499999955357143,
           11.071428552295918,
           10.714285701530613,
           11.428571403061225,
           17.499999866071434,
           16.428571313775514,
           10,
           12.85714280612245,
           12.499999955357143,
           17.857142716836737
          ]
         },
         "mode": "markers+text",
         "name": "a16z Podcast",
         "text": [
          "code",
          "demand",
          "flaw",
          "healthcare",
          "need",
          "opportunity",
          "patient",
          "response",
          "rule",
          "software"
         ],
         "textfont": {
          "color": "rgb(128,177,211)",
          "size": [
           12.499999955357143,
           11.071428552295918,
           10.714285701530613,
           11.428571403061225,
           17.499999866071434,
           16.428571313775514,
           10,
           12.85714280612245,
           12.499999955357143,
           17.857142716836737
          ]
         },
         "textposition": "top center",
         "type": "scatter3d",
         "x": [
          -40.970778206783976,
          -16.40259155292778,
          13.099543637036474,
          6.398886594483541,
          10.737012375663884,
          4.121050084078779,
          7.878060060741515,
          0.7060686028709787,
          27.919248814247602,
          -36.632795830318464
         ],
         "y": [
          274.3258506780545,
          252.84031518123442,
          313.7658632813015,
          276.05675536025905,
          293.28672069062105,
          292.3196702871151,
          278.83725129175895,
          294.48867685546946,
          288.1834803087382,
          267.54460940691763
         ],
         "z": [
          -39.351707015934544,
          -47.37188302036341,
          -49.25302091233686,
          -85.82895425158003,
          -36.72309650608114,
          -38.915963405845254,
          -87.51512932308297,
          -74.13859374398669,
          -64.31820402079778,
          -38.82618053683256
         ]
        },
        {
         "hoverlabel": {
          "bgcolor": "white",
          "font": {
           "family": "Arial",
           "size": 12
          }
         },
         "marker": {
          "color": "#3366CC",
          "opacity": 0,
          "size": 0
         },
         "mode": "markers",
         "name": "Cluster 0",
         "showlegend": true,
         "type": "scatter3d",
         "x": [
          12.604720963735051
         ],
         "y": [
          259.00778611041034
         ],
         "z": [
          -42.83344013244674
         ]
        },
        {
         "hoverlabel": {
          "bgcolor": "white",
          "font": {
           "family": "Arial",
           "size": 12
          }
         },
         "marker": {
          "color": "#DC3912",
          "opacity": 0,
          "size": 0
         },
         "mode": "markers",
         "name": "Cluster 1",
         "showlegend": true,
         "type": "scatter3d",
         "x": [
          -8.203716691192206
         ],
         "y": [
          253.14925495095187
         ],
         "z": [
          -48.57094721185661
         ]
        },
        {
         "hoverlabel": {
          "bgcolor": "white",
          "font": {
           "family": "Arial",
           "size": 12
          }
         },
         "marker": {
          "color": "#FF9900",
          "opacity": 0,
          "size": 0
         },
         "mode": "markers",
         "name": "Cluster 10",
         "showlegend": true,
         "type": "scatter3d",
         "x": [
          -34.121280893309
         ],
         "y": [
          269.57944781601896
         ],
         "z": [
          -41.56515023101269
         ]
        },
        {
         "hoverlabel": {
          "bgcolor": "white",
          "font": {
           "family": "Arial",
           "size": 12
          }
         },
         "marker": {
          "color": "#109618",
          "opacity": 0,
          "size": 0
         },
         "mode": "markers",
         "name": "Cluster 11",
         "showlegend": true,
         "type": "scatter3d",
         "x": [
          -16.85303570616511
         ],
         "y": [
          288.76877356491434
         ],
         "z": [
          -71.56134057505996
         ]
        },
        {
         "hoverlabel": {
          "bgcolor": "white",
          "font": {
           "family": "Arial",
           "size": 12
          }
         },
         "marker": {
          "color": "#990099",
          "opacity": 0,
          "size": 0
         },
         "mode": "markers",
         "name": "Cluster 12",
         "showlegend": true,
         "type": "scatter3d",
         "x": [
          -9.403169582725669
         ],
         "y": [
          277.15024640951975
         ],
         "z": [
          -69.25061435246492
         ]
        },
        {
         "hoverlabel": {
          "bgcolor": "white",
          "font": {
           "family": "Arial",
           "size": 12
          }
         },
         "marker": {
          "color": "#0099C6",
          "opacity": 0,
          "size": 0
         },
         "mode": "markers",
         "name": "Cluster 2",
         "showlegend": true,
         "type": "scatter3d",
         "x": [
          30.57077189623567
         ],
         "y": [
          298.4211552501269
         ],
         "z": [
          -60.43255441185458
         ]
        },
        {
         "hoverlabel": {
          "bgcolor": "white",
          "font": {
           "family": "Arial",
           "size": 12
          }
         },
         "marker": {
          "color": "#DD4477",
          "opacity": 0,
          "size": 0
         },
         "mode": "markers",
         "name": "Cluster 3",
         "showlegend": true,
         "type": "scatter3d",
         "x": [
          28.247752007715533
         ],
         "y": [
          272.61435007696895
         ],
         "z": [
          -64.02891380753023
         ]
        },
        {
         "hoverlabel": {
          "bgcolor": "white",
          "font": {
           "family": "Arial",
           "size": 12
          }
         },
         "marker": {
          "color": "#66AA00",
          "opacity": 0,
          "size": 0
         },
         "mode": "markers",
         "name": "Cluster 4",
         "showlegend": true,
         "type": "scatter3d",
         "x": [
          7.659177871838165
         ],
         "y": [
          267.22226178620787
         ],
         "z": [
          -66.70645982519913
         ]
        },
        {
         "hoverlabel": {
          "bgcolor": "white",
          "font": {
           "family": "Arial",
           "size": 12
          }
         },
         "marker": {
          "color": "#B82E2E",
          "opacity": 0,
          "size": 0
         },
         "mode": "markers",
         "name": "Cluster 5",
         "showlegend": true,
         "type": "scatter3d",
         "x": [
          32.48477156012196
         ],
         "y": [
          241.15163042344798
         ],
         "z": [
          -53.47359620101869
         ]
        },
        {
         "hoverlabel": {
          "bgcolor": "white",
          "font": {
           "family": "Arial",
           "size": 12
          }
         },
         "marker": {
          "color": "#316395",
          "opacity": 0,
          "size": 0
         },
         "mode": "markers",
         "name": "Cluster 6",
         "showlegend": true,
         "type": "scatter3d",
         "x": [
          46.93329301246314
         ],
         "y": [
          256.2886626934629
         ],
         "z": [
          -56.84931070225226
         ]
        },
        {
         "hoverlabel": {
          "bgcolor": "white",
          "font": {
           "family": "Arial",
           "size": 12
          }
         },
         "marker": {
          "color": "#3366CC",
          "opacity": 0,
          "size": 0
         },
         "mode": "markers",
         "name": "Cluster 7",
         "showlegend": true,
         "type": "scatter3d",
         "x": [
          10.688526766967396
         ],
         "y": [
          314.8546056673422
         ],
         "z": [
          -53.32907068093399
         ]
        },
        {
         "hoverlabel": {
          "bgcolor": "white",
          "font": {
           "family": "Arial",
           "size": 12
          }
         },
         "marker": {
          "color": "#DC3912",
          "opacity": 0,
          "size": 0
         },
         "mode": "markers",
         "name": "Cluster 8",
         "showlegend": true,
         "type": "scatter3d",
         "x": [
          3.5615442161299167
         ],
         "y": [
          297.79173739204373
         ],
         "z": [
          -36.24134952947876
         ]
        },
        {
         "hoverlabel": {
          "bgcolor": "white",
          "font": {
           "family": "Arial",
           "size": 12
          }
         },
         "marker": {
          "color": "#FF9900",
          "opacity": 0,
          "size": 0
         },
         "mode": "markers",
         "name": "Cluster 9",
         "showlegend": true,
         "type": "scatter3d",
         "x": [
          0.42876074890376287
         ],
         "y": [
          292.00389681361963
         ],
         "z": [
          -70.68189128021695
         ]
        }
       ],
       "layout": {
        "height": 800,
        "legend": {
         "bgcolor": "rgba(0,0,0,0)",
         "itemsizing": "constant",
         "itemwidth": 30,
         "orientation": "v",
         "x": 1.02,
         "xanchor": "left",
         "y": 1,
         "yanchor": "auto"
        },
        "scene": {
         "xaxis": {
          "showgrid": false,
          "showticklabels": false,
          "zeroline": false
         },
         "yaxis": {
          "showgrid": false,
          "showticklabels": false,
          "zeroline": false
         },
         "zaxis": {
          "showgrid": false,
          "showticklabels": false,
          "zeroline": false
         }
        },
        "showlegend": true,
        "template": {
         "data": {
          "bar": [
           {
            "error_x": {
             "color": "#f2f5fa"
            },
            "error_y": {
             "color": "#f2f5fa"
            },
            "marker": {
             "line": {
              "color": "rgb(17,17,17)",
              "width": 0.5
             },
             "pattern": {
              "fillmode": "overlay",
              "size": 10,
              "solidity": 0.2
             }
            },
            "type": "bar"
           }
          ],
          "barpolar": [
           {
            "marker": {
             "line": {
              "color": "rgb(17,17,17)",
              "width": 0.5
             },
             "pattern": {
              "fillmode": "overlay",
              "size": 10,
              "solidity": 0.2
             }
            },
            "type": "barpolar"
           }
          ],
          "carpet": [
           {
            "aaxis": {
             "endlinecolor": "#A2B1C6",
             "gridcolor": "#506784",
             "linecolor": "#506784",
             "minorgridcolor": "#506784",
             "startlinecolor": "#A2B1C6"
            },
            "baxis": {
             "endlinecolor": "#A2B1C6",
             "gridcolor": "#506784",
             "linecolor": "#506784",
             "minorgridcolor": "#506784",
             "startlinecolor": "#A2B1C6"
            },
            "type": "carpet"
           }
          ],
          "choropleth": [
           {
            "colorbar": {
             "outlinewidth": 0,
             "ticks": ""
            },
            "type": "choropleth"
           }
          ],
          "contour": [
           {
            "colorbar": {
             "outlinewidth": 0,
             "ticks": ""
            },
            "colorscale": [
             [
              0,
              "#0d0887"
             ],
             [
              0.1111111111111111,
              "#46039f"
             ],
             [
              0.2222222222222222,
              "#7201a8"
             ],
             [
              0.3333333333333333,
              "#9c179e"
             ],
             [
              0.4444444444444444,
              "#bd3786"
             ],
             [
              0.5555555555555556,
              "#d8576b"
             ],
             [
              0.6666666666666666,
              "#ed7953"
             ],
             [
              0.7777777777777778,
              "#fb9f3a"
             ],
             [
              0.8888888888888888,
              "#fdca26"
             ],
             [
              1,
              "#f0f921"
             ]
            ],
            "type": "contour"
           }
          ],
          "contourcarpet": [
           {
            "colorbar": {
             "outlinewidth": 0,
             "ticks": ""
            },
            "type": "contourcarpet"
           }
          ],
          "heatmap": [
           {
            "colorbar": {
             "outlinewidth": 0,
             "ticks": ""
            },
            "colorscale": [
             [
              0,
              "#0d0887"
             ],
             [
              0.1111111111111111,
              "#46039f"
             ],
             [
              0.2222222222222222,
              "#7201a8"
             ],
             [
              0.3333333333333333,
              "#9c179e"
             ],
             [
              0.4444444444444444,
              "#bd3786"
             ],
             [
              0.5555555555555556,
              "#d8576b"
             ],
             [
              0.6666666666666666,
              "#ed7953"
             ],
             [
              0.7777777777777778,
              "#fb9f3a"
             ],
             [
              0.8888888888888888,
              "#fdca26"
             ],
             [
              1,
              "#f0f921"
             ]
            ],
            "type": "heatmap"
           }
          ],
          "heatmapgl": [
           {
            "colorbar": {
             "outlinewidth": 0,
             "ticks": ""
            },
            "colorscale": [
             [
              0,
              "#0d0887"
             ],
             [
              0.1111111111111111,
              "#46039f"
             ],
             [
              0.2222222222222222,
              "#7201a8"
             ],
             [
              0.3333333333333333,
              "#9c179e"
             ],
             [
              0.4444444444444444,
              "#bd3786"
             ],
             [
              0.5555555555555556,
              "#d8576b"
             ],
             [
              0.6666666666666666,
              "#ed7953"
             ],
             [
              0.7777777777777778,
              "#fb9f3a"
             ],
             [
              0.8888888888888888,
              "#fdca26"
             ],
             [
              1,
              "#f0f921"
             ]
            ],
            "type": "heatmapgl"
           }
          ],
          "histogram": [
           {
            "marker": {
             "pattern": {
              "fillmode": "overlay",
              "size": 10,
              "solidity": 0.2
             }
            },
            "type": "histogram"
           }
          ],
          "histogram2d": [
           {
            "colorbar": {
             "outlinewidth": 0,
             "ticks": ""
            },
            "colorscale": [
             [
              0,
              "#0d0887"
             ],
             [
              0.1111111111111111,
              "#46039f"
             ],
             [
              0.2222222222222222,
              "#7201a8"
             ],
             [
              0.3333333333333333,
              "#9c179e"
             ],
             [
              0.4444444444444444,
              "#bd3786"
             ],
             [
              0.5555555555555556,
              "#d8576b"
             ],
             [
              0.6666666666666666,
              "#ed7953"
             ],
             [
              0.7777777777777778,
              "#fb9f3a"
             ],
             [
              0.8888888888888888,
              "#fdca26"
             ],
             [
              1,
              "#f0f921"
             ]
            ],
            "type": "histogram2d"
           }
          ],
          "histogram2dcontour": [
           {
            "colorbar": {
             "outlinewidth": 0,
             "ticks": ""
            },
            "colorscale": [
             [
              0,
              "#0d0887"
             ],
             [
              0.1111111111111111,
              "#46039f"
             ],
             [
              0.2222222222222222,
              "#7201a8"
             ],
             [
              0.3333333333333333,
              "#9c179e"
             ],
             [
              0.4444444444444444,
              "#bd3786"
             ],
             [
              0.5555555555555556,
              "#d8576b"
             ],
             [
              0.6666666666666666,
              "#ed7953"
             ],
             [
              0.7777777777777778,
              "#fb9f3a"
             ],
             [
              0.8888888888888888,
              "#fdca26"
             ],
             [
              1,
              "#f0f921"
             ]
            ],
            "type": "histogram2dcontour"
           }
          ],
          "mesh3d": [
           {
            "colorbar": {
             "outlinewidth": 0,
             "ticks": ""
            },
            "type": "mesh3d"
           }
          ],
          "parcoords": [
           {
            "line": {
             "colorbar": {
              "outlinewidth": 0,
              "ticks": ""
             }
            },
            "type": "parcoords"
           }
          ],
          "pie": [
           {
            "automargin": true,
            "type": "pie"
           }
          ],
          "scatter": [
           {
            "marker": {
             "line": {
              "color": "#283442"
             }
            },
            "type": "scatter"
           }
          ],
          "scatter3d": [
           {
            "line": {
             "colorbar": {
              "outlinewidth": 0,
              "ticks": ""
             }
            },
            "marker": {
             "colorbar": {
              "outlinewidth": 0,
              "ticks": ""
             }
            },
            "type": "scatter3d"
           }
          ],
          "scattercarpet": [
           {
            "marker": {
             "colorbar": {
              "outlinewidth": 0,
              "ticks": ""
             }
            },
            "type": "scattercarpet"
           }
          ],
          "scattergeo": [
           {
            "marker": {
             "colorbar": {
              "outlinewidth": 0,
              "ticks": ""
             }
            },
            "type": "scattergeo"
           }
          ],
          "scattergl": [
           {
            "marker": {
             "line": {
              "color": "#283442"
             }
            },
            "type": "scattergl"
           }
          ],
          "scattermapbox": [
           {
            "marker": {
             "colorbar": {
              "outlinewidth": 0,
              "ticks": ""
             }
            },
            "type": "scattermapbox"
           }
          ],
          "scatterpolar": [
           {
            "marker": {
             "colorbar": {
              "outlinewidth": 0,
              "ticks": ""
             }
            },
            "type": "scatterpolar"
           }
          ],
          "scatterpolargl": [
           {
            "marker": {
             "colorbar": {
              "outlinewidth": 0,
              "ticks": ""
             }
            },
            "type": "scatterpolargl"
           }
          ],
          "scatterternary": [
           {
            "marker": {
             "colorbar": {
              "outlinewidth": 0,
              "ticks": ""
             }
            },
            "type": "scatterternary"
           }
          ],
          "surface": [
           {
            "colorbar": {
             "outlinewidth": 0,
             "ticks": ""
            },
            "colorscale": [
             [
              0,
              "#0d0887"
             ],
             [
              0.1111111111111111,
              "#46039f"
             ],
             [
              0.2222222222222222,
              "#7201a8"
             ],
             [
              0.3333333333333333,
              "#9c179e"
             ],
             [
              0.4444444444444444,
              "#bd3786"
             ],
             [
              0.5555555555555556,
              "#d8576b"
             ],
             [
              0.6666666666666666,
              "#ed7953"
             ],
             [
              0.7777777777777778,
              "#fb9f3a"
             ],
             [
              0.8888888888888888,
              "#fdca26"
             ],
             [
              1,
              "#f0f921"
             ]
            ],
            "type": "surface"
           }
          ],
          "table": [
           {
            "cells": {
             "fill": {
              "color": "#506784"
             },
             "line": {
              "color": "rgb(17,17,17)"
             }
            },
            "header": {
             "fill": {
              "color": "#2a3f5f"
             },
             "line": {
              "color": "rgb(17,17,17)"
             }
            },
            "type": "table"
           }
          ]
         },
         "layout": {
          "annotationdefaults": {
           "arrowcolor": "#f2f5fa",
           "arrowhead": 0,
           "arrowwidth": 1
          },
          "autotypenumbers": "strict",
          "coloraxis": {
           "colorbar": {
            "outlinewidth": 0,
            "ticks": ""
           }
          },
          "colorscale": {
           "diverging": [
            [
             0,
             "#8e0152"
            ],
            [
             0.1,
             "#c51b7d"
            ],
            [
             0.2,
             "#de77ae"
            ],
            [
             0.3,
             "#f1b6da"
            ],
            [
             0.4,
             "#fde0ef"
            ],
            [
             0.5,
             "#f7f7f7"
            ],
            [
             0.6,
             "#e6f5d0"
            ],
            [
             0.7,
             "#b8e186"
            ],
            [
             0.8,
             "#7fbc41"
            ],
            [
             0.9,
             "#4d9221"
            ],
            [
             1,
             "#276419"
            ]
           ],
           "sequential": [
            [
             0,
             "#0d0887"
            ],
            [
             0.1111111111111111,
             "#46039f"
            ],
            [
             0.2222222222222222,
             "#7201a8"
            ],
            [
             0.3333333333333333,
             "#9c179e"
            ],
            [
             0.4444444444444444,
             "#bd3786"
            ],
            [
             0.5555555555555556,
             "#d8576b"
            ],
            [
             0.6666666666666666,
             "#ed7953"
            ],
            [
             0.7777777777777778,
             "#fb9f3a"
            ],
            [
             0.8888888888888888,
             "#fdca26"
            ],
            [
             1,
             "#f0f921"
            ]
           ],
           "sequentialminus": [
            [
             0,
             "#0d0887"
            ],
            [
             0.1111111111111111,
             "#46039f"
            ],
            [
             0.2222222222222222,
             "#7201a8"
            ],
            [
             0.3333333333333333,
             "#9c179e"
            ],
            [
             0.4444444444444444,
             "#bd3786"
            ],
            [
             0.5555555555555556,
             "#d8576b"
            ],
            [
             0.6666666666666666,
             "#ed7953"
            ],
            [
             0.7777777777777778,
             "#fb9f3a"
            ],
            [
             0.8888888888888888,
             "#fdca26"
            ],
            [
             1,
             "#f0f921"
            ]
           ]
          },
          "colorway": [
           "#636efa",
           "#EF553B",
           "#00cc96",
           "#ab63fa",
           "#FFA15A",
           "#19d3f3",
           "#FF6692",
           "#B6E880",
           "#FF97FF",
           "#FECB52"
          ],
          "font": {
           "color": "#f2f5fa"
          },
          "geo": {
           "bgcolor": "rgb(17,17,17)",
           "lakecolor": "rgb(17,17,17)",
           "landcolor": "rgb(17,17,17)",
           "showlakes": true,
           "showland": true,
           "subunitcolor": "#506784"
          },
          "hoverlabel": {
           "align": "left"
          },
          "hovermode": "closest",
          "mapbox": {
           "style": "dark"
          },
          "paper_bgcolor": "rgb(17,17,17)",
          "plot_bgcolor": "rgb(17,17,17)",
          "polar": {
           "angularaxis": {
            "gridcolor": "#506784",
            "linecolor": "#506784",
            "ticks": ""
           },
           "bgcolor": "rgb(17,17,17)",
           "radialaxis": {
            "gridcolor": "#506784",
            "linecolor": "#506784",
            "ticks": ""
           }
          },
          "scene": {
           "xaxis": {
            "backgroundcolor": "rgb(17,17,17)",
            "gridcolor": "#506784",
            "gridwidth": 2,
            "linecolor": "#506784",
            "showbackground": true,
            "ticks": "",
            "zerolinecolor": "#C8D4E3"
           },
           "yaxis": {
            "backgroundcolor": "rgb(17,17,17)",
            "gridcolor": "#506784",
            "gridwidth": 2,
            "linecolor": "#506784",
            "showbackground": true,
            "ticks": "",
            "zerolinecolor": "#C8D4E3"
           },
           "zaxis": {
            "backgroundcolor": "rgb(17,17,17)",
            "gridcolor": "#506784",
            "gridwidth": 2,
            "linecolor": "#506784",
            "showbackground": true,
            "ticks": "",
            "zerolinecolor": "#C8D4E3"
           }
          },
          "shapedefaults": {
           "line": {
            "color": "#f2f5fa"
           }
          },
          "sliderdefaults": {
           "bgcolor": "#C8D4E3",
           "bordercolor": "rgb(17,17,17)",
           "borderwidth": 1,
           "tickwidth": 0
          },
          "ternary": {
           "aaxis": {
            "gridcolor": "#506784",
            "linecolor": "#506784",
            "ticks": ""
           },
           "baxis": {
            "gridcolor": "#506784",
            "linecolor": "#506784",
            "ticks": ""
           },
           "bgcolor": "rgb(17,17,17)",
           "caxis": {
            "gridcolor": "#506784",
            "linecolor": "#506784",
            "ticks": ""
           }
          },
          "title": {
           "x": 0.05
          },
          "updatemenudefaults": {
           "bgcolor": "#506784",
           "borderwidth": 0
          },
          "xaxis": {
           "automargin": true,
           "gridcolor": "#283442",
           "linecolor": "#506784",
           "ticks": "",
           "title": {
            "standoff": 15
           },
           "zerolinecolor": "#283442",
           "zerolinewidth": 2
          },
          "yaxis": {
           "automargin": true,
           "gridcolor": "#283442",
           "linecolor": "#506784",
           "ticks": "",
           "title": {
            "standoff": 15
           },
           "zerolinecolor": "#283442",
           "zerolinewidth": 2
          }
         }
        },
        "title": {
         "text": "Clusters by Show (Relative Freq) (3D) | max_words=10"
        },
        "width": 1200
       }
      }
     },
     "metadata": {},
     "output_type": "display_data"
    }
   ],
   "source": [
    "import numpy as np\n",
    "import pandas as pd\n",
    "import spacy\n",
    "from typing import Optional\n",
    "from collections import Counter, defaultdict\n",
    "\n",
    "from sklearn.metrics.pairwise import cosine_similarity\n",
    "import umap\n",
    "import hdbscan\n",
    "import plotly.express as px\n",
    "import plotly.graph_objects as go\n",
    "\n",
    "# If you're mixing German transcripts, import German stopwords:\n",
    "from spacy.lang.de.stop_words import STOP_WORDS as de_stop_words\n",
    "\n",
    "def create_show_keyword_visualization(\n",
    "    df: pd.DataFrame,\n",
    "    min_freq: int = 3,\n",
    "    dimensionality: int = 2,\n",
    "    method: str = 'UMAP',\n",
    "    clustering: bool = True,\n",
    "    cluster_selection_method: str = 'eom',\n",
    "    max_words_per_show: Optional[int] = None\n",
    ") -> None:\n",
    "    \"\"\"\n",
    "    Creates an interactive visualization of keywords clustered by show based on semantic meaning.\n",
    "    But the show color is determined by the highest *relative* frequency:\n",
    "        word_count_in_show / total_snippets_in_show\n",
    "\n",
    "    Parameters:\n",
    "    - df: pd.DataFrame containing at least 'show' and 'summary' columns.\n",
    "    - min_freq: Minimum total (absolute) frequency for a word to be included at all.\n",
    "    - dimensionality: 2 for 2D plot, 3 for 3D plot.\n",
    "    - method: Dimensionality reduction method ('UMAP', 't-SNE', 'MDS').\n",
    "    - clustering: Whether to apply HDBSCAN clustering.\n",
    "    - cluster_selection_method: Method for HDBSCAN clustering ('eom' or 'leaf').\n",
    "    - max_words_per_show: If set, keep only the top N words per show *by that show’s ratio* or absolute freq?\n",
    "                          Here we'll apply it after we identify words but *before* final plotting. \n",
    "    \"\"\"\n",
    "    from collections import defaultdict, Counter\n",
    "    if dimensionality not in [2, 3]:\n",
    "        raise ValueError(\"dimensionality must be either 2 or 3\")\n",
    "    \n",
    "    if method not in ['MDS', 't-SNE', 'UMAP']:\n",
    "        raise ValueError(\"method must be one of 'MDS', 't-SNE', or 'UMAP'\")\n",
    "    \n",
    "    # 1) Load a SpaCy model with word vectors\n",
    "    try:\n",
    "        nlp = spacy.load(\"en_core_web_md\")  # or 'en_core_web_lg'\n",
    "    except OSError:\n",
    "        raise OSError(\"SpaCy model 'en_core_web_md' not found. Please install it via:\\n\"\n",
    "                      \"python -m spacy download en_core_web_md\")\n",
    "    \n",
    "    # 2) Gather all show names\n",
    "    all_shows = sorted(df['show'].dropna().unique())\n",
    "    \n",
    "    # 3) Count how many rows (snippets) each show has (for relative freq)\n",
    "    snippet_count_by_show = df.groupby('show').size().to_dict()\n",
    "    \n",
    "    # 4) Combine English/German stopwords and any domain-specific ones\n",
    "    custom_stops = {\n",
    "        \"people\", \"thing\", \"year\", \"lot\", \"point\", \"das\", \"man\", \"der\", \"way\",\n",
    "        \"stuff\", \"sort\", \"mal\", \"speaker\", \"time\", \"going\", \"yeah\", \"gonna\",\n",
    "        \"think\", \"know\", \"mean\", \"actually\", \"right\", \"really\"\n",
    "    }\n",
    "    custom_stops.update(de_stop_words)\n",
    "    for w in custom_stops:\n",
    "        nlp.vocab[w].is_stop = True\n",
    "    \n",
    "    # 5) Count absolute word frequencies per show, and overall\n",
    "    show_word_freq = defaultdict(Counter)\n",
    "    total_word_freq = Counter()\n",
    "    for show_name in all_shows:\n",
    "        show_text = ' '.join(df.loc[df['show'] == show_name, 'summary'].dropna())\n",
    "        doc = nlp(show_text)\n",
    "        keywords = [\n",
    "            token.lemma_.lower()\n",
    "            for token in doc\n",
    "            if token.pos_ in ['NOUN', 'PROPN']\n",
    "            and not token.is_stop\n",
    "            and len(token.text) > 2\n",
    "            and token.has_vector\n",
    "        ]\n",
    "        show_word_freq[show_name].update(keywords)\n",
    "        total_word_freq.update(keywords)\n",
    "    \n",
    "    # 6) Filter out words below min_freq (absolute)\n",
    "    common_words = {w for w, c in total_word_freq.items() if c >= min_freq}\n",
    "    if not common_words:\n",
    "        print(f\"No words after min_freq={min_freq} filtering.\")\n",
    "        return\n",
    "    \n",
    "    # Prepare structures\n",
    "    words = []\n",
    "    word_vectors = []\n",
    "    word_total_freq = []\n",
    "    hover_texts = []\n",
    "    \n",
    "    # We'll keep track of each word's relative frequencies too\n",
    "    # But we only choose the single \"dominant\" show by ratio\n",
    "    dominant_shows = []\n",
    "    \n",
    "    # 7) Build final word list\n",
    "    for word in sorted(common_words):\n",
    "        if not nlp.vocab.has_vector(word):\n",
    "            continue  # skip if no vector\n",
    "        vector = nlp.vocab[word].vector\n",
    "        \n",
    "        words.append(word)\n",
    "        word_vectors.append(vector)\n",
    "        word_total_freq.append(total_word_freq[word])\n",
    "        \n",
    "        # Calculate ratio for each show => pick max\n",
    "        show_counts = show_word_freq  # convenience\n",
    "        ratio_by_show = {}\n",
    "        absolute_counts_by_show = {}\n",
    "        for s in all_shows:\n",
    "            count_s = show_word_freq[s][word]\n",
    "            snippet_count = snippet_count_by_show[s]\n",
    "            ratio = count_s / snippet_count if snippet_count > 0 else 0\n",
    "            ratio_by_show[s] = ratio\n",
    "            absolute_counts_by_show[s] = count_s\n",
    "        \n",
    "        # pick the show with the highest ratio\n",
    "        best_show = max(ratio_by_show, key=ratio_by_show.get)\n",
    "        dominant_shows.append(best_show)\n",
    "        \n",
    "        # Build the hover text. We can show absolute counts, or also show ratio:\n",
    "        # e.g. \"All-In: 5 (0.05)\"\n",
    "        lines = []\n",
    "        for s in all_shows:\n",
    "            cnt = absolute_counts_by_show[s]\n",
    "            if cnt > 0:\n",
    "                snippet_cnt = snippet_count_by_show[s]\n",
    "                rel = ratio_by_show[s]\n",
    "                # e.g. \"All-In: 5 (0.05)\"\n",
    "                lines.append(f\"{s}: {cnt} ({rel:.2f})\")\n",
    "        lines.sort(key=lambda line: float(line.split(\"(\")[-1].replace(\")\", \"\")), reverse=True)\n",
    "        hover_str = f\"<b>{word}</b><br>\" + \"<br>\".join(lines)\n",
    "        hover_texts.append(hover_str)\n",
    "    \n",
    "    if not words:\n",
    "        print(\"No words to display after vector check.\")\n",
    "        return\n",
    "    \n",
    "    # 8) [Optionally] limit top words per show by ratio\n",
    "    if max_words_per_show is not None and max_words_per_show > 0:\n",
    "        # we have arrays, so we'll group indices by dominant show\n",
    "        from collections import defaultdict\n",
    "        show_to_indices = defaultdict(list)\n",
    "        for i, show_name in enumerate(dominant_shows):\n",
    "            # ratio is best for that show, but let's see how big it is\n",
    "            # We actually need to re-check the ratio for that show i\n",
    "            # But we can also just sort by ratio for that show across all words\n",
    "            show_to_indices[show_name].append(i)\n",
    "        \n",
    "        # We'll compute ratio for each i with respect to its show\n",
    "        # then pick top max_words_per_show\n",
    "        # Build a list of (ratio, index) for each show\n",
    "        def ratio_for_index(idx):\n",
    "            w = words[idx]\n",
    "            s = dominant_shows[idx]\n",
    "            # absolute count\n",
    "            cnt = show_word_freq[s][w]\n",
    "            scount = snippet_count_by_show[s]\n",
    "            return cnt / scount if scount else 0\n",
    "        \n",
    "        keep_indices = set()\n",
    "        for show_name, idx_list in show_to_indices.items():\n",
    "            # sort them by ratio descending\n",
    "            idx_list_sorted = sorted(idx_list, key=lambda i: ratio_for_index(i), reverse=True)\n",
    "            top_n = idx_list_sorted[:max_words_per_show]\n",
    "            for i_ in top_n:\n",
    "                keep_indices.add(i_)\n",
    "        \n",
    "        # Filter arrays\n",
    "        if not keep_indices:\n",
    "            print(f\"No words left after max_words_per_show={max_words_per_show}\")\n",
    "            return\n",
    "        \n",
    "        def filter_array(arr):\n",
    "            return [arr[i] for i in range(len(arr)) if i in keep_indices]\n",
    "        \n",
    "        words = filter_array(words)\n",
    "        word_vectors = filter_array(word_vectors)\n",
    "        word_total_freq = filter_array(word_total_freq)\n",
    "        hover_texts = filter_array(hover_texts)\n",
    "        dominant_shows = filter_array(dominant_shows)\n",
    "    \n",
    "    # 9) Convert to numpy arrays for embedding\n",
    "    word_vectors = np.array(word_vectors, dtype=float)\n",
    "    word_total_freq = np.array(word_total_freq, dtype=float)\n",
    "    \n",
    "    # Normalize vectors\n",
    "    word_vectors_norm = word_vectors / np.linalg.norm(word_vectors, axis=1, keepdims=True)\n",
    "    \n",
    "    # 10) Dimensionality reduction\n",
    "    if method == 'MDS':\n",
    "        from sklearn.manifold import MDS\n",
    "        similarities = cosine_similarity(word_vectors_norm)\n",
    "        dist_matrix = 1 - similarities\n",
    "        reducer = MDS(n_components=dimensionality, dissimilarity='precomputed', random_state=42)\n",
    "        coords = reducer.fit_transform(dist_matrix)\n",
    "    elif method == 't-SNE':\n",
    "        from sklearn.manifold import TSNE\n",
    "        reducer = TSNE(\n",
    "            n_components=dimensionality,\n",
    "            metric='cosine',\n",
    "            random_state=42,\n",
    "            perplexity=30,\n",
    "            n_iter=1000,\n",
    "            init='random'   # needed for metric='cosine'\n",
    "        )\n",
    "        coords = reducer.fit_transform(word_vectors_norm)\n",
    "    else:  # UMAP\n",
    "        reducer = umap.UMAP(\n",
    "            n_components=dimensionality,\n",
    "            metric='cosine',\n",
    "            random_state=42,\n",
    "            n_neighbors=15,\n",
    "            min_dist=0.1\n",
    "        )\n",
    "        coords = reducer.fit_transform(word_vectors_norm)\n",
    "    \n",
    "    # 11) Optional clustering\n",
    "    if clustering:\n",
    "        clusterer = hdbscan.HDBSCAN(\n",
    "            min_cluster_size=5,\n",
    "            metric='euclidean',\n",
    "            cluster_selection_method=cluster_selection_method\n",
    "        )\n",
    "        cluster_labels = clusterer.fit_predict(coords)\n",
    "        # Mark -1 as Noise\n",
    "        cluster_labels = np.where(cluster_labels == -1, 'Noise', cluster_labels)\n",
    "    else:\n",
    "        cluster_labels = None\n",
    "    \n",
    "    # 12) Scale + jitter\n",
    "    coords_scaled = coords * 20\n",
    "    coords_jittered = coords_scaled + np.random.normal(0, 0.3, coords_scaled.shape)\n",
    "    \n",
    "    # 13) Build color map based on *dominant show* (by ratio)\n",
    "    unique_shows = sorted(set(dominant_shows))\n",
    "    color_cycle = px.colors.qualitative.Set3\n",
    "    color_cycle = (color_cycle * ((len(unique_shows) // len(color_cycle)) + 1))[:len(unique_shows)]\n",
    "    show_color_map = dict(zip(unique_shows, color_cycle))\n",
    "    \n",
    "    # Possibly cluster color map\n",
    "    if clustering:\n",
    "        unique_clusters = sorted(set(cluster_labels))\n",
    "        ccolors = px.colors.qualitative.G10\n",
    "        if len(unique_clusters) > len(ccolors):\n",
    "            ccolors *= (len(unique_clusters) // len(ccolors) + 1)\n",
    "        cluster_color_map = {cl: ccolors[i] for i, cl in enumerate(unique_clusters)}\n",
    "    else:\n",
    "        cluster_color_map = {}\n",
    "    \n",
    "    # 14) Prepare marker sizes\n",
    "    freq_min, freq_max = word_total_freq.min(), word_total_freq.max()\n",
    "    size_min, size_max = 10, 30\n",
    "    freq_norm = (word_total_freq - freq_min) / (freq_max - freq_min + 1e-6)\n",
    "    size_values = size_min + freq_norm * (size_max - size_min)\n",
    "    \n",
    "    # 15) Plotly figure\n",
    "    fig = go.Figure()\n",
    "    \n",
    "    for show_name in unique_shows:\n",
    "        mask = [ (dom_show == show_name) for dom_show in dominant_shows ]\n",
    "        if not any(mask):\n",
    "            continue\n",
    "        \n",
    "        xvals = coords_jittered[mask, 0]\n",
    "        yvals = coords_jittered[mask, 1]\n",
    "        if dimensionality == 3:\n",
    "            zvals = coords_jittered[mask, 2]\n",
    "        text_sub = np.array(words)[mask]\n",
    "        hover_sub = np.array(hover_texts)[mask]\n",
    "        size_sub = size_values[mask]\n",
    "        color_c = show_color_map.get(show_name, \"gray\")\n",
    "        \n",
    "        if dimensionality == 2:\n",
    "            fig.add_trace(go.Scatter(\n",
    "                x=xvals,\n",
    "                y=yvals,\n",
    "                text=text_sub,\n",
    "                hovertext=hover_sub,\n",
    "                mode='markers+text',\n",
    "                name=show_name,\n",
    "                textposition='top center',\n",
    "                textfont=dict(size=size_sub, color=color_c),\n",
    "                marker=dict(size=size_sub, color=color_c, opacity=0.7,\n",
    "                            line=dict(width=1, color='DarkSlateGrey')),\n",
    "                hoverinfo='text'\n",
    "            ))\n",
    "        else:\n",
    "            fig.add_trace(go.Scatter3d(\n",
    "                x=xvals,\n",
    "                y=yvals,\n",
    "                z=zvals,\n",
    "                text=text_sub,\n",
    "                hovertext=hover_sub,\n",
    "                mode='markers+text',\n",
    "                name=show_name,\n",
    "                textposition='top center',\n",
    "                textfont=dict(size=size_sub, color=color_c),\n",
    "                marker=dict(size=size_sub, color=color_c, opacity=0.7,\n",
    "                            line=dict(width=1, color='DarkSlateGrey')),\n",
    "                hoverinfo='text'\n",
    "            ))\n",
    "    \n",
    "    # If clustering, add cluster “legend”\n",
    "    if clustering:\n",
    "        for cl in sorted(set(cluster_labels)):\n",
    "            if cl == 'Noise':\n",
    "                continue\n",
    "            c_mask = (cluster_labels == cl)\n",
    "            if not np.any(c_mask):\n",
    "                continue\n",
    "            cx = coords_jittered[c_mask, 0]\n",
    "            cy = coords_jittered[c_mask, 1]\n",
    "            if dimensionality == 3:\n",
    "                cz = coords_jittered[c_mask, 2]\n",
    "            cluster_c = cluster_color_map[cl]\n",
    "            \n",
    "            if dimensionality == 2:\n",
    "                fig.add_trace(go.Scatter(\n",
    "                    x=[cx.mean()],\n",
    "                    y=[cy.mean()],\n",
    "                    mode='markers',\n",
    "                    marker=dict(size=0, color=cluster_c, opacity=0),\n",
    "                    name=f\"Cluster {cl}\",\n",
    "                    showlegend=True\n",
    "                ))\n",
    "            else:\n",
    "                fig.add_trace(go.Scatter3d(\n",
    "                    x=[cx.mean()],\n",
    "                    y=[cy.mean()],\n",
    "                    z=[cz.mean()],\n",
    "                    mode='markers',\n",
    "                    marker=dict(size=0, color=cluster_c, opacity=0),\n",
    "                    name=f\"Cluster {cl}\",\n",
    "                    showlegend=True\n",
    "                ))\n",
    "    \n",
    "    # Layout\n",
    "    title_str = f\"Clusters by Show (Relative Freq) ({dimensionality}D)\"\n",
    "    if max_words_per_show is not None:\n",
    "        title_str += f\" | max_words={max_words_per_show}\"\n",
    "    \n",
    "    if dimensionality == 2:\n",
    "        layout = dict(\n",
    "            title=title_str,\n",
    "            template='plotly_dark',\n",
    "            height=800,\n",
    "            width=1200,\n",
    "            showlegend=True,\n",
    "            xaxis=dict(showgrid=False, zeroline=False, showticklabels=False),\n",
    "            yaxis=dict(showgrid=False, zeroline=False, showticklabels=False),\n",
    "            legend=dict(\n",
    "                orientation=\"v\",\n",
    "                x=1.02,\n",
    "                y=1,\n",
    "                xanchor=\"left\",\n",
    "                yanchor=\"auto\",\n",
    "                bgcolor=\"rgba(0,0,0,0)\",\n",
    "                itemsizing='constant',\n",
    "                itemwidth=30\n",
    "            )\n",
    "        )\n",
    "    else:\n",
    "        layout = dict(\n",
    "            title=title_str,\n",
    "            template='plotly_dark',\n",
    "            height=800,\n",
    "            width=1200,\n",
    "            showlegend=True,\n",
    "            scene=dict(\n",
    "                xaxis=dict(showgrid=False, zeroline=False, showticklabels=False),\n",
    "                yaxis=dict(showgrid=False, zeroline=False, showticklabels=False),\n",
    "                zaxis=dict(showgrid=False, zeroline=False, showticklabels=False),\n",
    "            ),\n",
    "            legend=dict(\n",
    "                orientation=\"v\",\n",
    "                x=1.02,\n",
    "                y=1,\n",
    "                xanchor=\"left\",\n",
    "                yanchor=\"auto\",\n",
    "                bgcolor=\"rgba(0,0,0,0)\",\n",
    "                itemsizing='constant',\n",
    "                itemwidth=30\n",
    "            )\n",
    "        )\n",
    "    \n",
    "    fig.update_layout(layout)\n",
    "    \n",
    "    # Improve tooltips\n",
    "    trace_type = 'scatter3d' if dimensionality == 3 else 'scatter'\n",
    "    fig.update_traces(\n",
    "        selector=dict(type=trace_type),\n",
    "        hoverlabel=dict(bgcolor=\"white\", font_size=12, font_family=\"Arial\")\n",
    "    )\n",
    "    \n",
    "    fig.show()\n",
    "\n",
    "create_show_keyword_visualization(df, min_freq=3, dimensionality=3, method='UMAP', clustering=True, cluster_selection_method='eom', max_words_per_show=10)\n"
   ]
  }
 ],
 "metadata": {
  "kernelspec": {
   "display_name": "aml3.12",
   "language": "python",
   "name": "python3"
  },
  "language_info": {
   "codemirror_mode": {
    "name": "ipython",
    "version": 3
   },
   "file_extension": ".py",
   "mimetype": "text/x-python",
   "name": "python",
   "nbconvert_exporter": "python",
   "pygments_lexer": "ipython3",
   "version": "3.12.2"
  }
 },
 "nbformat": 4,
 "nbformat_minor": 2
}
